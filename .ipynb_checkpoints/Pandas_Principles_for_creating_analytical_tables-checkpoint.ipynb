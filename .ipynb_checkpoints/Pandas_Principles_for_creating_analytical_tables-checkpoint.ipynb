{
 "cells": [
  {
   "cell_type": "markdown",
   "id": "e29097b3-a9ea-4e89-9c53-0c17cc02a4cb",
   "metadata": {},
   "source": [
    "# Monthly sales report by creating analytics tables (Pandas)!"
   ]
  },
  {
   "cell_type": "code",
   "execution_count": 556,
   "id": "92e9023a-8496-4531-b226-406675b0af86",
   "metadata": {},
   "outputs": [],
   "source": [
    "import pandas as pd\n",
    "import numpy as np\n",
    "import datetime as dt\n",
    "\n",
    "import plotly.express as px\n",
    "import matplotlib as plt"
   ]
  },
  {
   "cell_type": "code",
   "execution_count": 557,
   "id": "ca459e0f-f0df-4f2b-a518-f3047470ac32",
   "metadata": {},
   "outputs": [],
   "source": [
    "df = pd.read_csv('data/data.csv', encoding= 'cp1252' , header=0)"
   ]
  },
  {
   "cell_type": "code",
   "execution_count": 558,
   "id": "ddcc1798-5759-4914-98ae-ced24a01d52e",
   "metadata": {},
   "outputs": [
    {
     "data": {
      "text/html": [
       "<div>\n",
       "<style scoped>\n",
       "    .dataframe tbody tr th:only-of-type {\n",
       "        vertical-align: middle;\n",
       "    }\n",
       "\n",
       "    .dataframe tbody tr th {\n",
       "        vertical-align: top;\n",
       "    }\n",
       "\n",
       "    .dataframe thead th {\n",
       "        text-align: right;\n",
       "    }\n",
       "</style>\n",
       "<table border=\"1\" class=\"dataframe\">\n",
       "  <thead>\n",
       "    <tr style=\"text-align: right;\">\n",
       "      <th></th>\n",
       "      <th>InvoiceNo</th>\n",
       "      <th>StockCode</th>\n",
       "      <th>Description</th>\n",
       "      <th>Quantity</th>\n",
       "      <th>InvoiceDate</th>\n",
       "      <th>UnitPrice</th>\n",
       "      <th>CustomerID</th>\n",
       "      <th>Country</th>\n",
       "    </tr>\n",
       "  </thead>\n",
       "  <tbody>\n",
       "    <tr>\n",
       "      <th>0</th>\n",
       "      <td>536365</td>\n",
       "      <td>85123A</td>\n",
       "      <td>WHITE HANGING HEART T-LIGHT HOLDER</td>\n",
       "      <td>6</td>\n",
       "      <td>12/1/2010 8:26</td>\n",
       "      <td>2.55</td>\n",
       "      <td>17850.0</td>\n",
       "      <td>United Kingdom</td>\n",
       "    </tr>\n",
       "    <tr>\n",
       "      <th>1</th>\n",
       "      <td>536365</td>\n",
       "      <td>71053</td>\n",
       "      <td>WHITE METAL LANTERN</td>\n",
       "      <td>6</td>\n",
       "      <td>12/1/2010 8:26</td>\n",
       "      <td>3.39</td>\n",
       "      <td>17850.0</td>\n",
       "      <td>United Kingdom</td>\n",
       "    </tr>\n",
       "    <tr>\n",
       "      <th>2</th>\n",
       "      <td>536365</td>\n",
       "      <td>84406B</td>\n",
       "      <td>CREAM CUPID HEARTS COAT HANGER</td>\n",
       "      <td>8</td>\n",
       "      <td>12/1/2010 8:26</td>\n",
       "      <td>2.75</td>\n",
       "      <td>17850.0</td>\n",
       "      <td>United Kingdom</td>\n",
       "    </tr>\n",
       "    <tr>\n",
       "      <th>3</th>\n",
       "      <td>536365</td>\n",
       "      <td>84029G</td>\n",
       "      <td>KNITTED UNION FLAG HOT WATER BOTTLE</td>\n",
       "      <td>6</td>\n",
       "      <td>12/1/2010 8:26</td>\n",
       "      <td>3.39</td>\n",
       "      <td>17850.0</td>\n",
       "      <td>United Kingdom</td>\n",
       "    </tr>\n",
       "    <tr>\n",
       "      <th>4</th>\n",
       "      <td>536365</td>\n",
       "      <td>84029E</td>\n",
       "      <td>RED WOOLLY HOTTIE WHITE HEART.</td>\n",
       "      <td>6</td>\n",
       "      <td>12/1/2010 8:26</td>\n",
       "      <td>3.39</td>\n",
       "      <td>17850.0</td>\n",
       "      <td>United Kingdom</td>\n",
       "    </tr>\n",
       "  </tbody>\n",
       "</table>\n",
       "</div>"
      ],
      "text/plain": [
       "  InvoiceNo StockCode                          Description  Quantity  \\\n",
       "0    536365    85123A   WHITE HANGING HEART T-LIGHT HOLDER         6   \n",
       "1    536365     71053                  WHITE METAL LANTERN         6   \n",
       "2    536365    84406B       CREAM CUPID HEARTS COAT HANGER         8   \n",
       "3    536365    84029G  KNITTED UNION FLAG HOT WATER BOTTLE         6   \n",
       "4    536365    84029E       RED WOOLLY HOTTIE WHITE HEART.         6   \n",
       "\n",
       "      InvoiceDate  UnitPrice  CustomerID         Country  \n",
       "0  12/1/2010 8:26       2.55     17850.0  United Kingdom  \n",
       "1  12/1/2010 8:26       3.39     17850.0  United Kingdom  \n",
       "2  12/1/2010 8:26       2.75     17850.0  United Kingdom  \n",
       "3  12/1/2010 8:26       3.39     17850.0  United Kingdom  \n",
       "4  12/1/2010 8:26       3.39     17850.0  United Kingdom  "
      ]
     },
     "execution_count": 558,
     "metadata": {},
     "output_type": "execute_result"
    }
   ],
   "source": [
    "df.head()"
   ]
  },
  {
   "cell_type": "code",
   "execution_count": 559,
   "id": "164b9189-399b-4130-b1c9-22e89e75b4e7",
   "metadata": {},
   "outputs": [
    {
     "data": {
      "text/plain": [
       "(541909, 8)"
      ]
     },
     "execution_count": 559,
     "metadata": {},
     "output_type": "execute_result"
    }
   ],
   "source": [
    "df.shape"
   ]
  },
  {
   "cell_type": "code",
   "execution_count": 560,
   "id": "028a32bf-23e9-467f-8ae2-d5d2b0e4e851",
   "metadata": {},
   "outputs": [
    {
     "data": {
      "text/html": [
       "<div>\n",
       "<style scoped>\n",
       "    .dataframe tbody tr th:only-of-type {\n",
       "        vertical-align: middle;\n",
       "    }\n",
       "\n",
       "    .dataframe tbody tr th {\n",
       "        vertical-align: top;\n",
       "    }\n",
       "\n",
       "    .dataframe thead th {\n",
       "        text-align: right;\n",
       "    }\n",
       "</style>\n",
       "<table border=\"1\" class=\"dataframe\">\n",
       "  <thead>\n",
       "    <tr style=\"text-align: right;\">\n",
       "      <th></th>\n",
       "      <th>Quantity</th>\n",
       "      <th>UnitPrice</th>\n",
       "      <th>CustomerID</th>\n",
       "    </tr>\n",
       "  </thead>\n",
       "  <tbody>\n",
       "    <tr>\n",
       "      <th>count</th>\n",
       "      <td>541909.000000</td>\n",
       "      <td>541909.000000</td>\n",
       "      <td>406829.000000</td>\n",
       "    </tr>\n",
       "    <tr>\n",
       "      <th>mean</th>\n",
       "      <td>9.552250</td>\n",
       "      <td>4.611114</td>\n",
       "      <td>15287.690570</td>\n",
       "    </tr>\n",
       "    <tr>\n",
       "      <th>std</th>\n",
       "      <td>218.081158</td>\n",
       "      <td>96.759853</td>\n",
       "      <td>1713.600303</td>\n",
       "    </tr>\n",
       "    <tr>\n",
       "      <th>min</th>\n",
       "      <td>-80995.000000</td>\n",
       "      <td>-11062.060000</td>\n",
       "      <td>12346.000000</td>\n",
       "    </tr>\n",
       "    <tr>\n",
       "      <th>25%</th>\n",
       "      <td>1.000000</td>\n",
       "      <td>1.250000</td>\n",
       "      <td>13953.000000</td>\n",
       "    </tr>\n",
       "    <tr>\n",
       "      <th>50%</th>\n",
       "      <td>3.000000</td>\n",
       "      <td>2.080000</td>\n",
       "      <td>15152.000000</td>\n",
       "    </tr>\n",
       "    <tr>\n",
       "      <th>75%</th>\n",
       "      <td>10.000000</td>\n",
       "      <td>4.130000</td>\n",
       "      <td>16791.000000</td>\n",
       "    </tr>\n",
       "    <tr>\n",
       "      <th>max</th>\n",
       "      <td>80995.000000</td>\n",
       "      <td>38970.000000</td>\n",
       "      <td>18287.000000</td>\n",
       "    </tr>\n",
       "  </tbody>\n",
       "</table>\n",
       "</div>"
      ],
      "text/plain": [
       "            Quantity      UnitPrice     CustomerID\n",
       "count  541909.000000  541909.000000  406829.000000\n",
       "mean        9.552250       4.611114   15287.690570\n",
       "std       218.081158      96.759853    1713.600303\n",
       "min    -80995.000000  -11062.060000   12346.000000\n",
       "25%         1.000000       1.250000   13953.000000\n",
       "50%         3.000000       2.080000   15152.000000\n",
       "75%        10.000000       4.130000   16791.000000\n",
       "max     80995.000000   38970.000000   18287.000000"
      ]
     },
     "execution_count": 560,
     "metadata": {},
     "output_type": "execute_result"
    }
   ],
   "source": [
    "df.describe()"
   ]
  },
  {
   "cell_type": "code",
   "execution_count": 561,
   "id": "cba25fd4-998d-4d19-886f-8b05fad1d61b",
   "metadata": {},
   "outputs": [
    {
     "data": {
      "text/plain": [
       "3.0"
      ]
     },
     "execution_count": 561,
     "metadata": {},
     "output_type": "execute_result"
    }
   ],
   "source": [
    "df['Quantity'].median()"
   ]
  },
  {
   "cell_type": "code",
   "execution_count": 562,
   "id": "2425ec40-acb1-4b03-81b2-9f35362c326d",
   "metadata": {},
   "outputs": [
    {
     "data": {
      "text/plain": [
       "2.08"
      ]
     },
     "execution_count": 562,
     "metadata": {},
     "output_type": "execute_result"
    }
   ],
   "source": [
    "df['UnitPrice'].median()"
   ]
  },
  {
   "cell_type": "code",
   "execution_count": 563,
   "id": "2b94eb49-0c4e-44d1-a835-3850c9f2f04c",
   "metadata": {},
   "outputs": [
    {
     "data": {
      "text/plain": [
       "InvoiceNo       object\n",
       "StockCode       object\n",
       "Description     object\n",
       "Quantity         int64\n",
       "InvoiceDate     object\n",
       "UnitPrice      float64\n",
       "CustomerID     float64\n",
       "Country         object\n",
       "dtype: object"
      ]
     },
     "execution_count": 563,
     "metadata": {},
     "output_type": "execute_result"
    }
   ],
   "source": [
    "df.dtypes"
   ]
  },
  {
   "cell_type": "code",
   "execution_count": 564,
   "id": "7e8628f5-8823-408c-8e6c-f059940560cf",
   "metadata": {},
   "outputs": [
    {
     "data": {
      "text/html": [
       "<div>\n",
       "<style scoped>\n",
       "    .dataframe tbody tr th:only-of-type {\n",
       "        vertical-align: middle;\n",
       "    }\n",
       "\n",
       "    .dataframe tbody tr th {\n",
       "        vertical-align: top;\n",
       "    }\n",
       "\n",
       "    .dataframe thead th {\n",
       "        text-align: right;\n",
       "    }\n",
       "</style>\n",
       "<table border=\"1\" class=\"dataframe\">\n",
       "  <thead>\n",
       "    <tr style=\"text-align: right;\">\n",
       "      <th></th>\n",
       "      <th>InvoiceNo</th>\n",
       "      <th>StockCode</th>\n",
       "      <th>Description</th>\n",
       "      <th>Quantity</th>\n",
       "      <th>InvoiceDate</th>\n",
       "      <th>UnitPrice</th>\n",
       "      <th>CustomerID</th>\n",
       "      <th>Country</th>\n",
       "    </tr>\n",
       "  </thead>\n",
       "  <tbody>\n",
       "    <tr>\n",
       "      <th>0</th>\n",
       "      <td>536365</td>\n",
       "      <td>85123A</td>\n",
       "      <td>WHITE HANGING HEART T-LIGHT HOLDER</td>\n",
       "      <td>6</td>\n",
       "      <td>12/1/2010 8:26</td>\n",
       "      <td>2.55</td>\n",
       "      <td>17850.0</td>\n",
       "      <td>United Kingdom</td>\n",
       "    </tr>\n",
       "    <tr>\n",
       "      <th>1</th>\n",
       "      <td>536365</td>\n",
       "      <td>71053</td>\n",
       "      <td>WHITE METAL LANTERN</td>\n",
       "      <td>6</td>\n",
       "      <td>12/1/2010 8:26</td>\n",
       "      <td>3.39</td>\n",
       "      <td>17850.0</td>\n",
       "      <td>United Kingdom</td>\n",
       "    </tr>\n",
       "    <tr>\n",
       "      <th>2</th>\n",
       "      <td>536365</td>\n",
       "      <td>84406B</td>\n",
       "      <td>CREAM CUPID HEARTS COAT HANGER</td>\n",
       "      <td>8</td>\n",
       "      <td>12/1/2010 8:26</td>\n",
       "      <td>2.75</td>\n",
       "      <td>17850.0</td>\n",
       "      <td>United Kingdom</td>\n",
       "    </tr>\n",
       "    <tr>\n",
       "      <th>3</th>\n",
       "      <td>536365</td>\n",
       "      <td>84029G</td>\n",
       "      <td>KNITTED UNION FLAG HOT WATER BOTTLE</td>\n",
       "      <td>6</td>\n",
       "      <td>12/1/2010 8:26</td>\n",
       "      <td>3.39</td>\n",
       "      <td>17850.0</td>\n",
       "      <td>United Kingdom</td>\n",
       "    </tr>\n",
       "    <tr>\n",
       "      <th>4</th>\n",
       "      <td>536365</td>\n",
       "      <td>84029E</td>\n",
       "      <td>RED WOOLLY HOTTIE WHITE HEART.</td>\n",
       "      <td>6</td>\n",
       "      <td>12/1/2010 8:26</td>\n",
       "      <td>3.39</td>\n",
       "      <td>17850.0</td>\n",
       "      <td>United Kingdom</td>\n",
       "    </tr>\n",
       "    <tr>\n",
       "      <th>...</th>\n",
       "      <td>...</td>\n",
       "      <td>...</td>\n",
       "      <td>...</td>\n",
       "      <td>...</td>\n",
       "      <td>...</td>\n",
       "      <td>...</td>\n",
       "      <td>...</td>\n",
       "      <td>...</td>\n",
       "    </tr>\n",
       "    <tr>\n",
       "      <th>86898</th>\n",
       "      <td>C543611</td>\n",
       "      <td>82483</td>\n",
       "      <td>WOOD 2 DRAWER CABINET WHITE FINISH</td>\n",
       "      <td>-1</td>\n",
       "      <td>2/10/2011 14:38</td>\n",
       "      <td>4.95</td>\n",
       "      <td>17850.0</td>\n",
       "      <td>United Kingdom</td>\n",
       "    </tr>\n",
       "    <tr>\n",
       "      <th>86899</th>\n",
       "      <td>C543611</td>\n",
       "      <td>21874</td>\n",
       "      <td>GIN AND TONIC MUG</td>\n",
       "      <td>-1</td>\n",
       "      <td>2/10/2011 14:38</td>\n",
       "      <td>1.06</td>\n",
       "      <td>17850.0</td>\n",
       "      <td>United Kingdom</td>\n",
       "    </tr>\n",
       "    <tr>\n",
       "      <th>86900</th>\n",
       "      <td>C543611</td>\n",
       "      <td>71477</td>\n",
       "      <td>COLOUR GLASS. STAR T-LIGHT HOLDER</td>\n",
       "      <td>-2</td>\n",
       "      <td>2/10/2011 14:38</td>\n",
       "      <td>2.75</td>\n",
       "      <td>17850.0</td>\n",
       "      <td>United Kingdom</td>\n",
       "    </tr>\n",
       "    <tr>\n",
       "      <th>86901</th>\n",
       "      <td>C543611</td>\n",
       "      <td>82483</td>\n",
       "      <td>WOOD 2 DRAWER CABINET WHITE FINISH</td>\n",
       "      <td>-1</td>\n",
       "      <td>2/10/2011 14:38</td>\n",
       "      <td>4.95</td>\n",
       "      <td>17850.0</td>\n",
       "      <td>United Kingdom</td>\n",
       "    </tr>\n",
       "    <tr>\n",
       "      <th>86902</th>\n",
       "      <td>C543611</td>\n",
       "      <td>21169</td>\n",
       "      <td>YOU'RE CONFUSING ME METAL SIGN</td>\n",
       "      <td>-2</td>\n",
       "      <td>2/10/2011 14:38</td>\n",
       "      <td>1.45</td>\n",
       "      <td>17850.0</td>\n",
       "      <td>United Kingdom</td>\n",
       "    </tr>\n",
       "  </tbody>\n",
       "</table>\n",
       "<p>312 rows × 8 columns</p>\n",
       "</div>"
      ],
      "text/plain": [
       "      InvoiceNo StockCode                          Description  Quantity  \\\n",
       "0        536365    85123A   WHITE HANGING HEART T-LIGHT HOLDER         6   \n",
       "1        536365     71053                  WHITE METAL LANTERN         6   \n",
       "2        536365    84406B       CREAM CUPID HEARTS COAT HANGER         8   \n",
       "3        536365    84029G  KNITTED UNION FLAG HOT WATER BOTTLE         6   \n",
       "4        536365    84029E       RED WOOLLY HOTTIE WHITE HEART.         6   \n",
       "...         ...       ...                                  ...       ...   \n",
       "86898   C543611     82483   WOOD 2 DRAWER CABINET WHITE FINISH        -1   \n",
       "86899   C543611     21874                    GIN AND TONIC MUG        -1   \n",
       "86900   C543611     71477    COLOUR GLASS. STAR T-LIGHT HOLDER        -2   \n",
       "86901   C543611     82483   WOOD 2 DRAWER CABINET WHITE FINISH        -1   \n",
       "86902   C543611     21169      YOU'RE CONFUSING ME METAL SIGN         -2   \n",
       "\n",
       "           InvoiceDate  UnitPrice  CustomerID         Country  \n",
       "0       12/1/2010 8:26       2.55     17850.0  United Kingdom  \n",
       "1       12/1/2010 8:26       3.39     17850.0  United Kingdom  \n",
       "2       12/1/2010 8:26       2.75     17850.0  United Kingdom  \n",
       "3       12/1/2010 8:26       3.39     17850.0  United Kingdom  \n",
       "4       12/1/2010 8:26       3.39     17850.0  United Kingdom  \n",
       "...                ...        ...         ...             ...  \n",
       "86898  2/10/2011 14:38       4.95     17850.0  United Kingdom  \n",
       "86899  2/10/2011 14:38       1.06     17850.0  United Kingdom  \n",
       "86900  2/10/2011 14:38       2.75     17850.0  United Kingdom  \n",
       "86901  2/10/2011 14:38       4.95     17850.0  United Kingdom  \n",
       "86902  2/10/2011 14:38       1.45     17850.0  United Kingdom  \n",
       "\n",
       "[312 rows x 8 columns]"
      ]
     },
     "execution_count": 564,
     "metadata": {},
     "output_type": "execute_result"
    }
   ],
   "source": [
    "#test example bu customer\n",
    "df[df['CustomerID'] == 17850.0]"
   ]
  },
  {
   "cell_type": "markdown",
   "id": "75b8b3ad-2dec-40a9-a09e-fc7191b618a0",
   "metadata": {
    "tags": []
   },
   "source": [
    "### Prepare data for analysis"
   ]
  },
  {
   "cell_type": "code",
   "execution_count": 576,
   "id": "31f7de16-a84a-46f3-b5ef-e5a565463e78",
   "metadata": {},
   "outputs": [
    {
     "data": {
      "text/plain": [
       "Index(['invoice_no', 'stock_code', 'description', 'quantity', 'invoice_date',\n",
       "       'unitprice', 'customer_id', 'country'],\n",
       "      dtype='object')"
      ]
     },
     "execution_count": 576,
     "metadata": {},
     "output_type": "execute_result"
    }
   ],
   "source": [
    "df.columns.str.lower()"
   ]
  },
  {
   "cell_type": "code",
   "execution_count": 577,
   "id": "9c07ec77-0297-414f-934a-4b961c63067e",
   "metadata": {},
   "outputs": [],
   "source": [
    "df.columns = ['invoice_no', 'stock_code', 'description', 'quantity', 'invoice_date',\n",
    "       'unitprice', 'customer_id', 'country']"
   ]
  },
  {
   "cell_type": "code",
   "execution_count": 578,
   "id": "58582ed8-be21-4d10-ad34-bfcaa42b58ef",
   "metadata": {},
   "outputs": [
    {
     "data": {
      "text/html": [
       "<div>\n",
       "<style scoped>\n",
       "    .dataframe tbody tr th:only-of-type {\n",
       "        vertical-align: middle;\n",
       "    }\n",
       "\n",
       "    .dataframe tbody tr th {\n",
       "        vertical-align: top;\n",
       "    }\n",
       "\n",
       "    .dataframe thead th {\n",
       "        text-align: right;\n",
       "    }\n",
       "</style>\n",
       "<table border=\"1\" class=\"dataframe\">\n",
       "  <thead>\n",
       "    <tr style=\"text-align: right;\">\n",
       "      <th></th>\n",
       "      <th>invoice_no</th>\n",
       "      <th>stock_code</th>\n",
       "      <th>description</th>\n",
       "      <th>quantity</th>\n",
       "      <th>invoice_date</th>\n",
       "      <th>unitprice</th>\n",
       "      <th>customer_id</th>\n",
       "      <th>country</th>\n",
       "    </tr>\n",
       "  </thead>\n",
       "  <tbody>\n",
       "    <tr>\n",
       "      <th>0</th>\n",
       "      <td>536365</td>\n",
       "      <td>85123A</td>\n",
       "      <td>WHITE HANGING HEART T-LIGHT HOLDER</td>\n",
       "      <td>6</td>\n",
       "      <td>2010-12-01 08:26:00</td>\n",
       "      <td>2.55</td>\n",
       "      <td>17850.0</td>\n",
       "      <td>United Kingdom</td>\n",
       "    </tr>\n",
       "    <tr>\n",
       "      <th>1</th>\n",
       "      <td>536365</td>\n",
       "      <td>71053</td>\n",
       "      <td>WHITE METAL LANTERN</td>\n",
       "      <td>6</td>\n",
       "      <td>2010-12-01 08:26:00</td>\n",
       "      <td>3.39</td>\n",
       "      <td>17850.0</td>\n",
       "      <td>United Kingdom</td>\n",
       "    </tr>\n",
       "    <tr>\n",
       "      <th>2</th>\n",
       "      <td>536365</td>\n",
       "      <td>84406B</td>\n",
       "      <td>CREAM CUPID HEARTS COAT HANGER</td>\n",
       "      <td>8</td>\n",
       "      <td>2010-12-01 08:26:00</td>\n",
       "      <td>2.75</td>\n",
       "      <td>17850.0</td>\n",
       "      <td>United Kingdom</td>\n",
       "    </tr>\n",
       "    <tr>\n",
       "      <th>3</th>\n",
       "      <td>536365</td>\n",
       "      <td>84029G</td>\n",
       "      <td>KNITTED UNION FLAG HOT WATER BOTTLE</td>\n",
       "      <td>6</td>\n",
       "      <td>2010-12-01 08:26:00</td>\n",
       "      <td>3.39</td>\n",
       "      <td>17850.0</td>\n",
       "      <td>United Kingdom</td>\n",
       "    </tr>\n",
       "    <tr>\n",
       "      <th>4</th>\n",
       "      <td>536365</td>\n",
       "      <td>84029E</td>\n",
       "      <td>RED WOOLLY HOTTIE WHITE HEART.</td>\n",
       "      <td>6</td>\n",
       "      <td>2010-12-01 08:26:00</td>\n",
       "      <td>3.39</td>\n",
       "      <td>17850.0</td>\n",
       "      <td>United Kingdom</td>\n",
       "    </tr>\n",
       "    <tr>\n",
       "      <th>...</th>\n",
       "      <td>...</td>\n",
       "      <td>...</td>\n",
       "      <td>...</td>\n",
       "      <td>...</td>\n",
       "      <td>...</td>\n",
       "      <td>...</td>\n",
       "      <td>...</td>\n",
       "      <td>...</td>\n",
       "    </tr>\n",
       "    <tr>\n",
       "      <th>541904</th>\n",
       "      <td>581587</td>\n",
       "      <td>22613</td>\n",
       "      <td>PACK OF 20 SPACEBOY NAPKINS</td>\n",
       "      <td>12</td>\n",
       "      <td>2011-12-09 12:50:00</td>\n",
       "      <td>0.85</td>\n",
       "      <td>12680.0</td>\n",
       "      <td>France</td>\n",
       "    </tr>\n",
       "    <tr>\n",
       "      <th>541905</th>\n",
       "      <td>581587</td>\n",
       "      <td>22899</td>\n",
       "      <td>CHILDREN'S APRON DOLLY GIRL</td>\n",
       "      <td>6</td>\n",
       "      <td>2011-12-09 12:50:00</td>\n",
       "      <td>2.10</td>\n",
       "      <td>12680.0</td>\n",
       "      <td>France</td>\n",
       "    </tr>\n",
       "    <tr>\n",
       "      <th>541906</th>\n",
       "      <td>581587</td>\n",
       "      <td>23254</td>\n",
       "      <td>CHILDRENS CUTLERY DOLLY GIRL</td>\n",
       "      <td>4</td>\n",
       "      <td>2011-12-09 12:50:00</td>\n",
       "      <td>4.15</td>\n",
       "      <td>12680.0</td>\n",
       "      <td>France</td>\n",
       "    </tr>\n",
       "    <tr>\n",
       "      <th>541907</th>\n",
       "      <td>581587</td>\n",
       "      <td>23255</td>\n",
       "      <td>CHILDRENS CUTLERY CIRCUS PARADE</td>\n",
       "      <td>4</td>\n",
       "      <td>2011-12-09 12:50:00</td>\n",
       "      <td>4.15</td>\n",
       "      <td>12680.0</td>\n",
       "      <td>France</td>\n",
       "    </tr>\n",
       "    <tr>\n",
       "      <th>541908</th>\n",
       "      <td>581587</td>\n",
       "      <td>22138</td>\n",
       "      <td>BAKING SET 9 PIECE RETROSPOT</td>\n",
       "      <td>3</td>\n",
       "      <td>2011-12-09 12:50:00</td>\n",
       "      <td>4.95</td>\n",
       "      <td>12680.0</td>\n",
       "      <td>France</td>\n",
       "    </tr>\n",
       "  </tbody>\n",
       "</table>\n",
       "<p>541909 rows × 8 columns</p>\n",
       "</div>"
      ],
      "text/plain": [
       "       invoice_no stock_code                          description  quantity  \\\n",
       "0          536365     85123A   WHITE HANGING HEART T-LIGHT HOLDER         6   \n",
       "1          536365      71053                  WHITE METAL LANTERN         6   \n",
       "2          536365     84406B       CREAM CUPID HEARTS COAT HANGER         8   \n",
       "3          536365     84029G  KNITTED UNION FLAG HOT WATER BOTTLE         6   \n",
       "4          536365     84029E       RED WOOLLY HOTTIE WHITE HEART.         6   \n",
       "...           ...        ...                                  ...       ...   \n",
       "541904     581587      22613          PACK OF 20 SPACEBOY NAPKINS        12   \n",
       "541905     581587      22899         CHILDREN'S APRON DOLLY GIRL          6   \n",
       "541906     581587      23254        CHILDRENS CUTLERY DOLLY GIRL          4   \n",
       "541907     581587      23255      CHILDRENS CUTLERY CIRCUS PARADE         4   \n",
       "541908     581587      22138        BAKING SET 9 PIECE RETROSPOT          3   \n",
       "\n",
       "              invoice_date  unitprice  customer_id         country  \n",
       "0      2010-12-01 08:26:00       2.55      17850.0  United Kingdom  \n",
       "1      2010-12-01 08:26:00       3.39      17850.0  United Kingdom  \n",
       "2      2010-12-01 08:26:00       2.75      17850.0  United Kingdom  \n",
       "3      2010-12-01 08:26:00       3.39      17850.0  United Kingdom  \n",
       "4      2010-12-01 08:26:00       3.39      17850.0  United Kingdom  \n",
       "...                    ...        ...          ...             ...  \n",
       "541904 2011-12-09 12:50:00       0.85      12680.0          France  \n",
       "541905 2011-12-09 12:50:00       2.10      12680.0          France  \n",
       "541906 2011-12-09 12:50:00       4.15      12680.0          France  \n",
       "541907 2011-12-09 12:50:00       4.15      12680.0          France  \n",
       "541908 2011-12-09 12:50:00       4.95      12680.0          France  \n",
       "\n",
       "[541909 rows x 8 columns]"
      ]
     },
     "execution_count": 578,
     "metadata": {},
     "output_type": "execute_result"
    }
   ],
   "source": [
    "df"
   ]
  },
  {
   "cell_type": "code",
   "execution_count": 580,
   "id": "89e3662c-79db-4d06-afb2-e253ff1b1d3f",
   "metadata": {},
   "outputs": [
    {
     "data": {
      "text/plain": [
       "4373"
      ]
     },
     "execution_count": 580,
     "metadata": {},
     "output_type": "execute_result"
    }
   ],
   "source": [
    "#count unique customers\n",
    "len(df.customer_id.unique())"
   ]
  },
  {
   "cell_type": "code",
   "execution_count": 581,
   "id": "2183a6dc-226a-4eb2-a18d-b83a1afd45ed",
   "metadata": {},
   "outputs": [
    {
     "data": {
      "text/plain": [
       "123.9215641436085"
      ]
     },
     "execution_count": 581,
     "metadata": {},
     "output_type": "execute_result"
    }
   ],
   "source": [
    "len(df)/len(df.customer_id.unique())"
   ]
  },
  {
   "cell_type": "code",
   "execution_count": 582,
   "id": "dd2c17c0-b14b-4027-ab4c-2b990ed82ef6",
   "metadata": {},
   "outputs": [],
   "source": [
    "df['invoice_date'] = pd.to_datetime(df['invoice_date'], format = '%m/%d/%Y %H:%M')"
   ]
  },
  {
   "cell_type": "code",
   "execution_count": 583,
   "id": "84db01d6-0d62-43ab-a69b-98d3e5680316",
   "metadata": {},
   "outputs": [
    {
     "data": {
      "text/plain": [
       "0         2010-12-01\n",
       "1         2010-12-01\n",
       "2         2010-12-01\n",
       "3         2010-12-01\n",
       "4         2010-12-01\n",
       "             ...    \n",
       "541904    2011-12-09\n",
       "541905    2011-12-09\n",
       "541906    2011-12-09\n",
       "541907    2011-12-09\n",
       "541908    2011-12-09\n",
       "Name: invoice_date, Length: 541909, dtype: object"
      ]
     },
     "execution_count": 583,
     "metadata": {},
     "output_type": "execute_result"
    }
   ],
   "source": [
    "df.invoice_date.dt.date"
   ]
  },
  {
   "cell_type": "code",
   "execution_count": 572,
   "id": "13de5deb-254d-4514-84c2-5af524524040",
   "metadata": {},
   "outputs": [
    {
     "data": {
      "text/plain": [
       "invoice_no              object\n",
       "stock_code              object\n",
       "description             object\n",
       "quantity                 int64\n",
       "invoice_date    datetime64[ns]\n",
       "unitprice              float64\n",
       "customer_id            float64\n",
       "country                 object\n",
       "dtype: object"
      ]
     },
     "execution_count": 572,
     "metadata": {},
     "output_type": "execute_result"
    }
   ],
   "source": [
    "df.dtypes"
   ]
  },
  {
   "cell_type": "code",
   "execution_count": 573,
   "id": "a0724e17-918c-408f-ac11-3030e328762c",
   "metadata": {},
   "outputs": [
    {
     "data": {
      "text/plain": [
       "0         12\n",
       "1         12\n",
       "2         12\n",
       "3         12\n",
       "4         12\n",
       "          ..\n",
       "541904    12\n",
       "541905    12\n",
       "541906    12\n",
       "541907    12\n",
       "541908    12\n",
       "Name: invoice_date, Length: 541909, dtype: int64"
      ]
     },
     "execution_count": 573,
     "metadata": {},
     "output_type": "execute_result"
    }
   ],
   "source": [
    "df.invoice_date.dt.month"
   ]
  },
  {
   "cell_type": "code",
   "execution_count": 574,
   "id": "34cc6040-50c3-4912-ac2d-7005b6b8b91c",
   "metadata": {},
   "outputs": [
    {
     "data": {
      "text/plain": [
       "2011    499428\n",
       "2010     42481\n",
       "Name: invoice_date, dtype: int64"
      ]
     },
     "execution_count": 574,
     "metadata": {},
     "output_type": "execute_result"
    }
   ],
   "source": [
    "df.invoice_date.dt.year.value_counts()"
   ]
  },
  {
   "cell_type": "code",
   "execution_count": 584,
   "id": "50a4f32b-9a49-43e4-b2f9-20fd1697a072",
   "metadata": {},
   "outputs": [
    {
     "data": {
      "text/html": [
       "<div>\n",
       "<style scoped>\n",
       "    .dataframe tbody tr th:only-of-type {\n",
       "        vertical-align: middle;\n",
       "    }\n",
       "\n",
       "    .dataframe tbody tr th {\n",
       "        vertical-align: top;\n",
       "    }\n",
       "\n",
       "    .dataframe thead th {\n",
       "        text-align: right;\n",
       "    }\n",
       "</style>\n",
       "<table border=\"1\" class=\"dataframe\">\n",
       "  <thead>\n",
       "    <tr style=\"text-align: right;\">\n",
       "      <th></th>\n",
       "      <th>invoice_no</th>\n",
       "      <th>stock_code</th>\n",
       "      <th>description</th>\n",
       "      <th>quantity</th>\n",
       "      <th>invoice_date</th>\n",
       "      <th>unitprice</th>\n",
       "      <th>customer_id</th>\n",
       "      <th>country</th>\n",
       "    </tr>\n",
       "  </thead>\n",
       "  <tbody>\n",
       "    <tr>\n",
       "      <th>539081</th>\n",
       "      <td>581432</td>\n",
       "      <td>22064</td>\n",
       "      <td>PINK DOUGHNUT TRINKET POT</td>\n",
       "      <td>48</td>\n",
       "      <td>2011-12-08 15:51:00</td>\n",
       "      <td>0.39</td>\n",
       "      <td>13798.0</td>\n",
       "      <td>United Kingdom</td>\n",
       "    </tr>\n",
       "    <tr>\n",
       "      <th>452572</th>\n",
       "      <td>575352</td>\n",
       "      <td>21122</td>\n",
       "      <td>SET/10 PINK POLKADOT PARTY CANDLES</td>\n",
       "      <td>24</td>\n",
       "      <td>2011-11-09 14:56:00</td>\n",
       "      <td>1.25</td>\n",
       "      <td>12504.0</td>\n",
       "      <td>Germany</td>\n",
       "    </tr>\n",
       "    <tr>\n",
       "      <th>12265</th>\n",
       "      <td>537372</td>\n",
       "      <td>22059</td>\n",
       "      <td>CERAMIC STRAWBERRY DESIGN MUG</td>\n",
       "      <td>4</td>\n",
       "      <td>2010-12-06 12:52:00</td>\n",
       "      <td>1.49</td>\n",
       "      <td>16919.0</td>\n",
       "      <td>United Kingdom</td>\n",
       "    </tr>\n",
       "    <tr>\n",
       "      <th>268131</th>\n",
       "      <td>560387</td>\n",
       "      <td>85049A</td>\n",
       "      <td>TRADITIONAL CHRISTMAS RIBBONS</td>\n",
       "      <td>2</td>\n",
       "      <td>2011-07-18 13:00:00</td>\n",
       "      <td>1.25</td>\n",
       "      <td>14667.0</td>\n",
       "      <td>United Kingdom</td>\n",
       "    </tr>\n",
       "    <tr>\n",
       "      <th>110226</th>\n",
       "      <td>545681</td>\n",
       "      <td>23003</td>\n",
       "      <td>TRAVEL CARD WALLET VINTAGE ROSE</td>\n",
       "      <td>2</td>\n",
       "      <td>2011-03-06 11:28:00</td>\n",
       "      <td>0.42</td>\n",
       "      <td>16923.0</td>\n",
       "      <td>United Kingdom</td>\n",
       "    </tr>\n",
       "  </tbody>\n",
       "</table>\n",
       "</div>"
      ],
      "text/plain": [
       "       invoice_no stock_code                         description  quantity  \\\n",
       "539081     581432      22064          PINK DOUGHNUT TRINKET POT         48   \n",
       "452572     575352      21122  SET/10 PINK POLKADOT PARTY CANDLES        24   \n",
       "12265      537372      22059       CERAMIC STRAWBERRY DESIGN MUG         4   \n",
       "268131     560387     85049A       TRADITIONAL CHRISTMAS RIBBONS         2   \n",
       "110226     545681      23003    TRAVEL CARD WALLET VINTAGE ROSE          2   \n",
       "\n",
       "              invoice_date  unitprice  customer_id         country  \n",
       "539081 2011-12-08 15:51:00       0.39      13798.0  United Kingdom  \n",
       "452572 2011-11-09 14:56:00       1.25      12504.0         Germany  \n",
       "12265  2010-12-06 12:52:00       1.49      16919.0  United Kingdom  \n",
       "268131 2011-07-18 13:00:00       1.25      14667.0  United Kingdom  \n",
       "110226 2011-03-06 11:28:00       0.42      16923.0  United Kingdom  "
      ]
     },
     "execution_count": 584,
     "metadata": {},
     "output_type": "execute_result"
    }
   ],
   "source": [
    "df.sample(5)"
   ]
  },
  {
   "cell_type": "markdown",
   "id": "b4c67995-c5f9-4e11-aeb1-d4ee5fdabf3c",
   "metadata": {},
   "source": [
    "### Из даты делаем месяц"
   ]
  },
  {
   "cell_type": "code",
   "execution_count": 585,
   "id": "048952db-b44d-4bb2-a5cb-199e7416d45d",
   "metadata": {},
   "outputs": [],
   "source": [
    "df['invoice_month'] = df['invoice_date'].to_numpy().astype('datetime64[M]')"
   ]
  },
  {
   "cell_type": "code",
   "execution_count": 586,
   "id": "6d4a577a-7c92-4c73-be6a-496e5aaa6b90",
   "metadata": {},
   "outputs": [
    {
     "data": {
      "text/html": [
       "<div>\n",
       "<style scoped>\n",
       "    .dataframe tbody tr th:only-of-type {\n",
       "        vertical-align: middle;\n",
       "    }\n",
       "\n",
       "    .dataframe tbody tr th {\n",
       "        vertical-align: top;\n",
       "    }\n",
       "\n",
       "    .dataframe thead th {\n",
       "        text-align: right;\n",
       "    }\n",
       "</style>\n",
       "<table border=\"1\" class=\"dataframe\">\n",
       "  <thead>\n",
       "    <tr style=\"text-align: right;\">\n",
       "      <th></th>\n",
       "      <th>invoice_no</th>\n",
       "      <th>stock_code</th>\n",
       "      <th>description</th>\n",
       "      <th>quantity</th>\n",
       "      <th>invoice_date</th>\n",
       "      <th>unitprice</th>\n",
       "      <th>customer_id</th>\n",
       "      <th>country</th>\n",
       "      <th>invoice_month</th>\n",
       "    </tr>\n",
       "  </thead>\n",
       "  <tbody>\n",
       "    <tr>\n",
       "      <th>238449</th>\n",
       "      <td>557938</td>\n",
       "      <td>23204</td>\n",
       "      <td>CHARLOTTE BAG APPLES DESIGN</td>\n",
       "      <td>3</td>\n",
       "      <td>2011-06-23 15:35:00</td>\n",
       "      <td>1.63</td>\n",
       "      <td>NaN</td>\n",
       "      <td>United Kingdom</td>\n",
       "      <td>2011-06-01</td>\n",
       "    </tr>\n",
       "    <tr>\n",
       "      <th>265678</th>\n",
       "      <td>560225</td>\n",
       "      <td>23111</td>\n",
       "      <td>PARISIENNE SEWING BOX</td>\n",
       "      <td>1</td>\n",
       "      <td>2011-07-15 16:27:00</td>\n",
       "      <td>24.96</td>\n",
       "      <td>NaN</td>\n",
       "      <td>United Kingdom</td>\n",
       "      <td>2011-07-01</td>\n",
       "    </tr>\n",
       "    <tr>\n",
       "      <th>69860</th>\n",
       "      <td>541987</td>\n",
       "      <td>20750</td>\n",
       "      <td>RED RETROSPOT MINI CASES</td>\n",
       "      <td>1</td>\n",
       "      <td>2011-01-24 16:05:00</td>\n",
       "      <td>7.95</td>\n",
       "      <td>14130.0</td>\n",
       "      <td>United Kingdom</td>\n",
       "      <td>2011-01-01</td>\n",
       "    </tr>\n",
       "    <tr>\n",
       "      <th>454031</th>\n",
       "      <td>575508</td>\n",
       "      <td>22398</td>\n",
       "      <td>MAGNETS PACK OF 4 SWALLOWS</td>\n",
       "      <td>72</td>\n",
       "      <td>2011-11-10 10:32:00</td>\n",
       "      <td>0.39</td>\n",
       "      <td>14646.0</td>\n",
       "      <td>Netherlands</td>\n",
       "      <td>2011-11-01</td>\n",
       "    </tr>\n",
       "    <tr>\n",
       "      <th>70161</th>\n",
       "      <td>541999</td>\n",
       "      <td>21313</td>\n",
       "      <td>GLASS HEART T-LIGHT HOLDER</td>\n",
       "      <td>4</td>\n",
       "      <td>2011-01-25 10:45:00</td>\n",
       "      <td>1.63</td>\n",
       "      <td>NaN</td>\n",
       "      <td>United Kingdom</td>\n",
       "      <td>2011-01-01</td>\n",
       "    </tr>\n",
       "  </tbody>\n",
       "</table>\n",
       "</div>"
      ],
      "text/plain": [
       "       invoice_no stock_code                  description  quantity  \\\n",
       "238449     557938      23204  CHARLOTTE BAG APPLES DESIGN         3   \n",
       "265678     560225      23111        PARISIENNE SEWING BOX         1   \n",
       "69860      541987      20750     RED RETROSPOT MINI CASES         1   \n",
       "454031     575508      22398   MAGNETS PACK OF 4 SWALLOWS        72   \n",
       "70161      541999      21313  GLASS HEART T-LIGHT HOLDER          4   \n",
       "\n",
       "              invoice_date  unitprice  customer_id         country  \\\n",
       "238449 2011-06-23 15:35:00       1.63          NaN  United Kingdom   \n",
       "265678 2011-07-15 16:27:00      24.96          NaN  United Kingdom   \n",
       "69860  2011-01-24 16:05:00       7.95      14130.0  United Kingdom   \n",
       "454031 2011-11-10 10:32:00       0.39      14646.0     Netherlands   \n",
       "70161  2011-01-25 10:45:00       1.63          NaN  United Kingdom   \n",
       "\n",
       "       invoice_month  \n",
       "238449    2011-06-01  \n",
       "265678    2011-07-01  \n",
       "69860     2011-01-01  \n",
       "454031    2011-11-01  \n",
       "70161     2011-01-01  "
      ]
     },
     "execution_count": 586,
     "metadata": {},
     "output_type": "execute_result"
    }
   ],
   "source": [
    "df.sample(5)"
   ]
  },
  {
   "cell_type": "code",
   "execution_count": 587,
   "id": "86048780-c352-43ae-b942-8a450d722f97",
   "metadata": {},
   "outputs": [
    {
     "data": {
      "text/plain": [
       "invoice_no               object\n",
       "stock_code               object\n",
       "description              object\n",
       "quantity                  int64\n",
       "invoice_date     datetime64[ns]\n",
       "unitprice               float64\n",
       "customer_id             float64\n",
       "country                  object\n",
       "invoice_month    datetime64[ns]\n",
       "dtype: object"
      ]
     },
     "execution_count": 587,
     "metadata": {},
     "output_type": "execute_result"
    }
   ],
   "source": [
    "df.dtypes"
   ]
  },
  {
   "cell_type": "markdown",
   "id": "64dba074-a94f-4d89-b683-f8d676a007bd",
   "metadata": {},
   "source": [
    "### Считаем доход"
   ]
  },
  {
   "cell_type": "code",
   "execution_count": 611,
   "id": "7f882367-b64d-4164-942c-1c24f9656b3a",
   "metadata": {},
   "outputs": [],
   "source": [
    "df['revenue'] = df['quantity']*df['unitprice']"
   ]
  },
  {
   "cell_type": "code",
   "execution_count": 612,
   "id": "1c004b16-a35a-4cab-a9ac-0f09869665c8",
   "metadata": {},
   "outputs": [
    {
     "data": {
      "text/html": [
       "<div>\n",
       "<style scoped>\n",
       "    .dataframe tbody tr th:only-of-type {\n",
       "        vertical-align: middle;\n",
       "    }\n",
       "\n",
       "    .dataframe tbody tr th {\n",
       "        vertical-align: top;\n",
       "    }\n",
       "\n",
       "    .dataframe thead th {\n",
       "        text-align: right;\n",
       "    }\n",
       "</style>\n",
       "<table border=\"1\" class=\"dataframe\">\n",
       "  <thead>\n",
       "    <tr style=\"text-align: right;\">\n",
       "      <th></th>\n",
       "      <th>invoice_no</th>\n",
       "      <th>stock_code</th>\n",
       "      <th>description</th>\n",
       "      <th>quantity</th>\n",
       "      <th>invoice_date</th>\n",
       "      <th>unitprice</th>\n",
       "      <th>customer_id</th>\n",
       "      <th>country</th>\n",
       "      <th>invoice_month</th>\n",
       "      <th>revenue</th>\n",
       "    </tr>\n",
       "  </thead>\n",
       "  <tbody>\n",
       "    <tr>\n",
       "      <th>0</th>\n",
       "      <td>536365</td>\n",
       "      <td>85123A</td>\n",
       "      <td>WHITE HANGING HEART T-LIGHT HOLDER</td>\n",
       "      <td>6</td>\n",
       "      <td>2010-12-01 08:26:00</td>\n",
       "      <td>2.55</td>\n",
       "      <td>17850.0</td>\n",
       "      <td>United Kingdom</td>\n",
       "      <td>2010-12-01</td>\n",
       "      <td>15.30</td>\n",
       "    </tr>\n",
       "    <tr>\n",
       "      <th>1</th>\n",
       "      <td>536365</td>\n",
       "      <td>71053</td>\n",
       "      <td>WHITE METAL LANTERN</td>\n",
       "      <td>6</td>\n",
       "      <td>2010-12-01 08:26:00</td>\n",
       "      <td>3.39</td>\n",
       "      <td>17850.0</td>\n",
       "      <td>United Kingdom</td>\n",
       "      <td>2010-12-01</td>\n",
       "      <td>20.34</td>\n",
       "    </tr>\n",
       "    <tr>\n",
       "      <th>2</th>\n",
       "      <td>536365</td>\n",
       "      <td>84406B</td>\n",
       "      <td>CREAM CUPID HEARTS COAT HANGER</td>\n",
       "      <td>8</td>\n",
       "      <td>2010-12-01 08:26:00</td>\n",
       "      <td>2.75</td>\n",
       "      <td>17850.0</td>\n",
       "      <td>United Kingdom</td>\n",
       "      <td>2010-12-01</td>\n",
       "      <td>22.00</td>\n",
       "    </tr>\n",
       "    <tr>\n",
       "      <th>3</th>\n",
       "      <td>536365</td>\n",
       "      <td>84029G</td>\n",
       "      <td>KNITTED UNION FLAG HOT WATER BOTTLE</td>\n",
       "      <td>6</td>\n",
       "      <td>2010-12-01 08:26:00</td>\n",
       "      <td>3.39</td>\n",
       "      <td>17850.0</td>\n",
       "      <td>United Kingdom</td>\n",
       "      <td>2010-12-01</td>\n",
       "      <td>20.34</td>\n",
       "    </tr>\n",
       "    <tr>\n",
       "      <th>4</th>\n",
       "      <td>536365</td>\n",
       "      <td>84029E</td>\n",
       "      <td>RED WOOLLY HOTTIE WHITE HEART.</td>\n",
       "      <td>6</td>\n",
       "      <td>2010-12-01 08:26:00</td>\n",
       "      <td>3.39</td>\n",
       "      <td>17850.0</td>\n",
       "      <td>United Kingdom</td>\n",
       "      <td>2010-12-01</td>\n",
       "      <td>20.34</td>\n",
       "    </tr>\n",
       "    <tr>\n",
       "      <th>...</th>\n",
       "      <td>...</td>\n",
       "      <td>...</td>\n",
       "      <td>...</td>\n",
       "      <td>...</td>\n",
       "      <td>...</td>\n",
       "      <td>...</td>\n",
       "      <td>...</td>\n",
       "      <td>...</td>\n",
       "      <td>...</td>\n",
       "      <td>...</td>\n",
       "    </tr>\n",
       "    <tr>\n",
       "      <th>541904</th>\n",
       "      <td>581587</td>\n",
       "      <td>22613</td>\n",
       "      <td>PACK OF 20 SPACEBOY NAPKINS</td>\n",
       "      <td>12</td>\n",
       "      <td>2011-12-09 12:50:00</td>\n",
       "      <td>0.85</td>\n",
       "      <td>12680.0</td>\n",
       "      <td>France</td>\n",
       "      <td>2011-12-01</td>\n",
       "      <td>10.20</td>\n",
       "    </tr>\n",
       "    <tr>\n",
       "      <th>541905</th>\n",
       "      <td>581587</td>\n",
       "      <td>22899</td>\n",
       "      <td>CHILDREN'S APRON DOLLY GIRL</td>\n",
       "      <td>6</td>\n",
       "      <td>2011-12-09 12:50:00</td>\n",
       "      <td>2.10</td>\n",
       "      <td>12680.0</td>\n",
       "      <td>France</td>\n",
       "      <td>2011-12-01</td>\n",
       "      <td>12.60</td>\n",
       "    </tr>\n",
       "    <tr>\n",
       "      <th>541906</th>\n",
       "      <td>581587</td>\n",
       "      <td>23254</td>\n",
       "      <td>CHILDRENS CUTLERY DOLLY GIRL</td>\n",
       "      <td>4</td>\n",
       "      <td>2011-12-09 12:50:00</td>\n",
       "      <td>4.15</td>\n",
       "      <td>12680.0</td>\n",
       "      <td>France</td>\n",
       "      <td>2011-12-01</td>\n",
       "      <td>16.60</td>\n",
       "    </tr>\n",
       "    <tr>\n",
       "      <th>541907</th>\n",
       "      <td>581587</td>\n",
       "      <td>23255</td>\n",
       "      <td>CHILDRENS CUTLERY CIRCUS PARADE</td>\n",
       "      <td>4</td>\n",
       "      <td>2011-12-09 12:50:00</td>\n",
       "      <td>4.15</td>\n",
       "      <td>12680.0</td>\n",
       "      <td>France</td>\n",
       "      <td>2011-12-01</td>\n",
       "      <td>16.60</td>\n",
       "    </tr>\n",
       "    <tr>\n",
       "      <th>541908</th>\n",
       "      <td>581587</td>\n",
       "      <td>22138</td>\n",
       "      <td>BAKING SET 9 PIECE RETROSPOT</td>\n",
       "      <td>3</td>\n",
       "      <td>2011-12-09 12:50:00</td>\n",
       "      <td>4.95</td>\n",
       "      <td>12680.0</td>\n",
       "      <td>France</td>\n",
       "      <td>2011-12-01</td>\n",
       "      <td>14.85</td>\n",
       "    </tr>\n",
       "  </tbody>\n",
       "</table>\n",
       "<p>541909 rows × 10 columns</p>\n",
       "</div>"
      ],
      "text/plain": [
       "       invoice_no stock_code                          description  quantity  \\\n",
       "0          536365     85123A   WHITE HANGING HEART T-LIGHT HOLDER         6   \n",
       "1          536365      71053                  WHITE METAL LANTERN         6   \n",
       "2          536365     84406B       CREAM CUPID HEARTS COAT HANGER         8   \n",
       "3          536365     84029G  KNITTED UNION FLAG HOT WATER BOTTLE         6   \n",
       "4          536365     84029E       RED WOOLLY HOTTIE WHITE HEART.         6   \n",
       "...           ...        ...                                  ...       ...   \n",
       "541904     581587      22613          PACK OF 20 SPACEBOY NAPKINS        12   \n",
       "541905     581587      22899         CHILDREN'S APRON DOLLY GIRL          6   \n",
       "541906     581587      23254        CHILDRENS CUTLERY DOLLY GIRL          4   \n",
       "541907     581587      23255      CHILDRENS CUTLERY CIRCUS PARADE         4   \n",
       "541908     581587      22138        BAKING SET 9 PIECE RETROSPOT          3   \n",
       "\n",
       "              invoice_date  unitprice  customer_id         country  \\\n",
       "0      2010-12-01 08:26:00       2.55      17850.0  United Kingdom   \n",
       "1      2010-12-01 08:26:00       3.39      17850.0  United Kingdom   \n",
       "2      2010-12-01 08:26:00       2.75      17850.0  United Kingdom   \n",
       "3      2010-12-01 08:26:00       3.39      17850.0  United Kingdom   \n",
       "4      2010-12-01 08:26:00       3.39      17850.0  United Kingdom   \n",
       "...                    ...        ...          ...             ...   \n",
       "541904 2011-12-09 12:50:00       0.85      12680.0          France   \n",
       "541905 2011-12-09 12:50:00       2.10      12680.0          France   \n",
       "541906 2011-12-09 12:50:00       4.15      12680.0          France   \n",
       "541907 2011-12-09 12:50:00       4.15      12680.0          France   \n",
       "541908 2011-12-09 12:50:00       4.95      12680.0          France   \n",
       "\n",
       "       invoice_month  revenue  \n",
       "0         2010-12-01    15.30  \n",
       "1         2010-12-01    20.34  \n",
       "2         2010-12-01    22.00  \n",
       "3         2010-12-01    20.34  \n",
       "4         2010-12-01    20.34  \n",
       "...              ...      ...  \n",
       "541904    2011-12-01    10.20  \n",
       "541905    2011-12-01    12.60  \n",
       "541906    2011-12-01    16.60  \n",
       "541907    2011-12-01    16.60  \n",
       "541908    2011-12-01    14.85  \n",
       "\n",
       "[541909 rows x 10 columns]"
      ]
     },
     "execution_count": 612,
     "metadata": {},
     "output_type": "execute_result"
    }
   ],
   "source": [
    "df"
   ]
  },
  {
   "cell_type": "markdown",
   "id": "aade540a-7fbc-4d4e-98bb-0ec627c95e74",
   "metadata": {
    "tags": []
   },
   "source": [
    "### Grouping df by month. Make the first pivot table"
   ]
  },
  {
   "cell_type": "code",
   "execution_count": 613,
   "id": "ee242b82-2995-41a5-a8a9-92eba001c7df",
   "metadata": {},
   "outputs": [],
   "source": [
    "t = df.groupby(['invoice_month'])['revenue'].agg(['count','sum']).reset_index()"
   ]
  },
  {
   "cell_type": "code",
   "execution_count": 614,
   "id": "d7756605-2c65-4dea-b492-09f5426f57cb",
   "metadata": {},
   "outputs": [
    {
     "data": {
      "text/html": [
       "<div>\n",
       "<style scoped>\n",
       "    .dataframe tbody tr th:only-of-type {\n",
       "        vertical-align: middle;\n",
       "    }\n",
       "\n",
       "    .dataframe tbody tr th {\n",
       "        vertical-align: top;\n",
       "    }\n",
       "\n",
       "    .dataframe thead th {\n",
       "        text-align: right;\n",
       "    }\n",
       "</style>\n",
       "<table border=\"1\" class=\"dataframe\">\n",
       "  <thead>\n",
       "    <tr style=\"text-align: right;\">\n",
       "      <th></th>\n",
       "      <th>invoice_month</th>\n",
       "      <th>count</th>\n",
       "      <th>sum</th>\n",
       "    </tr>\n",
       "  </thead>\n",
       "  <tbody>\n",
       "    <tr>\n",
       "      <th>0</th>\n",
       "      <td>2010-12-01</td>\n",
       "      <td>42481</td>\n",
       "      <td>748957.020</td>\n",
       "    </tr>\n",
       "    <tr>\n",
       "      <th>1</th>\n",
       "      <td>2011-01-01</td>\n",
       "      <td>35147</td>\n",
       "      <td>560000.260</td>\n",
       "    </tr>\n",
       "    <tr>\n",
       "      <th>2</th>\n",
       "      <td>2011-02-01</td>\n",
       "      <td>27707</td>\n",
       "      <td>498062.650</td>\n",
       "    </tr>\n",
       "    <tr>\n",
       "      <th>3</th>\n",
       "      <td>2011-03-01</td>\n",
       "      <td>36748</td>\n",
       "      <td>683267.080</td>\n",
       "    </tr>\n",
       "    <tr>\n",
       "      <th>4</th>\n",
       "      <td>2011-04-01</td>\n",
       "      <td>29916</td>\n",
       "      <td>493207.121</td>\n",
       "    </tr>\n",
       "    <tr>\n",
       "      <th>5</th>\n",
       "      <td>2011-05-01</td>\n",
       "      <td>37030</td>\n",
       "      <td>723333.510</td>\n",
       "    </tr>\n",
       "    <tr>\n",
       "      <th>6</th>\n",
       "      <td>2011-06-01</td>\n",
       "      <td>36874</td>\n",
       "      <td>691123.120</td>\n",
       "    </tr>\n",
       "    <tr>\n",
       "      <th>7</th>\n",
       "      <td>2011-07-01</td>\n",
       "      <td>39518</td>\n",
       "      <td>681300.111</td>\n",
       "    </tr>\n",
       "    <tr>\n",
       "      <th>8</th>\n",
       "      <td>2011-08-01</td>\n",
       "      <td>35284</td>\n",
       "      <td>682680.510</td>\n",
       "    </tr>\n",
       "    <tr>\n",
       "      <th>9</th>\n",
       "      <td>2011-09-01</td>\n",
       "      <td>50226</td>\n",
       "      <td>1019687.622</td>\n",
       "    </tr>\n",
       "    <tr>\n",
       "      <th>10</th>\n",
       "      <td>2011-10-01</td>\n",
       "      <td>60742</td>\n",
       "      <td>1070704.670</td>\n",
       "    </tr>\n",
       "    <tr>\n",
       "      <th>11</th>\n",
       "      <td>2011-11-01</td>\n",
       "      <td>84711</td>\n",
       "      <td>1461756.250</td>\n",
       "    </tr>\n",
       "    <tr>\n",
       "      <th>12</th>\n",
       "      <td>2011-12-01</td>\n",
       "      <td>25525</td>\n",
       "      <td>433668.010</td>\n",
       "    </tr>\n",
       "  </tbody>\n",
       "</table>\n",
       "</div>"
      ],
      "text/plain": [
       "   invoice_month  count          sum\n",
       "0     2010-12-01  42481   748957.020\n",
       "1     2011-01-01  35147   560000.260\n",
       "2     2011-02-01  27707   498062.650\n",
       "3     2011-03-01  36748   683267.080\n",
       "4     2011-04-01  29916   493207.121\n",
       "5     2011-05-01  37030   723333.510\n",
       "6     2011-06-01  36874   691123.120\n",
       "7     2011-07-01  39518   681300.111\n",
       "8     2011-08-01  35284   682680.510\n",
       "9     2011-09-01  50226  1019687.622\n",
       "10    2011-10-01  60742  1070704.670\n",
       "11    2011-11-01  84711  1461756.250\n",
       "12    2011-12-01  25525   433668.010"
      ]
     },
     "execution_count": 614,
     "metadata": {},
     "output_type": "execute_result"
    }
   ],
   "source": [
    "t.sort_values('invoice_month')"
   ]
  },
  {
   "cell_type": "markdown",
   "id": "932bf4ff-f456-45fc-adbf-53f61017b761",
   "metadata": {},
   "source": [
    "### Обязательно делаем проверку, по закону сохранения энергии"
   ]
  },
  {
   "cell_type": "code",
   "execution_count": 615,
   "id": "b0b1276d-d5ae-4493-9c23-ca2a35643016",
   "metadata": {},
   "outputs": [
    {
     "data": {
      "text/plain": [
       "9747747.933999998"
      ]
     },
     "execution_count": 615,
     "metadata": {},
     "output_type": "execute_result"
    }
   ],
   "source": [
    "df['revenue'].sum()"
   ]
  },
  {
   "cell_type": "code",
   "execution_count": 616,
   "id": "ae664b1e-934d-4880-9c00-e1ffeed7feaf",
   "metadata": {},
   "outputs": [
    {
     "data": {
      "text/plain": [
       "9747747.933999998"
      ]
     },
     "execution_count": 616,
     "metadata": {},
     "output_type": "execute_result"
    }
   ],
   "source": [
    "t['sum'].sum()"
   ]
  },
  {
   "cell_type": "code",
   "execution_count": 617,
   "id": "b855872d-8991-474b-843c-97f51f813481",
   "metadata": {},
   "outputs": [
    {
     "data": {
      "text/html": [
       "<div>\n",
       "<style scoped>\n",
       "    .dataframe tbody tr th:only-of-type {\n",
       "        vertical-align: middle;\n",
       "    }\n",
       "\n",
       "    .dataframe tbody tr th {\n",
       "        vertical-align: top;\n",
       "    }\n",
       "\n",
       "    .dataframe thead th {\n",
       "        text-align: right;\n",
       "    }\n",
       "</style>\n",
       "<table border=\"1\" class=\"dataframe\">\n",
       "  <thead>\n",
       "    <tr style=\"text-align: right;\">\n",
       "      <th></th>\n",
       "      <th>count</th>\n",
       "      <th>sum</th>\n",
       "    </tr>\n",
       "    <tr>\n",
       "      <th>invoice_month</th>\n",
       "      <th></th>\n",
       "      <th></th>\n",
       "    </tr>\n",
       "  </thead>\n",
       "  <tbody>\n",
       "    <tr>\n",
       "      <th>2010-12-01</th>\n",
       "      <td>42481</td>\n",
       "      <td>748957.020</td>\n",
       "    </tr>\n",
       "    <tr>\n",
       "      <th>2011-01-01</th>\n",
       "      <td>35147</td>\n",
       "      <td>560000.260</td>\n",
       "    </tr>\n",
       "    <tr>\n",
       "      <th>2011-02-01</th>\n",
       "      <td>27707</td>\n",
       "      <td>498062.650</td>\n",
       "    </tr>\n",
       "    <tr>\n",
       "      <th>2011-03-01</th>\n",
       "      <td>36748</td>\n",
       "      <td>683267.080</td>\n",
       "    </tr>\n",
       "    <tr>\n",
       "      <th>2011-04-01</th>\n",
       "      <td>29916</td>\n",
       "      <td>493207.121</td>\n",
       "    </tr>\n",
       "    <tr>\n",
       "      <th>2011-05-01</th>\n",
       "      <td>37030</td>\n",
       "      <td>723333.510</td>\n",
       "    </tr>\n",
       "    <tr>\n",
       "      <th>2011-06-01</th>\n",
       "      <td>36874</td>\n",
       "      <td>691123.120</td>\n",
       "    </tr>\n",
       "    <tr>\n",
       "      <th>2011-07-01</th>\n",
       "      <td>39518</td>\n",
       "      <td>681300.111</td>\n",
       "    </tr>\n",
       "    <tr>\n",
       "      <th>2011-08-01</th>\n",
       "      <td>35284</td>\n",
       "      <td>682680.510</td>\n",
       "    </tr>\n",
       "    <tr>\n",
       "      <th>2011-09-01</th>\n",
       "      <td>50226</td>\n",
       "      <td>1019687.622</td>\n",
       "    </tr>\n",
       "    <tr>\n",
       "      <th>2011-10-01</th>\n",
       "      <td>60742</td>\n",
       "      <td>1070704.670</td>\n",
       "    </tr>\n",
       "    <tr>\n",
       "      <th>2011-11-01</th>\n",
       "      <td>84711</td>\n",
       "      <td>1461756.250</td>\n",
       "    </tr>\n",
       "    <tr>\n",
       "      <th>2011-12-01</th>\n",
       "      <td>25525</td>\n",
       "      <td>433668.010</td>\n",
       "    </tr>\n",
       "  </tbody>\n",
       "</table>\n",
       "</div>"
      ],
      "text/plain": [
       "               count          sum\n",
       "invoice_month                    \n",
       "2010-12-01     42481   748957.020\n",
       "2011-01-01     35147   560000.260\n",
       "2011-02-01     27707   498062.650\n",
       "2011-03-01     36748   683267.080\n",
       "2011-04-01     29916   493207.121\n",
       "2011-05-01     37030   723333.510\n",
       "2011-06-01     36874   691123.120\n",
       "2011-07-01     39518   681300.111\n",
       "2011-08-01     35284   682680.510\n",
       "2011-09-01     50226  1019687.622\n",
       "2011-10-01     60742  1070704.670\n",
       "2011-11-01     84711  1461756.250\n",
       "2011-12-01     25525   433668.010"
      ]
     },
     "execution_count": 617,
     "metadata": {},
     "output_type": "execute_result"
    }
   ],
   "source": [
    "t.set_index('invoice_month')"
   ]
  },
  {
   "cell_type": "code",
   "execution_count": 618,
   "id": "ef8b97fd-9d30-4d5d-bf92-ea96431fee56",
   "metadata": {},
   "outputs": [
    {
     "data": {
      "text/plain": [
       "<AxesSubplot: xlabel='invoice_month'>"
      ]
     },
     "execution_count": 618,
     "metadata": {},
     "output_type": "execute_result"
    },
    {
     "data": {
      "image/png": "[encoded data removed]",
      "text/plain": [
       "<Figure size 640x480 with 1 Axes>"
      ]
     },
     "metadata": {},
     "output_type": "display_data"
    }
   ],
   "source": [
    "t.set_index('invoice_month').plot()"
   ]
  },
  {
   "cell_type": "code",
   "execution_count": 619,
   "id": "66b14cc6-9ab7-4e1d-8616-9bda9671a179",
   "metadata": {},
   "outputs": [],
   "source": [
    "#mine graph revenue with plotly"
   ]
  },
  {
   "cell_type": "code",
   "execution_count": 620,
   "id": "2559018a-b9f9-463d-ad2c-9d71e9b78133",
   "metadata": {},
   "outputs": [
    {
     "data": {
      "application/vnd.plotly.v1+json": {
       "config": {
        "plotlyServerURL": "https://plot.ly"
       },
       "data": [
        {
         "alignmentgroup": "True",
         "hovertemplate": "invoice_month=%{x}<br>sum=%{y}<br>count=%{marker.color}<extra></extra>",
         "legendgroup": "",
         "marker": {
          "color": [
           42481,
           35147,
           27707,
           36748,
           29916,
           37030,
           36874,
           39518,
           35284,
           50226,
           60742,
           84711,
           25525
          ],
          "coloraxis": "coloraxis",
          "pattern": {
           "shape": ""
          }
         },
         "name": "",
         "offsetgroup": "",
         "orientation": "v",
         "showlegend": false,
         "textposition": "auto",
         "type": "bar",
         "x": [
          "2010-12-01T00:00:00",
          "2011-01-01T00:00:00",
          "2011-02-01T00:00:00",
          "2011-03-01T00:00:00",
          "2011-04-01T00:00:00",
          "2011-05-01T00:00:00",
          "2011-06-01T00:00:00",
          "2011-07-01T00:00:00",
          "2011-08-01T00:00:00",
          "2011-09-01T00:00:00",
          "2011-10-01T00:00:00",
          "2011-11-01T00:00:00",
          "2011-12-01T00:00:00"
         ],
         "xaxis": "x",
         "y": [
          748957.02,
          560000.26,
          498062.65,
          683267.08,
          493207.121,
          723333.51,
          691123.12,
          681300.111,
          682680.51,
          1019687.622,
          1070704.67,
          1461756.25,
          433668.01
         ],
         "yaxis": "y"
        }
       ],
       "layout": {
        "autosize": true,
        "barmode": "relative",
        "coloraxis": {
         "colorbar": {
          "title": {
           "text": "count"
          }
         },
         "colorscale": [
          [
           0,
           "#0d0887"
          ],
          [
           0.1111111111111111,
           "#46039f"
          ],
          [
           0.2222222222222222,
           "#7201a8"
          ],
          [
           0.3333333333333333,
           "#9c179e"
          ],
          [
           0.4444444444444444,
           "#bd3786"
          ],
          [
           0.5555555555555556,
           "#d8576b"
          ],
          [
           0.6666666666666666,
           "#ed7953"
          ],
          [
           0.7777777777777778,
           "#fb9f3a"
          ],
          [
           0.8888888888888888,
           "#fdca26"
          ],
          [
           1,
           "#f0f921"
          ]
         ]
        },
        "legend": {
         "tracegroupgap": 0
        },
        "margin": {
         "t": 60
        },
        "template": {
         "data": {
          "bar": [
           {
            "error_x": {
             "color": "#2a3f5f"
            },
            "error_y": {
             "color": "#2a3f5f"
            },
            "marker": {
             "line": {
              "color": "#E5ECF6",
              "width": 0.5
             },
             "pattern": {
              "fillmode": "overlay",
              "size": 10,
              "solidity": 0.2
             }
            },
            "type": "bar"
           }
          ],
          "barpolar": [
           {
            "marker": {
             "line": {
              "color": "#E5ECF6",
              "width": 0.5
             },
             "pattern": {
              "fillmode": "overlay",
              "size": 10,
              "solidity": 0.2
             }
            },
            "type": "barpolar"
           }
          ],
          "carpet": [
           {
            "aaxis": {
             "endlinecolor": "#2a3f5f",
             "gridcolor": "white",
             "linecolor": "white",
             "minorgridcolor": "white",
             "startlinecolor": "#2a3f5f"
            },
            "baxis": {
             "endlinecolor": "#2a3f5f",
             "gridcolor": "white",
             "linecolor": "white",
             "minorgridcolor": "white",
             "startlinecolor": "#2a3f5f"
            },
            "type": "carpet"
           }
          ],
          "choropleth": [
           {
            "colorbar": {
             "outlinewidth": 0,
             "ticks": ""
            },
            "type": "choropleth"
           }
          ],
          "contour": [
           {
            "colorbar": {
             "outlinewidth": 0,
             "ticks": ""
            },
            "colorscale": [
             [
              0,
              "#0d0887"
             ],
             [
              0.1111111111111111,
              "#46039f"
             ],
             [
              0.2222222222222222,
              "#7201a8"
             ],
             [
              0.3333333333333333,
              "#9c179e"
             ],
             [
              0.4444444444444444,
              "#bd3786"
             ],
             [
              0.5555555555555556,
              "#d8576b"
             ],
             [
              0.6666666666666666,
              "#ed7953"
             ],
             [
              0.7777777777777778,
              "#fb9f3a"
             ],
             [
              0.8888888888888888,
              "#fdca26"
             ],
             [
              1,
              "#f0f921"
             ]
            ],
            "type": "contour"
           }
          ],
          "contourcarpet": [
           {
            "colorbar": {
             "outlinewidth": 0,
             "ticks": ""
            },
            "type": "contourcarpet"
           }
          ],
          "heatmap": [
           {
            "colorbar": {
             "outlinewidth": 0,
             "ticks": ""
            },
            "colorscale": [
             [
              0,
              "#0d0887"
             ],
             [
              0.1111111111111111,
              "#46039f"
             ],
             [
              0.2222222222222222,
              "#7201a8"
             ],
             [
              0.3333333333333333,
              "#9c179e"
             ],
             [
              0.4444444444444444,
              "#bd3786"
             ],
             [
              0.5555555555555556,
              "#d8576b"
             ],
             [
              0.6666666666666666,
              "#ed7953"
             ],
             [
              0.7777777777777778,
              "#fb9f3a"
             ],
             [
              0.8888888888888888,
              "#fdca26"
             ],
             [
              1,
              "#f0f921"
             ]
            ],
            "type": "heatmap"
           }
          ],
          "heatmapgl": [
           {
            "colorbar": {
             "outlinewidth": 0,
             "ticks": ""
            },
            "colorscale": [
             [
              0,
              "#0d0887"
             ],
             [
              0.1111111111111111,
              "#46039f"
             ],
             [
              0.2222222222222222,
              "#7201a8"
             ],
             [
              0.3333333333333333,
              "#9c179e"
             ],
             [
              0.4444444444444444,
              "#bd3786"
             ],
             [
              0.5555555555555556,
              "#d8576b"
             ],
             [
              0.6666666666666666,
              "#ed7953"
             ],
             [
              0.7777777777777778,
              "#fb9f3a"
             ],
             [
              0.8888888888888888,
              "#fdca26"
             ],
             [
              1,
              "#f0f921"
             ]
            ],
            "type": "heatmapgl"
           }
          ],
          "histogram": [
           {
            "marker": {
             "pattern": {
              "fillmode": "overlay",
              "size": 10,
              "solidity": 0.2
             }
            },
            "type": "histogram"
           }
          ],
          "histogram2d": [
           {
            "colorbar": {
             "outlinewidth": 0,
             "ticks": ""
            },
            "colorscale": [
             [
              0,
              "#0d0887"
             ],
             [
              0.1111111111111111,
              "#46039f"
             ],
             [
              0.2222222222222222,
              "#7201a8"
             ],
             [
              0.3333333333333333,
              "#9c179e"
             ],
             [
              0.4444444444444444,
              "#bd3786"
             ],
             [
              0.5555555555555556,
              "#d8576b"
             ],
             [
              0.6666666666666666,
              "#ed7953"
             ],
             [
              0.7777777777777778,
              "#fb9f3a"
             ],
             [
              0.8888888888888888,
              "#fdca26"
             ],
             [
              1,
              "#f0f921"
             ]
            ],
            "type": "histogram2d"
           }
          ],
          "histogram2dcontour": [
           {
            "colorbar": {
             "outlinewidth": 0,
             "ticks": ""
            },
            "colorscale": [
             [
              0,
              "#0d0887"
             ],
             [
              0.1111111111111111,
              "#46039f"
             ],
             [
              0.2222222222222222,
              "#7201a8"
             ],
             [
              0.3333333333333333,
              "#9c179e"
             ],
             [
              0.4444444444444444,
              "#bd3786"
             ],
             [
              0.5555555555555556,
              "#d8576b"
             ],
             [
              0.6666666666666666,
              "#ed7953"
             ],
             [
              0.7777777777777778,
              "#fb9f3a"
             ],
             [
              0.8888888888888888,
              "#fdca26"
             ],
             [
              1,
              "#f0f921"
             ]
            ],
            "type": "histogram2dcontour"
           }
          ],
          "mesh3d": [
           {
            "colorbar": {
             "outlinewidth": 0,
             "ticks": ""
            },
            "type": "mesh3d"
           }
          ],
          "parcoords": [
           {
            "line": {
             "colorbar": {
              "outlinewidth": 0,
              "ticks": ""
             }
            },
            "type": "parcoords"
           }
          ],
          "pie": [
           {
            "automargin": true,
            "type": "pie"
           }
          ],
          "scatter": [
           {
            "fillpattern": {
             "fillmode": "overlay",
             "size": 10,
             "solidity": 0.2
            },
            "type": "scatter"
           }
          ],
          "scatter3d": [
           {
            "line": {
             "colorbar": {
              "outlinewidth": 0,
              "ticks": ""
             }
            },
            "marker": {
             "colorbar": {
              "outlinewidth": 0,
              "ticks": ""
             }
            },
            "type": "scatter3d"
           }
          ],
          "scattercarpet": [
           {
            "marker": {
             "colorbar": {
              "outlinewidth": 0,
              "ticks": ""
             }
            },
            "type": "scattercarpet"
           }
          ],
          "scattergeo": [
           {
            "marker": {
             "colorbar": {
              "outlinewidth": 0,
              "ticks": ""
             }
            },
            "type": "scattergeo"
           }
          ],
          "scattergl": [
           {
            "marker": {
             "colorbar": {
              "outlinewidth": 0,
              "ticks": ""
             }
            },
            "type": "scattergl"
           }
          ],
          "scattermapbox": [
           {
            "marker": {
             "colorbar": {
              "outlinewidth": 0,
              "ticks": ""
             }
            },
            "type": "scattermapbox"
           }
          ],
          "scatterpolar": [
           {
            "marker": {
             "colorbar": {
              "outlinewidth": 0,
              "ticks": ""
             }
            },
            "type": "scatterpolar"
           }
          ],
          "scatterpolargl": [
           {
            "marker": {
             "colorbar": {
              "outlinewidth": 0,
              "ticks": ""
             }
            },
            "type": "scatterpolargl"
           }
          ],
          "scatterternary": [
           {
            "marker": {
             "colorbar": {
              "outlinewidth": 0,
              "ticks": ""
             }
            },
            "type": "scatterternary"
           }
          ],
          "surface": [
           {
            "colorbar": {
             "outlinewidth": 0,
             "ticks": ""
            },
            "colorscale": [
             [
              0,
              "#0d0887"
             ],
             [
              0.1111111111111111,
              "#46039f"
             ],
             [
              0.2222222222222222,
              "#7201a8"
             ],
             [
              0.3333333333333333,
              "#9c179e"
             ],
             [
              0.4444444444444444,
              "#bd3786"
             ],
             [
              0.5555555555555556,
              "#d8576b"
             ],
             [
              0.6666666666666666,
              "#ed7953"
             ],
             [
              0.7777777777777778,
              "#fb9f3a"
             ],
             [
              0.8888888888888888,
              "#fdca26"
             ],
             [
              1,
              "#f0f921"
             ]
            ],
            "type": "surface"
           }
          ],
          "table": [
           {
            "cells": {
             "fill": {
              "color": "#EBF0F8"
             },
             "line": {
              "color": "white"
             }
            },
            "header": {
             "fill": {
              "color": "#C8D4E3"
             },
             "line": {
              "color": "white"
             }
            },
            "type": "table"
           }
          ]
         },
         "layout": {
          "annotationdefaults": {
           "arrowcolor": "#2a3f5f",
           "arrowhead": 0,
           "arrowwidth": 1
          },
          "autotypenumbers": "strict",
          "coloraxis": {
           "colorbar": {
            "outlinewidth": 0,
            "ticks": ""
           }
          },
          "colorscale": {
           "diverging": [
            [
             0,
             "#8e0152"
            ],
            [
             0.1,
             "#c51b7d"
            ],
            [
             0.2,
             "#de77ae"
            ],
            [
             0.3,
             "#f1b6da"
            ],
            [
             0.4,
             "#fde0ef"
            ],
            [
             0.5,
             "#f7f7f7"
            ],
            [
             0.6,
             "#e6f5d0"
            ],
            [
             0.7,
             "#b8e186"
            ],
            [
             0.8,
             "#7fbc41"
            ],
            [
             0.9,
             "#4d9221"
            ],
            [
             1,
             "#276419"
            ]
           ],
           "sequential": [
            [
             0,
             "#0d0887"
            ],
            [
             0.1111111111111111,
             "#46039f"
            ],
            [
             0.2222222222222222,
             "#7201a8"
            ],
            [
             0.3333333333333333,
             "#9c179e"
            ],
            [
             0.4444444444444444,
             "#bd3786"
            ],
            [
             0.5555555555555556,
             "#d8576b"
            ],
            [
             0.6666666666666666,
             "#ed7953"
            ],
            [
             0.7777777777777778,
             "#fb9f3a"
            ],
            [
             0.8888888888888888,
             "#fdca26"
            ],
            [
             1,
             "#f0f921"
            ]
           ],
           "sequentialminus": [
            [
             0,
             "#0d0887"
            ],
            [
             0.1111111111111111,
             "#46039f"
            ],
            [
             0.2222222222222222,
             "#7201a8"
            ],
            [
             0.3333333333333333,
             "#9c179e"
            ],
            [
             0.4444444444444444,
             "#bd3786"
            ],
            [
             0.5555555555555556,
             "#d8576b"
            ],
            [
             0.6666666666666666,
             "#ed7953"
            ],
            [
             0.7777777777777778,
             "#fb9f3a"
            ],
            [
             0.8888888888888888,
             "#fdca26"
            ],
            [
             1,
             "#f0f921"
            ]
           ]
          },
          "colorway": [
           "#636efa",
           "#EF553B",
           "#00cc96",
           "#ab63fa",
           "#FFA15A",
           "#19d3f3",
           "#FF6692",
           "#B6E880",
           "#FF97FF",
           "#FECB52"
          ],
          "font": {
           "color": "#2a3f5f"
          },
          "geo": {
           "bgcolor": "white",
           "lakecolor": "white",
           "landcolor": "#E5ECF6",
           "showlakes": true,
           "showland": true,
           "subunitcolor": "white"
          },
          "hoverlabel": {
           "align": "left"
          },
          "hovermode": "closest",
          "mapbox": {
           "style": "light"
          },
          "paper_bgcolor": "white",
          "plot_bgcolor": "#E5ECF6",
          "polar": {
           "angularaxis": {
            "gridcolor": "white",
            "linecolor": "white",
            "ticks": ""
           },
           "bgcolor": "#E5ECF6",
           "radialaxis": {
            "gridcolor": "white",
            "linecolor": "white",
            "ticks": ""
           }
          },
          "scene": {
           "xaxis": {
            "backgroundcolor": "#E5ECF6",
            "gridcolor": "white",
            "gridwidth": 2,
            "linecolor": "white",
            "showbackground": true,
            "ticks": "",
            "zerolinecolor": "white"
           },
           "yaxis": {
            "backgroundcolor": "#E5ECF6",
            "gridcolor": "white",
            "gridwidth": 2,
            "linecolor": "white",
            "showbackground": true,
            "ticks": "",
            "zerolinecolor": "white"
           },
           "zaxis": {
            "backgroundcolor": "#E5ECF6",
            "gridcolor": "white",
            "gridwidth": 2,
            "linecolor": "white",
            "showbackground": true,
            "ticks": "",
            "zerolinecolor": "white"
           }
          },
          "shapedefaults": {
           "line": {
            "color": "#2a3f5f"
           }
          },
          "ternary": {
           "aaxis": {
            "gridcolor": "white",
            "linecolor": "white",
            "ticks": ""
           },
           "baxis": {
            "gridcolor": "white",
            "linecolor": "white",
            "ticks": ""
           },
           "bgcolor": "#E5ECF6",
           "caxis": {
            "gridcolor": "white",
            "linecolor": "white",
            "ticks": ""
           }
          },
          "title": {
           "x": 0.05
          },
          "xaxis": {
           "automargin": true,
           "gridcolor": "white",
           "linecolor": "white",
           "ticks": "",
           "title": {
            "standoff": 15
           },
           "zerolinecolor": "white",
           "zerolinewidth": 2
          },
          "yaxis": {
           "automargin": true,
           "gridcolor": "white",
           "linecolor": "white",
           "ticks": "",
           "title": {
            "standoff": 15
           },
           "zerolinecolor": "white",
           "zerolinewidth": 2
          }
         }
        },
        "xaxis": {
         "anchor": "y",
         "autorange": true,
         "domain": [
          0,
          1
         ],
         "range": [
          "2010-11-17",
          "2011-12-15"
         ],
         "tickvals": [
          "2010-12-01T00:00:00",
          "2011-01-01T00:00:00",
          "2011-02-01T00:00:00",
          "2011-03-01T00:00:00",
          "2011-04-01T00:00:00",
          "2011-05-01T00:00:00",
          "2011-06-01T00:00:00",
          "2011-07-01T00:00:00",
          "2011-08-01T00:00:00",
          "2011-09-01T00:00:00",
          "2011-10-01T00:00:00",
          "2011-11-01T00:00:00",
          "2011-12-01T00:00:00"
         ],
         "title": {
          "text": "invoice_month"
         },
         "type": "date"
        },
        "yaxis": {
         "anchor": "x",
         "autorange": true,
         "domain": [
          0,
          1
         ],
         "range": [
          0,
          1538690.7894736843
         ],
         "title": {
          "text": "sum"
         },
         "type": "linear"
        }
       }
      },
      "image/png": "[encoded data removed]",
      "text/html": [
       "<div>                            <div id=\"522ebfbb-a4bc-4a19-8d81-479a6fe7e9c4\" class=\"plotly-graph-div\" style=\"height:525px; width:100%;\"></div>            <script type=\"text/javascript\">                require([\"plotly\"], function(Plotly) {                    window.PLOTLYENV=window.PLOTLYENV || {};                                    if (document.getElementById(\"522ebfbb-a4bc-4a19-8d81-479a6fe7e9c4\")) {                    Plotly.newPlot(                        \"522ebfbb-a4bc-4a19-8d81-479a6fe7e9c4\",                        [{\"alignmentgroup\":\"True\",\"hovertemplate\":\"invoice_month=%{x}<br>sum=%{y}<br>count=%{marker.color}<extra></extra>\",\"legendgroup\":\"\",\"marker\":{\"color\":[42481,35147,27707,36748,29916,37030,36874,39518,35284,50226,60742,84711,25525],\"coloraxis\":\"coloraxis\",\"pattern\":{\"shape\":\"\"}},\"name\":\"\",\"offsetgroup\":\"\",\"orientation\":\"v\",\"showlegend\":false,\"textposition\":\"auto\",\"x\":[\"2010-12-01T00:00:00\",\"2011-01-01T00:00:00\",\"2011-02-01T00:00:00\",\"2011-03-01T00:00:00\",\"2011-04-01T00:00:00\",\"2011-05-01T00:00:00\",\"2011-06-01T00:00:00\",\"2011-07-01T00:00:00\",\"2011-08-01T00:00:00\",\"2011-09-01T00:00:00\",\"2011-10-01T00:00:00\",\"2011-11-01T00:00:00\",\"2011-12-01T00:00:00\"],\"xaxis\":\"x\",\"y\":[748957.02,560000.26,498062.65,683267.08,493207.121,723333.51,691123.12,681300.111,682680.51,1019687.622,1070704.67,1461756.25,433668.01],\"yaxis\":\"y\",\"type\":\"bar\"}],                        {\"template\":{\"data\":{\"histogram2dcontour\":[{\"type\":\"histogram2dcontour\",\"colorbar\":{\"outlinewidth\":0,\"ticks\":\"\"},\"colorscale\":[[0.0,\"#0d0887\"],[0.1111111111111111,\"#46039f\"],[0.2222222222222222,\"#7201a8\"],[0.3333333333333333,\"#9c179e\"],[0.4444444444444444,\"#bd3786\"],[0.5555555555555556,\"#d8576b\"],[0.6666666666666666,\"#ed7953\"],[0.7777777777777778,\"#fb9f3a\"],[0.8888888888888888,\"#fdca26\"],[1.0,\"#f0f921\"]]}],\"choropleth\":[{\"type\":\"choropleth\",\"colorbar\":{\"outlinewidth\":0,\"ticks\":\"\"}}],\"histogram2d\":[{\"type\":\"histogram2d\",\"colorbar\":{\"outlinewidth\":0,\"ticks\":\"\"},\"colorscale\":[[0.0,\"#0d0887\"],[0.1111111111111111,\"#46039f\"],[0.2222222222222222,\"#7201a8\"],[0.3333333333333333,\"#9c179e\"],[0.4444444444444444,\"#bd3786\"],[0.5555555555555556,\"#d8576b\"],[0.6666666666666666,\"#ed7953\"],[0.7777777777777778,\"#fb9f3a\"],[0.8888888888888888,\"#fdca26\"],[1.0,\"#f0f921\"]]}],\"heatmap\":[{\"type\":\"heatmap\",\"colorbar\":{\"outlinewidth\":0,\"ticks\":\"\"},\"colorscale\":[[0.0,\"#0d0887\"],[0.1111111111111111,\"#46039f\"],[0.2222222222222222,\"#7201a8\"],[0.3333333333333333,\"#9c179e\"],[0.4444444444444444,\"#bd3786\"],[0.5555555555555556,\"#d8576b\"],[0.6666666666666666,\"#ed7953\"],[0.7777777777777778,\"#fb9f3a\"],[0.8888888888888888,\"#fdca26\"],[1.0,\"#f0f921\"]]}],\"heatmapgl\":[{\"type\":\"heatmapgl\",\"colorbar\":{\"outlinewidth\":0,\"ticks\":\"\"},\"colorscale\":[[0.0,\"#0d0887\"],[0.1111111111111111,\"#46039f\"],[0.2222222222222222,\"#7201a8\"],[0.3333333333333333,\"#9c179e\"],[0.4444444444444444,\"#bd3786\"],[0.5555555555555556,\"#d8576b\"],[0.6666666666666666,\"#ed7953\"],[0.7777777777777778,\"#fb9f3a\"],[0.8888888888888888,\"#fdca26\"],[1.0,\"#f0f921\"]]}],\"contourcarpet\":[{\"type\":\"contourcarpet\",\"colorbar\":{\"outlinewidth\":0,\"ticks\":\"\"}}],\"contour\":[{\"type\":\"contour\",\"colorbar\":{\"outlinewidth\":0,\"ticks\":\"\"},\"colorscale\":[[0.0,\"#0d0887\"],[0.1111111111111111,\"#46039f\"],[0.2222222222222222,\"#7201a8\"],[0.3333333333333333,\"#9c179e\"],[0.4444444444444444,\"#bd3786\"],[0.5555555555555556,\"#d8576b\"],[0.6666666666666666,\"#ed7953\"],[0.7777777777777778,\"#fb9f3a\"],[0.8888888888888888,\"#fdca26\"],[1.0,\"#f0f921\"]]}],\"surface\":[{\"type\":\"surface\",\"colorbar\":{\"outlinewidth\":0,\"ticks\":\"\"},\"colorscale\":[[0.0,\"#0d0887\"],[0.1111111111111111,\"#46039f\"],[0.2222222222222222,\"#7201a8\"],[0.3333333333333333,\"#9c179e\"],[0.4444444444444444,\"#bd3786\"],[0.5555555555555556,\"#d8576b\"],[0.6666666666666666,\"#ed7953\"],[0.7777777777777778,\"#fb9f3a\"],[0.8888888888888888,\"#fdca26\"],[1.0,\"#f0f921\"]]}],\"mesh3d\":[{\"type\":\"mesh3d\",\"colorbar\":{\"outlinewidth\":0,\"ticks\":\"\"}}],\"scatter\":[{\"fillpattern\":{\"fillmode\":\"overlay\",\"size\":10,\"solidity\":0.2},\"type\":\"scatter\"}],\"parcoords\":[{\"type\":\"parcoords\",\"line\":{\"colorbar\":{\"outlinewidth\":0,\"ticks\":\"\"}}}],\"scatterpolargl\":[{\"type\":\"scatterpolargl\",\"marker\":{\"colorbar\":{\"outlinewidth\":0,\"ticks\":\"\"}}}],\"bar\":[{\"error_x\":{\"color\":\"#2a3f5f\"},\"error_y\":{\"color\":\"#2a3f5f\"},\"marker\":{\"line\":{\"color\":\"#E5ECF6\",\"width\":0.5},\"pattern\":{\"fillmode\":\"overlay\",\"size\":10,\"solidity\":0.2}},\"type\":\"bar\"}],\"scattergeo\":[{\"type\":\"scattergeo\",\"marker\":{\"colorbar\":{\"outlinewidth\":0,\"ticks\":\"\"}}}],\"scatterpolar\":[{\"type\":\"scatterpolar\",\"marker\":{\"colorbar\":{\"outlinewidth\":0,\"ticks\":\"\"}}}],\"histogram\":[{\"marker\":{\"pattern\":{\"fillmode\":\"overlay\",\"size\":10,\"solidity\":0.2}},\"type\":\"histogram\"}],\"scattergl\":[{\"type\":\"scattergl\",\"marker\":{\"colorbar\":{\"outlinewidth\":0,\"ticks\":\"\"}}}],\"scatter3d\":[{\"type\":\"scatter3d\",\"line\":{\"colorbar\":{\"outlinewidth\":0,\"ticks\":\"\"}},\"marker\":{\"colorbar\":{\"outlinewidth\":0,\"ticks\":\"\"}}}],\"scattermapbox\":[{\"type\":\"scattermapbox\",\"marker\":{\"colorbar\":{\"outlinewidth\":0,\"ticks\":\"\"}}}],\"scatterternary\":[{\"type\":\"scatterternary\",\"marker\":{\"colorbar\":{\"outlinewidth\":0,\"ticks\":\"\"}}}],\"scattercarpet\":[{\"type\":\"scattercarpet\",\"marker\":{\"colorbar\":{\"outlinewidth\":0,\"ticks\":\"\"}}}],\"carpet\":[{\"aaxis\":{\"endlinecolor\":\"#2a3f5f\",\"gridcolor\":\"white\",\"linecolor\":\"white\",\"minorgridcolor\":\"white\",\"startlinecolor\":\"#2a3f5f\"},\"baxis\":{\"endlinecolor\":\"#2a3f5f\",\"gridcolor\":\"white\",\"linecolor\":\"white\",\"minorgridcolor\":\"white\",\"startlinecolor\":\"#2a3f5f\"},\"type\":\"carpet\"}],\"table\":[{\"cells\":{\"fill\":{\"color\":\"#EBF0F8\"},\"line\":{\"color\":\"white\"}},\"header\":{\"fill\":{\"color\":\"#C8D4E3\"},\"line\":{\"color\":\"white\"}},\"type\":\"table\"}],\"barpolar\":[{\"marker\":{\"line\":{\"color\":\"#E5ECF6\",\"width\":0.5},\"pattern\":{\"fillmode\":\"overlay\",\"size\":10,\"solidity\":0.2}},\"type\":\"barpolar\"}],\"pie\":[{\"automargin\":true,\"type\":\"pie\"}]},\"layout\":{\"autotypenumbers\":\"strict\",\"colorway\":[\"#636efa\",\"#EF553B\",\"#00cc96\",\"#ab63fa\",\"#FFA15A\",\"#19d3f3\",\"#FF6692\",\"#B6E880\",\"#FF97FF\",\"#FECB52\"],\"font\":{\"color\":\"#2a3f5f\"},\"hovermode\":\"closest\",\"hoverlabel\":{\"align\":\"left\"},\"paper_bgcolor\":\"white\",\"plot_bgcolor\":\"#E5ECF6\",\"polar\":{\"bgcolor\":\"#E5ECF6\",\"angularaxis\":{\"gridcolor\":\"white\",\"linecolor\":\"white\",\"ticks\":\"\"},\"radialaxis\":{\"gridcolor\":\"white\",\"linecolor\":\"white\",\"ticks\":\"\"}},\"ternary\":{\"bgcolor\":\"#E5ECF6\",\"aaxis\":{\"gridcolor\":\"white\",\"linecolor\":\"white\",\"ticks\":\"\"},\"baxis\":{\"gridcolor\":\"white\",\"linecolor\":\"white\",\"ticks\":\"\"},\"caxis\":{\"gridcolor\":\"white\",\"linecolor\":\"white\",\"ticks\":\"\"}},\"coloraxis\":{\"colorbar\":{\"outlinewidth\":0,\"ticks\":\"\"}},\"colorscale\":{\"sequential\":[[0.0,\"#0d0887\"],[0.1111111111111111,\"#46039f\"],[0.2222222222222222,\"#7201a8\"],[0.3333333333333333,\"#9c179e\"],[0.4444444444444444,\"#bd3786\"],[0.5555555555555556,\"#d8576b\"],[0.6666666666666666,\"#ed7953\"],[0.7777777777777778,\"#fb9f3a\"],[0.8888888888888888,\"#fdca26\"],[1.0,\"#f0f921\"]],\"sequentialminus\":[[0.0,\"#0d0887\"],[0.1111111111111111,\"#46039f\"],[0.2222222222222222,\"#7201a8\"],[0.3333333333333333,\"#9c179e\"],[0.4444444444444444,\"#bd3786\"],[0.5555555555555556,\"#d8576b\"],[0.6666666666666666,\"#ed7953\"],[0.7777777777777778,\"#fb9f3a\"],[0.8888888888888888,\"#fdca26\"],[1.0,\"#f0f921\"]],\"diverging\":[[0,\"#8e0152\"],[0.1,\"#c51b7d\"],[0.2,\"#de77ae\"],[0.3,\"#f1b6da\"],[0.4,\"#fde0ef\"],[0.5,\"#f7f7f7\"],[0.6,\"#e6f5d0\"],[0.7,\"#b8e186\"],[0.8,\"#7fbc41\"],[0.9,\"#4d9221\"],[1,\"#276419\"]]},\"xaxis\":{\"gridcolor\":\"white\",\"linecolor\":\"white\",\"ticks\":\"\",\"title\":{\"standoff\":15},\"zerolinecolor\":\"white\",\"automargin\":true,\"zerolinewidth\":2},\"yaxis\":{\"gridcolor\":\"white\",\"linecolor\":\"white\",\"ticks\":\"\",\"title\":{\"standoff\":15},\"zerolinecolor\":\"white\",\"automargin\":true,\"zerolinewidth\":2},\"scene\":{\"xaxis\":{\"backgroundcolor\":\"#E5ECF6\",\"gridcolor\":\"white\",\"linecolor\":\"white\",\"showbackground\":true,\"ticks\":\"\",\"zerolinecolor\":\"white\",\"gridwidth\":2},\"yaxis\":{\"backgroundcolor\":\"#E5ECF6\",\"gridcolor\":\"white\",\"linecolor\":\"white\",\"showbackground\":true,\"ticks\":\"\",\"zerolinecolor\":\"white\",\"gridwidth\":2},\"zaxis\":{\"backgroundcolor\":\"#E5ECF6\",\"gridcolor\":\"white\",\"linecolor\":\"white\",\"showbackground\":true,\"ticks\":\"\",\"zerolinecolor\":\"white\",\"gridwidth\":2}},\"shapedefaults\":{\"line\":{\"color\":\"#2a3f5f\"}},\"annotationdefaults\":{\"arrowcolor\":\"#2a3f5f\",\"arrowhead\":0,\"arrowwidth\":1},\"geo\":{\"bgcolor\":\"white\",\"landcolor\":\"#E5ECF6\",\"subunitcolor\":\"white\",\"showland\":true,\"showlakes\":true,\"lakecolor\":\"white\"},\"title\":{\"x\":0.05},\"mapbox\":{\"style\":\"light\"}}},\"xaxis\":{\"anchor\":\"y\",\"domain\":[0.0,1.0],\"title\":{\"text\":\"invoice_month\"},\"tickvals\":[\"2010-12-01T00:00:00\",\"2011-01-01T00:00:00\",\"2011-02-01T00:00:00\",\"2011-03-01T00:00:00\",\"2011-04-01T00:00:00\",\"2011-05-01T00:00:00\",\"2011-06-01T00:00:00\",\"2011-07-01T00:00:00\",\"2011-08-01T00:00:00\",\"2011-09-01T00:00:00\",\"2011-10-01T00:00:00\",\"2011-11-01T00:00:00\",\"2011-12-01T00:00:00\"]},\"yaxis\":{\"anchor\":\"x\",\"domain\":[0.0,1.0],\"title\":{\"text\":\"sum\"}},\"coloraxis\":{\"colorbar\":{\"title\":{\"text\":\"count\"}},\"colorscale\":[[0.0,\"#0d0887\"],[0.1111111111111111,\"#46039f\"],[0.2222222222222222,\"#7201a8\"],[0.3333333333333333,\"#9c179e\"],[0.4444444444444444,\"#bd3786\"],[0.5555555555555556,\"#d8576b\"],[0.6666666666666666,\"#ed7953\"],[0.7777777777777778,\"#fb9f3a\"],[0.8888888888888888,\"#fdca26\"],[1.0,\"#f0f921\"]]},\"legend\":{\"tracegroupgap\":0},\"margin\":{\"t\":60},\"barmode\":\"relative\"},                        {\"responsive\": true}                    ).then(function(){\n",
       "                            \n",
       "var gd = document.getElementById('522ebfbb-a4bc-4a19-8d81-479a6fe7e9c4');\n",
       "var x = new MutationObserver(function (mutations, observer) {{\n",
       "        var display = window.getComputedStyle(gd).display;\n",
       "        if (!display || display === 'none') {{\n",
       "            console.log([gd, 'removed!']);\n",
       "            Plotly.purge(gd);\n",
       "            observer.disconnect();\n",
       "        }}\n",
       "}});\n",
       "\n",
       "// Listen for the removal of the full notebook cells\n",
       "var notebookContainer = gd.closest('#notebook-container');\n",
       "if (notebookContainer) {{\n",
       "    x.observe(notebookContainer, {childList: true});\n",
       "}}\n",
       "\n",
       "// Listen for the clearing of the current output cell\n",
       "var outputEl = gd.closest('.output');\n",
       "if (outputEl) {{\n",
       "    x.observe(outputEl, {childList: true});\n",
       "}}\n",
       "\n",
       "                        })                };                });            </script>        </div>"
      ]
     },
     "metadata": {},
     "output_type": "display_data"
    }
   ],
   "source": [
    "#mine graph revenue with plotly\n",
    "fig = px.bar(t, x='invoice_month', y='sum', color='count')\n",
    "fig.layout.xaxis.tickvals = t.invoice_month\n",
    "fig.show()"
   ]
  },
  {
   "cell_type": "markdown",
   "id": "7d6dc96d-4859-44d4-9114-b5a3f7a2eb3f",
   "metadata": {},
   "source": [
    "### Checking the data"
   ]
  },
  {
   "cell_type": "code",
   "execution_count": 621,
   "id": "d510260c-c3bb-4948-b7fa-3b670a94de54",
   "metadata": {},
   "outputs": [
    {
     "data": {
      "text/plain": [
       "9747747.933999998"
      ]
     },
     "execution_count": 621,
     "metadata": {},
     "output_type": "execute_result"
    }
   ],
   "source": [
    "df['revenue'].sum()"
   ]
  },
  {
   "cell_type": "code",
   "execution_count": 622,
   "id": "eb74aef6-3d17-44be-96f5-6e04aa40158e",
   "metadata": {},
   "outputs": [
    {
     "data": {
      "text/plain": [
       "9747747.933999998"
      ]
     },
     "execution_count": 622,
     "metadata": {},
     "output_type": "execute_result"
    }
   ],
   "source": [
    "t['sum'].sum()"
   ]
  },
  {
   "cell_type": "markdown",
   "id": "ec970c17-f542-447e-a769-91a4673e5fdf",
   "metadata": {},
   "source": [
    "### Create an analytical test table"
   ]
  },
  {
   "cell_type": "code",
   "execution_count": 623,
   "id": "29b2f216-73b9-45c0-bfac-9583bf80d67f",
   "metadata": {},
   "outputs": [],
   "source": [
    "min_dt = df['invoice_month'].min()"
   ]
  },
  {
   "cell_type": "code",
   "execution_count": 624,
   "id": "6437ec2f-69f2-4233-a1bd-edf7bb844c10",
   "metadata": {},
   "outputs": [
    {
     "data": {
      "text/plain": [
       "Timestamp('2010-12-01 00:00:00')"
      ]
     },
     "execution_count": 624,
     "metadata": {},
     "output_type": "execute_result"
    }
   ],
   "source": [
    "min_dt"
   ]
  },
  {
   "cell_type": "code",
   "execution_count": 625,
   "id": "dcbe2b81-085a-49a2-a010-0137a6f5bbcc",
   "metadata": {},
   "outputs": [],
   "source": [
    "max_dt = df['invoice_month'].max()"
   ]
  },
  {
   "cell_type": "code",
   "execution_count": 626,
   "id": "ac0a13d3-e74a-461f-b230-c5930b4828c4",
   "metadata": {},
   "outputs": [
    {
     "data": {
      "text/plain": [
       "Timestamp('2011-12-01 00:00:00')"
      ]
     },
     "execution_count": 626,
     "metadata": {},
     "output_type": "execute_result"
    }
   ],
   "source": [
    "max_dt"
   ]
  },
  {
   "cell_type": "code",
   "execution_count": 628,
   "id": "4c4c0866-7d35-4318-bf69-b22083eb2ec9",
   "metadata": {},
   "outputs": [
    {
     "data": {
      "text/plain": [
       "DatetimeIndex(['2010-12-01', '2011-01-01', '2011-02-01', '2011-03-01',\n",
       "               '2011-04-01', '2011-05-01', '2011-06-01', '2011-07-01',\n",
       "               '2011-08-01', '2011-09-01', '2011-10-01', '2011-11-01',\n",
       "               '2011-12-01', '2012-01-01'],\n",
       "              dtype='datetime64[ns]', freq='MS')"
      ]
     },
     "execution_count": 628,
     "metadata": {},
     "output_type": "execute_result"
    }
   ],
   "source": [
    "pd.date_range(min_dt, max_dt + pd.DateOffset(months=1), freq = 'MS') #specially added 1 month at the end"
   ]
  },
  {
   "cell_type": "code",
   "execution_count": 629,
   "id": "1edda011-ca4e-4f90-ad08-c21ee37ea9cf",
   "metadata": {},
   "outputs": [],
   "source": [
    "# делаем рендж чтобы быть уверенным что есть все даты"
   ]
  },
  {
   "cell_type": "code",
   "execution_count": 630,
   "id": "a19d903a-b35c-499b-aa56-d39b49e43071",
   "metadata": {},
   "outputs": [],
   "source": [
    "dt = pd.DataFrame(pd.date_range(min_dt, max_dt + pd.DateOffset(months=1), freq = 'MS'), \\\n",
    "                  columns=['months']) #specially added 1 month at the end"
   ]
  },
  {
   "cell_type": "code",
   "execution_count": 631,
   "id": "f169cf6b-452d-4449-8587-5f0f47f216b0",
   "metadata": {},
   "outputs": [
    {
     "data": {
      "text/html": [
       "<div>\n",
       "<style scoped>\n",
       "    .dataframe tbody tr th:only-of-type {\n",
       "        vertical-align: middle;\n",
       "    }\n",
       "\n",
       "    .dataframe tbody tr th {\n",
       "        vertical-align: top;\n",
       "    }\n",
       "\n",
       "    .dataframe thead th {\n",
       "        text-align: right;\n",
       "    }\n",
       "</style>\n",
       "<table border=\"1\" class=\"dataframe\">\n",
       "  <thead>\n",
       "    <tr style=\"text-align: right;\">\n",
       "      <th></th>\n",
       "      <th>months</th>\n",
       "    </tr>\n",
       "  </thead>\n",
       "  <tbody>\n",
       "    <tr>\n",
       "      <th>0</th>\n",
       "      <td>2010-12-01</td>\n",
       "    </tr>\n",
       "    <tr>\n",
       "      <th>1</th>\n",
       "      <td>2011-01-01</td>\n",
       "    </tr>\n",
       "    <tr>\n",
       "      <th>2</th>\n",
       "      <td>2011-02-01</td>\n",
       "    </tr>\n",
       "    <tr>\n",
       "      <th>3</th>\n",
       "      <td>2011-03-01</td>\n",
       "    </tr>\n",
       "    <tr>\n",
       "      <th>4</th>\n",
       "      <td>2011-04-01</td>\n",
       "    </tr>\n",
       "    <tr>\n",
       "      <th>5</th>\n",
       "      <td>2011-05-01</td>\n",
       "    </tr>\n",
       "    <tr>\n",
       "      <th>6</th>\n",
       "      <td>2011-06-01</td>\n",
       "    </tr>\n",
       "    <tr>\n",
       "      <th>7</th>\n",
       "      <td>2011-07-01</td>\n",
       "    </tr>\n",
       "    <tr>\n",
       "      <th>8</th>\n",
       "      <td>2011-08-01</td>\n",
       "    </tr>\n",
       "    <tr>\n",
       "      <th>9</th>\n",
       "      <td>2011-09-01</td>\n",
       "    </tr>\n",
       "    <tr>\n",
       "      <th>10</th>\n",
       "      <td>2011-10-01</td>\n",
       "    </tr>\n",
       "    <tr>\n",
       "      <th>11</th>\n",
       "      <td>2011-11-01</td>\n",
       "    </tr>\n",
       "    <tr>\n",
       "      <th>12</th>\n",
       "      <td>2011-12-01</td>\n",
       "    </tr>\n",
       "    <tr>\n",
       "      <th>13</th>\n",
       "      <td>2012-01-01</td>\n",
       "    </tr>\n",
       "  </tbody>\n",
       "</table>\n",
       "</div>"
      ],
      "text/plain": [
       "       months\n",
       "0  2010-12-01\n",
       "1  2011-01-01\n",
       "2  2011-02-01\n",
       "3  2011-03-01\n",
       "4  2011-04-01\n",
       "5  2011-05-01\n",
       "6  2011-06-01\n",
       "7  2011-07-01\n",
       "8  2011-08-01\n",
       "9  2011-09-01\n",
       "10 2011-10-01\n",
       "11 2011-11-01\n",
       "12 2011-12-01\n",
       "13 2012-01-01"
      ]
     },
     "execution_count": 631,
     "metadata": {},
     "output_type": "execute_result"
    }
   ],
   "source": [
    "dt"
   ]
  },
  {
   "cell_type": "code",
   "execution_count": 632,
   "id": "4a23f9e9-6f59-412d-a579-821a3a831225",
   "metadata": {},
   "outputs": [],
   "source": [
    "dt.columns = ['month']"
   ]
  },
  {
   "cell_type": "code",
   "execution_count": 633,
   "id": "a713c257-b98d-4cec-8fe9-c825386fe44a",
   "metadata": {},
   "outputs": [
    {
     "data": {
      "text/html": [
       "<div>\n",
       "<style scoped>\n",
       "    .dataframe tbody tr th:only-of-type {\n",
       "        vertical-align: middle;\n",
       "    }\n",
       "\n",
       "    .dataframe tbody tr th {\n",
       "        vertical-align: top;\n",
       "    }\n",
       "\n",
       "    .dataframe thead th {\n",
       "        text-align: right;\n",
       "    }\n",
       "</style>\n",
       "<table border=\"1\" class=\"dataframe\">\n",
       "  <thead>\n",
       "    <tr style=\"text-align: right;\">\n",
       "      <th></th>\n",
       "      <th>month</th>\n",
       "    </tr>\n",
       "  </thead>\n",
       "  <tbody>\n",
       "    <tr>\n",
       "      <th>0</th>\n",
       "      <td>2010-12-01</td>\n",
       "    </tr>\n",
       "    <tr>\n",
       "      <th>1</th>\n",
       "      <td>2011-01-01</td>\n",
       "    </tr>\n",
       "    <tr>\n",
       "      <th>2</th>\n",
       "      <td>2011-02-01</td>\n",
       "    </tr>\n",
       "    <tr>\n",
       "      <th>3</th>\n",
       "      <td>2011-03-01</td>\n",
       "    </tr>\n",
       "    <tr>\n",
       "      <th>4</th>\n",
       "      <td>2011-04-01</td>\n",
       "    </tr>\n",
       "    <tr>\n",
       "      <th>5</th>\n",
       "      <td>2011-05-01</td>\n",
       "    </tr>\n",
       "    <tr>\n",
       "      <th>6</th>\n",
       "      <td>2011-06-01</td>\n",
       "    </tr>\n",
       "    <tr>\n",
       "      <th>7</th>\n",
       "      <td>2011-07-01</td>\n",
       "    </tr>\n",
       "    <tr>\n",
       "      <th>8</th>\n",
       "      <td>2011-08-01</td>\n",
       "    </tr>\n",
       "    <tr>\n",
       "      <th>9</th>\n",
       "      <td>2011-09-01</td>\n",
       "    </tr>\n",
       "    <tr>\n",
       "      <th>10</th>\n",
       "      <td>2011-10-01</td>\n",
       "    </tr>\n",
       "    <tr>\n",
       "      <th>11</th>\n",
       "      <td>2011-11-01</td>\n",
       "    </tr>\n",
       "    <tr>\n",
       "      <th>12</th>\n",
       "      <td>2011-12-01</td>\n",
       "    </tr>\n",
       "    <tr>\n",
       "      <th>13</th>\n",
       "      <td>2012-01-01</td>\n",
       "    </tr>\n",
       "  </tbody>\n",
       "</table>\n",
       "</div>"
      ],
      "text/plain": [
       "        month\n",
       "0  2010-12-01\n",
       "1  2011-01-01\n",
       "2  2011-02-01\n",
       "3  2011-03-01\n",
       "4  2011-04-01\n",
       "5  2011-05-01\n",
       "6  2011-06-01\n",
       "7  2011-07-01\n",
       "8  2011-08-01\n",
       "9  2011-09-01\n",
       "10 2011-10-01\n",
       "11 2011-11-01\n",
       "12 2011-12-01\n",
       "13 2012-01-01"
      ]
     },
     "execution_count": 633,
     "metadata": {},
     "output_type": "execute_result"
    }
   ],
   "source": [
    "dt"
   ]
  },
  {
   "cell_type": "code",
   "execution_count": 634,
   "id": "3b1edf93-d870-494a-ba85-7cb182bbc592",
   "metadata": {},
   "outputs": [
    {
     "data": {
      "text/html": [
       "<div>\n",
       "<style scoped>\n",
       "    .dataframe tbody tr th:only-of-type {\n",
       "        vertical-align: middle;\n",
       "    }\n",
       "\n",
       "    .dataframe tbody tr th {\n",
       "        vertical-align: top;\n",
       "    }\n",
       "\n",
       "    .dataframe thead th {\n",
       "        text-align: right;\n",
       "    }\n",
       "</style>\n",
       "<table border=\"1\" class=\"dataframe\">\n",
       "  <thead>\n",
       "    <tr style=\"text-align: right;\">\n",
       "      <th></th>\n",
       "      <th>invoice_month</th>\n",
       "      <th>count</th>\n",
       "      <th>sum</th>\n",
       "    </tr>\n",
       "  </thead>\n",
       "  <tbody>\n",
       "    <tr>\n",
       "      <th>0</th>\n",
       "      <td>2010-12-01</td>\n",
       "      <td>42481</td>\n",
       "      <td>748957.020</td>\n",
       "    </tr>\n",
       "    <tr>\n",
       "      <th>1</th>\n",
       "      <td>2011-01-01</td>\n",
       "      <td>35147</td>\n",
       "      <td>560000.260</td>\n",
       "    </tr>\n",
       "    <tr>\n",
       "      <th>2</th>\n",
       "      <td>2011-02-01</td>\n",
       "      <td>27707</td>\n",
       "      <td>498062.650</td>\n",
       "    </tr>\n",
       "    <tr>\n",
       "      <th>3</th>\n",
       "      <td>2011-03-01</td>\n",
       "      <td>36748</td>\n",
       "      <td>683267.080</td>\n",
       "    </tr>\n",
       "    <tr>\n",
       "      <th>4</th>\n",
       "      <td>2011-04-01</td>\n",
       "      <td>29916</td>\n",
       "      <td>493207.121</td>\n",
       "    </tr>\n",
       "    <tr>\n",
       "      <th>5</th>\n",
       "      <td>2011-05-01</td>\n",
       "      <td>37030</td>\n",
       "      <td>723333.510</td>\n",
       "    </tr>\n",
       "    <tr>\n",
       "      <th>6</th>\n",
       "      <td>2011-06-01</td>\n",
       "      <td>36874</td>\n",
       "      <td>691123.120</td>\n",
       "    </tr>\n",
       "    <tr>\n",
       "      <th>7</th>\n",
       "      <td>2011-07-01</td>\n",
       "      <td>39518</td>\n",
       "      <td>681300.111</td>\n",
       "    </tr>\n",
       "    <tr>\n",
       "      <th>8</th>\n",
       "      <td>2011-08-01</td>\n",
       "      <td>35284</td>\n",
       "      <td>682680.510</td>\n",
       "    </tr>\n",
       "    <tr>\n",
       "      <th>9</th>\n",
       "      <td>2011-09-01</td>\n",
       "      <td>50226</td>\n",
       "      <td>1019687.622</td>\n",
       "    </tr>\n",
       "    <tr>\n",
       "      <th>10</th>\n",
       "      <td>2011-10-01</td>\n",
       "      <td>60742</td>\n",
       "      <td>1070704.670</td>\n",
       "    </tr>\n",
       "    <tr>\n",
       "      <th>11</th>\n",
       "      <td>2011-11-01</td>\n",
       "      <td>84711</td>\n",
       "      <td>1461756.250</td>\n",
       "    </tr>\n",
       "    <tr>\n",
       "      <th>12</th>\n",
       "      <td>2011-12-01</td>\n",
       "      <td>25525</td>\n",
       "      <td>433668.010</td>\n",
       "    </tr>\n",
       "  </tbody>\n",
       "</table>\n",
       "</div>"
      ],
      "text/plain": [
       "   invoice_month  count          sum\n",
       "0     2010-12-01  42481   748957.020\n",
       "1     2011-01-01  35147   560000.260\n",
       "2     2011-02-01  27707   498062.650\n",
       "3     2011-03-01  36748   683267.080\n",
       "4     2011-04-01  29916   493207.121\n",
       "5     2011-05-01  37030   723333.510\n",
       "6     2011-06-01  36874   691123.120\n",
       "7     2011-07-01  39518   681300.111\n",
       "8     2011-08-01  35284   682680.510\n",
       "9     2011-09-01  50226  1019687.622\n",
       "10    2011-10-01  60742  1070704.670\n",
       "11    2011-11-01  84711  1461756.250\n",
       "12    2011-12-01  25525   433668.010"
      ]
     },
     "execution_count": 634,
     "metadata": {},
     "output_type": "execute_result"
    }
   ],
   "source": [
    "t"
   ]
  },
  {
   "cell_type": "code",
   "execution_count": 635,
   "id": "fbe828b7-2954-4685-ba4f-0a670e91ccbc",
   "metadata": {},
   "outputs": [
    {
     "data": {
      "text/html": [
       "<div>\n",
       "<style scoped>\n",
       "    .dataframe tbody tr th:only-of-type {\n",
       "        vertical-align: middle;\n",
       "    }\n",
       "\n",
       "    .dataframe tbody tr th {\n",
       "        vertical-align: top;\n",
       "    }\n",
       "\n",
       "    .dataframe thead th {\n",
       "        text-align: right;\n",
       "    }\n",
       "</style>\n",
       "<table border=\"1\" class=\"dataframe\">\n",
       "  <thead>\n",
       "    <tr style=\"text-align: right;\">\n",
       "      <th></th>\n",
       "      <th>invoice_month</th>\n",
       "      <th>count</th>\n",
       "      <th>sum</th>\n",
       "    </tr>\n",
       "  </thead>\n",
       "  <tbody>\n",
       "    <tr>\n",
       "      <th>0</th>\n",
       "      <td>2010-12-01</td>\n",
       "      <td>42481</td>\n",
       "      <td>748957.020</td>\n",
       "    </tr>\n",
       "    <tr>\n",
       "      <th>1</th>\n",
       "      <td>2011-01-01</td>\n",
       "      <td>35147</td>\n",
       "      <td>560000.260</td>\n",
       "    </tr>\n",
       "    <tr>\n",
       "      <th>2</th>\n",
       "      <td>2011-02-01</td>\n",
       "      <td>27707</td>\n",
       "      <td>498062.650</td>\n",
       "    </tr>\n",
       "    <tr>\n",
       "      <th>3</th>\n",
       "      <td>2011-03-01</td>\n",
       "      <td>36748</td>\n",
       "      <td>683267.080</td>\n",
       "    </tr>\n",
       "    <tr>\n",
       "      <th>4</th>\n",
       "      <td>2011-04-01</td>\n",
       "      <td>29916</td>\n",
       "      <td>493207.121</td>\n",
       "    </tr>\n",
       "    <tr>\n",
       "      <th>5</th>\n",
       "      <td>2011-05-01</td>\n",
       "      <td>37030</td>\n",
       "      <td>723333.510</td>\n",
       "    </tr>\n",
       "    <tr>\n",
       "      <th>6</th>\n",
       "      <td>2011-06-01</td>\n",
       "      <td>36874</td>\n",
       "      <td>691123.120</td>\n",
       "    </tr>\n",
       "    <tr>\n",
       "      <th>7</th>\n",
       "      <td>2011-07-01</td>\n",
       "      <td>39518</td>\n",
       "      <td>681300.111</td>\n",
       "    </tr>\n",
       "    <tr>\n",
       "      <th>8</th>\n",
       "      <td>2011-08-01</td>\n",
       "      <td>35284</td>\n",
       "      <td>682680.510</td>\n",
       "    </tr>\n",
       "    <tr>\n",
       "      <th>9</th>\n",
       "      <td>2011-09-01</td>\n",
       "      <td>50226</td>\n",
       "      <td>1019687.622</td>\n",
       "    </tr>\n",
       "    <tr>\n",
       "      <th>10</th>\n",
       "      <td>2011-10-01</td>\n",
       "      <td>60742</td>\n",
       "      <td>1070704.670</td>\n",
       "    </tr>\n",
       "    <tr>\n",
       "      <th>11</th>\n",
       "      <td>2011-11-01</td>\n",
       "      <td>84711</td>\n",
       "      <td>1461756.250</td>\n",
       "    </tr>\n",
       "    <tr>\n",
       "      <th>12</th>\n",
       "      <td>2011-12-01</td>\n",
       "      <td>25525</td>\n",
       "      <td>433668.010</td>\n",
       "    </tr>\n",
       "  </tbody>\n",
       "</table>\n",
       "</div>"
      ],
      "text/plain": [
       "   invoice_month  count          sum\n",
       "0     2010-12-01  42481   748957.020\n",
       "1     2011-01-01  35147   560000.260\n",
       "2     2011-02-01  27707   498062.650\n",
       "3     2011-03-01  36748   683267.080\n",
       "4     2011-04-01  29916   493207.121\n",
       "5     2011-05-01  37030   723333.510\n",
       "6     2011-06-01  36874   691123.120\n",
       "7     2011-07-01  39518   681300.111\n",
       "8     2011-08-01  35284   682680.510\n",
       "9     2011-09-01  50226  1019687.622\n",
       "10    2011-10-01  60742  1070704.670\n",
       "11    2011-11-01  84711  1461756.250\n",
       "12    2011-12-01  25525   433668.010"
      ]
     },
     "execution_count": 635,
     "metadata": {},
     "output_type": "execute_result"
    }
   ],
   "source": [
    "t"
   ]
  },
  {
   "cell_type": "code",
   "execution_count": 636,
   "id": "d52789eb-6e27-4061-abcc-76153057910b",
   "metadata": {},
   "outputs": [],
   "source": [
    "dt_analitics = dt.merge(t, how='left', left_on='month', right_on='invoice_month')"
   ]
  },
  {
   "cell_type": "code",
   "execution_count": 637,
   "id": "100c3332-d45e-415c-873c-752b025af864",
   "metadata": {},
   "outputs": [
    {
     "data": {
      "text/html": [
       "<div>\n",
       "<style scoped>\n",
       "    .dataframe tbody tr th:only-of-type {\n",
       "        vertical-align: middle;\n",
       "    }\n",
       "\n",
       "    .dataframe tbody tr th {\n",
       "        vertical-align: top;\n",
       "    }\n",
       "\n",
       "    .dataframe thead th {\n",
       "        text-align: right;\n",
       "    }\n",
       "</style>\n",
       "<table border=\"1\" class=\"dataframe\">\n",
       "  <thead>\n",
       "    <tr style=\"text-align: right;\">\n",
       "      <th></th>\n",
       "      <th>month</th>\n",
       "      <th>invoice_month</th>\n",
       "      <th>count</th>\n",
       "      <th>sum</th>\n",
       "    </tr>\n",
       "  </thead>\n",
       "  <tbody>\n",
       "    <tr>\n",
       "      <th>0</th>\n",
       "      <td>2010-12-01</td>\n",
       "      <td>2010-12-01</td>\n",
       "      <td>42481.0</td>\n",
       "      <td>748957.020</td>\n",
       "    </tr>\n",
       "    <tr>\n",
       "      <th>1</th>\n",
       "      <td>2011-01-01</td>\n",
       "      <td>2011-01-01</td>\n",
       "      <td>35147.0</td>\n",
       "      <td>560000.260</td>\n",
       "    </tr>\n",
       "    <tr>\n",
       "      <th>2</th>\n",
       "      <td>2011-02-01</td>\n",
       "      <td>2011-02-01</td>\n",
       "      <td>27707.0</td>\n",
       "      <td>498062.650</td>\n",
       "    </tr>\n",
       "    <tr>\n",
       "      <th>3</th>\n",
       "      <td>2011-03-01</td>\n",
       "      <td>2011-03-01</td>\n",
       "      <td>36748.0</td>\n",
       "      <td>683267.080</td>\n",
       "    </tr>\n",
       "    <tr>\n",
       "      <th>4</th>\n",
       "      <td>2011-04-01</td>\n",
       "      <td>2011-04-01</td>\n",
       "      <td>29916.0</td>\n",
       "      <td>493207.121</td>\n",
       "    </tr>\n",
       "    <tr>\n",
       "      <th>5</th>\n",
       "      <td>2011-05-01</td>\n",
       "      <td>2011-05-01</td>\n",
       "      <td>37030.0</td>\n",
       "      <td>723333.510</td>\n",
       "    </tr>\n",
       "    <tr>\n",
       "      <th>6</th>\n",
       "      <td>2011-06-01</td>\n",
       "      <td>2011-06-01</td>\n",
       "      <td>36874.0</td>\n",
       "      <td>691123.120</td>\n",
       "    </tr>\n",
       "    <tr>\n",
       "      <th>7</th>\n",
       "      <td>2011-07-01</td>\n",
       "      <td>2011-07-01</td>\n",
       "      <td>39518.0</td>\n",
       "      <td>681300.111</td>\n",
       "    </tr>\n",
       "    <tr>\n",
       "      <th>8</th>\n",
       "      <td>2011-08-01</td>\n",
       "      <td>2011-08-01</td>\n",
       "      <td>35284.0</td>\n",
       "      <td>682680.510</td>\n",
       "    </tr>\n",
       "    <tr>\n",
       "      <th>9</th>\n",
       "      <td>2011-09-01</td>\n",
       "      <td>2011-09-01</td>\n",
       "      <td>50226.0</td>\n",
       "      <td>1019687.622</td>\n",
       "    </tr>\n",
       "    <tr>\n",
       "      <th>10</th>\n",
       "      <td>2011-10-01</td>\n",
       "      <td>2011-10-01</td>\n",
       "      <td>60742.0</td>\n",
       "      <td>1070704.670</td>\n",
       "    </tr>\n",
       "    <tr>\n",
       "      <th>11</th>\n",
       "      <td>2011-11-01</td>\n",
       "      <td>2011-11-01</td>\n",
       "      <td>84711.0</td>\n",
       "      <td>1461756.250</td>\n",
       "    </tr>\n",
       "    <tr>\n",
       "      <th>12</th>\n",
       "      <td>2011-12-01</td>\n",
       "      <td>2011-12-01</td>\n",
       "      <td>25525.0</td>\n",
       "      <td>433668.010</td>\n",
       "    </tr>\n",
       "    <tr>\n",
       "      <th>13</th>\n",
       "      <td>2012-01-01</td>\n",
       "      <td>NaT</td>\n",
       "      <td>NaN</td>\n",
       "      <td>NaN</td>\n",
       "    </tr>\n",
       "  </tbody>\n",
       "</table>\n",
       "</div>"
      ],
      "text/plain": [
       "        month invoice_month    count          sum\n",
       "0  2010-12-01    2010-12-01  42481.0   748957.020\n",
       "1  2011-01-01    2011-01-01  35147.0   560000.260\n",
       "2  2011-02-01    2011-02-01  27707.0   498062.650\n",
       "3  2011-03-01    2011-03-01  36748.0   683267.080\n",
       "4  2011-04-01    2011-04-01  29916.0   493207.121\n",
       "5  2011-05-01    2011-05-01  37030.0   723333.510\n",
       "6  2011-06-01    2011-06-01  36874.0   691123.120\n",
       "7  2011-07-01    2011-07-01  39518.0   681300.111\n",
       "8  2011-08-01    2011-08-01  35284.0   682680.510\n",
       "9  2011-09-01    2011-09-01  50226.0  1019687.622\n",
       "10 2011-10-01    2011-10-01  60742.0  1070704.670\n",
       "11 2011-11-01    2011-11-01  84711.0  1461756.250\n",
       "12 2011-12-01    2011-12-01  25525.0   433668.010\n",
       "13 2012-01-01           NaT      NaN          NaN"
      ]
     },
     "execution_count": 637,
     "metadata": {},
     "output_type": "execute_result"
    }
   ],
   "source": [
    "dt_analitics"
   ]
  },
  {
   "cell_type": "code",
   "execution_count": 638,
   "id": "38311008-e3a8-4c97-947b-ea64c79cff9b",
   "metadata": {},
   "outputs": [
    {
     "data": {
      "application/vnd.plotly.v1+json": {
       "config": {
        "plotlyServerURL": "https://plot.ly"
       },
       "data": [
        {
         "alignmentgroup": "True",
         "hovertemplate": "invoice_month=%{x}<br>sum=%{y}<br>count=%{marker.color}<extra></extra>",
         "legendgroup": "",
         "marker": {
          "color": [
           42481,
           35147,
           27707,
           36748,
           29916,
           37030,
           36874,
           39518,
           35284,
           50226,
           60742,
           84711,
           25525,
           null
          ],
          "coloraxis": "coloraxis",
          "pattern": {
           "shape": ""
          }
         },
         "name": "",
         "offsetgroup": "",
         "orientation": "v",
         "showlegend": false,
         "textposition": "auto",
         "type": "bar",
         "x": [
          "2010-12-01T00:00:00",
          "2011-01-01T00:00:00",
          "2011-02-01T00:00:00",
          "2011-03-01T00:00:00",
          "2011-04-01T00:00:00",
          "2011-05-01T00:00:00",
          "2011-06-01T00:00:00",
          "2011-07-01T00:00:00",
          "2011-08-01T00:00:00",
          "2011-09-01T00:00:00",
          "2011-10-01T00:00:00",
          "2011-11-01T00:00:00",
          "2011-12-01T00:00:00",
          null
         ],
         "xaxis": "x",
         "y": [
          748957.02,
          560000.26,
          498062.65,
          683267.08,
          493207.121,
          723333.51,
          691123.12,
          681300.111,
          682680.51,
          1019687.622,
          1070704.67,
          1461756.25,
          433668.01,
          null
         ],
         "yaxis": "y"
        }
       ],
       "layout": {
        "autosize": true,
        "barmode": "relative",
        "coloraxis": {
         "colorbar": {
          "title": {
           "text": "count"
          }
         },
         "colorscale": [
          [
           0,
           "#0d0887"
          ],
          [
           0.1111111111111111,
           "#46039f"
          ],
          [
           0.2222222222222222,
           "#7201a8"
          ],
          [
           0.3333333333333333,
           "#9c179e"
          ],
          [
           0.4444444444444444,
           "#bd3786"
          ],
          [
           0.5555555555555556,
           "#d8576b"
          ],
          [
           0.6666666666666666,
           "#ed7953"
          ],
          [
           0.7777777777777778,
           "#fb9f3a"
          ],
          [
           0.8888888888888888,
           "#fdca26"
          ],
          [
           1,
           "#f0f921"
          ]
         ]
        },
        "legend": {
         "tracegroupgap": 0
        },
        "margin": {
         "t": 60
        },
        "template": {
         "data": {
          "bar": [
           {
            "error_x": {
             "color": "#2a3f5f"
            },
            "error_y": {
             "color": "#2a3f5f"
            },
            "marker": {
             "line": {
              "color": "#E5ECF6",
              "width": 0.5
             },
             "pattern": {
              "fillmode": "overlay",
              "size": 10,
              "solidity": 0.2
             }
            },
            "type": "bar"
           }
          ],
          "barpolar": [
           {
            "marker": {
             "line": {
              "color": "#E5ECF6",
              "width": 0.5
             },
             "pattern": {
              "fillmode": "overlay",
              "size": 10,
              "solidity": 0.2
             }
            },
            "type": "barpolar"
           }
          ],
          "carpet": [
           {
            "aaxis": {
             "endlinecolor": "#2a3f5f",
             "gridcolor": "white",
             "linecolor": "white",
             "minorgridcolor": "white",
             "startlinecolor": "#2a3f5f"
            },
            "baxis": {
             "endlinecolor": "#2a3f5f",
             "gridcolor": "white",
             "linecolor": "white",
             "minorgridcolor": "white",
             "startlinecolor": "#2a3f5f"
            },
            "type": "carpet"
           }
          ],
          "choropleth": [
           {
            "colorbar": {
             "outlinewidth": 0,
             "ticks": ""
            },
            "type": "choropleth"
           }
          ],
          "contour": [
           {
            "colorbar": {
             "outlinewidth": 0,
             "ticks": ""
            },
            "colorscale": [
             [
              0,
              "#0d0887"
             ],
             [
              0.1111111111111111,
              "#46039f"
             ],
             [
              0.2222222222222222,
              "#7201a8"
             ],
             [
              0.3333333333333333,
              "#9c179e"
             ],
             [
              0.4444444444444444,
              "#bd3786"
             ],
             [
              0.5555555555555556,
              "#d8576b"
             ],
             [
              0.6666666666666666,
              "#ed7953"
             ],
             [
              0.7777777777777778,
              "#fb9f3a"
             ],
             [
              0.8888888888888888,
              "#fdca26"
             ],
             [
              1,
              "#f0f921"
             ]
            ],
            "type": "contour"
           }
          ],
          "contourcarpet": [
           {
            "colorbar": {
             "outlinewidth": 0,
             "ticks": ""
            },
            "type": "contourcarpet"
           }
          ],
          "heatmap": [
           {
            "colorbar": {
             "outlinewidth": 0,
             "ticks": ""
            },
            "colorscale": [
             [
              0,
              "#0d0887"
             ],
             [
              0.1111111111111111,
              "#46039f"
             ],
             [
              0.2222222222222222,
              "#7201a8"
             ],
             [
              0.3333333333333333,
              "#9c179e"
             ],
             [
              0.4444444444444444,
              "#bd3786"
             ],
             [
              0.5555555555555556,
              "#d8576b"
             ],
             [
              0.6666666666666666,
              "#ed7953"
             ],
             [
              0.7777777777777778,
              "#fb9f3a"
             ],
             [
              0.8888888888888888,
              "#fdca26"
             ],
             [
              1,
              "#f0f921"
             ]
            ],
            "type": "heatmap"
           }
          ],
          "heatmapgl": [
           {
            "colorbar": {
             "outlinewidth": 0,
             "ticks": ""
            },
            "colorscale": [
             [
              0,
              "#0d0887"
             ],
             [
              0.1111111111111111,
              "#46039f"
             ],
             [
              0.2222222222222222,
              "#7201a8"
             ],
             [
              0.3333333333333333,
              "#9c179e"
             ],
             [
              0.4444444444444444,
              "#bd3786"
             ],
             [
              0.5555555555555556,
              "#d8576b"
             ],
             [
              0.6666666666666666,
              "#ed7953"
             ],
             [
              0.7777777777777778,
              "#fb9f3a"
             ],
             [
              0.8888888888888888,
              "#fdca26"
             ],
             [
              1,
              "#f0f921"
             ]
            ],
            "type": "heatmapgl"
           }
          ],
          "histogram": [
           {
            "marker": {
             "pattern": {
              "fillmode": "overlay",
              "size": 10,
              "solidity": 0.2
             }
            },
            "type": "histogram"
           }
          ],
          "histogram2d": [
           {
            "colorbar": {
             "outlinewidth": 0,
             "ticks": ""
            },
            "colorscale": [
             [
              0,
              "#0d0887"
             ],
             [
              0.1111111111111111,
              "#46039f"
             ],
             [
              0.2222222222222222,
              "#7201a8"
             ],
             [
              0.3333333333333333,
              "#9c179e"
             ],
             [
              0.4444444444444444,
              "#bd3786"
             ],
             [
              0.5555555555555556,
              "#d8576b"
             ],
             [
              0.6666666666666666,
              "#ed7953"
             ],
             [
              0.7777777777777778,
              "#fb9f3a"
             ],
             [
              0.8888888888888888,
              "#fdca26"
             ],
             [
              1,
              "#f0f921"
             ]
            ],
            "type": "histogram2d"
           }
          ],
          "histogram2dcontour": [
           {
            "colorbar": {
             "outlinewidth": 0,
             "ticks": ""
            },
            "colorscale": [
             [
              0,
              "#0d0887"
             ],
             [
              0.1111111111111111,
              "#46039f"
             ],
             [
              0.2222222222222222,
              "#7201a8"
             ],
             [
              0.3333333333333333,
              "#9c179e"
             ],
             [
              0.4444444444444444,
              "#bd3786"
             ],
             [
              0.5555555555555556,
              "#d8576b"
             ],
             [
              0.6666666666666666,
              "#ed7953"
             ],
             [
              0.7777777777777778,
              "#fb9f3a"
             ],
             [
              0.8888888888888888,
              "#fdca26"
             ],
             [
              1,
              "#f0f921"
             ]
            ],
            "type": "histogram2dcontour"
           }
          ],
          "mesh3d": [
           {
            "colorbar": {
             "outlinewidth": 0,
             "ticks": ""
            },
            "type": "mesh3d"
           }
          ],
          "parcoords": [
           {
            "line": {
             "colorbar": {
              "outlinewidth": 0,
              "ticks": ""
             }
            },
            "type": "parcoords"
           }
          ],
          "pie": [
           {
            "automargin": true,
            "type": "pie"
           }
          ],
          "scatter": [
           {
            "fillpattern": {
             "fillmode": "overlay",
             "size": 10,
             "solidity": 0.2
            },
            "type": "scatter"
           }
          ],
          "scatter3d": [
           {
            "line": {
             "colorbar": {
              "outlinewidth": 0,
              "ticks": ""
             }
            },
            "marker": {
             "colorbar": {
              "outlinewidth": 0,
              "ticks": ""
             }
            },
            "type": "scatter3d"
           }
          ],
          "scattercarpet": [
           {
            "marker": {
             "colorbar": {
              "outlinewidth": 0,
              "ticks": ""
             }
            },
            "type": "scattercarpet"
           }
          ],
          "scattergeo": [
           {
            "marker": {
             "colorbar": {
              "outlinewidth": 0,
              "ticks": ""
             }
            },
            "type": "scattergeo"
           }
          ],
          "scattergl": [
           {
            "marker": {
             "colorbar": {
              "outlinewidth": 0,
              "ticks": ""
             }
            },
            "type": "scattergl"
           }
          ],
          "scattermapbox": [
           {
            "marker": {
             "colorbar": {
              "outlinewidth": 0,
              "ticks": ""
             }
            },
            "type": "scattermapbox"
           }
          ],
          "scatterpolar": [
           {
            "marker": {
             "colorbar": {
              "outlinewidth": 0,
              "ticks": ""
             }
            },
            "type": "scatterpolar"
           }
          ],
          "scatterpolargl": [
           {
            "marker": {
             "colorbar": {
              "outlinewidth": 0,
              "ticks": ""
             }
            },
            "type": "scatterpolargl"
           }
          ],
          "scatterternary": [
           {
            "marker": {
             "colorbar": {
              "outlinewidth": 0,
              "ticks": ""
             }
            },
            "type": "scatterternary"
           }
          ],
          "surface": [
           {
            "colorbar": {
             "outlinewidth": 0,
             "ticks": ""
            },
            "colorscale": [
             [
              0,
              "#0d0887"
             ],
             [
              0.1111111111111111,
              "#46039f"
             ],
             [
              0.2222222222222222,
              "#7201a8"
             ],
             [
              0.3333333333333333,
              "#9c179e"
             ],
             [
              0.4444444444444444,
              "#bd3786"
             ],
             [
              0.5555555555555556,
              "#d8576b"
             ],
             [
              0.6666666666666666,
              "#ed7953"
             ],
             [
              0.7777777777777778,
              "#fb9f3a"
             ],
             [
              0.8888888888888888,
              "#fdca26"
             ],
             [
              1,
              "#f0f921"
             ]
            ],
            "type": "surface"
           }
          ],
          "table": [
           {
            "cells": {
             "fill": {
              "color": "#EBF0F8"
             },
             "line": {
              "color": "white"
             }
            },
            "header": {
             "fill": {
              "color": "#C8D4E3"
             },
             "line": {
              "color": "white"
             }
            },
            "type": "table"
           }
          ]
         },
         "layout": {
          "annotationdefaults": {
           "arrowcolor": "#2a3f5f",
           "arrowhead": 0,
           "arrowwidth": 1
          },
          "autotypenumbers": "strict",
          "coloraxis": {
           "colorbar": {
            "outlinewidth": 0,
            "ticks": ""
           }
          },
          "colorscale": {
           "diverging": [
            [
             0,
             "#8e0152"
            ],
            [
             0.1,
             "#c51b7d"
            ],
            [
             0.2,
             "#de77ae"
            ],
            [
             0.3,
             "#f1b6da"
            ],
            [
             0.4,
             "#fde0ef"
            ],
            [
             0.5,
             "#f7f7f7"
            ],
            [
             0.6,
             "#e6f5d0"
            ],
            [
             0.7,
             "#b8e186"
            ],
            [
             0.8,
             "#7fbc41"
            ],
            [
             0.9,
             "#4d9221"
            ],
            [
             1,
             "#276419"
            ]
           ],
           "sequential": [
            [
             0,
             "#0d0887"
            ],
            [
             0.1111111111111111,
             "#46039f"
            ],
            [
             0.2222222222222222,
             "#7201a8"
            ],
            [
             0.3333333333333333,
             "#9c179e"
            ],
            [
             0.4444444444444444,
             "#bd3786"
            ],
            [
             0.5555555555555556,
             "#d8576b"
            ],
            [
             0.6666666666666666,
             "#ed7953"
            ],
            [
             0.7777777777777778,
             "#fb9f3a"
            ],
            [
             0.8888888888888888,
             "#fdca26"
            ],
            [
             1,
             "#f0f921"
            ]
           ],
           "sequentialminus": [
            [
             0,
             "#0d0887"
            ],
            [
             0.1111111111111111,
             "#46039f"
            ],
            [
             0.2222222222222222,
             "#7201a8"
            ],
            [
             0.3333333333333333,
             "#9c179e"
            ],
            [
             0.4444444444444444,
             "#bd3786"
            ],
            [
             0.5555555555555556,
             "#d8576b"
            ],
            [
             0.6666666666666666,
             "#ed7953"
            ],
            [
             0.7777777777777778,
             "#fb9f3a"
            ],
            [
             0.8888888888888888,
             "#fdca26"
            ],
            [
             1,
             "#f0f921"
            ]
           ]
          },
          "colorway": [
           "#636efa",
           "#EF553B",
           "#00cc96",
           "#ab63fa",
           "#FFA15A",
           "#19d3f3",
           "#FF6692",
           "#B6E880",
           "#FF97FF",
           "#FECB52"
          ],
          "font": {
           "color": "#2a3f5f"
          },
          "geo": {
           "bgcolor": "white",
           "lakecolor": "white",
           "landcolor": "#E5ECF6",
           "showlakes": true,
           "showland": true,
           "subunitcolor": "white"
          },
          "hoverlabel": {
           "align": "left"
          },
          "hovermode": "closest",
          "mapbox": {
           "style": "light"
          },
          "paper_bgcolor": "white",
          "plot_bgcolor": "#E5ECF6",
          "polar": {
           "angularaxis": {
            "gridcolor": "white",
            "linecolor": "white",
            "ticks": ""
           },
           "bgcolor": "#E5ECF6",
           "radialaxis": {
            "gridcolor": "white",
            "linecolor": "white",
            "ticks": ""
           }
          },
          "scene": {
           "xaxis": {
            "backgroundcolor": "#E5ECF6",
            "gridcolor": "white",
            "gridwidth": 2,
            "linecolor": "white",
            "showbackground": true,
            "ticks": "",
            "zerolinecolor": "white"
           },
           "yaxis": {
            "backgroundcolor": "#E5ECF6",
            "gridcolor": "white",
            "gridwidth": 2,
            "linecolor": "white",
            "showbackground": true,
            "ticks": "",
            "zerolinecolor": "white"
           },
           "zaxis": {
            "backgroundcolor": "#E5ECF6",
            "gridcolor": "white",
            "gridwidth": 2,
            "linecolor": "white",
            "showbackground": true,
            "ticks": "",
            "zerolinecolor": "white"
           }
          },
          "shapedefaults": {
           "line": {
            "color": "#2a3f5f"
           }
          },
          "ternary": {
           "aaxis": {
            "gridcolor": "white",
            "linecolor": "white",
            "ticks": ""
           },
           "baxis": {
            "gridcolor": "white",
            "linecolor": "white",
            "ticks": ""
           },
           "bgcolor": "#E5ECF6",
           "caxis": {
            "gridcolor": "white",
            "linecolor": "white",
            "ticks": ""
           }
          },
          "title": {
           "x": 0.05
          },
          "xaxis": {
           "automargin": true,
           "gridcolor": "white",
           "linecolor": "white",
           "ticks": "",
           "title": {
            "standoff": 15
           },
           "zerolinecolor": "white",
           "zerolinewidth": 2
          },
          "yaxis": {
           "automargin": true,
           "gridcolor": "white",
           "linecolor": "white",
           "ticks": "",
           "title": {
            "standoff": 15
           },
           "zerolinecolor": "white",
           "zerolinewidth": 2
          }
         }
        },
        "xaxis": {
         "anchor": "y",
         "autorange": true,
         "domain": [
          0,
          1
         ],
         "range": [
          "2010-11-17",
          "2011-12-15"
         ],
         "tickvals": [
          "2010-12-01T00:00:00",
          "2011-01-01T00:00:00",
          "2011-02-01T00:00:00",
          "2011-03-01T00:00:00",
          "2011-04-01T00:00:00",
          "2011-05-01T00:00:00",
          "2011-06-01T00:00:00",
          "2011-07-01T00:00:00",
          "2011-08-01T00:00:00",
          "2011-09-01T00:00:00",
          "2011-10-01T00:00:00",
          "2011-11-01T00:00:00",
          "2011-12-01T00:00:00"
         ],
         "title": {
          "text": "invoice_month"
         },
         "type": "date"
        },
        "yaxis": {
         "anchor": "x",
         "autorange": true,
         "domain": [
          0,
          1
         ],
         "range": [
          0,
          1538690.7894736843
         ],
         "title": {
          "text": "sum"
         },
         "type": "linear"
        }
       }
      },
      "image/png": "[encoded data removed]",
      "text/html": [
       "<div>                            <div id=\"8511a58d-f6bd-41e0-a32f-b28eff29352e\" class=\"plotly-graph-div\" style=\"height:525px; width:100%;\"></div>            <script type=\"text/javascript\">                require([\"plotly\"], function(Plotly) {                    window.PLOTLYENV=window.PLOTLYENV || {};                                    if (document.getElementById(\"8511a58d-f6bd-41e0-a32f-b28eff29352e\")) {                    Plotly.newPlot(                        \"8511a58d-f6bd-41e0-a32f-b28eff29352e\",                        [{\"alignmentgroup\":\"True\",\"hovertemplate\":\"invoice_month=%{x}<br>sum=%{y}<br>count=%{marker.color}<extra></extra>\",\"legendgroup\":\"\",\"marker\":{\"color\":[42481.0,35147.0,27707.0,36748.0,29916.0,37030.0,36874.0,39518.0,35284.0,50226.0,60742.0,84711.0,25525.0,null],\"coloraxis\":\"coloraxis\",\"pattern\":{\"shape\":\"\"}},\"name\":\"\",\"offsetgroup\":\"\",\"orientation\":\"v\",\"showlegend\":false,\"textposition\":\"auto\",\"x\":[\"2010-12-01T00:00:00\",\"2011-01-01T00:00:00\",\"2011-02-01T00:00:00\",\"2011-03-01T00:00:00\",\"2011-04-01T00:00:00\",\"2011-05-01T00:00:00\",\"2011-06-01T00:00:00\",\"2011-07-01T00:00:00\",\"2011-08-01T00:00:00\",\"2011-09-01T00:00:00\",\"2011-10-01T00:00:00\",\"2011-11-01T00:00:00\",\"2011-12-01T00:00:00\",null],\"xaxis\":\"x\",\"y\":[748957.02,560000.26,498062.65,683267.08,493207.121,723333.51,691123.12,681300.111,682680.51,1019687.622,1070704.67,1461756.25,433668.01,null],\"yaxis\":\"y\",\"type\":\"bar\"}],                        {\"template\":{\"data\":{\"histogram2dcontour\":[{\"type\":\"histogram2dcontour\",\"colorbar\":{\"outlinewidth\":0,\"ticks\":\"\"},\"colorscale\":[[0.0,\"#0d0887\"],[0.1111111111111111,\"#46039f\"],[0.2222222222222222,\"#7201a8\"],[0.3333333333333333,\"#9c179e\"],[0.4444444444444444,\"#bd3786\"],[0.5555555555555556,\"#d8576b\"],[0.6666666666666666,\"#ed7953\"],[0.7777777777777778,\"#fb9f3a\"],[0.8888888888888888,\"#fdca26\"],[1.0,\"#f0f921\"]]}],\"choropleth\":[{\"type\":\"choropleth\",\"colorbar\":{\"outlinewidth\":0,\"ticks\":\"\"}}],\"histogram2d\":[{\"type\":\"histogram2d\",\"colorbar\":{\"outlinewidth\":0,\"ticks\":\"\"},\"colorscale\":[[0.0,\"#0d0887\"],[0.1111111111111111,\"#46039f\"],[0.2222222222222222,\"#7201a8\"],[0.3333333333333333,\"#9c179e\"],[0.4444444444444444,\"#bd3786\"],[0.5555555555555556,\"#d8576b\"],[0.6666666666666666,\"#ed7953\"],[0.7777777777777778,\"#fb9f3a\"],[0.8888888888888888,\"#fdca26\"],[1.0,\"#f0f921\"]]}],\"heatmap\":[{\"type\":\"heatmap\",\"colorbar\":{\"outlinewidth\":0,\"ticks\":\"\"},\"colorscale\":[[0.0,\"#0d0887\"],[0.1111111111111111,\"#46039f\"],[0.2222222222222222,\"#7201a8\"],[0.3333333333333333,\"#9c179e\"],[0.4444444444444444,\"#bd3786\"],[0.5555555555555556,\"#d8576b\"],[0.6666666666666666,\"#ed7953\"],[0.7777777777777778,\"#fb9f3a\"],[0.8888888888888888,\"#fdca26\"],[1.0,\"#f0f921\"]]}],\"heatmapgl\":[{\"type\":\"heatmapgl\",\"colorbar\":{\"outlinewidth\":0,\"ticks\":\"\"},\"colorscale\":[[0.0,\"#0d0887\"],[0.1111111111111111,\"#46039f\"],[0.2222222222222222,\"#7201a8\"],[0.3333333333333333,\"#9c179e\"],[0.4444444444444444,\"#bd3786\"],[0.5555555555555556,\"#d8576b\"],[0.6666666666666666,\"#ed7953\"],[0.7777777777777778,\"#fb9f3a\"],[0.8888888888888888,\"#fdca26\"],[1.0,\"#f0f921\"]]}],\"contourcarpet\":[{\"type\":\"contourcarpet\",\"colorbar\":{\"outlinewidth\":0,\"ticks\":\"\"}}],\"contour\":[{\"type\":\"contour\",\"colorbar\":{\"outlinewidth\":0,\"ticks\":\"\"},\"colorscale\":[[0.0,\"#0d0887\"],[0.1111111111111111,\"#46039f\"],[0.2222222222222222,\"#7201a8\"],[0.3333333333333333,\"#9c179e\"],[0.4444444444444444,\"#bd3786\"],[0.5555555555555556,\"#d8576b\"],[0.6666666666666666,\"#ed7953\"],[0.7777777777777778,\"#fb9f3a\"],[0.8888888888888888,\"#fdca26\"],[1.0,\"#f0f921\"]]}],\"surface\":[{\"type\":\"surface\",\"colorbar\":{\"outlinewidth\":0,\"ticks\":\"\"},\"colorscale\":[[0.0,\"#0d0887\"],[0.1111111111111111,\"#46039f\"],[0.2222222222222222,\"#7201a8\"],[0.3333333333333333,\"#9c179e\"],[0.4444444444444444,\"#bd3786\"],[0.5555555555555556,\"#d8576b\"],[0.6666666666666666,\"#ed7953\"],[0.7777777777777778,\"#fb9f3a\"],[0.8888888888888888,\"#fdca26\"],[1.0,\"#f0f921\"]]}],\"mesh3d\":[{\"type\":\"mesh3d\",\"colorbar\":{\"outlinewidth\":0,\"ticks\":\"\"}}],\"scatter\":[{\"fillpattern\":{\"fillmode\":\"overlay\",\"size\":10,\"solidity\":0.2},\"type\":\"scatter\"}],\"parcoords\":[{\"type\":\"parcoords\",\"line\":{\"colorbar\":{\"outlinewidth\":0,\"ticks\":\"\"}}}],\"scatterpolargl\":[{\"type\":\"scatterpolargl\",\"marker\":{\"colorbar\":{\"outlinewidth\":0,\"ticks\":\"\"}}}],\"bar\":[{\"error_x\":{\"color\":\"#2a3f5f\"},\"error_y\":{\"color\":\"#2a3f5f\"},\"marker\":{\"line\":{\"color\":\"#E5ECF6\",\"width\":0.5},\"pattern\":{\"fillmode\":\"overlay\",\"size\":10,\"solidity\":0.2}},\"type\":\"bar\"}],\"scattergeo\":[{\"type\":\"scattergeo\",\"marker\":{\"colorbar\":{\"outlinewidth\":0,\"ticks\":\"\"}}}],\"scatterpolar\":[{\"type\":\"scatterpolar\",\"marker\":{\"colorbar\":{\"outlinewidth\":0,\"ticks\":\"\"}}}],\"histogram\":[{\"marker\":{\"pattern\":{\"fillmode\":\"overlay\",\"size\":10,\"solidity\":0.2}},\"type\":\"histogram\"}],\"scattergl\":[{\"type\":\"scattergl\",\"marker\":{\"colorbar\":{\"outlinewidth\":0,\"ticks\":\"\"}}}],\"scatter3d\":[{\"type\":\"scatter3d\",\"line\":{\"colorbar\":{\"outlinewidth\":0,\"ticks\":\"\"}},\"marker\":{\"colorbar\":{\"outlinewidth\":0,\"ticks\":\"\"}}}],\"scattermapbox\":[{\"type\":\"scattermapbox\",\"marker\":{\"colorbar\":{\"outlinewidth\":0,\"ticks\":\"\"}}}],\"scatterternary\":[{\"type\":\"scatterternary\",\"marker\":{\"colorbar\":{\"outlinewidth\":0,\"ticks\":\"\"}}}],\"scattercarpet\":[{\"type\":\"scattercarpet\",\"marker\":{\"colorbar\":{\"outlinewidth\":0,\"ticks\":\"\"}}}],\"carpet\":[{\"aaxis\":{\"endlinecolor\":\"#2a3f5f\",\"gridcolor\":\"white\",\"linecolor\":\"white\",\"minorgridcolor\":\"white\",\"startlinecolor\":\"#2a3f5f\"},\"baxis\":{\"endlinecolor\":\"#2a3f5f\",\"gridcolor\":\"white\",\"linecolor\":\"white\",\"minorgridcolor\":\"white\",\"startlinecolor\":\"#2a3f5f\"},\"type\":\"carpet\"}],\"table\":[{\"cells\":{\"fill\":{\"color\":\"#EBF0F8\"},\"line\":{\"color\":\"white\"}},\"header\":{\"fill\":{\"color\":\"#C8D4E3\"},\"line\":{\"color\":\"white\"}},\"type\":\"table\"}],\"barpolar\":[{\"marker\":{\"line\":{\"color\":\"#E5ECF6\",\"width\":0.5},\"pattern\":{\"fillmode\":\"overlay\",\"size\":10,\"solidity\":0.2}},\"type\":\"barpolar\"}],\"pie\":[{\"automargin\":true,\"type\":\"pie\"}]},\"layout\":{\"autotypenumbers\":\"strict\",\"colorway\":[\"#636efa\",\"#EF553B\",\"#00cc96\",\"#ab63fa\",\"#FFA15A\",\"#19d3f3\",\"#FF6692\",\"#B6E880\",\"#FF97FF\",\"#FECB52\"],\"font\":{\"color\":\"#2a3f5f\"},\"hovermode\":\"closest\",\"hoverlabel\":{\"align\":\"left\"},\"paper_bgcolor\":\"white\",\"plot_bgcolor\":\"#E5ECF6\",\"polar\":{\"bgcolor\":\"#E5ECF6\",\"angularaxis\":{\"gridcolor\":\"white\",\"linecolor\":\"white\",\"ticks\":\"\"},\"radialaxis\":{\"gridcolor\":\"white\",\"linecolor\":\"white\",\"ticks\":\"\"}},\"ternary\":{\"bgcolor\":\"#E5ECF6\",\"aaxis\":{\"gridcolor\":\"white\",\"linecolor\":\"white\",\"ticks\":\"\"},\"baxis\":{\"gridcolor\":\"white\",\"linecolor\":\"white\",\"ticks\":\"\"},\"caxis\":{\"gridcolor\":\"white\",\"linecolor\":\"white\",\"ticks\":\"\"}},\"coloraxis\":{\"colorbar\":{\"outlinewidth\":0,\"ticks\":\"\"}},\"colorscale\":{\"sequential\":[[0.0,\"#0d0887\"],[0.1111111111111111,\"#46039f\"],[0.2222222222222222,\"#7201a8\"],[0.3333333333333333,\"#9c179e\"],[0.4444444444444444,\"#bd3786\"],[0.5555555555555556,\"#d8576b\"],[0.6666666666666666,\"#ed7953\"],[0.7777777777777778,\"#fb9f3a\"],[0.8888888888888888,\"#fdca26\"],[1.0,\"#f0f921\"]],\"sequentialminus\":[[0.0,\"#0d0887\"],[0.1111111111111111,\"#46039f\"],[0.2222222222222222,\"#7201a8\"],[0.3333333333333333,\"#9c179e\"],[0.4444444444444444,\"#bd3786\"],[0.5555555555555556,\"#d8576b\"],[0.6666666666666666,\"#ed7953\"],[0.7777777777777778,\"#fb9f3a\"],[0.8888888888888888,\"#fdca26\"],[1.0,\"#f0f921\"]],\"diverging\":[[0,\"#8e0152\"],[0.1,\"#c51b7d\"],[0.2,\"#de77ae\"],[0.3,\"#f1b6da\"],[0.4,\"#fde0ef\"],[0.5,\"#f7f7f7\"],[0.6,\"#e6f5d0\"],[0.7,\"#b8e186\"],[0.8,\"#7fbc41\"],[0.9,\"#4d9221\"],[1,\"#276419\"]]},\"xaxis\":{\"gridcolor\":\"white\",\"linecolor\":\"white\",\"ticks\":\"\",\"title\":{\"standoff\":15},\"zerolinecolor\":\"white\",\"automargin\":true,\"zerolinewidth\":2},\"yaxis\":{\"gridcolor\":\"white\",\"linecolor\":\"white\",\"ticks\":\"\",\"title\":{\"standoff\":15},\"zerolinecolor\":\"white\",\"automargin\":true,\"zerolinewidth\":2},\"scene\":{\"xaxis\":{\"backgroundcolor\":\"#E5ECF6\",\"gridcolor\":\"white\",\"linecolor\":\"white\",\"showbackground\":true,\"ticks\":\"\",\"zerolinecolor\":\"white\",\"gridwidth\":2},\"yaxis\":{\"backgroundcolor\":\"#E5ECF6\",\"gridcolor\":\"white\",\"linecolor\":\"white\",\"showbackground\":true,\"ticks\":\"\",\"zerolinecolor\":\"white\",\"gridwidth\":2},\"zaxis\":{\"backgroundcolor\":\"#E5ECF6\",\"gridcolor\":\"white\",\"linecolor\":\"white\",\"showbackground\":true,\"ticks\":\"\",\"zerolinecolor\":\"white\",\"gridwidth\":2}},\"shapedefaults\":{\"line\":{\"color\":\"#2a3f5f\"}},\"annotationdefaults\":{\"arrowcolor\":\"#2a3f5f\",\"arrowhead\":0,\"arrowwidth\":1},\"geo\":{\"bgcolor\":\"white\",\"landcolor\":\"#E5ECF6\",\"subunitcolor\":\"white\",\"showland\":true,\"showlakes\":true,\"lakecolor\":\"white\"},\"title\":{\"x\":0.05},\"mapbox\":{\"style\":\"light\"}}},\"xaxis\":{\"anchor\":\"y\",\"domain\":[0.0,1.0],\"title\":{\"text\":\"invoice_month\"},\"tickvals\":[\"2010-12-01T00:00:00\",\"2011-01-01T00:00:00\",\"2011-02-01T00:00:00\",\"2011-03-01T00:00:00\",\"2011-04-01T00:00:00\",\"2011-05-01T00:00:00\",\"2011-06-01T00:00:00\",\"2011-07-01T00:00:00\",\"2011-08-01T00:00:00\",\"2011-09-01T00:00:00\",\"2011-10-01T00:00:00\",\"2011-11-01T00:00:00\",\"2011-12-01T00:00:00\"]},\"yaxis\":{\"anchor\":\"x\",\"domain\":[0.0,1.0],\"title\":{\"text\":\"sum\"}},\"coloraxis\":{\"colorbar\":{\"title\":{\"text\":\"count\"}},\"colorscale\":[[0.0,\"#0d0887\"],[0.1111111111111111,\"#46039f\"],[0.2222222222222222,\"#7201a8\"],[0.3333333333333333,\"#9c179e\"],[0.4444444444444444,\"#bd3786\"],[0.5555555555555556,\"#d8576b\"],[0.6666666666666666,\"#ed7953\"],[0.7777777777777778,\"#fb9f3a\"],[0.8888888888888888,\"#fdca26\"],[1.0,\"#f0f921\"]]},\"legend\":{\"tracegroupgap\":0},\"margin\":{\"t\":60},\"barmode\":\"relative\"},                        {\"responsive\": true}                    ).then(function(){\n",
       "                            \n",
       "var gd = document.getElementById('8511a58d-f6bd-41e0-a32f-b28eff29352e');\n",
       "var x = new MutationObserver(function (mutations, observer) {{\n",
       "        var display = window.getComputedStyle(gd).display;\n",
       "        if (!display || display === 'none') {{\n",
       "            console.log([gd, 'removed!']);\n",
       "            Plotly.purge(gd);\n",
       "            observer.disconnect();\n",
       "        }}\n",
       "}});\n",
       "\n",
       "// Listen for the removal of the full notebook cells\n",
       "var notebookContainer = gd.closest('#notebook-container');\n",
       "if (notebookContainer) {{\n",
       "    x.observe(notebookContainer, {childList: true});\n",
       "}}\n",
       "\n",
       "// Listen for the clearing of the current output cell\n",
       "var outputEl = gd.closest('.output');\n",
       "if (outputEl) {{\n",
       "    x.observe(outputEl, {childList: true});\n",
       "}}\n",
       "\n",
       "                        })                };                });            </script>        </div>"
      ]
     },
     "metadata": {},
     "output_type": "display_data"
    }
   ],
   "source": [
    "#mine graph revenue with plotly\n",
    "fig = px.bar(dt_analitics, x='invoice_month', y='sum', color='count')\n",
    "fig.layout.xaxis.tickvals = t.invoice_month\n",
    "fig.show()"
   ]
  },
  {
   "cell_type": "markdown",
   "id": "cd058849-d137-4d6d-b0fd-f95f99fee7b7",
   "metadata": {},
   "source": [
    "## Create user tables"
   ]
  },
  {
   "cell_type": "code",
   "execution_count": 639,
   "id": "a15ecabb-1935-4c93-b035-0177f9767b56",
   "metadata": {},
   "outputs": [
    {
     "data": {
      "text/html": [
       "<div>\n",
       "<style scoped>\n",
       "    .dataframe tbody tr th:only-of-type {\n",
       "        vertical-align: middle;\n",
       "    }\n",
       "\n",
       "    .dataframe tbody tr th {\n",
       "        vertical-align: top;\n",
       "    }\n",
       "\n",
       "    .dataframe thead th {\n",
       "        text-align: right;\n",
       "    }\n",
       "</style>\n",
       "<table border=\"1\" class=\"dataframe\">\n",
       "  <thead>\n",
       "    <tr style=\"text-align: right;\">\n",
       "      <th></th>\n",
       "      <th>invoice_no</th>\n",
       "      <th>stock_code</th>\n",
       "      <th>description</th>\n",
       "      <th>quantity</th>\n",
       "      <th>invoice_date</th>\n",
       "      <th>unitprice</th>\n",
       "      <th>customer_id</th>\n",
       "      <th>country</th>\n",
       "      <th>invoice_month</th>\n",
       "      <th>revenue</th>\n",
       "    </tr>\n",
       "  </thead>\n",
       "  <tbody>\n",
       "    <tr>\n",
       "      <th>0</th>\n",
       "      <td>536365</td>\n",
       "      <td>85123A</td>\n",
       "      <td>WHITE HANGING HEART T-LIGHT HOLDER</td>\n",
       "      <td>6</td>\n",
       "      <td>2010-12-01 08:26:00</td>\n",
       "      <td>2.55</td>\n",
       "      <td>17850.0</td>\n",
       "      <td>United Kingdom</td>\n",
       "      <td>2010-12-01</td>\n",
       "      <td>15.30</td>\n",
       "    </tr>\n",
       "    <tr>\n",
       "      <th>1</th>\n",
       "      <td>536365</td>\n",
       "      <td>71053</td>\n",
       "      <td>WHITE METAL LANTERN</td>\n",
       "      <td>6</td>\n",
       "      <td>2010-12-01 08:26:00</td>\n",
       "      <td>3.39</td>\n",
       "      <td>17850.0</td>\n",
       "      <td>United Kingdom</td>\n",
       "      <td>2010-12-01</td>\n",
       "      <td>20.34</td>\n",
       "    </tr>\n",
       "    <tr>\n",
       "      <th>2</th>\n",
       "      <td>536365</td>\n",
       "      <td>84406B</td>\n",
       "      <td>CREAM CUPID HEARTS COAT HANGER</td>\n",
       "      <td>8</td>\n",
       "      <td>2010-12-01 08:26:00</td>\n",
       "      <td>2.75</td>\n",
       "      <td>17850.0</td>\n",
       "      <td>United Kingdom</td>\n",
       "      <td>2010-12-01</td>\n",
       "      <td>22.00</td>\n",
       "    </tr>\n",
       "    <tr>\n",
       "      <th>3</th>\n",
       "      <td>536365</td>\n",
       "      <td>84029G</td>\n",
       "      <td>KNITTED UNION FLAG HOT WATER BOTTLE</td>\n",
       "      <td>6</td>\n",
       "      <td>2010-12-01 08:26:00</td>\n",
       "      <td>3.39</td>\n",
       "      <td>17850.0</td>\n",
       "      <td>United Kingdom</td>\n",
       "      <td>2010-12-01</td>\n",
       "      <td>20.34</td>\n",
       "    </tr>\n",
       "    <tr>\n",
       "      <th>4</th>\n",
       "      <td>536365</td>\n",
       "      <td>84029E</td>\n",
       "      <td>RED WOOLLY HOTTIE WHITE HEART.</td>\n",
       "      <td>6</td>\n",
       "      <td>2010-12-01 08:26:00</td>\n",
       "      <td>3.39</td>\n",
       "      <td>17850.0</td>\n",
       "      <td>United Kingdom</td>\n",
       "      <td>2010-12-01</td>\n",
       "      <td>20.34</td>\n",
       "    </tr>\n",
       "  </tbody>\n",
       "</table>\n",
       "</div>"
      ],
      "text/plain": [
       "  invoice_no stock_code                          description  quantity  \\\n",
       "0     536365     85123A   WHITE HANGING HEART T-LIGHT HOLDER         6   \n",
       "1     536365      71053                  WHITE METAL LANTERN         6   \n",
       "2     536365     84406B       CREAM CUPID HEARTS COAT HANGER         8   \n",
       "3     536365     84029G  KNITTED UNION FLAG HOT WATER BOTTLE         6   \n",
       "4     536365     84029E       RED WOOLLY HOTTIE WHITE HEART.         6   \n",
       "\n",
       "         invoice_date  unitprice  customer_id         country invoice_month  \\\n",
       "0 2010-12-01 08:26:00       2.55      17850.0  United Kingdom    2010-12-01   \n",
       "1 2010-12-01 08:26:00       3.39      17850.0  United Kingdom    2010-12-01   \n",
       "2 2010-12-01 08:26:00       2.75      17850.0  United Kingdom    2010-12-01   \n",
       "3 2010-12-01 08:26:00       3.39      17850.0  United Kingdom    2010-12-01   \n",
       "4 2010-12-01 08:26:00       3.39      17850.0  United Kingdom    2010-12-01   \n",
       "\n",
       "   revenue  \n",
       "0    15.30  \n",
       "1    20.34  \n",
       "2    22.00  \n",
       "3    20.34  \n",
       "4    20.34  "
      ]
     },
     "execution_count": 639,
     "metadata": {},
     "output_type": "execute_result"
    }
   ],
   "source": [
    "df.head()"
   ]
  },
  {
   "cell_type": "code",
   "execution_count": 640,
   "id": "38b27a53-5065-49ba-befd-db586387e146",
   "metadata": {},
   "outputs": [],
   "source": [
    "#get registration date - min date\n",
    "users = df.groupby(['customer_id'])[['invoice_date','invoice_month']].min().reset_index()"
   ]
  },
  {
   "cell_type": "code",
   "execution_count": 641,
   "id": "1a5fda3a-1627-40b7-af5e-ca542e583d9c",
   "metadata": {},
   "outputs": [
    {
     "data": {
      "text/html": [
       "<div>\n",
       "<style scoped>\n",
       "    .dataframe tbody tr th:only-of-type {\n",
       "        vertical-align: middle;\n",
       "    }\n",
       "\n",
       "    .dataframe tbody tr th {\n",
       "        vertical-align: top;\n",
       "    }\n",
       "\n",
       "    .dataframe thead th {\n",
       "        text-align: right;\n",
       "    }\n",
       "</style>\n",
       "<table border=\"1\" class=\"dataframe\">\n",
       "  <thead>\n",
       "    <tr style=\"text-align: right;\">\n",
       "      <th></th>\n",
       "      <th>customer_id</th>\n",
       "      <th>invoice_date</th>\n",
       "      <th>invoice_month</th>\n",
       "    </tr>\n",
       "  </thead>\n",
       "  <tbody>\n",
       "    <tr>\n",
       "      <th>0</th>\n",
       "      <td>12346.0</td>\n",
       "      <td>2011-01-18 10:01:00</td>\n",
       "      <td>2011-01-01</td>\n",
       "    </tr>\n",
       "    <tr>\n",
       "      <th>1</th>\n",
       "      <td>12347.0</td>\n",
       "      <td>2010-12-07 14:57:00</td>\n",
       "      <td>2010-12-01</td>\n",
       "    </tr>\n",
       "    <tr>\n",
       "      <th>2</th>\n",
       "      <td>12348.0</td>\n",
       "      <td>2010-12-16 19:09:00</td>\n",
       "      <td>2010-12-01</td>\n",
       "    </tr>\n",
       "    <tr>\n",
       "      <th>3</th>\n",
       "      <td>12349.0</td>\n",
       "      <td>2011-11-21 09:51:00</td>\n",
       "      <td>2011-11-01</td>\n",
       "    </tr>\n",
       "    <tr>\n",
       "      <th>4</th>\n",
       "      <td>12350.0</td>\n",
       "      <td>2011-02-02 16:01:00</td>\n",
       "      <td>2011-02-01</td>\n",
       "    </tr>\n",
       "  </tbody>\n",
       "</table>\n",
       "</div>"
      ],
      "text/plain": [
       "   customer_id        invoice_date invoice_month\n",
       "0      12346.0 2011-01-18 10:01:00    2011-01-01\n",
       "1      12347.0 2010-12-07 14:57:00    2010-12-01\n",
       "2      12348.0 2010-12-16 19:09:00    2010-12-01\n",
       "3      12349.0 2011-11-21 09:51:00    2011-11-01\n",
       "4      12350.0 2011-02-02 16:01:00    2011-02-01"
      ]
     },
     "execution_count": 641,
     "metadata": {},
     "output_type": "execute_result"
    }
   ],
   "source": [
    "users.head()"
   ]
  },
  {
   "cell_type": "code",
   "execution_count": 648,
   "id": "8c75e010-c262-405e-ad91-fb56cf427537",
   "metadata": {},
   "outputs": [
    {
     "data": {
      "text/plain": [
       "Index(['customer_id', 'reg_date', 'reg_month'], dtype='object')"
      ]
     },
     "execution_count": 648,
     "metadata": {},
     "output_type": "execute_result"
    }
   ],
   "source": [
    "users.columns"
   ]
  },
  {
   "cell_type": "code",
   "execution_count": 649,
   "id": "8945d507-6ee5-44b9-bfbe-05d65df89953",
   "metadata": {},
   "outputs": [],
   "source": [
    "#rename columns\n",
    "users.columns = ['customer_id', 'reg_date', 'reg_month']"
   ]
  },
  {
   "cell_type": "code",
   "execution_count": 650,
   "id": "bef9ae31-7495-4f29-83f2-e2b692c783c0",
   "metadata": {},
   "outputs": [
    {
     "data": {
      "text/html": [
       "<div>\n",
       "<style scoped>\n",
       "    .dataframe tbody tr th:only-of-type {\n",
       "        vertical-align: middle;\n",
       "    }\n",
       "\n",
       "    .dataframe tbody tr th {\n",
       "        vertical-align: top;\n",
       "    }\n",
       "\n",
       "    .dataframe thead th {\n",
       "        text-align: right;\n",
       "    }\n",
       "</style>\n",
       "<table border=\"1\" class=\"dataframe\">\n",
       "  <thead>\n",
       "    <tr style=\"text-align: right;\">\n",
       "      <th></th>\n",
       "      <th>customer_id</th>\n",
       "      <th>reg_date</th>\n",
       "      <th>reg_month</th>\n",
       "    </tr>\n",
       "  </thead>\n",
       "  <tbody>\n",
       "    <tr>\n",
       "      <th>0</th>\n",
       "      <td>12346.0</td>\n",
       "      <td>2011-01-18 10:01:00</td>\n",
       "      <td>2011-01-01</td>\n",
       "    </tr>\n",
       "    <tr>\n",
       "      <th>1</th>\n",
       "      <td>12347.0</td>\n",
       "      <td>2010-12-07 14:57:00</td>\n",
       "      <td>2010-12-01</td>\n",
       "    </tr>\n",
       "    <tr>\n",
       "      <th>2</th>\n",
       "      <td>12348.0</td>\n",
       "      <td>2010-12-16 19:09:00</td>\n",
       "      <td>2010-12-01</td>\n",
       "    </tr>\n",
       "    <tr>\n",
       "      <th>3</th>\n",
       "      <td>12349.0</td>\n",
       "      <td>2011-11-21 09:51:00</td>\n",
       "      <td>2011-11-01</td>\n",
       "    </tr>\n",
       "    <tr>\n",
       "      <th>4</th>\n",
       "      <td>12350.0</td>\n",
       "      <td>2011-02-02 16:01:00</td>\n",
       "      <td>2011-02-01</td>\n",
       "    </tr>\n",
       "  </tbody>\n",
       "</table>\n",
       "</div>"
      ],
      "text/plain": [
       "   customer_id            reg_date  reg_month\n",
       "0      12346.0 2011-01-18 10:01:00 2011-01-01\n",
       "1      12347.0 2010-12-07 14:57:00 2010-12-01\n",
       "2      12348.0 2010-12-16 19:09:00 2010-12-01\n",
       "3      12349.0 2011-11-21 09:51:00 2011-11-01\n",
       "4      12350.0 2011-02-02 16:01:00 2011-02-01"
      ]
     },
     "execution_count": 650,
     "metadata": {},
     "output_type": "execute_result"
    }
   ],
   "source": [
    "users.head()"
   ]
  },
  {
   "cell_type": "code",
   "execution_count": 651,
   "id": "162be5c3-2d8c-4ac3-acf3-50cfd801f06e",
   "metadata": {},
   "outputs": [],
   "source": [
    "dt = pd.DataFrame(pd.date_range(min_dt, max_dt, freq = 'MS'), columns=['months'])"
   ]
  },
  {
   "cell_type": "code",
   "execution_count": 652,
   "id": "f8a25ec0-2fe2-4dff-826b-147584d31532",
   "metadata": {},
   "outputs": [
    {
     "data": {
      "text/html": [
       "<div>\n",
       "<style scoped>\n",
       "    .dataframe tbody tr th:only-of-type {\n",
       "        vertical-align: middle;\n",
       "    }\n",
       "\n",
       "    .dataframe tbody tr th {\n",
       "        vertical-align: top;\n",
       "    }\n",
       "\n",
       "    .dataframe thead th {\n",
       "        text-align: right;\n",
       "    }\n",
       "</style>\n",
       "<table border=\"1\" class=\"dataframe\">\n",
       "  <thead>\n",
       "    <tr style=\"text-align: right;\">\n",
       "      <th></th>\n",
       "      <th>months</th>\n",
       "    </tr>\n",
       "  </thead>\n",
       "  <tbody>\n",
       "    <tr>\n",
       "      <th>0</th>\n",
       "      <td>2010-12-01</td>\n",
       "    </tr>\n",
       "    <tr>\n",
       "      <th>1</th>\n",
       "      <td>2011-01-01</td>\n",
       "    </tr>\n",
       "    <tr>\n",
       "      <th>2</th>\n",
       "      <td>2011-02-01</td>\n",
       "    </tr>\n",
       "    <tr>\n",
       "      <th>3</th>\n",
       "      <td>2011-03-01</td>\n",
       "    </tr>\n",
       "    <tr>\n",
       "      <th>4</th>\n",
       "      <td>2011-04-01</td>\n",
       "    </tr>\n",
       "    <tr>\n",
       "      <th>5</th>\n",
       "      <td>2011-05-01</td>\n",
       "    </tr>\n",
       "    <tr>\n",
       "      <th>6</th>\n",
       "      <td>2011-06-01</td>\n",
       "    </tr>\n",
       "    <tr>\n",
       "      <th>7</th>\n",
       "      <td>2011-07-01</td>\n",
       "    </tr>\n",
       "    <tr>\n",
       "      <th>8</th>\n",
       "      <td>2011-08-01</td>\n",
       "    </tr>\n",
       "    <tr>\n",
       "      <th>9</th>\n",
       "      <td>2011-09-01</td>\n",
       "    </tr>\n",
       "    <tr>\n",
       "      <th>10</th>\n",
       "      <td>2011-10-01</td>\n",
       "    </tr>\n",
       "    <tr>\n",
       "      <th>11</th>\n",
       "      <td>2011-11-01</td>\n",
       "    </tr>\n",
       "    <tr>\n",
       "      <th>12</th>\n",
       "      <td>2011-12-01</td>\n",
       "    </tr>\n",
       "  </tbody>\n",
       "</table>\n",
       "</div>"
      ],
      "text/plain": [
       "       months\n",
       "0  2010-12-01\n",
       "1  2011-01-01\n",
       "2  2011-02-01\n",
       "3  2011-03-01\n",
       "4  2011-04-01\n",
       "5  2011-05-01\n",
       "6  2011-06-01\n",
       "7  2011-07-01\n",
       "8  2011-08-01\n",
       "9  2011-09-01\n",
       "10 2011-10-01\n",
       "11 2011-11-01\n",
       "12 2011-12-01"
      ]
     },
     "execution_count": 652,
     "metadata": {},
     "output_type": "execute_result"
    }
   ],
   "source": [
    "dt"
   ]
  },
  {
   "cell_type": "markdown",
   "id": "4f228563-12e0-4593-8ef0-37f417c5d78c",
   "metadata": {},
   "source": [
    "### Add an auxiliary key\n"
   ]
  },
  {
   "cell_type": "code",
   "execution_count": 653,
   "id": "7c761e8c-aba1-4fe6-9998-b647a193d51d",
   "metadata": {},
   "outputs": [],
   "source": [
    "dt['key'] = 1"
   ]
  },
  {
   "cell_type": "code",
   "execution_count": 654,
   "id": "4bcc70a3-369d-4932-a23f-8f7ee39c7c8a",
   "metadata": {},
   "outputs": [
    {
     "data": {
      "text/html": [
       "<div>\n",
       "<style scoped>\n",
       "    .dataframe tbody tr th:only-of-type {\n",
       "        vertical-align: middle;\n",
       "    }\n",
       "\n",
       "    .dataframe tbody tr th {\n",
       "        vertical-align: top;\n",
       "    }\n",
       "\n",
       "    .dataframe thead th {\n",
       "        text-align: right;\n",
       "    }\n",
       "</style>\n",
       "<table border=\"1\" class=\"dataframe\">\n",
       "  <thead>\n",
       "    <tr style=\"text-align: right;\">\n",
       "      <th></th>\n",
       "      <th>months</th>\n",
       "      <th>key</th>\n",
       "    </tr>\n",
       "  </thead>\n",
       "  <tbody>\n",
       "    <tr>\n",
       "      <th>0</th>\n",
       "      <td>2010-12-01</td>\n",
       "      <td>1</td>\n",
       "    </tr>\n",
       "    <tr>\n",
       "      <th>1</th>\n",
       "      <td>2011-01-01</td>\n",
       "      <td>1</td>\n",
       "    </tr>\n",
       "    <tr>\n",
       "      <th>2</th>\n",
       "      <td>2011-02-01</td>\n",
       "      <td>1</td>\n",
       "    </tr>\n",
       "    <tr>\n",
       "      <th>3</th>\n",
       "      <td>2011-03-01</td>\n",
       "      <td>1</td>\n",
       "    </tr>\n",
       "    <tr>\n",
       "      <th>4</th>\n",
       "      <td>2011-04-01</td>\n",
       "      <td>1</td>\n",
       "    </tr>\n",
       "    <tr>\n",
       "      <th>5</th>\n",
       "      <td>2011-05-01</td>\n",
       "      <td>1</td>\n",
       "    </tr>\n",
       "    <tr>\n",
       "      <th>6</th>\n",
       "      <td>2011-06-01</td>\n",
       "      <td>1</td>\n",
       "    </tr>\n",
       "    <tr>\n",
       "      <th>7</th>\n",
       "      <td>2011-07-01</td>\n",
       "      <td>1</td>\n",
       "    </tr>\n",
       "    <tr>\n",
       "      <th>8</th>\n",
       "      <td>2011-08-01</td>\n",
       "      <td>1</td>\n",
       "    </tr>\n",
       "    <tr>\n",
       "      <th>9</th>\n",
       "      <td>2011-09-01</td>\n",
       "      <td>1</td>\n",
       "    </tr>\n",
       "    <tr>\n",
       "      <th>10</th>\n",
       "      <td>2011-10-01</td>\n",
       "      <td>1</td>\n",
       "    </tr>\n",
       "    <tr>\n",
       "      <th>11</th>\n",
       "      <td>2011-11-01</td>\n",
       "      <td>1</td>\n",
       "    </tr>\n",
       "    <tr>\n",
       "      <th>12</th>\n",
       "      <td>2011-12-01</td>\n",
       "      <td>1</td>\n",
       "    </tr>\n",
       "  </tbody>\n",
       "</table>\n",
       "</div>"
      ],
      "text/plain": [
       "       months  key\n",
       "0  2010-12-01    1\n",
       "1  2011-01-01    1\n",
       "2  2011-02-01    1\n",
       "3  2011-03-01    1\n",
       "4  2011-04-01    1\n",
       "5  2011-05-01    1\n",
       "6  2011-06-01    1\n",
       "7  2011-07-01    1\n",
       "8  2011-08-01    1\n",
       "9  2011-09-01    1\n",
       "10 2011-10-01    1\n",
       "11 2011-11-01    1\n",
       "12 2011-12-01    1"
      ]
     },
     "execution_count": 654,
     "metadata": {},
     "output_type": "execute_result"
    }
   ],
   "source": [
    "dt"
   ]
  },
  {
   "cell_type": "code",
   "execution_count": 655,
   "id": "9025e1f2-24f7-404c-adb2-7bfc4e81178a",
   "metadata": {},
   "outputs": [],
   "source": [
    "users['key'] = 1"
   ]
  },
  {
   "cell_type": "code",
   "execution_count": 656,
   "id": "3fec6c76-ad46-45f9-807e-ac6d6b3dfdd8",
   "metadata": {},
   "outputs": [
    {
     "data": {
      "text/html": [
       "<div>\n",
       "<style scoped>\n",
       "    .dataframe tbody tr th:only-of-type {\n",
       "        vertical-align: middle;\n",
       "    }\n",
       "\n",
       "    .dataframe tbody tr th {\n",
       "        vertical-align: top;\n",
       "    }\n",
       "\n",
       "    .dataframe thead th {\n",
       "        text-align: right;\n",
       "    }\n",
       "</style>\n",
       "<table border=\"1\" class=\"dataframe\">\n",
       "  <thead>\n",
       "    <tr style=\"text-align: right;\">\n",
       "      <th></th>\n",
       "      <th>customer_id</th>\n",
       "      <th>reg_date</th>\n",
       "      <th>reg_month</th>\n",
       "      <th>key</th>\n",
       "    </tr>\n",
       "  </thead>\n",
       "  <tbody>\n",
       "    <tr>\n",
       "      <th>0</th>\n",
       "      <td>12346.0</td>\n",
       "      <td>2011-01-18 10:01:00</td>\n",
       "      <td>2011-01-01</td>\n",
       "      <td>1</td>\n",
       "    </tr>\n",
       "    <tr>\n",
       "      <th>1</th>\n",
       "      <td>12347.0</td>\n",
       "      <td>2010-12-07 14:57:00</td>\n",
       "      <td>2010-12-01</td>\n",
       "      <td>1</td>\n",
       "    </tr>\n",
       "    <tr>\n",
       "      <th>2</th>\n",
       "      <td>12348.0</td>\n",
       "      <td>2010-12-16 19:09:00</td>\n",
       "      <td>2010-12-01</td>\n",
       "      <td>1</td>\n",
       "    </tr>\n",
       "    <tr>\n",
       "      <th>3</th>\n",
       "      <td>12349.0</td>\n",
       "      <td>2011-11-21 09:51:00</td>\n",
       "      <td>2011-11-01</td>\n",
       "      <td>1</td>\n",
       "    </tr>\n",
       "    <tr>\n",
       "      <th>4</th>\n",
       "      <td>12350.0</td>\n",
       "      <td>2011-02-02 16:01:00</td>\n",
       "      <td>2011-02-01</td>\n",
       "      <td>1</td>\n",
       "    </tr>\n",
       "  </tbody>\n",
       "</table>\n",
       "</div>"
      ],
      "text/plain": [
       "   customer_id            reg_date  reg_month  key\n",
       "0      12346.0 2011-01-18 10:01:00 2011-01-01    1\n",
       "1      12347.0 2010-12-07 14:57:00 2010-12-01    1\n",
       "2      12348.0 2010-12-16 19:09:00 2010-12-01    1\n",
       "3      12349.0 2011-11-21 09:51:00 2011-11-01    1\n",
       "4      12350.0 2011-02-02 16:01:00 2011-02-01    1"
      ]
     },
     "execution_count": 656,
     "metadata": {},
     "output_type": "execute_result"
    }
   ],
   "source": [
    "users.head()"
   ]
  },
  {
   "cell_type": "markdown",
   "id": "d96186e7-ffb4-48a5-a693-8cf4f75f528b",
   "metadata": {},
   "source": [
    "### Template"
   ]
  },
  {
   "cell_type": "code",
   "execution_count": 657,
   "id": "f687f980-7537-49ef-9b17-9969dc7cbd60",
   "metadata": {},
   "outputs": [],
   "source": [
    "template = dt.merge(users, on='key')"
   ]
  },
  {
   "cell_type": "code",
   "execution_count": 658,
   "id": "4697d7c8-0013-4fef-8346-6ae9f32fd19a",
   "metadata": {},
   "outputs": [
    {
     "data": {
      "text/html": [
       "<div>\n",
       "<style scoped>\n",
       "    .dataframe tbody tr th:only-of-type {\n",
       "        vertical-align: middle;\n",
       "    }\n",
       "\n",
       "    .dataframe tbody tr th {\n",
       "        vertical-align: top;\n",
       "    }\n",
       "\n",
       "    .dataframe thead th {\n",
       "        text-align: right;\n",
       "    }\n",
       "</style>\n",
       "<table border=\"1\" class=\"dataframe\">\n",
       "  <thead>\n",
       "    <tr style=\"text-align: right;\">\n",
       "      <th></th>\n",
       "      <th>months</th>\n",
       "      <th>key</th>\n",
       "      <th>customer_id</th>\n",
       "      <th>reg_date</th>\n",
       "      <th>reg_month</th>\n",
       "    </tr>\n",
       "  </thead>\n",
       "  <tbody>\n",
       "    <tr>\n",
       "      <th>0</th>\n",
       "      <td>2010-12-01</td>\n",
       "      <td>1</td>\n",
       "      <td>12346.0</td>\n",
       "      <td>2011-01-18 10:01:00</td>\n",
       "      <td>2011-01-01</td>\n",
       "    </tr>\n",
       "    <tr>\n",
       "      <th>1</th>\n",
       "      <td>2010-12-01</td>\n",
       "      <td>1</td>\n",
       "      <td>12347.0</td>\n",
       "      <td>2010-12-07 14:57:00</td>\n",
       "      <td>2010-12-01</td>\n",
       "    </tr>\n",
       "    <tr>\n",
       "      <th>2</th>\n",
       "      <td>2010-12-01</td>\n",
       "      <td>1</td>\n",
       "      <td>12348.0</td>\n",
       "      <td>2010-12-16 19:09:00</td>\n",
       "      <td>2010-12-01</td>\n",
       "    </tr>\n",
       "    <tr>\n",
       "      <th>3</th>\n",
       "      <td>2010-12-01</td>\n",
       "      <td>1</td>\n",
       "      <td>12349.0</td>\n",
       "      <td>2011-11-21 09:51:00</td>\n",
       "      <td>2011-11-01</td>\n",
       "    </tr>\n",
       "    <tr>\n",
       "      <th>4</th>\n",
       "      <td>2010-12-01</td>\n",
       "      <td>1</td>\n",
       "      <td>12350.0</td>\n",
       "      <td>2011-02-02 16:01:00</td>\n",
       "      <td>2011-02-01</td>\n",
       "    </tr>\n",
       "  </tbody>\n",
       "</table>\n",
       "</div>"
      ],
      "text/plain": [
       "      months  key  customer_id            reg_date  reg_month\n",
       "0 2010-12-01    1      12346.0 2011-01-18 10:01:00 2011-01-01\n",
       "1 2010-12-01    1      12347.0 2010-12-07 14:57:00 2010-12-01\n",
       "2 2010-12-01    1      12348.0 2010-12-16 19:09:00 2010-12-01\n",
       "3 2010-12-01    1      12349.0 2011-11-21 09:51:00 2011-11-01\n",
       "4 2010-12-01    1      12350.0 2011-02-02 16:01:00 2011-02-01"
      ]
     },
     "execution_count": 658,
     "metadata": {},
     "output_type": "execute_result"
    }
   ],
   "source": [
    "template.head()"
   ]
  },
  {
   "cell_type": "code",
   "execution_count": 659,
   "id": "1bac0586-23c5-4170-bc72-8a940be05c4f",
   "metadata": {},
   "outputs": [],
   "source": [
    "template = dt.merge(users, on='key')[['months','customer_id','reg_date','reg_month']]"
   ]
  },
  {
   "cell_type": "code",
   "execution_count": 660,
   "id": "59996cd9-1af1-45db-b4e8-251de4be8fb6",
   "metadata": {},
   "outputs": [
    {
     "data": {
      "text/html": [
       "<div>\n",
       "<style scoped>\n",
       "    .dataframe tbody tr th:only-of-type {\n",
       "        vertical-align: middle;\n",
       "    }\n",
       "\n",
       "    .dataframe tbody tr th {\n",
       "        vertical-align: top;\n",
       "    }\n",
       "\n",
       "    .dataframe thead th {\n",
       "        text-align: right;\n",
       "    }\n",
       "</style>\n",
       "<table border=\"1\" class=\"dataframe\">\n",
       "  <thead>\n",
       "    <tr style=\"text-align: right;\">\n",
       "      <th></th>\n",
       "      <th>months</th>\n",
       "      <th>customer_id</th>\n",
       "      <th>reg_date</th>\n",
       "      <th>reg_month</th>\n",
       "    </tr>\n",
       "  </thead>\n",
       "  <tbody>\n",
       "    <tr>\n",
       "      <th>0</th>\n",
       "      <td>2010-12-01</td>\n",
       "      <td>12346.0</td>\n",
       "      <td>2011-01-18 10:01:00</td>\n",
       "      <td>2011-01-01</td>\n",
       "    </tr>\n",
       "    <tr>\n",
       "      <th>1</th>\n",
       "      <td>2010-12-01</td>\n",
       "      <td>12347.0</td>\n",
       "      <td>2010-12-07 14:57:00</td>\n",
       "      <td>2010-12-01</td>\n",
       "    </tr>\n",
       "    <tr>\n",
       "      <th>2</th>\n",
       "      <td>2010-12-01</td>\n",
       "      <td>12348.0</td>\n",
       "      <td>2010-12-16 19:09:00</td>\n",
       "      <td>2010-12-01</td>\n",
       "    </tr>\n",
       "    <tr>\n",
       "      <th>3</th>\n",
       "      <td>2010-12-01</td>\n",
       "      <td>12349.0</td>\n",
       "      <td>2011-11-21 09:51:00</td>\n",
       "      <td>2011-11-01</td>\n",
       "    </tr>\n",
       "    <tr>\n",
       "      <th>4</th>\n",
       "      <td>2010-12-01</td>\n",
       "      <td>12350.0</td>\n",
       "      <td>2011-02-02 16:01:00</td>\n",
       "      <td>2011-02-01</td>\n",
       "    </tr>\n",
       "    <tr>\n",
       "      <th>...</th>\n",
       "      <td>...</td>\n",
       "      <td>...</td>\n",
       "      <td>...</td>\n",
       "      <td>...</td>\n",
       "    </tr>\n",
       "    <tr>\n",
       "      <th>56831</th>\n",
       "      <td>2011-12-01</td>\n",
       "      <td>18280.0</td>\n",
       "      <td>2011-03-07 09:52:00</td>\n",
       "      <td>2011-03-01</td>\n",
       "    </tr>\n",
       "    <tr>\n",
       "      <th>56832</th>\n",
       "      <td>2011-12-01</td>\n",
       "      <td>18281.0</td>\n",
       "      <td>2011-06-12 10:53:00</td>\n",
       "      <td>2011-06-01</td>\n",
       "    </tr>\n",
       "    <tr>\n",
       "      <th>56833</th>\n",
       "      <td>2011-12-01</td>\n",
       "      <td>18282.0</td>\n",
       "      <td>2011-08-05 13:35:00</td>\n",
       "      <td>2011-08-01</td>\n",
       "    </tr>\n",
       "    <tr>\n",
       "      <th>56834</th>\n",
       "      <td>2011-12-01</td>\n",
       "      <td>18283.0</td>\n",
       "      <td>2011-01-06 14:14:00</td>\n",
       "      <td>2011-01-01</td>\n",
       "    </tr>\n",
       "    <tr>\n",
       "      <th>56835</th>\n",
       "      <td>2011-12-01</td>\n",
       "      <td>18287.0</td>\n",
       "      <td>2011-05-22 10:39:00</td>\n",
       "      <td>2011-05-01</td>\n",
       "    </tr>\n",
       "  </tbody>\n",
       "</table>\n",
       "<p>56836 rows × 4 columns</p>\n",
       "</div>"
      ],
      "text/plain": [
       "          months  customer_id            reg_date  reg_month\n",
       "0     2010-12-01      12346.0 2011-01-18 10:01:00 2011-01-01\n",
       "1     2010-12-01      12347.0 2010-12-07 14:57:00 2010-12-01\n",
       "2     2010-12-01      12348.0 2010-12-16 19:09:00 2010-12-01\n",
       "3     2010-12-01      12349.0 2011-11-21 09:51:00 2011-11-01\n",
       "4     2010-12-01      12350.0 2011-02-02 16:01:00 2011-02-01\n",
       "...          ...          ...                 ...        ...\n",
       "56831 2011-12-01      18280.0 2011-03-07 09:52:00 2011-03-01\n",
       "56832 2011-12-01      18281.0 2011-06-12 10:53:00 2011-06-01\n",
       "56833 2011-12-01      18282.0 2011-08-05 13:35:00 2011-08-01\n",
       "56834 2011-12-01      18283.0 2011-01-06 14:14:00 2011-01-01\n",
       "56835 2011-12-01      18287.0 2011-05-22 10:39:00 2011-05-01\n",
       "\n",
       "[56836 rows x 4 columns]"
      ]
     },
     "execution_count": 660,
     "metadata": {},
     "output_type": "execute_result"
    }
   ],
   "source": [
    "template"
   ]
  },
  {
   "cell_type": "code",
   "execution_count": 661,
   "id": "c0751840-8e78-4584-9947-0de25a346490",
   "metadata": {},
   "outputs": [
    {
     "data": {
      "text/plain": [
       "56836"
      ]
     },
     "execution_count": 661,
     "metadata": {},
     "output_type": "execute_result"
    }
   ],
   "source": [
    "#check merge\n",
    "len(users) * len(dt)"
   ]
  },
  {
   "cell_type": "code",
   "execution_count": 675,
   "id": "173e5024-203f-4f6d-b52a-c6d259a001b8",
   "metadata": {},
   "outputs": [],
   "source": [
    "#remove unnecessary customer months before registration \n",
    "template = template[template.months >= template.reg_month]"
   ]
  },
  {
   "cell_type": "code",
   "execution_count": 676,
   "id": "28ad1fa4-547d-4415-b22c-f3d3b7427a5c",
   "metadata": {},
   "outputs": [
    {
     "data": {
      "text/html": [
       "<div>\n",
       "<style scoped>\n",
       "    .dataframe tbody tr th:only-of-type {\n",
       "        vertical-align: middle;\n",
       "    }\n",
       "\n",
       "    .dataframe tbody tr th {\n",
       "        vertical-align: top;\n",
       "    }\n",
       "\n",
       "    .dataframe thead th {\n",
       "        text-align: right;\n",
       "    }\n",
       "</style>\n",
       "<table border=\"1\" class=\"dataframe\">\n",
       "  <thead>\n",
       "    <tr style=\"text-align: right;\">\n",
       "      <th></th>\n",
       "      <th>months</th>\n",
       "      <th>customer_id</th>\n",
       "      <th>reg_date</th>\n",
       "      <th>reg_month</th>\n",
       "    </tr>\n",
       "  </thead>\n",
       "  <tbody>\n",
       "    <tr>\n",
       "      <th>1</th>\n",
       "      <td>2010-12-01</td>\n",
       "      <td>12347.0</td>\n",
       "      <td>2010-12-07 14:57:00</td>\n",
       "      <td>2010-12-01</td>\n",
       "    </tr>\n",
       "    <tr>\n",
       "      <th>2</th>\n",
       "      <td>2010-12-01</td>\n",
       "      <td>12348.0</td>\n",
       "      <td>2010-12-16 19:09:00</td>\n",
       "      <td>2010-12-01</td>\n",
       "    </tr>\n",
       "    <tr>\n",
       "      <th>20</th>\n",
       "      <td>2010-12-01</td>\n",
       "      <td>12370.0</td>\n",
       "      <td>2010-12-14 12:58:00</td>\n",
       "      <td>2010-12-01</td>\n",
       "    </tr>\n",
       "    <tr>\n",
       "      <th>26</th>\n",
       "      <td>2010-12-01</td>\n",
       "      <td>12377.0</td>\n",
       "      <td>2010-12-20 09:37:00</td>\n",
       "      <td>2010-12-01</td>\n",
       "    </tr>\n",
       "    <tr>\n",
       "      <th>31</th>\n",
       "      <td>2010-12-01</td>\n",
       "      <td>12383.0</td>\n",
       "      <td>2010-12-22 14:28:00</td>\n",
       "      <td>2010-12-01</td>\n",
       "    </tr>\n",
       "    <tr>\n",
       "      <th>...</th>\n",
       "      <td>...</td>\n",
       "      <td>...</td>\n",
       "      <td>...</td>\n",
       "      <td>...</td>\n",
       "    </tr>\n",
       "    <tr>\n",
       "      <th>56831</th>\n",
       "      <td>2011-12-01</td>\n",
       "      <td>18280.0</td>\n",
       "      <td>2011-03-07 09:52:00</td>\n",
       "      <td>2011-03-01</td>\n",
       "    </tr>\n",
       "    <tr>\n",
       "      <th>56832</th>\n",
       "      <td>2011-12-01</td>\n",
       "      <td>18281.0</td>\n",
       "      <td>2011-06-12 10:53:00</td>\n",
       "      <td>2011-06-01</td>\n",
       "    </tr>\n",
       "    <tr>\n",
       "      <th>56833</th>\n",
       "      <td>2011-12-01</td>\n",
       "      <td>18282.0</td>\n",
       "      <td>2011-08-05 13:35:00</td>\n",
       "      <td>2011-08-01</td>\n",
       "    </tr>\n",
       "    <tr>\n",
       "      <th>56834</th>\n",
       "      <td>2011-12-01</td>\n",
       "      <td>18283.0</td>\n",
       "      <td>2011-01-06 14:14:00</td>\n",
       "      <td>2011-01-01</td>\n",
       "    </tr>\n",
       "    <tr>\n",
       "      <th>56835</th>\n",
       "      <td>2011-12-01</td>\n",
       "      <td>18287.0</td>\n",
       "      <td>2011-05-22 10:39:00</td>\n",
       "      <td>2011-05-01</td>\n",
       "    </tr>\n",
       "  </tbody>\n",
       "</table>\n",
       "<p>37436 rows × 4 columns</p>\n",
       "</div>"
      ],
      "text/plain": [
       "          months  customer_id            reg_date  reg_month\n",
       "1     2010-12-01      12347.0 2010-12-07 14:57:00 2010-12-01\n",
       "2     2010-12-01      12348.0 2010-12-16 19:09:00 2010-12-01\n",
       "20    2010-12-01      12370.0 2010-12-14 12:58:00 2010-12-01\n",
       "26    2010-12-01      12377.0 2010-12-20 09:37:00 2010-12-01\n",
       "31    2010-12-01      12383.0 2010-12-22 14:28:00 2010-12-01\n",
       "...          ...          ...                 ...        ...\n",
       "56831 2011-12-01      18280.0 2011-03-07 09:52:00 2011-03-01\n",
       "56832 2011-12-01      18281.0 2011-06-12 10:53:00 2011-06-01\n",
       "56833 2011-12-01      18282.0 2011-08-05 13:35:00 2011-08-01\n",
       "56834 2011-12-01      18283.0 2011-01-06 14:14:00 2011-01-01\n",
       "56835 2011-12-01      18287.0 2011-05-22 10:39:00 2011-05-01\n",
       "\n",
       "[37436 rows x 4 columns]"
      ]
     },
     "execution_count": 676,
     "metadata": {},
     "output_type": "execute_result"
    }
   ],
   "source": [
    "template"
   ]
  },
  {
   "cell_type": "code",
   "execution_count": 683,
   "id": "2fa7dc22-a636-46e7-8e57-8cf0181ff8ed",
   "metadata": {},
   "outputs": [
    {
     "data": {
      "text/html": [
       "<div>\n",
       "<style scoped>\n",
       "    .dataframe tbody tr th:only-of-type {\n",
       "        vertical-align: middle;\n",
       "    }\n",
       "\n",
       "    .dataframe tbody tr th {\n",
       "        vertical-align: top;\n",
       "    }\n",
       "\n",
       "    .dataframe thead th {\n",
       "        text-align: right;\n",
       "    }\n",
       "</style>\n",
       "<table border=\"1\" class=\"dataframe\">\n",
       "  <thead>\n",
       "    <tr style=\"text-align: right;\">\n",
       "      <th></th>\n",
       "      <th>months</th>\n",
       "      <th>customer_id</th>\n",
       "      <th>reg_date</th>\n",
       "      <th>reg_month</th>\n",
       "    </tr>\n",
       "  </thead>\n",
       "  <tbody>\n",
       "    <tr>\n",
       "      <th>4372</th>\n",
       "      <td>2011-01-01</td>\n",
       "      <td>12346.0</td>\n",
       "      <td>2011-01-18 10:01:00</td>\n",
       "      <td>2011-01-01</td>\n",
       "    </tr>\n",
       "    <tr>\n",
       "      <th>8744</th>\n",
       "      <td>2011-02-01</td>\n",
       "      <td>12346.0</td>\n",
       "      <td>2011-01-18 10:01:00</td>\n",
       "      <td>2011-01-01</td>\n",
       "    </tr>\n",
       "    <tr>\n",
       "      <th>13116</th>\n",
       "      <td>2011-03-01</td>\n",
       "      <td>12346.0</td>\n",
       "      <td>2011-01-18 10:01:00</td>\n",
       "      <td>2011-01-01</td>\n",
       "    </tr>\n",
       "    <tr>\n",
       "      <th>17488</th>\n",
       "      <td>2011-04-01</td>\n",
       "      <td>12346.0</td>\n",
       "      <td>2011-01-18 10:01:00</td>\n",
       "      <td>2011-01-01</td>\n",
       "    </tr>\n",
       "    <tr>\n",
       "      <th>21860</th>\n",
       "      <td>2011-05-01</td>\n",
       "      <td>12346.0</td>\n",
       "      <td>2011-01-18 10:01:00</td>\n",
       "      <td>2011-01-01</td>\n",
       "    </tr>\n",
       "    <tr>\n",
       "      <th>26232</th>\n",
       "      <td>2011-06-01</td>\n",
       "      <td>12346.0</td>\n",
       "      <td>2011-01-18 10:01:00</td>\n",
       "      <td>2011-01-01</td>\n",
       "    </tr>\n",
       "    <tr>\n",
       "      <th>30604</th>\n",
       "      <td>2011-07-01</td>\n",
       "      <td>12346.0</td>\n",
       "      <td>2011-01-18 10:01:00</td>\n",
       "      <td>2011-01-01</td>\n",
       "    </tr>\n",
       "    <tr>\n",
       "      <th>34976</th>\n",
       "      <td>2011-08-01</td>\n",
       "      <td>12346.0</td>\n",
       "      <td>2011-01-18 10:01:00</td>\n",
       "      <td>2011-01-01</td>\n",
       "    </tr>\n",
       "    <tr>\n",
       "      <th>39348</th>\n",
       "      <td>2011-09-01</td>\n",
       "      <td>12346.0</td>\n",
       "      <td>2011-01-18 10:01:00</td>\n",
       "      <td>2011-01-01</td>\n",
       "    </tr>\n",
       "    <tr>\n",
       "      <th>43720</th>\n",
       "      <td>2011-10-01</td>\n",
       "      <td>12346.0</td>\n",
       "      <td>2011-01-18 10:01:00</td>\n",
       "      <td>2011-01-01</td>\n",
       "    </tr>\n",
       "    <tr>\n",
       "      <th>48092</th>\n",
       "      <td>2011-11-01</td>\n",
       "      <td>12346.0</td>\n",
       "      <td>2011-01-18 10:01:00</td>\n",
       "      <td>2011-01-01</td>\n",
       "    </tr>\n",
       "    <tr>\n",
       "      <th>52464</th>\n",
       "      <td>2011-12-01</td>\n",
       "      <td>12346.0</td>\n",
       "      <td>2011-01-18 10:01:00</td>\n",
       "      <td>2011-01-01</td>\n",
       "    </tr>\n",
       "  </tbody>\n",
       "</table>\n",
       "</div>"
      ],
      "text/plain": [
       "          months  customer_id            reg_date  reg_month\n",
       "4372  2011-01-01      12346.0 2011-01-18 10:01:00 2011-01-01\n",
       "8744  2011-02-01      12346.0 2011-01-18 10:01:00 2011-01-01\n",
       "13116 2011-03-01      12346.0 2011-01-18 10:01:00 2011-01-01\n",
       "17488 2011-04-01      12346.0 2011-01-18 10:01:00 2011-01-01\n",
       "21860 2011-05-01      12346.0 2011-01-18 10:01:00 2011-01-01\n",
       "26232 2011-06-01      12346.0 2011-01-18 10:01:00 2011-01-01\n",
       "30604 2011-07-01      12346.0 2011-01-18 10:01:00 2011-01-01\n",
       "34976 2011-08-01      12346.0 2011-01-18 10:01:00 2011-01-01\n",
       "39348 2011-09-01      12346.0 2011-01-18 10:01:00 2011-01-01\n",
       "43720 2011-10-01      12346.0 2011-01-18 10:01:00 2011-01-01\n",
       "48092 2011-11-01      12346.0 2011-01-18 10:01:00 2011-01-01\n",
       "52464 2011-12-01      12346.0 2011-01-18 10:01:00 2011-01-01"
      ]
     },
     "execution_count": 683,
     "metadata": {},
     "output_type": "execute_result"
    }
   ],
   "source": [
    "#check data by user 12346\n",
    "template[template.customer_id == 12346.0]"
   ]
  },
  {
   "cell_type": "code",
   "execution_count": 684,
   "id": "21fe18c1-0bf4-4902-9709-feec88cb316c",
   "metadata": {},
   "outputs": [],
   "source": [
    "#WE Have created a very good template!!!"
   ]
  },
  {
   "cell_type": "markdown",
   "id": "2edc9745-14dc-4c2f-a70e-49dbed28cceb",
   "metadata": {},
   "source": [
    "### Try to link revenue to our template"
   ]
  },
  {
   "cell_type": "markdown",
   "id": "8e1385dd-8504-453f-8ac3-266144f4b418",
   "metadata": {},
   "source": [
    "## !!! Агрегацию делают чаще перед джоином"
   ]
  },
  {
   "cell_type": "code",
   "execution_count": 685,
   "id": "f6cb0667-2610-4dbb-b783-a8dc42f6fa5b",
   "metadata": {},
   "outputs": [],
   "source": [
    "#Цель - приджоинить выручку"
   ]
  },
  {
   "cell_type": "code",
   "execution_count": 686,
   "id": "6770d6ae-1be7-4e82-bab0-b9a35dbd529c",
   "metadata": {},
   "outputs": [],
   "source": [
    "#aggregate per month\n",
    "users_months = df.groupby(['customer_id','invoice_month'])['revenue'].sum().reset_index()"
   ]
  },
  {
   "cell_type": "code",
   "execution_count": 688,
   "id": "b8cda2be-d222-4541-bfa9-354d629a7f8a",
   "metadata": {},
   "outputs": [
    {
     "data": {
      "text/html": [
       "<div>\n",
       "<style scoped>\n",
       "    .dataframe tbody tr th:only-of-type {\n",
       "        vertical-align: middle;\n",
       "    }\n",
       "\n",
       "    .dataframe tbody tr th {\n",
       "        vertical-align: top;\n",
       "    }\n",
       "\n",
       "    .dataframe thead th {\n",
       "        text-align: right;\n",
       "    }\n",
       "</style>\n",
       "<table border=\"1\" class=\"dataframe\">\n",
       "  <thead>\n",
       "    <tr style=\"text-align: right;\">\n",
       "      <th></th>\n",
       "      <th>customer_id</th>\n",
       "      <th>invoice_month</th>\n",
       "      <th>revenue</th>\n",
       "    </tr>\n",
       "  </thead>\n",
       "  <tbody>\n",
       "    <tr>\n",
       "      <th>0</th>\n",
       "      <td>12346.0</td>\n",
       "      <td>2011-01-01</td>\n",
       "      <td>0.00</td>\n",
       "    </tr>\n",
       "    <tr>\n",
       "      <th>1</th>\n",
       "      <td>12347.0</td>\n",
       "      <td>2010-12-01</td>\n",
       "      <td>711.79</td>\n",
       "    </tr>\n",
       "    <tr>\n",
       "      <th>2</th>\n",
       "      <td>12347.0</td>\n",
       "      <td>2011-01-01</td>\n",
       "      <td>475.39</td>\n",
       "    </tr>\n",
       "    <tr>\n",
       "      <th>3</th>\n",
       "      <td>12347.0</td>\n",
       "      <td>2011-04-01</td>\n",
       "      <td>636.25</td>\n",
       "    </tr>\n",
       "    <tr>\n",
       "      <th>4</th>\n",
       "      <td>12347.0</td>\n",
       "      <td>2011-06-01</td>\n",
       "      <td>382.52</td>\n",
       "    </tr>\n",
       "    <tr>\n",
       "      <th>...</th>\n",
       "      <td>...</td>\n",
       "      <td>...</td>\n",
       "      <td>...</td>\n",
       "    </tr>\n",
       "    <tr>\n",
       "      <th>13670</th>\n",
       "      <td>18283.0</td>\n",
       "      <td>2011-10-01</td>\n",
       "      <td>114.65</td>\n",
       "    </tr>\n",
       "    <tr>\n",
       "      <th>13671</th>\n",
       "      <td>18283.0</td>\n",
       "      <td>2011-11-01</td>\n",
       "      <td>651.56</td>\n",
       "    </tr>\n",
       "    <tr>\n",
       "      <th>13672</th>\n",
       "      <td>18283.0</td>\n",
       "      <td>2011-12-01</td>\n",
       "      <td>208.00</td>\n",
       "    </tr>\n",
       "    <tr>\n",
       "      <th>13673</th>\n",
       "      <td>18287.0</td>\n",
       "      <td>2011-05-01</td>\n",
       "      <td>765.28</td>\n",
       "    </tr>\n",
       "    <tr>\n",
       "      <th>13674</th>\n",
       "      <td>18287.0</td>\n",
       "      <td>2011-10-01</td>\n",
       "      <td>1072.00</td>\n",
       "    </tr>\n",
       "  </tbody>\n",
       "</table>\n",
       "<p>13675 rows × 3 columns</p>\n",
       "</div>"
      ],
      "text/plain": [
       "       customer_id invoice_month  revenue\n",
       "0          12346.0    2011-01-01     0.00\n",
       "1          12347.0    2010-12-01   711.79\n",
       "2          12347.0    2011-01-01   475.39\n",
       "3          12347.0    2011-04-01   636.25\n",
       "4          12347.0    2011-06-01   382.52\n",
       "...            ...           ...      ...\n",
       "13670      18283.0    2011-10-01   114.65\n",
       "13671      18283.0    2011-11-01   651.56\n",
       "13672      18283.0    2011-12-01   208.00\n",
       "13673      18287.0    2011-05-01   765.28\n",
       "13674      18287.0    2011-10-01  1072.00\n",
       "\n",
       "[13675 rows x 3 columns]"
      ]
     },
     "execution_count": 688,
     "metadata": {},
     "output_type": "execute_result"
    }
   ],
   "source": [
    "users_months"
   ]
  },
  {
   "cell_type": "code",
   "execution_count": 687,
   "id": "929f10e6-deb9-495e-b683-dd297e3d5813",
   "metadata": {},
   "outputs": [
    {
     "data": {
      "text/html": [
       "<div>\n",
       "<style scoped>\n",
       "    .dataframe tbody tr th:only-of-type {\n",
       "        vertical-align: middle;\n",
       "    }\n",
       "\n",
       "    .dataframe tbody tr th {\n",
       "        vertical-align: top;\n",
       "    }\n",
       "\n",
       "    .dataframe thead th {\n",
       "        text-align: right;\n",
       "    }\n",
       "</style>\n",
       "<table border=\"1\" class=\"dataframe\">\n",
       "  <thead>\n",
       "    <tr style=\"text-align: right;\">\n",
       "      <th></th>\n",
       "      <th>invoice_no</th>\n",
       "      <th>stock_code</th>\n",
       "      <th>description</th>\n",
       "      <th>quantity</th>\n",
       "      <th>invoice_date</th>\n",
       "      <th>unitprice</th>\n",
       "      <th>customer_id</th>\n",
       "      <th>country</th>\n",
       "      <th>invoice_month</th>\n",
       "      <th>revenue</th>\n",
       "    </tr>\n",
       "  </thead>\n",
       "  <tbody>\n",
       "    <tr>\n",
       "      <th>61619</th>\n",
       "      <td>541431</td>\n",
       "      <td>23166</td>\n",
       "      <td>MEDIUM CERAMIC TOP STORAGE JAR</td>\n",
       "      <td>74215</td>\n",
       "      <td>2011-01-18 10:01:00</td>\n",
       "      <td>1.04</td>\n",
       "      <td>12346.0</td>\n",
       "      <td>United Kingdom</td>\n",
       "      <td>2011-01-01</td>\n",
       "      <td>77183.6</td>\n",
       "    </tr>\n",
       "    <tr>\n",
       "      <th>61624</th>\n",
       "      <td>C541433</td>\n",
       "      <td>23166</td>\n",
       "      <td>MEDIUM CERAMIC TOP STORAGE JAR</td>\n",
       "      <td>-74215</td>\n",
       "      <td>2011-01-18 10:17:00</td>\n",
       "      <td>1.04</td>\n",
       "      <td>12346.0</td>\n",
       "      <td>United Kingdom</td>\n",
       "      <td>2011-01-01</td>\n",
       "      <td>-77183.6</td>\n",
       "    </tr>\n",
       "  </tbody>\n",
       "</table>\n",
       "</div>"
      ],
      "text/plain": [
       "      invoice_no stock_code                     description  quantity  \\\n",
       "61619     541431      23166  MEDIUM CERAMIC TOP STORAGE JAR     74215   \n",
       "61624    C541433      23166  MEDIUM CERAMIC TOP STORAGE JAR    -74215   \n",
       "\n",
       "             invoice_date  unitprice  customer_id         country  \\\n",
       "61619 2011-01-18 10:01:00       1.04      12346.0  United Kingdom   \n",
       "61624 2011-01-18 10:17:00       1.04      12346.0  United Kingdom   \n",
       "\n",
       "      invoice_month  revenue  \n",
       "61619    2011-01-01  77183.6  \n",
       "61624    2011-01-01 -77183.6  "
      ]
     },
     "execution_count": 687,
     "metadata": {},
     "output_type": "execute_result"
    }
   ],
   "source": [
    "df[df['customer_id'] == 12346] #это возврат"
   ]
  },
  {
   "cell_type": "code",
   "execution_count": 670,
   "id": "ce7f8908-8f7d-47eb-9b9a-704061f8e6cf",
   "metadata": {},
   "outputs": [
    {
     "data": {
      "text/plain": [
       "Index(['customer_id', 'invoice_month', 'revenue'], dtype='object')"
      ]
     },
     "execution_count": 670,
     "metadata": {},
     "output_type": "execute_result"
    }
   ],
   "source": [
    "users_months.columns"
   ]
  },
  {
   "cell_type": "code",
   "execution_count": 689,
   "id": "93b08841-b52f-4117-bf43-7f0f03f8d6ff",
   "metadata": {},
   "outputs": [],
   "source": [
    "users_months.columns = ['customer_id', 'month', 'revenue']"
   ]
  },
  {
   "cell_type": "code",
   "execution_count": 690,
   "id": "2b7b466e-8fe6-4540-8873-61d0c00bd991",
   "metadata": {},
   "outputs": [
    {
     "data": {
      "text/html": [
       "<div>\n",
       "<style scoped>\n",
       "    .dataframe tbody tr th:only-of-type {\n",
       "        vertical-align: middle;\n",
       "    }\n",
       "\n",
       "    .dataframe tbody tr th {\n",
       "        vertical-align: top;\n",
       "    }\n",
       "\n",
       "    .dataframe thead th {\n",
       "        text-align: right;\n",
       "    }\n",
       "</style>\n",
       "<table border=\"1\" class=\"dataframe\">\n",
       "  <thead>\n",
       "    <tr style=\"text-align: right;\">\n",
       "      <th></th>\n",
       "      <th>customer_id</th>\n",
       "      <th>month</th>\n",
       "      <th>revenue</th>\n",
       "    </tr>\n",
       "  </thead>\n",
       "  <tbody>\n",
       "    <tr>\n",
       "      <th>0</th>\n",
       "      <td>12346.0</td>\n",
       "      <td>2011-01-01</td>\n",
       "      <td>0.00</td>\n",
       "    </tr>\n",
       "    <tr>\n",
       "      <th>1</th>\n",
       "      <td>12347.0</td>\n",
       "      <td>2010-12-01</td>\n",
       "      <td>711.79</td>\n",
       "    </tr>\n",
       "    <tr>\n",
       "      <th>2</th>\n",
       "      <td>12347.0</td>\n",
       "      <td>2011-01-01</td>\n",
       "      <td>475.39</td>\n",
       "    </tr>\n",
       "    <tr>\n",
       "      <th>3</th>\n",
       "      <td>12347.0</td>\n",
       "      <td>2011-04-01</td>\n",
       "      <td>636.25</td>\n",
       "    </tr>\n",
       "    <tr>\n",
       "      <th>4</th>\n",
       "      <td>12347.0</td>\n",
       "      <td>2011-06-01</td>\n",
       "      <td>382.52</td>\n",
       "    </tr>\n",
       "    <tr>\n",
       "      <th>...</th>\n",
       "      <td>...</td>\n",
       "      <td>...</td>\n",
       "      <td>...</td>\n",
       "    </tr>\n",
       "    <tr>\n",
       "      <th>13670</th>\n",
       "      <td>18283.0</td>\n",
       "      <td>2011-10-01</td>\n",
       "      <td>114.65</td>\n",
       "    </tr>\n",
       "    <tr>\n",
       "      <th>13671</th>\n",
       "      <td>18283.0</td>\n",
       "      <td>2011-11-01</td>\n",
       "      <td>651.56</td>\n",
       "    </tr>\n",
       "    <tr>\n",
       "      <th>13672</th>\n",
       "      <td>18283.0</td>\n",
       "      <td>2011-12-01</td>\n",
       "      <td>208.00</td>\n",
       "    </tr>\n",
       "    <tr>\n",
       "      <th>13673</th>\n",
       "      <td>18287.0</td>\n",
       "      <td>2011-05-01</td>\n",
       "      <td>765.28</td>\n",
       "    </tr>\n",
       "    <tr>\n",
       "      <th>13674</th>\n",
       "      <td>18287.0</td>\n",
       "      <td>2011-10-01</td>\n",
       "      <td>1072.00</td>\n",
       "    </tr>\n",
       "  </tbody>\n",
       "</table>\n",
       "<p>13675 rows × 3 columns</p>\n",
       "</div>"
      ],
      "text/plain": [
       "       customer_id      month  revenue\n",
       "0          12346.0 2011-01-01     0.00\n",
       "1          12347.0 2010-12-01   711.79\n",
       "2          12347.0 2011-01-01   475.39\n",
       "3          12347.0 2011-04-01   636.25\n",
       "4          12347.0 2011-06-01   382.52\n",
       "...            ...        ...      ...\n",
       "13670      18283.0 2011-10-01   114.65\n",
       "13671      18283.0 2011-11-01   651.56\n",
       "13672      18283.0 2011-12-01   208.00\n",
       "13673      18287.0 2011-05-01   765.28\n",
       "13674      18287.0 2011-10-01  1072.00\n",
       "\n",
       "[13675 rows x 3 columns]"
      ]
     },
     "execution_count": 690,
     "metadata": {},
     "output_type": "execute_result"
    }
   ],
   "source": [
    "users_months"
   ]
  },
  {
   "cell_type": "code",
   "execution_count": 691,
   "id": "6df6f18c-6b88-4588-9f76-48b26ba77637",
   "metadata": {},
   "outputs": [
    {
     "data": {
      "text/plain": [
       "9747747.933999998"
      ]
     },
     "execution_count": 691,
     "metadata": {},
     "output_type": "execute_result"
    }
   ],
   "source": [
    "#check revenue sum\n",
    "df.revenue.sum()"
   ]
  },
  {
   "cell_type": "code",
   "execution_count": 692,
   "id": "57731f11-20ab-4c19-9b54-9b87c51a673e",
   "metadata": {},
   "outputs": [
    {
     "data": {
      "text/plain": [
       "8300065.814"
      ]
     },
     "execution_count": 692,
     "metadata": {},
     "output_type": "execute_result"
    }
   ],
   "source": [
    "#check revenue sum\n",
    "users_months.revenue.sum()"
   ]
  },
  {
   "cell_type": "code",
   "execution_count": 693,
   "id": "cc2377e2-82be-4951-bef9-bf8972787ec3",
   "metadata": {},
   "outputs": [
    {
     "data": {
      "text/plain": [
       "invoice_no       0.000000\n",
       "stock_code       0.000000\n",
       "description      0.002683\n",
       "quantity         0.000000\n",
       "invoice_date     0.000000\n",
       "unitprice        0.000000\n",
       "customer_id      0.249267\n",
       "country          0.000000\n",
       "invoice_month    0.000000\n",
       "revenue          0.000000\n",
       "dtype: float64"
      ]
     },
     "execution_count": 693,
     "metadata": {},
     "output_type": "execute_result"
    }
   ],
   "source": [
    "#found the cause of the problem\n",
    "df.isna().mean()"
   ]
  },
  {
   "cell_type": "code",
   "execution_count": 694,
   "id": "b15733d6-775f-42ff-86fc-5a2e700fb573",
   "metadata": {},
   "outputs": [
    {
     "data": {
      "text/html": [
       "<div>\n",
       "<style scoped>\n",
       "    .dataframe tbody tr th:only-of-type {\n",
       "        vertical-align: middle;\n",
       "    }\n",
       "\n",
       "    .dataframe tbody tr th {\n",
       "        vertical-align: top;\n",
       "    }\n",
       "\n",
       "    .dataframe thead th {\n",
       "        text-align: right;\n",
       "    }\n",
       "</style>\n",
       "<table border=\"1\" class=\"dataframe\">\n",
       "  <thead>\n",
       "    <tr style=\"text-align: right;\">\n",
       "      <th></th>\n",
       "      <th>invoice_no</th>\n",
       "      <th>stock_code</th>\n",
       "      <th>description</th>\n",
       "      <th>quantity</th>\n",
       "      <th>invoice_date</th>\n",
       "      <th>unitprice</th>\n",
       "      <th>customer_id</th>\n",
       "      <th>country</th>\n",
       "      <th>invoice_month</th>\n",
       "      <th>revenue</th>\n",
       "    </tr>\n",
       "  </thead>\n",
       "  <tbody>\n",
       "  </tbody>\n",
       "</table>\n",
       "</div>"
      ],
      "text/plain": [
       "Empty DataFrame\n",
       "Columns: [invoice_no, stock_code, description, quantity, invoice_date, unitprice, customer_id, country, invoice_month, revenue]\n",
       "Index: []"
      ]
     },
     "execution_count": 694,
     "metadata": {},
     "output_type": "execute_result"
    }
   ],
   "source": [
    "df[df['customer_id'] < 0]"
   ]
  },
  {
   "cell_type": "code",
   "execution_count": 695,
   "id": "20fd33bc-0c82-423d-8cbe-dc8f559f865f",
   "metadata": {},
   "outputs": [],
   "source": [
    "#replace NaN with distinctive value\n",
    "df['customer_id'] = df['customer_id'].fillna(-1)"
   ]
  },
  {
   "cell_type": "code",
   "execution_count": 696,
   "id": "67c7ddd4-dd61-4864-ad87-c8ab1cd124eb",
   "metadata": {},
   "outputs": [
    {
     "data": {
      "text/html": [
       "<div>\n",
       "<style scoped>\n",
       "    .dataframe tbody tr th:only-of-type {\n",
       "        vertical-align: middle;\n",
       "    }\n",
       "\n",
       "    .dataframe tbody tr th {\n",
       "        vertical-align: top;\n",
       "    }\n",
       "\n",
       "    .dataframe thead th {\n",
       "        text-align: right;\n",
       "    }\n",
       "</style>\n",
       "<table border=\"1\" class=\"dataframe\">\n",
       "  <thead>\n",
       "    <tr style=\"text-align: right;\">\n",
       "      <th></th>\n",
       "      <th>invoice_no</th>\n",
       "      <th>stock_code</th>\n",
       "      <th>description</th>\n",
       "      <th>quantity</th>\n",
       "      <th>invoice_date</th>\n",
       "      <th>unitprice</th>\n",
       "      <th>customer_id</th>\n",
       "      <th>country</th>\n",
       "      <th>invoice_month</th>\n",
       "      <th>revenue</th>\n",
       "    </tr>\n",
       "  </thead>\n",
       "  <tbody>\n",
       "  </tbody>\n",
       "</table>\n",
       "</div>"
      ],
      "text/plain": [
       "Empty DataFrame\n",
       "Columns: [invoice_no, stock_code, description, quantity, invoice_date, unitprice, customer_id, country, invoice_month, revenue]\n",
       "Index: []"
      ]
     },
     "execution_count": 696,
     "metadata": {},
     "output_type": "execute_result"
    }
   ],
   "source": [
    "#check\n",
    "df[df['customer_id'].isna()]"
   ]
  },
  {
   "cell_type": "code",
   "execution_count": 697,
   "id": "1c9e67a6-bf99-4732-98f7-024493ccec4c",
   "metadata": {},
   "outputs": [
    {
     "data": {
      "text/html": [
       "<div>\n",
       "<style scoped>\n",
       "    .dataframe tbody tr th:only-of-type {\n",
       "        vertical-align: middle;\n",
       "    }\n",
       "\n",
       "    .dataframe tbody tr th {\n",
       "        vertical-align: top;\n",
       "    }\n",
       "\n",
       "    .dataframe thead th {\n",
       "        text-align: right;\n",
       "    }\n",
       "</style>\n",
       "<table border=\"1\" class=\"dataframe\">\n",
       "  <thead>\n",
       "    <tr style=\"text-align: right;\">\n",
       "      <th></th>\n",
       "      <th>invoice_no</th>\n",
       "      <th>stock_code</th>\n",
       "      <th>description</th>\n",
       "      <th>quantity</th>\n",
       "      <th>invoice_date</th>\n",
       "      <th>unitprice</th>\n",
       "      <th>customer_id</th>\n",
       "      <th>country</th>\n",
       "      <th>invoice_month</th>\n",
       "      <th>revenue</th>\n",
       "    </tr>\n",
       "  </thead>\n",
       "  <tbody>\n",
       "    <tr>\n",
       "      <th>622</th>\n",
       "      <td>536414</td>\n",
       "      <td>22139</td>\n",
       "      <td>NaN</td>\n",
       "      <td>56</td>\n",
       "      <td>2010-12-01 11:52:00</td>\n",
       "      <td>0.00</td>\n",
       "      <td>-1.0</td>\n",
       "      <td>United Kingdom</td>\n",
       "      <td>2010-12-01</td>\n",
       "      <td>0.00</td>\n",
       "    </tr>\n",
       "    <tr>\n",
       "      <th>1443</th>\n",
       "      <td>536544</td>\n",
       "      <td>21773</td>\n",
       "      <td>DECORATIVE ROSE BATHROOM BOTTLE</td>\n",
       "      <td>1</td>\n",
       "      <td>2010-12-01 14:32:00</td>\n",
       "      <td>2.51</td>\n",
       "      <td>-1.0</td>\n",
       "      <td>United Kingdom</td>\n",
       "      <td>2010-12-01</td>\n",
       "      <td>2.51</td>\n",
       "    </tr>\n",
       "    <tr>\n",
       "      <th>1444</th>\n",
       "      <td>536544</td>\n",
       "      <td>21774</td>\n",
       "      <td>DECORATIVE CATS BATHROOM BOTTLE</td>\n",
       "      <td>2</td>\n",
       "      <td>2010-12-01 14:32:00</td>\n",
       "      <td>2.51</td>\n",
       "      <td>-1.0</td>\n",
       "      <td>United Kingdom</td>\n",
       "      <td>2010-12-01</td>\n",
       "      <td>5.02</td>\n",
       "    </tr>\n",
       "    <tr>\n",
       "      <th>1445</th>\n",
       "      <td>536544</td>\n",
       "      <td>21786</td>\n",
       "      <td>POLKADOT RAIN HAT</td>\n",
       "      <td>4</td>\n",
       "      <td>2010-12-01 14:32:00</td>\n",
       "      <td>0.85</td>\n",
       "      <td>-1.0</td>\n",
       "      <td>United Kingdom</td>\n",
       "      <td>2010-12-01</td>\n",
       "      <td>3.40</td>\n",
       "    </tr>\n",
       "    <tr>\n",
       "      <th>1446</th>\n",
       "      <td>536544</td>\n",
       "      <td>21787</td>\n",
       "      <td>RAIN PONCHO RETROSPOT</td>\n",
       "      <td>2</td>\n",
       "      <td>2010-12-01 14:32:00</td>\n",
       "      <td>1.66</td>\n",
       "      <td>-1.0</td>\n",
       "      <td>United Kingdom</td>\n",
       "      <td>2010-12-01</td>\n",
       "      <td>3.32</td>\n",
       "    </tr>\n",
       "    <tr>\n",
       "      <th>...</th>\n",
       "      <td>...</td>\n",
       "      <td>...</td>\n",
       "      <td>...</td>\n",
       "      <td>...</td>\n",
       "      <td>...</td>\n",
       "      <td>...</td>\n",
       "      <td>...</td>\n",
       "      <td>...</td>\n",
       "      <td>...</td>\n",
       "      <td>...</td>\n",
       "    </tr>\n",
       "    <tr>\n",
       "      <th>541536</th>\n",
       "      <td>581498</td>\n",
       "      <td>85099B</td>\n",
       "      <td>JUMBO BAG RED RETROSPOT</td>\n",
       "      <td>5</td>\n",
       "      <td>2011-12-09 10:26:00</td>\n",
       "      <td>4.13</td>\n",
       "      <td>-1.0</td>\n",
       "      <td>United Kingdom</td>\n",
       "      <td>2011-12-01</td>\n",
       "      <td>20.65</td>\n",
       "    </tr>\n",
       "    <tr>\n",
       "      <th>541537</th>\n",
       "      <td>581498</td>\n",
       "      <td>85099C</td>\n",
       "      <td>JUMBO  BAG BAROQUE BLACK WHITE</td>\n",
       "      <td>4</td>\n",
       "      <td>2011-12-09 10:26:00</td>\n",
       "      <td>4.13</td>\n",
       "      <td>-1.0</td>\n",
       "      <td>United Kingdom</td>\n",
       "      <td>2011-12-01</td>\n",
       "      <td>16.52</td>\n",
       "    </tr>\n",
       "    <tr>\n",
       "      <th>541538</th>\n",
       "      <td>581498</td>\n",
       "      <td>85150</td>\n",
       "      <td>LADIES &amp; GENTLEMEN METAL SIGN</td>\n",
       "      <td>1</td>\n",
       "      <td>2011-12-09 10:26:00</td>\n",
       "      <td>4.96</td>\n",
       "      <td>-1.0</td>\n",
       "      <td>United Kingdom</td>\n",
       "      <td>2011-12-01</td>\n",
       "      <td>4.96</td>\n",
       "    </tr>\n",
       "    <tr>\n",
       "      <th>541539</th>\n",
       "      <td>581498</td>\n",
       "      <td>85174</td>\n",
       "      <td>S/4 CACTI CANDLES</td>\n",
       "      <td>1</td>\n",
       "      <td>2011-12-09 10:26:00</td>\n",
       "      <td>10.79</td>\n",
       "      <td>-1.0</td>\n",
       "      <td>United Kingdom</td>\n",
       "      <td>2011-12-01</td>\n",
       "      <td>10.79</td>\n",
       "    </tr>\n",
       "    <tr>\n",
       "      <th>541540</th>\n",
       "      <td>581498</td>\n",
       "      <td>DOT</td>\n",
       "      <td>DOTCOM POSTAGE</td>\n",
       "      <td>1</td>\n",
       "      <td>2011-12-09 10:26:00</td>\n",
       "      <td>1714.17</td>\n",
       "      <td>-1.0</td>\n",
       "      <td>United Kingdom</td>\n",
       "      <td>2011-12-01</td>\n",
       "      <td>1714.17</td>\n",
       "    </tr>\n",
       "  </tbody>\n",
       "</table>\n",
       "<p>135080 rows × 10 columns</p>\n",
       "</div>"
      ],
      "text/plain": [
       "       invoice_no stock_code                      description  quantity  \\\n",
       "622        536414      22139                              NaN        56   \n",
       "1443       536544      21773  DECORATIVE ROSE BATHROOM BOTTLE         1   \n",
       "1444       536544      21774  DECORATIVE CATS BATHROOM BOTTLE         2   \n",
       "1445       536544      21786               POLKADOT RAIN HAT          4   \n",
       "1446       536544      21787            RAIN PONCHO RETROSPOT         2   \n",
       "...           ...        ...                              ...       ...   \n",
       "541536     581498     85099B          JUMBO BAG RED RETROSPOT         5   \n",
       "541537     581498     85099C   JUMBO  BAG BAROQUE BLACK WHITE         4   \n",
       "541538     581498      85150    LADIES & GENTLEMEN METAL SIGN         1   \n",
       "541539     581498      85174                S/4 CACTI CANDLES         1   \n",
       "541540     581498        DOT                   DOTCOM POSTAGE         1   \n",
       "\n",
       "              invoice_date  unitprice  customer_id         country  \\\n",
       "622    2010-12-01 11:52:00       0.00         -1.0  United Kingdom   \n",
       "1443   2010-12-01 14:32:00       2.51         -1.0  United Kingdom   \n",
       "1444   2010-12-01 14:32:00       2.51         -1.0  United Kingdom   \n",
       "1445   2010-12-01 14:32:00       0.85         -1.0  United Kingdom   \n",
       "1446   2010-12-01 14:32:00       1.66         -1.0  United Kingdom   \n",
       "...                    ...        ...          ...             ...   \n",
       "541536 2011-12-09 10:26:00       4.13         -1.0  United Kingdom   \n",
       "541537 2011-12-09 10:26:00       4.13         -1.0  United Kingdom   \n",
       "541538 2011-12-09 10:26:00       4.96         -1.0  United Kingdom   \n",
       "541539 2011-12-09 10:26:00      10.79         -1.0  United Kingdom   \n",
       "541540 2011-12-09 10:26:00    1714.17         -1.0  United Kingdom   \n",
       "\n",
       "       invoice_month  revenue  \n",
       "622       2010-12-01     0.00  \n",
       "1443      2010-12-01     2.51  \n",
       "1444      2010-12-01     5.02  \n",
       "1445      2010-12-01     3.40  \n",
       "1446      2010-12-01     3.32  \n",
       "...              ...      ...  \n",
       "541536    2011-12-01    20.65  \n",
       "541537    2011-12-01    16.52  \n",
       "541538    2011-12-01     4.96  \n",
       "541539    2011-12-01    10.79  \n",
       "541540    2011-12-01  1714.17  \n",
       "\n",
       "[135080 rows x 10 columns]"
      ]
     },
     "execution_count": 697,
     "metadata": {},
     "output_type": "execute_result"
    }
   ],
   "source": [
    "df[df['customer_id'] == -1]"
   ]
  },
  {
   "cell_type": "markdown",
   "id": "d5437c06-ab53-4940-bc46-f3ffffc02dd2",
   "metadata": {},
   "source": [
    "# Пересоздадим таблицу users_months"
   ]
  },
  {
   "cell_type": "code",
   "execution_count": 698,
   "id": "4064dafb-2899-4f08-9d13-ae8af1089da4",
   "metadata": {},
   "outputs": [],
   "source": [
    "#aggregate per month\n",
    "users_months = df.groupby(['customer_id','invoice_month'])['revenue'].sum().reset_index()"
   ]
  },
  {
   "cell_type": "code",
   "execution_count": 699,
   "id": "ef6f3676-abe2-426f-b941-1bc6cc89487a",
   "metadata": {},
   "outputs": [
    {
     "data": {
      "text/html": [
       "<div>\n",
       "<style scoped>\n",
       "    .dataframe tbody tr th:only-of-type {\n",
       "        vertical-align: middle;\n",
       "    }\n",
       "\n",
       "    .dataframe tbody tr th {\n",
       "        vertical-align: top;\n",
       "    }\n",
       "\n",
       "    .dataframe thead th {\n",
       "        text-align: right;\n",
       "    }\n",
       "</style>\n",
       "<table border=\"1\" class=\"dataframe\">\n",
       "  <thead>\n",
       "    <tr style=\"text-align: right;\">\n",
       "      <th></th>\n",
       "      <th>customer_id</th>\n",
       "      <th>invoice_month</th>\n",
       "      <th>revenue</th>\n",
       "    </tr>\n",
       "  </thead>\n",
       "  <tbody>\n",
       "    <tr>\n",
       "      <th>0</th>\n",
       "      <td>-1.0</td>\n",
       "      <td>2010-12-01</td>\n",
       "      <td>194353.00</td>\n",
       "    </tr>\n",
       "    <tr>\n",
       "      <th>1</th>\n",
       "      <td>-1.0</td>\n",
       "      <td>2011-01-01</td>\n",
       "      <td>84925.88</td>\n",
       "    </tr>\n",
       "    <tr>\n",
       "      <th>2</th>\n",
       "      <td>-1.0</td>\n",
       "      <td>2011-02-01</td>\n",
       "      <td>61516.50</td>\n",
       "    </tr>\n",
       "    <tr>\n",
       "      <th>3</th>\n",
       "      <td>-1.0</td>\n",
       "      <td>2011-03-01</td>\n",
       "      <td>103302.47</td>\n",
       "    </tr>\n",
       "    <tr>\n",
       "      <th>4</th>\n",
       "      <td>-1.0</td>\n",
       "      <td>2011-04-01</td>\n",
       "      <td>67159.27</td>\n",
       "    </tr>\n",
       "    <tr>\n",
       "      <th>...</th>\n",
       "      <td>...</td>\n",
       "      <td>...</td>\n",
       "      <td>...</td>\n",
       "    </tr>\n",
       "    <tr>\n",
       "      <th>13683</th>\n",
       "      <td>18283.0</td>\n",
       "      <td>2011-10-01</td>\n",
       "      <td>114.65</td>\n",
       "    </tr>\n",
       "    <tr>\n",
       "      <th>13684</th>\n",
       "      <td>18283.0</td>\n",
       "      <td>2011-11-01</td>\n",
       "      <td>651.56</td>\n",
       "    </tr>\n",
       "    <tr>\n",
       "      <th>13685</th>\n",
       "      <td>18283.0</td>\n",
       "      <td>2011-12-01</td>\n",
       "      <td>208.00</td>\n",
       "    </tr>\n",
       "    <tr>\n",
       "      <th>13686</th>\n",
       "      <td>18287.0</td>\n",
       "      <td>2011-05-01</td>\n",
       "      <td>765.28</td>\n",
       "    </tr>\n",
       "    <tr>\n",
       "      <th>13687</th>\n",
       "      <td>18287.0</td>\n",
       "      <td>2011-10-01</td>\n",
       "      <td>1072.00</td>\n",
       "    </tr>\n",
       "  </tbody>\n",
       "</table>\n",
       "<p>13688 rows × 3 columns</p>\n",
       "</div>"
      ],
      "text/plain": [
       "       customer_id invoice_month    revenue\n",
       "0             -1.0    2010-12-01  194353.00\n",
       "1             -1.0    2011-01-01   84925.88\n",
       "2             -1.0    2011-02-01   61516.50\n",
       "3             -1.0    2011-03-01  103302.47\n",
       "4             -1.0    2011-04-01   67159.27\n",
       "...            ...           ...        ...\n",
       "13683      18283.0    2011-10-01     114.65\n",
       "13684      18283.0    2011-11-01     651.56\n",
       "13685      18283.0    2011-12-01     208.00\n",
       "13686      18287.0    2011-05-01     765.28\n",
       "13687      18287.0    2011-10-01    1072.00\n",
       "\n",
       "[13688 rows x 3 columns]"
      ]
     },
     "execution_count": 699,
     "metadata": {},
     "output_type": "execute_result"
    }
   ],
   "source": [
    "users_months"
   ]
  },
  {
   "cell_type": "code",
   "execution_count": 700,
   "id": "18e41030-676f-4ce3-9d99-26e4691a64f2",
   "metadata": {},
   "outputs": [
    {
     "data": {
      "text/plain": [
       "Index(['customer_id', 'invoice_month', 'revenue'], dtype='object')"
      ]
     },
     "execution_count": 700,
     "metadata": {},
     "output_type": "execute_result"
    }
   ],
   "source": [
    "users_months.columns"
   ]
  },
  {
   "cell_type": "code",
   "execution_count": 701,
   "id": "52188715-dfe7-4ee8-83cc-a9cd4ca8362a",
   "metadata": {},
   "outputs": [],
   "source": [
    "users_months.columns = ['customer_id', 'months', 'revenue']"
   ]
  },
  {
   "cell_type": "code",
   "execution_count": 702,
   "id": "edd8de0c-20db-4cc9-8fae-825c63d6af34",
   "metadata": {},
   "outputs": [
    {
     "data": {
      "text/plain": [
       "9747747.933999998"
      ]
     },
     "execution_count": 702,
     "metadata": {},
     "output_type": "execute_result"
    }
   ],
   "source": [
    "#check revenue sum\n",
    "df.revenue.sum()"
   ]
  },
  {
   "cell_type": "code",
   "execution_count": 703,
   "id": "42fc4690-68a5-4d32-ba3f-d1bc94821ddf",
   "metadata": {},
   "outputs": [
    {
     "data": {
      "text/plain": [
       "9747747.934"
      ]
     },
     "execution_count": 703,
     "metadata": {},
     "output_type": "execute_result"
    }
   ],
   "source": [
    "#check revenue sum\n",
    "users_months.revenue.sum()"
   ]
  },
  {
   "cell_type": "code",
   "execution_count": 705,
   "id": "57892c45-453d-49d2-8e43-507c789f4711",
   "metadata": {},
   "outputs": [],
   "source": [
    "#recreate users DataFrame and dt DataFrame\n",
    "users = df.groupby(['customer_id'])[['invoice_date','invoice_month']].min().reset_index()\n",
    "users.columns = ['customer_id', 'reg_date', 'reg_month']\n",
    "users['key'] = 1\n",
    "dt = pd.DataFrame(pd.date_range(min_dt, max_dt, freq = 'MS'), columns=['months'])\n",
    "dt['key'] = 1\n",
    "template = dt.merge(users, on='key')[['months','customer_id','reg_date','reg_month']]\n",
    "#remove unnecessary customer months before registration \n",
    "template = template[template.months >= template.reg_month]"
   ]
  },
  {
   "cell_type": "code",
   "execution_count": 706,
   "id": "e45e00e9-984d-4226-93c3-15447b115b59",
   "metadata": {},
   "outputs": [
    {
     "data": {
      "text/html": [
       "<div>\n",
       "<style scoped>\n",
       "    .dataframe tbody tr th:only-of-type {\n",
       "        vertical-align: middle;\n",
       "    }\n",
       "\n",
       "    .dataframe tbody tr th {\n",
       "        vertical-align: top;\n",
       "    }\n",
       "\n",
       "    .dataframe thead th {\n",
       "        text-align: right;\n",
       "    }\n",
       "</style>\n",
       "<table border=\"1\" class=\"dataframe\">\n",
       "  <thead>\n",
       "    <tr style=\"text-align: right;\">\n",
       "      <th></th>\n",
       "      <th>months</th>\n",
       "      <th>customer_id</th>\n",
       "      <th>reg_date</th>\n",
       "      <th>reg_month</th>\n",
       "    </tr>\n",
       "  </thead>\n",
       "  <tbody>\n",
       "    <tr>\n",
       "      <th>0</th>\n",
       "      <td>2010-12-01</td>\n",
       "      <td>-1.0</td>\n",
       "      <td>2010-12-01 11:52:00</td>\n",
       "      <td>2010-12-01</td>\n",
       "    </tr>\n",
       "    <tr>\n",
       "      <th>2</th>\n",
       "      <td>2010-12-01</td>\n",
       "      <td>12347.0</td>\n",
       "      <td>2010-12-07 14:57:00</td>\n",
       "      <td>2010-12-01</td>\n",
       "    </tr>\n",
       "    <tr>\n",
       "      <th>3</th>\n",
       "      <td>2010-12-01</td>\n",
       "      <td>12348.0</td>\n",
       "      <td>2010-12-16 19:09:00</td>\n",
       "      <td>2010-12-01</td>\n",
       "    </tr>\n",
       "    <tr>\n",
       "      <th>21</th>\n",
       "      <td>2010-12-01</td>\n",
       "      <td>12370.0</td>\n",
       "      <td>2010-12-14 12:58:00</td>\n",
       "      <td>2010-12-01</td>\n",
       "    </tr>\n",
       "    <tr>\n",
       "      <th>27</th>\n",
       "      <td>2010-12-01</td>\n",
       "      <td>12377.0</td>\n",
       "      <td>2010-12-20 09:37:00</td>\n",
       "      <td>2010-12-01</td>\n",
       "    </tr>\n",
       "    <tr>\n",
       "      <th>...</th>\n",
       "      <td>...</td>\n",
       "      <td>...</td>\n",
       "      <td>...</td>\n",
       "      <td>...</td>\n",
       "    </tr>\n",
       "    <tr>\n",
       "      <th>56844</th>\n",
       "      <td>2011-12-01</td>\n",
       "      <td>18280.0</td>\n",
       "      <td>2011-03-07 09:52:00</td>\n",
       "      <td>2011-03-01</td>\n",
       "    </tr>\n",
       "    <tr>\n",
       "      <th>56845</th>\n",
       "      <td>2011-12-01</td>\n",
       "      <td>18281.0</td>\n",
       "      <td>2011-06-12 10:53:00</td>\n",
       "      <td>2011-06-01</td>\n",
       "    </tr>\n",
       "    <tr>\n",
       "      <th>56846</th>\n",
       "      <td>2011-12-01</td>\n",
       "      <td>18282.0</td>\n",
       "      <td>2011-08-05 13:35:00</td>\n",
       "      <td>2011-08-01</td>\n",
       "    </tr>\n",
       "    <tr>\n",
       "      <th>56847</th>\n",
       "      <td>2011-12-01</td>\n",
       "      <td>18283.0</td>\n",
       "      <td>2011-01-06 14:14:00</td>\n",
       "      <td>2011-01-01</td>\n",
       "    </tr>\n",
       "    <tr>\n",
       "      <th>56848</th>\n",
       "      <td>2011-12-01</td>\n",
       "      <td>18287.0</td>\n",
       "      <td>2011-05-22 10:39:00</td>\n",
       "      <td>2011-05-01</td>\n",
       "    </tr>\n",
       "  </tbody>\n",
       "</table>\n",
       "<p>37449 rows × 4 columns</p>\n",
       "</div>"
      ],
      "text/plain": [
       "          months  customer_id            reg_date  reg_month\n",
       "0     2010-12-01         -1.0 2010-12-01 11:52:00 2010-12-01\n",
       "2     2010-12-01      12347.0 2010-12-07 14:57:00 2010-12-01\n",
       "3     2010-12-01      12348.0 2010-12-16 19:09:00 2010-12-01\n",
       "21    2010-12-01      12370.0 2010-12-14 12:58:00 2010-12-01\n",
       "27    2010-12-01      12377.0 2010-12-20 09:37:00 2010-12-01\n",
       "...          ...          ...                 ...        ...\n",
       "56844 2011-12-01      18280.0 2011-03-07 09:52:00 2011-03-01\n",
       "56845 2011-12-01      18281.0 2011-06-12 10:53:00 2011-06-01\n",
       "56846 2011-12-01      18282.0 2011-08-05 13:35:00 2011-08-01\n",
       "56847 2011-12-01      18283.0 2011-01-06 14:14:00 2011-01-01\n",
       "56848 2011-12-01      18287.0 2011-05-22 10:39:00 2011-05-01\n",
       "\n",
       "[37449 rows x 4 columns]"
      ]
     },
     "execution_count": 706,
     "metadata": {},
     "output_type": "execute_result"
    }
   ],
   "source": [
    "template"
   ]
  },
  {
   "cell_type": "code",
   "execution_count": 707,
   "id": "0a7350dc-af53-4639-9e22-1b071cf09770",
   "metadata": {},
   "outputs": [
    {
     "data": {
      "text/plain": [
       "4373"
      ]
     },
     "execution_count": 707,
     "metadata": {},
     "output_type": "execute_result"
    }
   ],
   "source": [
    "#check data\n",
    "template['customer_id'].nunique()"
   ]
  },
  {
   "cell_type": "code",
   "execution_count": 708,
   "id": "12cbbba3-f42d-407b-bf9c-13410d3bdb9c",
   "metadata": {},
   "outputs": [
    {
     "data": {
      "text/plain": [
       "4373"
      ]
     },
     "execution_count": 708,
     "metadata": {},
     "output_type": "execute_result"
    }
   ],
   "source": [
    "df['customer_id'].nunique()"
   ]
  },
  {
   "cell_type": "code",
   "execution_count": 709,
   "id": "582394b1-6544-4ff5-bcad-760e904d4e99",
   "metadata": {},
   "outputs": [
    {
     "data": {
      "text/plain": [
       "9747747.933999998"
      ]
     },
     "execution_count": 709,
     "metadata": {},
     "output_type": "execute_result"
    }
   ],
   "source": [
    "df.revenue.sum()"
   ]
  },
  {
   "cell_type": "code",
   "execution_count": 710,
   "id": "df4d15d7-e551-49f5-8633-20bd10c4fa5d",
   "metadata": {},
   "outputs": [
    {
     "data": {
      "text/plain": [
       "9747747.934"
      ]
     },
     "execution_count": 710,
     "metadata": {},
     "output_type": "execute_result"
    }
   ],
   "source": [
    "users_months.revenue.sum()"
   ]
  },
  {
   "cell_type": "markdown",
   "id": "c87c7563-54a5-445e-9012-9a1aa7a93d93",
   "metadata": {},
   "source": [
    "### Linking revenue to our template and create Analitics table"
   ]
  },
  {
   "cell_type": "code",
   "execution_count": 717,
   "id": "d5a2fbda-c50d-4e38-9be9-10b7f9abdb0c",
   "metadata": {},
   "outputs": [],
   "source": [
    "# Create analytics table\n",
    "at = template.merge(users_months, how='left', on=['customer_id','months'])"
   ]
  },
  {
   "cell_type": "code",
   "execution_count": 718,
   "id": "0643edd8-243e-49a4-bed1-fe5e7fa3ce70",
   "metadata": {},
   "outputs": [
    {
     "data": {
      "text/html": [
       "<div>\n",
       "<style scoped>\n",
       "    .dataframe tbody tr th:only-of-type {\n",
       "        vertical-align: middle;\n",
       "    }\n",
       "\n",
       "    .dataframe tbody tr th {\n",
       "        vertical-align: top;\n",
       "    }\n",
       "\n",
       "    .dataframe thead th {\n",
       "        text-align: right;\n",
       "    }\n",
       "</style>\n",
       "<table border=\"1\" class=\"dataframe\">\n",
       "  <thead>\n",
       "    <tr style=\"text-align: right;\">\n",
       "      <th></th>\n",
       "      <th>months</th>\n",
       "      <th>customer_id</th>\n",
       "      <th>reg_date</th>\n",
       "      <th>reg_month</th>\n",
       "      <th>revenue</th>\n",
       "    </tr>\n",
       "  </thead>\n",
       "  <tbody>\n",
       "    <tr>\n",
       "      <th>0</th>\n",
       "      <td>2010-12-01</td>\n",
       "      <td>-1.0</td>\n",
       "      <td>2010-12-01 11:52:00</td>\n",
       "      <td>2010-12-01</td>\n",
       "      <td>194353.00</td>\n",
       "    </tr>\n",
       "    <tr>\n",
       "      <th>1</th>\n",
       "      <td>2010-12-01</td>\n",
       "      <td>12347.0</td>\n",
       "      <td>2010-12-07 14:57:00</td>\n",
       "      <td>2010-12-01</td>\n",
       "      <td>711.79</td>\n",
       "    </tr>\n",
       "    <tr>\n",
       "      <th>2</th>\n",
       "      <td>2010-12-01</td>\n",
       "      <td>12348.0</td>\n",
       "      <td>2010-12-16 19:09:00</td>\n",
       "      <td>2010-12-01</td>\n",
       "      <td>892.80</td>\n",
       "    </tr>\n",
       "    <tr>\n",
       "      <th>3</th>\n",
       "      <td>2010-12-01</td>\n",
       "      <td>12370.0</td>\n",
       "      <td>2010-12-14 12:58:00</td>\n",
       "      <td>2010-12-01</td>\n",
       "      <td>1868.02</td>\n",
       "    </tr>\n",
       "    <tr>\n",
       "      <th>4</th>\n",
       "      <td>2010-12-01</td>\n",
       "      <td>12377.0</td>\n",
       "      <td>2010-12-20 09:37:00</td>\n",
       "      <td>2010-12-01</td>\n",
       "      <td>1001.52</td>\n",
       "    </tr>\n",
       "  </tbody>\n",
       "</table>\n",
       "</div>"
      ],
      "text/plain": [
       "      months  customer_id            reg_date  reg_month    revenue\n",
       "0 2010-12-01         -1.0 2010-12-01 11:52:00 2010-12-01  194353.00\n",
       "1 2010-12-01      12347.0 2010-12-07 14:57:00 2010-12-01     711.79\n",
       "2 2010-12-01      12348.0 2010-12-16 19:09:00 2010-12-01     892.80\n",
       "3 2010-12-01      12370.0 2010-12-14 12:58:00 2010-12-01    1868.02\n",
       "4 2010-12-01      12377.0 2010-12-20 09:37:00 2010-12-01    1001.52"
      ]
     },
     "execution_count": 718,
     "metadata": {},
     "output_type": "execute_result"
    }
   ],
   "source": [
    "at.head()"
   ]
  },
  {
   "cell_type": "code",
   "execution_count": 719,
   "id": "d1de844e-f276-444b-9b2a-d7d16706b209",
   "metadata": {},
   "outputs": [
    {
     "data": {
      "text/plain": [
       "9747747.934"
      ]
     },
     "execution_count": 719,
     "metadata": {},
     "output_type": "execute_result"
    }
   ],
   "source": [
    "#check data\n",
    "at.revenue.sum()"
   ]
  },
  {
   "cell_type": "code",
   "execution_count": 720,
   "id": "2d86380f-4b5d-4899-9487-02a966ce20a1",
   "metadata": {},
   "outputs": [
    {
     "data": {
      "text/plain": [
       "9747747.933999998"
      ]
     },
     "execution_count": 720,
     "metadata": {},
     "output_type": "execute_result"
    }
   ],
   "source": [
    "df.revenue.sum()"
   ]
  },
  {
   "cell_type": "code",
   "execution_count": 723,
   "id": "402536f0-8c2a-43d7-aec7-3502e9a390f5",
   "metadata": {},
   "outputs": [
    {
     "data": {
      "text/html": [
       "<div>\n",
       "<style scoped>\n",
       "    .dataframe tbody tr th:only-of-type {\n",
       "        vertical-align: middle;\n",
       "    }\n",
       "\n",
       "    .dataframe tbody tr th {\n",
       "        vertical-align: top;\n",
       "    }\n",
       "\n",
       "    .dataframe thead th {\n",
       "        text-align: right;\n",
       "    }\n",
       "</style>\n",
       "<table border=\"1\" class=\"dataframe\">\n",
       "  <thead>\n",
       "    <tr style=\"text-align: right;\">\n",
       "      <th></th>\n",
       "      <th>months</th>\n",
       "      <th>customer_id</th>\n",
       "      <th>reg_date</th>\n",
       "      <th>reg_month</th>\n",
       "      <th>revenue</th>\n",
       "    </tr>\n",
       "  </thead>\n",
       "  <tbody>\n",
       "    <tr>\n",
       "      <th>950</th>\n",
       "      <td>2011-01-01</td>\n",
       "      <td>12346.0</td>\n",
       "      <td>2011-01-18 10:01:00</td>\n",
       "      <td>2011-01-01</td>\n",
       "      <td>0.0</td>\n",
       "    </tr>\n",
       "    <tr>\n",
       "      <th>2320</th>\n",
       "      <td>2011-02-01</td>\n",
       "      <td>12346.0</td>\n",
       "      <td>2011-01-18 10:01:00</td>\n",
       "      <td>2011-01-01</td>\n",
       "      <td>NaN</td>\n",
       "    </tr>\n",
       "    <tr>\n",
       "      <th>4070</th>\n",
       "      <td>2011-03-01</td>\n",
       "      <td>12346.0</td>\n",
       "      <td>2011-01-18 10:01:00</td>\n",
       "      <td>2011-01-01</td>\n",
       "      <td>NaN</td>\n",
       "    </tr>\n",
       "    <tr>\n",
       "      <th>6260</th>\n",
       "      <td>2011-04-01</td>\n",
       "      <td>12346.0</td>\n",
       "      <td>2011-01-18 10:01:00</td>\n",
       "      <td>2011-01-01</td>\n",
       "      <td>NaN</td>\n",
       "    </tr>\n",
       "    <tr>\n",
       "      <th>8749</th>\n",
       "      <td>2011-05-01</td>\n",
       "      <td>12346.0</td>\n",
       "      <td>2011-01-18 10:01:00</td>\n",
       "      <td>2011-01-01</td>\n",
       "      <td>NaN</td>\n",
       "    </tr>\n",
       "    <tr>\n",
       "      <th>11517</th>\n",
       "      <td>2011-06-01</td>\n",
       "      <td>12346.0</td>\n",
       "      <td>2011-01-18 10:01:00</td>\n",
       "      <td>2011-01-01</td>\n",
       "      <td>NaN</td>\n",
       "    </tr>\n",
       "    <tr>\n",
       "      <th>14520</th>\n",
       "      <td>2011-07-01</td>\n",
       "      <td>12346.0</td>\n",
       "      <td>2011-01-18 10:01:00</td>\n",
       "      <td>2011-01-01</td>\n",
       "      <td>NaN</td>\n",
       "    </tr>\n",
       "    <tr>\n",
       "      <th>17714</th>\n",
       "      <td>2011-08-01</td>\n",
       "      <td>12346.0</td>\n",
       "      <td>2011-01-18 10:01:00</td>\n",
       "      <td>2011-01-01</td>\n",
       "      <td>NaN</td>\n",
       "    </tr>\n",
       "    <tr>\n",
       "      <th>21075</th>\n",
       "      <td>2011-09-01</td>\n",
       "      <td>12346.0</td>\n",
       "      <td>2011-01-18 10:01:00</td>\n",
       "      <td>2011-01-01</td>\n",
       "      <td>NaN</td>\n",
       "    </tr>\n",
       "    <tr>\n",
       "      <th>24734</th>\n",
       "      <td>2011-10-01</td>\n",
       "      <td>12346.0</td>\n",
       "      <td>2011-01-18 10:01:00</td>\n",
       "      <td>2011-01-01</td>\n",
       "      <td>NaN</td>\n",
       "    </tr>\n",
       "    <tr>\n",
       "      <th>28745</th>\n",
       "      <td>2011-11-01</td>\n",
       "      <td>12346.0</td>\n",
       "      <td>2011-01-18 10:01:00</td>\n",
       "      <td>2011-01-01</td>\n",
       "      <td>NaN</td>\n",
       "    </tr>\n",
       "    <tr>\n",
       "      <th>33077</th>\n",
       "      <td>2011-12-01</td>\n",
       "      <td>12346.0</td>\n",
       "      <td>2011-01-18 10:01:00</td>\n",
       "      <td>2011-01-01</td>\n",
       "      <td>NaN</td>\n",
       "    </tr>\n",
       "  </tbody>\n",
       "</table>\n",
       "</div>"
      ],
      "text/plain": [
       "          months  customer_id            reg_date  reg_month  revenue\n",
       "950   2011-01-01      12346.0 2011-01-18 10:01:00 2011-01-01      0.0\n",
       "2320  2011-02-01      12346.0 2011-01-18 10:01:00 2011-01-01      NaN\n",
       "4070  2011-03-01      12346.0 2011-01-18 10:01:00 2011-01-01      NaN\n",
       "6260  2011-04-01      12346.0 2011-01-18 10:01:00 2011-01-01      NaN\n",
       "8749  2011-05-01      12346.0 2011-01-18 10:01:00 2011-01-01      NaN\n",
       "11517 2011-06-01      12346.0 2011-01-18 10:01:00 2011-01-01      NaN\n",
       "14520 2011-07-01      12346.0 2011-01-18 10:01:00 2011-01-01      NaN\n",
       "17714 2011-08-01      12346.0 2011-01-18 10:01:00 2011-01-01      NaN\n",
       "21075 2011-09-01      12346.0 2011-01-18 10:01:00 2011-01-01      NaN\n",
       "24734 2011-10-01      12346.0 2011-01-18 10:01:00 2011-01-01      NaN\n",
       "28745 2011-11-01      12346.0 2011-01-18 10:01:00 2011-01-01      NaN\n",
       "33077 2011-12-01      12346.0 2011-01-18 10:01:00 2011-01-01      NaN"
      ]
     },
     "execution_count": 723,
     "metadata": {},
     "output_type": "execute_result"
    }
   ],
   "source": [
    "at[at['customer_id']==12346.0]"
   ]
  },
  {
   "cell_type": "code",
   "execution_count": 724,
   "id": "bfb5190d-5045-454e-b073-5688e5a9480b",
   "metadata": {},
   "outputs": [
    {
     "data": {
      "text/html": [
       "<div>\n",
       "<style scoped>\n",
       "    .dataframe tbody tr th:only-of-type {\n",
       "        vertical-align: middle;\n",
       "    }\n",
       "\n",
       "    .dataframe tbody tr th {\n",
       "        vertical-align: top;\n",
       "    }\n",
       "\n",
       "    .dataframe thead th {\n",
       "        text-align: right;\n",
       "    }\n",
       "</style>\n",
       "<table border=\"1\" class=\"dataframe\">\n",
       "  <thead>\n",
       "    <tr style=\"text-align: right;\">\n",
       "      <th></th>\n",
       "      <th>months</th>\n",
       "      <th>customer_id</th>\n",
       "      <th>reg_date</th>\n",
       "      <th>reg_month</th>\n",
       "      <th>revenue</th>\n",
       "    </tr>\n",
       "  </thead>\n",
       "  <tbody>\n",
       "    <tr>\n",
       "      <th>21071</th>\n",
       "      <td>2011-08-01</td>\n",
       "      <td>18282.0</td>\n",
       "      <td>2011-08-05 13:35:00</td>\n",
       "      <td>2011-08-01</td>\n",
       "      <td>98.76</td>\n",
       "    </tr>\n",
       "    <tr>\n",
       "      <th>24730</th>\n",
       "      <td>2011-09-01</td>\n",
       "      <td>18282.0</td>\n",
       "      <td>2011-08-05 13:35:00</td>\n",
       "      <td>2011-08-01</td>\n",
       "      <td>NaN</td>\n",
       "    </tr>\n",
       "    <tr>\n",
       "      <th>28741</th>\n",
       "      <td>2011-10-01</td>\n",
       "      <td>18282.0</td>\n",
       "      <td>2011-08-05 13:35:00</td>\n",
       "      <td>2011-08-01</td>\n",
       "      <td>NaN</td>\n",
       "    </tr>\n",
       "    <tr>\n",
       "      <th>33073</th>\n",
       "      <td>2011-11-01</td>\n",
       "      <td>18282.0</td>\n",
       "      <td>2011-08-05 13:35:00</td>\n",
       "      <td>2011-08-01</td>\n",
       "      <td>NaN</td>\n",
       "    </tr>\n",
       "    <tr>\n",
       "      <th>37446</th>\n",
       "      <td>2011-12-01</td>\n",
       "      <td>18282.0</td>\n",
       "      <td>2011-08-05 13:35:00</td>\n",
       "      <td>2011-08-01</td>\n",
       "      <td>77.84</td>\n",
       "    </tr>\n",
       "  </tbody>\n",
       "</table>\n",
       "</div>"
      ],
      "text/plain": [
       "          months  customer_id            reg_date  reg_month  revenue\n",
       "21071 2011-08-01      18282.0 2011-08-05 13:35:00 2011-08-01    98.76\n",
       "24730 2011-09-01      18282.0 2011-08-05 13:35:00 2011-08-01      NaN\n",
       "28741 2011-10-01      18282.0 2011-08-05 13:35:00 2011-08-01      NaN\n",
       "33073 2011-11-01      18282.0 2011-08-05 13:35:00 2011-08-01      NaN\n",
       "37446 2011-12-01      18282.0 2011-08-05 13:35:00 2011-08-01    77.84"
      ]
     },
     "execution_count": 724,
     "metadata": {},
     "output_type": "execute_result"
    }
   ],
   "source": [
    "at[at['customer_id']==18282.0]"
   ]
  },
  {
   "cell_type": "markdown",
   "id": "ed0ba943-09fb-4f0d-8938-7417582ab971",
   "metadata": {},
   "source": [
    "# We create ANALITICS TABLE !!!"
   ]
  },
  {
   "cell_type": "code",
   "execution_count": 726,
   "id": "3eed0b04-8948-4748-8d36-4f9ff6d434cc",
   "metadata": {},
   "outputs": [
    {
     "data": {
      "text/html": [
       "<div>\n",
       "<style scoped>\n",
       "    .dataframe tbody tr th:only-of-type {\n",
       "        vertical-align: middle;\n",
       "    }\n",
       "\n",
       "    .dataframe tbody tr th {\n",
       "        vertical-align: top;\n",
       "    }\n",
       "\n",
       "    .dataframe thead th {\n",
       "        text-align: right;\n",
       "    }\n",
       "</style>\n",
       "<table border=\"1\" class=\"dataframe\">\n",
       "  <thead>\n",
       "    <tr style=\"text-align: right;\">\n",
       "      <th></th>\n",
       "      <th>months</th>\n",
       "      <th>customer_id</th>\n",
       "      <th>reg_date</th>\n",
       "      <th>reg_month</th>\n",
       "      <th>revenue</th>\n",
       "    </tr>\n",
       "  </thead>\n",
       "  <tbody>\n",
       "    <tr>\n",
       "      <th>0</th>\n",
       "      <td>2010-12-01</td>\n",
       "      <td>-1.0</td>\n",
       "      <td>2010-12-01 11:52:00</td>\n",
       "      <td>2010-12-01</td>\n",
       "      <td>194353.00</td>\n",
       "    </tr>\n",
       "    <tr>\n",
       "      <th>1</th>\n",
       "      <td>2010-12-01</td>\n",
       "      <td>12347.0</td>\n",
       "      <td>2010-12-07 14:57:00</td>\n",
       "      <td>2010-12-01</td>\n",
       "      <td>711.79</td>\n",
       "    </tr>\n",
       "    <tr>\n",
       "      <th>2</th>\n",
       "      <td>2010-12-01</td>\n",
       "      <td>12348.0</td>\n",
       "      <td>2010-12-16 19:09:00</td>\n",
       "      <td>2010-12-01</td>\n",
       "      <td>892.80</td>\n",
       "    </tr>\n",
       "    <tr>\n",
       "      <th>3</th>\n",
       "      <td>2010-12-01</td>\n",
       "      <td>12370.0</td>\n",
       "      <td>2010-12-14 12:58:00</td>\n",
       "      <td>2010-12-01</td>\n",
       "      <td>1868.02</td>\n",
       "    </tr>\n",
       "    <tr>\n",
       "      <th>4</th>\n",
       "      <td>2010-12-01</td>\n",
       "      <td>12377.0</td>\n",
       "      <td>2010-12-20 09:37:00</td>\n",
       "      <td>2010-12-01</td>\n",
       "      <td>1001.52</td>\n",
       "    </tr>\n",
       "    <tr>\n",
       "      <th>...</th>\n",
       "      <td>...</td>\n",
       "      <td>...</td>\n",
       "      <td>...</td>\n",
       "      <td>...</td>\n",
       "      <td>...</td>\n",
       "    </tr>\n",
       "    <tr>\n",
       "      <th>37444</th>\n",
       "      <td>2011-12-01</td>\n",
       "      <td>18280.0</td>\n",
       "      <td>2011-03-07 09:52:00</td>\n",
       "      <td>2011-03-01</td>\n",
       "      <td>NaN</td>\n",
       "    </tr>\n",
       "    <tr>\n",
       "      <th>37445</th>\n",
       "      <td>2011-12-01</td>\n",
       "      <td>18281.0</td>\n",
       "      <td>2011-06-12 10:53:00</td>\n",
       "      <td>2011-06-01</td>\n",
       "      <td>NaN</td>\n",
       "    </tr>\n",
       "    <tr>\n",
       "      <th>37446</th>\n",
       "      <td>2011-12-01</td>\n",
       "      <td>18282.0</td>\n",
       "      <td>2011-08-05 13:35:00</td>\n",
       "      <td>2011-08-01</td>\n",
       "      <td>77.84</td>\n",
       "    </tr>\n",
       "    <tr>\n",
       "      <th>37447</th>\n",
       "      <td>2011-12-01</td>\n",
       "      <td>18283.0</td>\n",
       "      <td>2011-01-06 14:14:00</td>\n",
       "      <td>2011-01-01</td>\n",
       "      <td>208.00</td>\n",
       "    </tr>\n",
       "    <tr>\n",
       "      <th>37448</th>\n",
       "      <td>2011-12-01</td>\n",
       "      <td>18287.0</td>\n",
       "      <td>2011-05-22 10:39:00</td>\n",
       "      <td>2011-05-01</td>\n",
       "      <td>NaN</td>\n",
       "    </tr>\n",
       "  </tbody>\n",
       "</table>\n",
       "<p>37449 rows × 5 columns</p>\n",
       "</div>"
      ],
      "text/plain": [
       "          months  customer_id            reg_date  reg_month    revenue\n",
       "0     2010-12-01         -1.0 2010-12-01 11:52:00 2010-12-01  194353.00\n",
       "1     2010-12-01      12347.0 2010-12-07 14:57:00 2010-12-01     711.79\n",
       "2     2010-12-01      12348.0 2010-12-16 19:09:00 2010-12-01     892.80\n",
       "3     2010-12-01      12370.0 2010-12-14 12:58:00 2010-12-01    1868.02\n",
       "4     2010-12-01      12377.0 2010-12-20 09:37:00 2010-12-01    1001.52\n",
       "...          ...          ...                 ...        ...        ...\n",
       "37444 2011-12-01      18280.0 2011-03-07 09:52:00 2011-03-01        NaN\n",
       "37445 2011-12-01      18281.0 2011-06-12 10:53:00 2011-06-01        NaN\n",
       "37446 2011-12-01      18282.0 2011-08-05 13:35:00 2011-08-01      77.84\n",
       "37447 2011-12-01      18283.0 2011-01-06 14:14:00 2011-01-01     208.00\n",
       "37448 2011-12-01      18287.0 2011-05-22 10:39:00 2011-05-01        NaN\n",
       "\n",
       "[37449 rows x 5 columns]"
      ]
     },
     "execution_count": 726,
     "metadata": {},
     "output_type": "execute_result"
    }
   ],
   "source": [
    "at"
   ]
  },
  {
   "cell_type": "markdown",
   "id": "5d223c0d-a505-45fe-abd0-337d0d36f702",
   "metadata": {},
   "source": [
    "# Сounting main metrics !\n"
   ]
  },
  {
   "cell_type": "markdown",
   "id": "2beb89d0-5255-4a85-a012-2a42d29ea0df",
   "metadata": {},
   "source": [
    "### Revenue per month"
   ]
  },
  {
   "cell_type": "code",
   "execution_count": 730,
   "id": "3e450a84-b256-4a4f-99e0-39af4dc2d4d1",
   "metadata": {},
   "outputs": [
    {
     "data": {
      "text/html": [
       "<div>\n",
       "<style scoped>\n",
       "    .dataframe tbody tr th:only-of-type {\n",
       "        vertical-align: middle;\n",
       "    }\n",
       "\n",
       "    .dataframe tbody tr th {\n",
       "        vertical-align: top;\n",
       "    }\n",
       "\n",
       "    .dataframe thead th {\n",
       "        text-align: right;\n",
       "    }\n",
       "</style>\n",
       "<table border=\"1\" class=\"dataframe\">\n",
       "  <thead>\n",
       "    <tr style=\"text-align: right;\">\n",
       "      <th></th>\n",
       "      <th>months</th>\n",
       "      <th>revenue</th>\n",
       "    </tr>\n",
       "  </thead>\n",
       "  <tbody>\n",
       "    <tr>\n",
       "      <th>0</th>\n",
       "      <td>2010-12-01</td>\n",
       "      <td>748957.020</td>\n",
       "    </tr>\n",
       "    <tr>\n",
       "      <th>1</th>\n",
       "      <td>2011-01-01</td>\n",
       "      <td>560000.260</td>\n",
       "    </tr>\n",
       "    <tr>\n",
       "      <th>2</th>\n",
       "      <td>2011-02-01</td>\n",
       "      <td>498062.650</td>\n",
       "    </tr>\n",
       "    <tr>\n",
       "      <th>3</th>\n",
       "      <td>2011-03-01</td>\n",
       "      <td>683267.080</td>\n",
       "    </tr>\n",
       "    <tr>\n",
       "      <th>4</th>\n",
       "      <td>2011-04-01</td>\n",
       "      <td>493207.121</td>\n",
       "    </tr>\n",
       "    <tr>\n",
       "      <th>5</th>\n",
       "      <td>2011-05-01</td>\n",
       "      <td>723333.510</td>\n",
       "    </tr>\n",
       "    <tr>\n",
       "      <th>6</th>\n",
       "      <td>2011-06-01</td>\n",
       "      <td>691123.120</td>\n",
       "    </tr>\n",
       "    <tr>\n",
       "      <th>7</th>\n",
       "      <td>2011-07-01</td>\n",
       "      <td>681300.111</td>\n",
       "    </tr>\n",
       "    <tr>\n",
       "      <th>8</th>\n",
       "      <td>2011-08-01</td>\n",
       "      <td>682680.510</td>\n",
       "    </tr>\n",
       "    <tr>\n",
       "      <th>9</th>\n",
       "      <td>2011-09-01</td>\n",
       "      <td>1019687.622</td>\n",
       "    </tr>\n",
       "    <tr>\n",
       "      <th>10</th>\n",
       "      <td>2011-10-01</td>\n",
       "      <td>1070704.670</td>\n",
       "    </tr>\n",
       "    <tr>\n",
       "      <th>11</th>\n",
       "      <td>2011-11-01</td>\n",
       "      <td>1461756.250</td>\n",
       "    </tr>\n",
       "    <tr>\n",
       "      <th>12</th>\n",
       "      <td>2011-12-01</td>\n",
       "      <td>433668.010</td>\n",
       "    </tr>\n",
       "  </tbody>\n",
       "</table>\n",
       "</div>"
      ],
      "text/plain": [
       "       months      revenue\n",
       "0  2010-12-01   748957.020\n",
       "1  2011-01-01   560000.260\n",
       "2  2011-02-01   498062.650\n",
       "3  2011-03-01   683267.080\n",
       "4  2011-04-01   493207.121\n",
       "5  2011-05-01   723333.510\n",
       "6  2011-06-01   691123.120\n",
       "7  2011-07-01   681300.111\n",
       "8  2011-08-01   682680.510\n",
       "9  2011-09-01  1019687.622\n",
       "10 2011-10-01  1070704.670\n",
       "11 2011-11-01  1461756.250\n",
       "12 2011-12-01   433668.010"
      ]
     },
     "execution_count": 730,
     "metadata": {},
     "output_type": "execute_result"
    }
   ],
   "source": [
    "at.groupby(['months'])['revenue'].sum().reset_index().sort_values('months')"
   ]
  },
  {
   "cell_type": "code",
   "execution_count": 733,
   "id": "367d78f0-69aa-4419-a312-160451373b38",
   "metadata": {},
   "outputs": [
    {
     "data": {
      "text/plain": [
       "<AxesSubplot: xlabel='months'>"
      ]
     },
     "execution_count": 733,
     "metadata": {},
     "output_type": "execute_result"
    },
    {
     "data": {
      "image/png": "[encoded data removed]",
      "text/plain": [
       "<Figure size 640x480 with 1 Axes>"
      ]
     },
     "metadata": {},
     "output_type": "display_data"
    }
   ],
   "source": [
    "at.groupby(['months'])['revenue'].sum().reset_index().sort_values('months').set_index('months').plot()"
   ]
  },
  {
   "cell_type": "code",
   "execution_count": 736,
   "id": "12b81186-8ad5-43fc-b4bf-4ddbcd34f5cb",
   "metadata": {},
   "outputs": [
    {
     "data": {
      "application/vnd.plotly.v1+json": {
       "config": {
        "plotlyServerURL": "https://plot.ly"
       },
       "data": [
        {
         "alignmentgroup": "True",
         "hovertemplate": "months=%{x}<br>revenue=%{y}<extra></extra>",
         "legendgroup": "",
         "marker": {
          "color": "#636efa",
          "pattern": {
           "shape": ""
          }
         },
         "name": "",
         "offsetgroup": "",
         "orientation": "v",
         "showlegend": false,
         "textposition": "auto",
         "type": "bar",
         "x": [
          "2010-12-01T00:00:00",
          "2011-01-01T00:00:00",
          "2011-02-01T00:00:00",
          "2011-03-01T00:00:00",
          "2011-04-01T00:00:00",
          "2011-05-01T00:00:00",
          "2011-06-01T00:00:00",
          "2011-07-01T00:00:00",
          "2011-08-01T00:00:00",
          "2011-09-01T00:00:00",
          "2011-10-01T00:00:00",
          "2011-11-01T00:00:00",
          "2011-12-01T00:00:00"
         ],
         "xaxis": "x",
         "y": [
          748957.02,
          560000.26,
          498062.65,
          683267.08,
          493207.121,
          723333.51,
          691123.12,
          681300.111,
          682680.51,
          1019687.622,
          1070704.67,
          1461756.25,
          433668.01
         ],
         "yaxis": "y"
        }
       ],
       "layout": {
        "autosize": true,
        "barmode": "relative",
        "legend": {
         "tracegroupgap": 0
        },
        "margin": {
         "t": 60
        },
        "template": {
         "data": {
          "bar": [
           {
            "error_x": {
             "color": "#2a3f5f"
            },
            "error_y": {
             "color": "#2a3f5f"
            },
            "marker": {
             "line": {
              "color": "#E5ECF6",
              "width": 0.5
             },
             "pattern": {
              "fillmode": "overlay",
              "size": 10,
              "solidity": 0.2
             }
            },
            "type": "bar"
           }
          ],
          "barpolar": [
           {
            "marker": {
             "line": {
              "color": "#E5ECF6",
              "width": 0.5
             },
             "pattern": {
              "fillmode": "overlay",
              "size": 10,
              "solidity": 0.2
             }
            },
            "type": "barpolar"
           }
          ],
          "carpet": [
           {
            "aaxis": {
             "endlinecolor": "#2a3f5f",
             "gridcolor": "white",
             "linecolor": "white",
             "minorgridcolor": "white",
             "startlinecolor": "#2a3f5f"
            },
            "baxis": {
             "endlinecolor": "#2a3f5f",
             "gridcolor": "white",
             "linecolor": "white",
             "minorgridcolor": "white",
             "startlinecolor": "#2a3f5f"
            },
            "type": "carpet"
           }
          ],
          "choropleth": [
           {
            "colorbar": {
             "outlinewidth": 0,
             "ticks": ""
            },
            "type": "choropleth"
           }
          ],
          "contour": [
           {
            "colorbar": {
             "outlinewidth": 0,
             "ticks": ""
            },
            "colorscale": [
             [
              0,
              "#0d0887"
             ],
             [
              0.1111111111111111,
              "#46039f"
             ],
             [
              0.2222222222222222,
              "#7201a8"
             ],
             [
              0.3333333333333333,
              "#9c179e"
             ],
             [
              0.4444444444444444,
              "#bd3786"
             ],
             [
              0.5555555555555556,
              "#d8576b"
             ],
             [
              0.6666666666666666,
              "#ed7953"
             ],
             [
              0.7777777777777778,
              "#fb9f3a"
             ],
             [
              0.8888888888888888,
              "#fdca26"
             ],
             [
              1,
              "#f0f921"
             ]
            ],
            "type": "contour"
           }
          ],
          "contourcarpet": [
           {
            "colorbar": {
             "outlinewidth": 0,
             "ticks": ""
            },
            "type": "contourcarpet"
           }
          ],
          "heatmap": [
           {
            "colorbar": {
             "outlinewidth": 0,
             "ticks": ""
            },
            "colorscale": [
             [
              0,
              "#0d0887"
             ],
             [
              0.1111111111111111,
              "#46039f"
             ],
             [
              0.2222222222222222,
              "#7201a8"
             ],
             [
              0.3333333333333333,
              "#9c179e"
             ],
             [
              0.4444444444444444,
              "#bd3786"
             ],
             [
              0.5555555555555556,
              "#d8576b"
             ],
             [
              0.6666666666666666,
              "#ed7953"
             ],
             [
              0.7777777777777778,
              "#fb9f3a"
             ],
             [
              0.8888888888888888,
              "#fdca26"
             ],
             [
              1,
              "#f0f921"
             ]
            ],
            "type": "heatmap"
           }
          ],
          "heatmapgl": [
           {
            "colorbar": {
             "outlinewidth": 0,
             "ticks": ""
            },
            "colorscale": [
             [
              0,
              "#0d0887"
             ],
             [
              0.1111111111111111,
              "#46039f"
             ],
             [
              0.2222222222222222,
              "#7201a8"
             ],
             [
              0.3333333333333333,
              "#9c179e"
             ],
             [
              0.4444444444444444,
              "#bd3786"
             ],
             [
              0.5555555555555556,
              "#d8576b"
             ],
             [
              0.6666666666666666,
              "#ed7953"
             ],
             [
              0.7777777777777778,
              "#fb9f3a"
             ],
             [
              0.8888888888888888,
              "#fdca26"
             ],
             [
              1,
              "#f0f921"
             ]
            ],
            "type": "heatmapgl"
           }
          ],
          "histogram": [
           {
            "marker": {
             "pattern": {
              "fillmode": "overlay",
              "size": 10,
              "solidity": 0.2
             }
            },
            "type": "histogram"
           }
          ],
          "histogram2d": [
           {
            "colorbar": {
             "outlinewidth": 0,
             "ticks": ""
            },
            "colorscale": [
             [
              0,
              "#0d0887"
             ],
             [
              0.1111111111111111,
              "#46039f"
             ],
             [
              0.2222222222222222,
              "#7201a8"
             ],
             [
              0.3333333333333333,
              "#9c179e"
             ],
             [
              0.4444444444444444,
              "#bd3786"
             ],
             [
              0.5555555555555556,
              "#d8576b"
             ],
             [
              0.6666666666666666,
              "#ed7953"
             ],
             [
              0.7777777777777778,
              "#fb9f3a"
             ],
             [
              0.8888888888888888,
              "#fdca26"
             ],
             [
              1,
              "#f0f921"
             ]
            ],
            "type": "histogram2d"
           }
          ],
          "histogram2dcontour": [
           {
            "colorbar": {
             "outlinewidth": 0,
             "ticks": ""
            },
            "colorscale": [
             [
              0,
              "#0d0887"
             ],
             [
              0.1111111111111111,
              "#46039f"
             ],
             [
              0.2222222222222222,
              "#7201a8"
             ],
             [
              0.3333333333333333,
              "#9c179e"
             ],
             [
              0.4444444444444444,
              "#bd3786"
             ],
             [
              0.5555555555555556,
              "#d8576b"
             ],
             [
              0.6666666666666666,
              "#ed7953"
             ],
             [
              0.7777777777777778,
              "#fb9f3a"
             ],
             [
              0.8888888888888888,
              "#fdca26"
             ],
             [
              1,
              "#f0f921"
             ]
            ],
            "type": "histogram2dcontour"
           }
          ],
          "mesh3d": [
           {
            "colorbar": {
             "outlinewidth": 0,
             "ticks": ""
            },
            "type": "mesh3d"
           }
          ],
          "parcoords": [
           {
            "line": {
             "colorbar": {
              "outlinewidth": 0,
              "ticks": ""
             }
            },
            "type": "parcoords"
           }
          ],
          "pie": [
           {
            "automargin": true,
            "type": "pie"
           }
          ],
          "scatter": [
           {
            "fillpattern": {
             "fillmode": "overlay",
             "size": 10,
             "solidity": 0.2
            },
            "type": "scatter"
           }
          ],
          "scatter3d": [
           {
            "line": {
             "colorbar": {
              "outlinewidth": 0,
              "ticks": ""
             }
            },
            "marker": {
             "colorbar": {
              "outlinewidth": 0,
              "ticks": ""
             }
            },
            "type": "scatter3d"
           }
          ],
          "scattercarpet": [
           {
            "marker": {
             "colorbar": {
              "outlinewidth": 0,
              "ticks": ""
             }
            },
            "type": "scattercarpet"
           }
          ],
          "scattergeo": [
           {
            "marker": {
             "colorbar": {
              "outlinewidth": 0,
              "ticks": ""
             }
            },
            "type": "scattergeo"
           }
          ],
          "scattergl": [
           {
            "marker": {
             "colorbar": {
              "outlinewidth": 0,
              "ticks": ""
             }
            },
            "type": "scattergl"
           }
          ],
          "scattermapbox": [
           {
            "marker": {
             "colorbar": {
              "outlinewidth": 0,
              "ticks": ""
             }
            },
            "type": "scattermapbox"
           }
          ],
          "scatterpolar": [
           {
            "marker": {
             "colorbar": {
              "outlinewidth": 0,
              "ticks": ""
             }
            },
            "type": "scatterpolar"
           }
          ],
          "scatterpolargl": [
           {
            "marker": {
             "colorbar": {
              "outlinewidth": 0,
              "ticks": ""
             }
            },
            "type": "scatterpolargl"
           }
          ],
          "scatterternary": [
           {
            "marker": {
             "colorbar": {
              "outlinewidth": 0,
              "ticks": ""
             }
            },
            "type": "scatterternary"
           }
          ],
          "surface": [
           {
            "colorbar": {
             "outlinewidth": 0,
             "ticks": ""
            },
            "colorscale": [
             [
              0,
              "#0d0887"
             ],
             [
              0.1111111111111111,
              "#46039f"
             ],
             [
              0.2222222222222222,
              "#7201a8"
             ],
             [
              0.3333333333333333,
              "#9c179e"
             ],
             [
              0.4444444444444444,
              "#bd3786"
             ],
             [
              0.5555555555555556,
              "#d8576b"
             ],
             [
              0.6666666666666666,
              "#ed7953"
             ],
             [
              0.7777777777777778,
              "#fb9f3a"
             ],
             [
              0.8888888888888888,
              "#fdca26"
             ],
             [
              1,
              "#f0f921"
             ]
            ],
            "type": "surface"
           }
          ],
          "table": [
           {
            "cells": {
             "fill": {
              "color": "#EBF0F8"
             },
             "line": {
              "color": "white"
             }
            },
            "header": {
             "fill": {
              "color": "#C8D4E3"
             },
             "line": {
              "color": "white"
             }
            },
            "type": "table"
           }
          ]
         },
         "layout": {
          "annotationdefaults": {
           "arrowcolor": "#2a3f5f",
           "arrowhead": 0,
           "arrowwidth": 1
          },
          "autotypenumbers": "strict",
          "coloraxis": {
           "colorbar": {
            "outlinewidth": 0,
            "ticks": ""
           }
          },
          "colorscale": {
           "diverging": [
            [
             0,
             "#8e0152"
            ],
            [
             0.1,
             "#c51b7d"
            ],
            [
             0.2,
             "#de77ae"
            ],
            [
             0.3,
             "#f1b6da"
            ],
            [
             0.4,
             "#fde0ef"
            ],
            [
             0.5,
             "#f7f7f7"
            ],
            [
             0.6,
             "#e6f5d0"
            ],
            [
             0.7,
             "#b8e186"
            ],
            [
             0.8,
             "#7fbc41"
            ],
            [
             0.9,
             "#4d9221"
            ],
            [
             1,
             "#276419"
            ]
           ],
           "sequential": [
            [
             0,
             "#0d0887"
            ],
            [
             0.1111111111111111,
             "#46039f"
            ],
            [
             0.2222222222222222,
             "#7201a8"
            ],
            [
             0.3333333333333333,
             "#9c179e"
            ],
            [
             0.4444444444444444,
             "#bd3786"
            ],
            [
             0.5555555555555556,
             "#d8576b"
            ],
            [
             0.6666666666666666,
             "#ed7953"
            ],
            [
             0.7777777777777778,
             "#fb9f3a"
            ],
            [
             0.8888888888888888,
             "#fdca26"
            ],
            [
             1,
             "#f0f921"
            ]
           ],
           "sequentialminus": [
            [
             0,
             "#0d0887"
            ],
            [
             0.1111111111111111,
             "#46039f"
            ],
            [
             0.2222222222222222,
             "#7201a8"
            ],
            [
             0.3333333333333333,
             "#9c179e"
            ],
            [
             0.4444444444444444,
             "#bd3786"
            ],
            [
             0.5555555555555556,
             "#d8576b"
            ],
            [
             0.6666666666666666,
             "#ed7953"
            ],
            [
             0.7777777777777778,
             "#fb9f3a"
            ],
            [
             0.8888888888888888,
             "#fdca26"
            ],
            [
             1,
             "#f0f921"
            ]
           ]
          },
          "colorway": [
           "#636efa",
           "#EF553B",
           "#00cc96",
           "#ab63fa",
           "#FFA15A",
           "#19d3f3",
           "#FF6692",
           "#B6E880",
           "#FF97FF",
           "#FECB52"
          ],
          "font": {
           "color": "#2a3f5f"
          },
          "geo": {
           "bgcolor": "white",
           "lakecolor": "white",
           "landcolor": "#E5ECF6",
           "showlakes": true,
           "showland": true,
           "subunitcolor": "white"
          },
          "hoverlabel": {
           "align": "left"
          },
          "hovermode": "closest",
          "mapbox": {
           "style": "light"
          },
          "paper_bgcolor": "white",
          "plot_bgcolor": "#E5ECF6",
          "polar": {
           "angularaxis": {
            "gridcolor": "white",
            "linecolor": "white",
            "ticks": ""
           },
           "bgcolor": "#E5ECF6",
           "radialaxis": {
            "gridcolor": "white",
            "linecolor": "white",
            "ticks": ""
           }
          },
          "scene": {
           "xaxis": {
            "backgroundcolor": "#E5ECF6",
            "gridcolor": "white",
            "gridwidth": 2,
            "linecolor": "white",
            "showbackground": true,
            "ticks": "",
            "zerolinecolor": "white"
           },
           "yaxis": {
            "backgroundcolor": "#E5ECF6",
            "gridcolor": "white",
            "gridwidth": 2,
            "linecolor": "white",
            "showbackground": true,
            "ticks": "",
            "zerolinecolor": "white"
           },
           "zaxis": {
            "backgroundcolor": "#E5ECF6",
            "gridcolor": "white",
            "gridwidth": 2,
            "linecolor": "white",
            "showbackground": true,
            "ticks": "",
            "zerolinecolor": "white"
           }
          },
          "shapedefaults": {
           "line": {
            "color": "#2a3f5f"
           }
          },
          "ternary": {
           "aaxis": {
            "gridcolor": "white",
            "linecolor": "white",
            "ticks": ""
           },
           "baxis": {
            "gridcolor": "white",
            "linecolor": "white",
            "ticks": ""
           },
           "bgcolor": "#E5ECF6",
           "caxis": {
            "gridcolor": "white",
            "linecolor": "white",
            "ticks": ""
           }
          },
          "title": {
           "x": 0.05
          },
          "xaxis": {
           "automargin": true,
           "gridcolor": "white",
           "linecolor": "white",
           "ticks": "",
           "title": {
            "standoff": 15
           },
           "zerolinecolor": "white",
           "zerolinewidth": 2
          },
          "yaxis": {
           "automargin": true,
           "gridcolor": "white",
           "linecolor": "white",
           "ticks": "",
           "title": {
            "standoff": 15
           },
           "zerolinecolor": "white",
           "zerolinewidth": 2
          }
         }
        },
        "xaxis": {
         "anchor": "y",
         "autorange": true,
         "domain": [
          0,
          1
         ],
         "range": [
          "2010-11-17",
          "2011-12-15"
         ],
         "tickvals": [
          "2010-12-01T00:00:00",
          "2011-01-01T00:00:00",
          "2011-02-01T00:00:00",
          "2011-03-01T00:00:00",
          "2011-04-01T00:00:00",
          "2011-05-01T00:00:00",
          "2011-06-01T00:00:00",
          "2011-07-01T00:00:00",
          "2011-08-01T00:00:00",
          "2011-09-01T00:00:00",
          "2011-10-01T00:00:00",
          "2011-11-01T00:00:00",
          "2011-12-01T00:00:00"
         ],
         "title": {
          "text": "months"
         },
         "type": "date"
        },
        "yaxis": {
         "anchor": "x",
         "autorange": true,
         "domain": [
          0,
          1
         ],
         "range": [
          0,
          1538690.7894736843
         ],
         "title": {
          "text": "revenue"
         },
         "type": "linear"
        }
       }
      },
      "image/png": "[encoded data removed]",
      "text/html": [
       "<div>                            <div id=\"b0f4a50d-e04c-4c7d-bc9b-725fedfd9b94\" class=\"plotly-graph-div\" style=\"height:525px; width:100%;\"></div>            <script type=\"text/javascript\">                require([\"plotly\"], function(Plotly) {                    window.PLOTLYENV=window.PLOTLYENV || {};                                    if (document.getElementById(\"b0f4a50d-e04c-4c7d-bc9b-725fedfd9b94\")) {                    Plotly.newPlot(                        \"b0f4a50d-e04c-4c7d-bc9b-725fedfd9b94\",                        [{\"alignmentgroup\":\"True\",\"hovertemplate\":\"months=%{x}<br>revenue=%{y}<extra></extra>\",\"legendgroup\":\"\",\"marker\":{\"color\":\"#636efa\",\"pattern\":{\"shape\":\"\"}},\"name\":\"\",\"offsetgroup\":\"\",\"orientation\":\"v\",\"showlegend\":false,\"textposition\":\"auto\",\"x\":[\"2010-12-01T00:00:00\",\"2011-01-01T00:00:00\",\"2011-02-01T00:00:00\",\"2011-03-01T00:00:00\",\"2011-04-01T00:00:00\",\"2011-05-01T00:00:00\",\"2011-06-01T00:00:00\",\"2011-07-01T00:00:00\",\"2011-08-01T00:00:00\",\"2011-09-01T00:00:00\",\"2011-10-01T00:00:00\",\"2011-11-01T00:00:00\",\"2011-12-01T00:00:00\"],\"xaxis\":\"x\",\"y\":[748957.02,560000.26,498062.65,683267.08,493207.121,723333.51,691123.12,681300.111,682680.51,1019687.622,1070704.67,1461756.25,433668.01],\"yaxis\":\"y\",\"type\":\"bar\"}],                        {\"template\":{\"data\":{\"histogram2dcontour\":[{\"type\":\"histogram2dcontour\",\"colorbar\":{\"outlinewidth\":0,\"ticks\":\"\"},\"colorscale\":[[0.0,\"#0d0887\"],[0.1111111111111111,\"#46039f\"],[0.2222222222222222,\"#7201a8\"],[0.3333333333333333,\"#9c179e\"],[0.4444444444444444,\"#bd3786\"],[0.5555555555555556,\"#d8576b\"],[0.6666666666666666,\"#ed7953\"],[0.7777777777777778,\"#fb9f3a\"],[0.8888888888888888,\"#fdca26\"],[1.0,\"#f0f921\"]]}],\"choropleth\":[{\"type\":\"choropleth\",\"colorbar\":{\"outlinewidth\":0,\"ticks\":\"\"}}],\"histogram2d\":[{\"type\":\"histogram2d\",\"colorbar\":{\"outlinewidth\":0,\"ticks\":\"\"},\"colorscale\":[[0.0,\"#0d0887\"],[0.1111111111111111,\"#46039f\"],[0.2222222222222222,\"#7201a8\"],[0.3333333333333333,\"#9c179e\"],[0.4444444444444444,\"#bd3786\"],[0.5555555555555556,\"#d8576b\"],[0.6666666666666666,\"#ed7953\"],[0.7777777777777778,\"#fb9f3a\"],[0.8888888888888888,\"#fdca26\"],[1.0,\"#f0f921\"]]}],\"heatmap\":[{\"type\":\"heatmap\",\"colorbar\":{\"outlinewidth\":0,\"ticks\":\"\"},\"colorscale\":[[0.0,\"#0d0887\"],[0.1111111111111111,\"#46039f\"],[0.2222222222222222,\"#7201a8\"],[0.3333333333333333,\"#9c179e\"],[0.4444444444444444,\"#bd3786\"],[0.5555555555555556,\"#d8576b\"],[0.6666666666666666,\"#ed7953\"],[0.7777777777777778,\"#fb9f3a\"],[0.8888888888888888,\"#fdca26\"],[1.0,\"#f0f921\"]]}],\"heatmapgl\":[{\"type\":\"heatmapgl\",\"colorbar\":{\"outlinewidth\":0,\"ticks\":\"\"},\"colorscale\":[[0.0,\"#0d0887\"],[0.1111111111111111,\"#46039f\"],[0.2222222222222222,\"#7201a8\"],[0.3333333333333333,\"#9c179e\"],[0.4444444444444444,\"#bd3786\"],[0.5555555555555556,\"#d8576b\"],[0.6666666666666666,\"#ed7953\"],[0.7777777777777778,\"#fb9f3a\"],[0.8888888888888888,\"#fdca26\"],[1.0,\"#f0f921\"]]}],\"contourcarpet\":[{\"type\":\"contourcarpet\",\"colorbar\":{\"outlinewidth\":0,\"ticks\":\"\"}}],\"contour\":[{\"type\":\"contour\",\"colorbar\":{\"outlinewidth\":0,\"ticks\":\"\"},\"colorscale\":[[0.0,\"#0d0887\"],[0.1111111111111111,\"#46039f\"],[0.2222222222222222,\"#7201a8\"],[0.3333333333333333,\"#9c179e\"],[0.4444444444444444,\"#bd3786\"],[0.5555555555555556,\"#d8576b\"],[0.6666666666666666,\"#ed7953\"],[0.7777777777777778,\"#fb9f3a\"],[0.8888888888888888,\"#fdca26\"],[1.0,\"#f0f921\"]]}],\"surface\":[{\"type\":\"surface\",\"colorbar\":{\"outlinewidth\":0,\"ticks\":\"\"},\"colorscale\":[[0.0,\"#0d0887\"],[0.1111111111111111,\"#46039f\"],[0.2222222222222222,\"#7201a8\"],[0.3333333333333333,\"#9c179e\"],[0.4444444444444444,\"#bd3786\"],[0.5555555555555556,\"#d8576b\"],[0.6666666666666666,\"#ed7953\"],[0.7777777777777778,\"#fb9f3a\"],[0.8888888888888888,\"#fdca26\"],[1.0,\"#f0f921\"]]}],\"mesh3d\":[{\"type\":\"mesh3d\",\"colorbar\":{\"outlinewidth\":0,\"ticks\":\"\"}}],\"scatter\":[{\"fillpattern\":{\"fillmode\":\"overlay\",\"size\":10,\"solidity\":0.2},\"type\":\"scatter\"}],\"parcoords\":[{\"type\":\"parcoords\",\"line\":{\"colorbar\":{\"outlinewidth\":0,\"ticks\":\"\"}}}],\"scatterpolargl\":[{\"type\":\"scatterpolargl\",\"marker\":{\"colorbar\":{\"outlinewidth\":0,\"ticks\":\"\"}}}],\"bar\":[{\"error_x\":{\"color\":\"#2a3f5f\"},\"error_y\":{\"color\":\"#2a3f5f\"},\"marker\":{\"line\":{\"color\":\"#E5ECF6\",\"width\":0.5},\"pattern\":{\"fillmode\":\"overlay\",\"size\":10,\"solidity\":0.2}},\"type\":\"bar\"}],\"scattergeo\":[{\"type\":\"scattergeo\",\"marker\":{\"colorbar\":{\"outlinewidth\":0,\"ticks\":\"\"}}}],\"scatterpolar\":[{\"type\":\"scatterpolar\",\"marker\":{\"colorbar\":{\"outlinewidth\":0,\"ticks\":\"\"}}}],\"histogram\":[{\"marker\":{\"pattern\":{\"fillmode\":\"overlay\",\"size\":10,\"solidity\":0.2}},\"type\":\"histogram\"}],\"scattergl\":[{\"type\":\"scattergl\",\"marker\":{\"colorbar\":{\"outlinewidth\":0,\"ticks\":\"\"}}}],\"scatter3d\":[{\"type\":\"scatter3d\",\"line\":{\"colorbar\":{\"outlinewidth\":0,\"ticks\":\"\"}},\"marker\":{\"colorbar\":{\"outlinewidth\":0,\"ticks\":\"\"}}}],\"scattermapbox\":[{\"type\":\"scattermapbox\",\"marker\":{\"colorbar\":{\"outlinewidth\":0,\"ticks\":\"\"}}}],\"scatterternary\":[{\"type\":\"scatterternary\",\"marker\":{\"colorbar\":{\"outlinewidth\":0,\"ticks\":\"\"}}}],\"scattercarpet\":[{\"type\":\"scattercarpet\",\"marker\":{\"colorbar\":{\"outlinewidth\":0,\"ticks\":\"\"}}}],\"carpet\":[{\"aaxis\":{\"endlinecolor\":\"#2a3f5f\",\"gridcolor\":\"white\",\"linecolor\":\"white\",\"minorgridcolor\":\"white\",\"startlinecolor\":\"#2a3f5f\"},\"baxis\":{\"endlinecolor\":\"#2a3f5f\",\"gridcolor\":\"white\",\"linecolor\":\"white\",\"minorgridcolor\":\"white\",\"startlinecolor\":\"#2a3f5f\"},\"type\":\"carpet\"}],\"table\":[{\"cells\":{\"fill\":{\"color\":\"#EBF0F8\"},\"line\":{\"color\":\"white\"}},\"header\":{\"fill\":{\"color\":\"#C8D4E3\"},\"line\":{\"color\":\"white\"}},\"type\":\"table\"}],\"barpolar\":[{\"marker\":{\"line\":{\"color\":\"#E5ECF6\",\"width\":0.5},\"pattern\":{\"fillmode\":\"overlay\",\"size\":10,\"solidity\":0.2}},\"type\":\"barpolar\"}],\"pie\":[{\"automargin\":true,\"type\":\"pie\"}]},\"layout\":{\"autotypenumbers\":\"strict\",\"colorway\":[\"#636efa\",\"#EF553B\",\"#00cc96\",\"#ab63fa\",\"#FFA15A\",\"#19d3f3\",\"#FF6692\",\"#B6E880\",\"#FF97FF\",\"#FECB52\"],\"font\":{\"color\":\"#2a3f5f\"},\"hovermode\":\"closest\",\"hoverlabel\":{\"align\":\"left\"},\"paper_bgcolor\":\"white\",\"plot_bgcolor\":\"#E5ECF6\",\"polar\":{\"bgcolor\":\"#E5ECF6\",\"angularaxis\":{\"gridcolor\":\"white\",\"linecolor\":\"white\",\"ticks\":\"\"},\"radialaxis\":{\"gridcolor\":\"white\",\"linecolor\":\"white\",\"ticks\":\"\"}},\"ternary\":{\"bgcolor\":\"#E5ECF6\",\"aaxis\":{\"gridcolor\":\"white\",\"linecolor\":\"white\",\"ticks\":\"\"},\"baxis\":{\"gridcolor\":\"white\",\"linecolor\":\"white\",\"ticks\":\"\"},\"caxis\":{\"gridcolor\":\"white\",\"linecolor\":\"white\",\"ticks\":\"\"}},\"coloraxis\":{\"colorbar\":{\"outlinewidth\":0,\"ticks\":\"\"}},\"colorscale\":{\"sequential\":[[0.0,\"#0d0887\"],[0.1111111111111111,\"#46039f\"],[0.2222222222222222,\"#7201a8\"],[0.3333333333333333,\"#9c179e\"],[0.4444444444444444,\"#bd3786\"],[0.5555555555555556,\"#d8576b\"],[0.6666666666666666,\"#ed7953\"],[0.7777777777777778,\"#fb9f3a\"],[0.8888888888888888,\"#fdca26\"],[1.0,\"#f0f921\"]],\"sequentialminus\":[[0.0,\"#0d0887\"],[0.1111111111111111,\"#46039f\"],[0.2222222222222222,\"#7201a8\"],[0.3333333333333333,\"#9c179e\"],[0.4444444444444444,\"#bd3786\"],[0.5555555555555556,\"#d8576b\"],[0.6666666666666666,\"#ed7953\"],[0.7777777777777778,\"#fb9f3a\"],[0.8888888888888888,\"#fdca26\"],[1.0,\"#f0f921\"]],\"diverging\":[[0,\"#8e0152\"],[0.1,\"#c51b7d\"],[0.2,\"#de77ae\"],[0.3,\"#f1b6da\"],[0.4,\"#fde0ef\"],[0.5,\"#f7f7f7\"],[0.6,\"#e6f5d0\"],[0.7,\"#b8e186\"],[0.8,\"#7fbc41\"],[0.9,\"#4d9221\"],[1,\"#276419\"]]},\"xaxis\":{\"gridcolor\":\"white\",\"linecolor\":\"white\",\"ticks\":\"\",\"title\":{\"standoff\":15},\"zerolinecolor\":\"white\",\"automargin\":true,\"zerolinewidth\":2},\"yaxis\":{\"gridcolor\":\"white\",\"linecolor\":\"white\",\"ticks\":\"\",\"title\":{\"standoff\":15},\"zerolinecolor\":\"white\",\"automargin\":true,\"zerolinewidth\":2},\"scene\":{\"xaxis\":{\"backgroundcolor\":\"#E5ECF6\",\"gridcolor\":\"white\",\"linecolor\":\"white\",\"showbackground\":true,\"ticks\":\"\",\"zerolinecolor\":\"white\",\"gridwidth\":2},\"yaxis\":{\"backgroundcolor\":\"#E5ECF6\",\"gridcolor\":\"white\",\"linecolor\":\"white\",\"showbackground\":true,\"ticks\":\"\",\"zerolinecolor\":\"white\",\"gridwidth\":2},\"zaxis\":{\"backgroundcolor\":\"#E5ECF6\",\"gridcolor\":\"white\",\"linecolor\":\"white\",\"showbackground\":true,\"ticks\":\"\",\"zerolinecolor\":\"white\",\"gridwidth\":2}},\"shapedefaults\":{\"line\":{\"color\":\"#2a3f5f\"}},\"annotationdefaults\":{\"arrowcolor\":\"#2a3f5f\",\"arrowhead\":0,\"arrowwidth\":1},\"geo\":{\"bgcolor\":\"white\",\"landcolor\":\"#E5ECF6\",\"subunitcolor\":\"white\",\"showland\":true,\"showlakes\":true,\"lakecolor\":\"white\"},\"title\":{\"x\":0.05},\"mapbox\":{\"style\":\"light\"}}},\"xaxis\":{\"anchor\":\"y\",\"domain\":[0.0,1.0],\"title\":{\"text\":\"months\"},\"tickvals\":[\"2010-12-01T00:00:00\",\"2011-01-01T00:00:00\",\"2011-02-01T00:00:00\",\"2011-03-01T00:00:00\",\"2011-04-01T00:00:00\",\"2011-05-01T00:00:00\",\"2011-06-01T00:00:00\",\"2011-07-01T00:00:00\",\"2011-08-01T00:00:00\",\"2011-09-01T00:00:00\",\"2011-10-01T00:00:00\",\"2011-11-01T00:00:00\",\"2011-12-01T00:00:00\"]},\"yaxis\":{\"anchor\":\"x\",\"domain\":[0.0,1.0],\"title\":{\"text\":\"revenue\"}},\"legend\":{\"tracegroupgap\":0},\"margin\":{\"t\":60},\"barmode\":\"relative\"},                        {\"responsive\": true}                    ).then(function(){\n",
       "                            \n",
       "var gd = document.getElementById('b0f4a50d-e04c-4c7d-bc9b-725fedfd9b94');\n",
       "var x = new MutationObserver(function (mutations, observer) {{\n",
       "        var display = window.getComputedStyle(gd).display;\n",
       "        if (!display || display === 'none') {{\n",
       "            console.log([gd, 'removed!']);\n",
       "            Plotly.purge(gd);\n",
       "            observer.disconnect();\n",
       "        }}\n",
       "}});\n",
       "\n",
       "// Listen for the removal of the full notebook cells\n",
       "var notebookContainer = gd.closest('#notebook-container');\n",
       "if (notebookContainer) {{\n",
       "    x.observe(notebookContainer, {childList: true});\n",
       "}}\n",
       "\n",
       "// Listen for the clearing of the current output cell\n",
       "var outputEl = gd.closest('.output');\n",
       "if (outputEl) {{\n",
       "    x.observe(outputEl, {childList: true});\n",
       "}}\n",
       "\n",
       "                        })                };                });            </script>        </div>"
      ]
     },
     "metadata": {},
     "output_type": "display_data"
    }
   ],
   "source": [
    "#repeat fig\n",
    "at_revenue = at.groupby(['months'])['revenue'].sum().reset_index().sort_values('months')\n",
    "fig = px.bar(at_revenue, x='months', y='revenue')\n",
    "fig.layout.xaxis.tickvals = at_revenue.months\n",
    "fig.show()"
   ]
  },
  {
   "cell_type": "markdown",
   "id": "0d52f40a-7e11-481e-a6aa-908f3188ec66",
   "metadata": {},
   "source": [
    "### Users per month"
   ]
  },
  {
   "cell_type": "code",
   "execution_count": 737,
   "id": "51a81cab-2840-4325-afd4-53503f4d8e89",
   "metadata": {},
   "outputs": [],
   "source": [
    "at['user'] = 1"
   ]
  },
  {
   "cell_type": "code",
   "execution_count": 738,
   "id": "58e69d47-d9d0-430b-9690-c928a85a81ed",
   "metadata": {},
   "outputs": [
    {
     "data": {
      "text/html": [
       "<div>\n",
       "<style scoped>\n",
       "    .dataframe tbody tr th:only-of-type {\n",
       "        vertical-align: middle;\n",
       "    }\n",
       "\n",
       "    .dataframe tbody tr th {\n",
       "        vertical-align: top;\n",
       "    }\n",
       "\n",
       "    .dataframe thead th {\n",
       "        text-align: right;\n",
       "    }\n",
       "</style>\n",
       "<table border=\"1\" class=\"dataframe\">\n",
       "  <thead>\n",
       "    <tr style=\"text-align: right;\">\n",
       "      <th></th>\n",
       "      <th>months</th>\n",
       "      <th>customer_id</th>\n",
       "      <th>reg_date</th>\n",
       "      <th>reg_month</th>\n",
       "      <th>revenue</th>\n",
       "      <th>user</th>\n",
       "    </tr>\n",
       "  </thead>\n",
       "  <tbody>\n",
       "    <tr>\n",
       "      <th>0</th>\n",
       "      <td>2010-12-01</td>\n",
       "      <td>-1.0</td>\n",
       "      <td>2010-12-01 11:52:00</td>\n",
       "      <td>2010-12-01</td>\n",
       "      <td>194353.00</td>\n",
       "      <td>1</td>\n",
       "    </tr>\n",
       "    <tr>\n",
       "      <th>1</th>\n",
       "      <td>2010-12-01</td>\n",
       "      <td>12347.0</td>\n",
       "      <td>2010-12-07 14:57:00</td>\n",
       "      <td>2010-12-01</td>\n",
       "      <td>711.79</td>\n",
       "      <td>1</td>\n",
       "    </tr>\n",
       "    <tr>\n",
       "      <th>2</th>\n",
       "      <td>2010-12-01</td>\n",
       "      <td>12348.0</td>\n",
       "      <td>2010-12-16 19:09:00</td>\n",
       "      <td>2010-12-01</td>\n",
       "      <td>892.80</td>\n",
       "      <td>1</td>\n",
       "    </tr>\n",
       "    <tr>\n",
       "      <th>3</th>\n",
       "      <td>2010-12-01</td>\n",
       "      <td>12370.0</td>\n",
       "      <td>2010-12-14 12:58:00</td>\n",
       "      <td>2010-12-01</td>\n",
       "      <td>1868.02</td>\n",
       "      <td>1</td>\n",
       "    </tr>\n",
       "    <tr>\n",
       "      <th>4</th>\n",
       "      <td>2010-12-01</td>\n",
       "      <td>12377.0</td>\n",
       "      <td>2010-12-20 09:37:00</td>\n",
       "      <td>2010-12-01</td>\n",
       "      <td>1001.52</td>\n",
       "      <td>1</td>\n",
       "    </tr>\n",
       "    <tr>\n",
       "      <th>...</th>\n",
       "      <td>...</td>\n",
       "      <td>...</td>\n",
       "      <td>...</td>\n",
       "      <td>...</td>\n",
       "      <td>...</td>\n",
       "      <td>...</td>\n",
       "    </tr>\n",
       "    <tr>\n",
       "      <th>37444</th>\n",
       "      <td>2011-12-01</td>\n",
       "      <td>18280.0</td>\n",
       "      <td>2011-03-07 09:52:00</td>\n",
       "      <td>2011-03-01</td>\n",
       "      <td>NaN</td>\n",
       "      <td>1</td>\n",
       "    </tr>\n",
       "    <tr>\n",
       "      <th>37445</th>\n",
       "      <td>2011-12-01</td>\n",
       "      <td>18281.0</td>\n",
       "      <td>2011-06-12 10:53:00</td>\n",
       "      <td>2011-06-01</td>\n",
       "      <td>NaN</td>\n",
       "      <td>1</td>\n",
       "    </tr>\n",
       "    <tr>\n",
       "      <th>37446</th>\n",
       "      <td>2011-12-01</td>\n",
       "      <td>18282.0</td>\n",
       "      <td>2011-08-05 13:35:00</td>\n",
       "      <td>2011-08-01</td>\n",
       "      <td>77.84</td>\n",
       "      <td>1</td>\n",
       "    </tr>\n",
       "    <tr>\n",
       "      <th>37447</th>\n",
       "      <td>2011-12-01</td>\n",
       "      <td>18283.0</td>\n",
       "      <td>2011-01-06 14:14:00</td>\n",
       "      <td>2011-01-01</td>\n",
       "      <td>208.00</td>\n",
       "      <td>1</td>\n",
       "    </tr>\n",
       "    <tr>\n",
       "      <th>37448</th>\n",
       "      <td>2011-12-01</td>\n",
       "      <td>18287.0</td>\n",
       "      <td>2011-05-22 10:39:00</td>\n",
       "      <td>2011-05-01</td>\n",
       "      <td>NaN</td>\n",
       "      <td>1</td>\n",
       "    </tr>\n",
       "  </tbody>\n",
       "</table>\n",
       "<p>37449 rows × 6 columns</p>\n",
       "</div>"
      ],
      "text/plain": [
       "          months  customer_id            reg_date  reg_month    revenue  user\n",
       "0     2010-12-01         -1.0 2010-12-01 11:52:00 2010-12-01  194353.00     1\n",
       "1     2010-12-01      12347.0 2010-12-07 14:57:00 2010-12-01     711.79     1\n",
       "2     2010-12-01      12348.0 2010-12-16 19:09:00 2010-12-01     892.80     1\n",
       "3     2010-12-01      12370.0 2010-12-14 12:58:00 2010-12-01    1868.02     1\n",
       "4     2010-12-01      12377.0 2010-12-20 09:37:00 2010-12-01    1001.52     1\n",
       "...          ...          ...                 ...        ...        ...   ...\n",
       "37444 2011-12-01      18280.0 2011-03-07 09:52:00 2011-03-01        NaN     1\n",
       "37445 2011-12-01      18281.0 2011-06-12 10:53:00 2011-06-01        NaN     1\n",
       "37446 2011-12-01      18282.0 2011-08-05 13:35:00 2011-08-01      77.84     1\n",
       "37447 2011-12-01      18283.0 2011-01-06 14:14:00 2011-01-01     208.00     1\n",
       "37448 2011-12-01      18287.0 2011-05-22 10:39:00 2011-05-01        NaN     1\n",
       "\n",
       "[37449 rows x 6 columns]"
      ]
     },
     "execution_count": 738,
     "metadata": {},
     "output_type": "execute_result"
    }
   ],
   "source": [
    "at"
   ]
  },
  {
   "cell_type": "markdown",
   "id": "63ee66cb-57cd-40d0-ae28-727ffdbca0bf",
   "metadata": {},
   "source": [
    "## Counting number of registered users"
   ]
  },
  {
   "cell_type": "code",
   "execution_count": 739,
   "id": "e346cc8c-728b-4e32-94ce-8ffd955d543c",
   "metadata": {},
   "outputs": [
    {
     "data": {
      "text/html": [
       "<div>\n",
       "<style scoped>\n",
       "    .dataframe tbody tr th:only-of-type {\n",
       "        vertical-align: middle;\n",
       "    }\n",
       "\n",
       "    .dataframe tbody tr th {\n",
       "        vertical-align: top;\n",
       "    }\n",
       "\n",
       "    .dataframe thead th {\n",
       "        text-align: right;\n",
       "    }\n",
       "</style>\n",
       "<table border=\"1\" class=\"dataframe\">\n",
       "  <thead>\n",
       "    <tr style=\"text-align: right;\">\n",
       "      <th></th>\n",
       "      <th>months</th>\n",
       "      <th>user</th>\n",
       "      <th>revenue</th>\n",
       "    </tr>\n",
       "  </thead>\n",
       "  <tbody>\n",
       "    <tr>\n",
       "      <th>0</th>\n",
       "      <td>2010-12-01</td>\n",
       "      <td>949</td>\n",
       "      <td>748957.020</td>\n",
       "    </tr>\n",
       "    <tr>\n",
       "      <th>1</th>\n",
       "      <td>2011-01-01</td>\n",
       "      <td>1370</td>\n",
       "      <td>560000.260</td>\n",
       "    </tr>\n",
       "    <tr>\n",
       "      <th>2</th>\n",
       "      <td>2011-02-01</td>\n",
       "      <td>1750</td>\n",
       "      <td>498062.650</td>\n",
       "    </tr>\n",
       "    <tr>\n",
       "      <th>3</th>\n",
       "      <td>2011-03-01</td>\n",
       "      <td>2190</td>\n",
       "      <td>683267.080</td>\n",
       "    </tr>\n",
       "    <tr>\n",
       "      <th>4</th>\n",
       "      <td>2011-04-01</td>\n",
       "      <td>2489</td>\n",
       "      <td>493207.121</td>\n",
       "    </tr>\n",
       "    <tr>\n",
       "      <th>5</th>\n",
       "      <td>2011-05-01</td>\n",
       "      <td>2768</td>\n",
       "      <td>723333.510</td>\n",
       "    </tr>\n",
       "    <tr>\n",
       "      <th>6</th>\n",
       "      <td>2011-06-01</td>\n",
       "      <td>3003</td>\n",
       "      <td>691123.120</td>\n",
       "    </tr>\n",
       "    <tr>\n",
       "      <th>7</th>\n",
       "      <td>2011-07-01</td>\n",
       "      <td>3194</td>\n",
       "      <td>681300.111</td>\n",
       "    </tr>\n",
       "    <tr>\n",
       "      <th>8</th>\n",
       "      <td>2011-08-01</td>\n",
       "      <td>3361</td>\n",
       "      <td>682680.510</td>\n",
       "    </tr>\n",
       "    <tr>\n",
       "      <th>9</th>\n",
       "      <td>2011-09-01</td>\n",
       "      <td>3659</td>\n",
       "      <td>1019687.622</td>\n",
       "    </tr>\n",
       "    <tr>\n",
       "      <th>10</th>\n",
       "      <td>2011-10-01</td>\n",
       "      <td>4011</td>\n",
       "      <td>1070704.670</td>\n",
       "    </tr>\n",
       "    <tr>\n",
       "      <th>11</th>\n",
       "      <td>2011-11-01</td>\n",
       "      <td>4332</td>\n",
       "      <td>1461756.250</td>\n",
       "    </tr>\n",
       "    <tr>\n",
       "      <th>12</th>\n",
       "      <td>2011-12-01</td>\n",
       "      <td>4373</td>\n",
       "      <td>433668.010</td>\n",
       "    </tr>\n",
       "  </tbody>\n",
       "</table>\n",
       "</div>"
      ],
      "text/plain": [
       "       months  user      revenue\n",
       "0  2010-12-01   949   748957.020\n",
       "1  2011-01-01  1370   560000.260\n",
       "2  2011-02-01  1750   498062.650\n",
       "3  2011-03-01  2190   683267.080\n",
       "4  2011-04-01  2489   493207.121\n",
       "5  2011-05-01  2768   723333.510\n",
       "6  2011-06-01  3003   691123.120\n",
       "7  2011-07-01  3194   681300.111\n",
       "8  2011-08-01  3361   682680.510\n",
       "9  2011-09-01  3659  1019687.622\n",
       "10 2011-10-01  4011  1070704.670\n",
       "11 2011-11-01  4332  1461756.250\n",
       "12 2011-12-01  4373   433668.010"
      ]
     },
     "execution_count": 739,
     "metadata": {},
     "output_type": "execute_result"
    }
   ],
   "source": [
    "# Number of registered\n",
    "at.groupby(['months'])[['user','revenue']].sum().reset_index().sort_values('months')"
   ]
  },
  {
   "cell_type": "markdown",
   "id": "e487dda8-ef6d-4a01-af69-28115189482b",
   "metadata": {},
   "source": [
    "## Mark active users who buy anything in month\n"
   ]
  },
  {
   "cell_type": "code",
   "execution_count": 745,
   "id": "690afddb-6dee-46c0-97a5-2b01a3c0fab5",
   "metadata": {},
   "outputs": [
    {
     "data": {
      "text/plain": [
       "0         True\n",
       "1         True\n",
       "2         True\n",
       "3         True\n",
       "4         True\n",
       "         ...  \n",
       "37444    False\n",
       "37445    False\n",
       "37446     True\n",
       "37447     True\n",
       "37448    False\n",
       "Name: revenue, Length: 37449, dtype: bool"
      ]
     },
     "execution_count": 745,
     "metadata": {},
     "output_type": "execute_result"
    }
   ],
   "source": [
    "# Mark active users who buy anything in month\n",
    "~at['revenue'].isna()"
   ]
  },
  {
   "cell_type": "code",
   "execution_count": 748,
   "id": "fa7aea65-297c-4669-9d55-4ac4cbb50672",
   "metadata": {},
   "outputs": [],
   "source": [
    "at['active'] = (~at['revenue'].isna())*1"
   ]
  },
  {
   "cell_type": "code",
   "execution_count": 749,
   "id": "2f577d44-e1a5-49fa-b8be-8135b1e55af0",
   "metadata": {},
   "outputs": [
    {
     "data": {
      "text/html": [
       "<div>\n",
       "<style scoped>\n",
       "    .dataframe tbody tr th:only-of-type {\n",
       "        vertical-align: middle;\n",
       "    }\n",
       "\n",
       "    .dataframe tbody tr th {\n",
       "        vertical-align: top;\n",
       "    }\n",
       "\n",
       "    .dataframe thead th {\n",
       "        text-align: right;\n",
       "    }\n",
       "</style>\n",
       "<table border=\"1\" class=\"dataframe\">\n",
       "  <thead>\n",
       "    <tr style=\"text-align: right;\">\n",
       "      <th></th>\n",
       "      <th>months</th>\n",
       "      <th>customer_id</th>\n",
       "      <th>reg_date</th>\n",
       "      <th>reg_month</th>\n",
       "      <th>revenue</th>\n",
       "      <th>user</th>\n",
       "      <th>active</th>\n",
       "    </tr>\n",
       "  </thead>\n",
       "  <tbody>\n",
       "    <tr>\n",
       "      <th>0</th>\n",
       "      <td>2010-12-01</td>\n",
       "      <td>-1.0</td>\n",
       "      <td>2010-12-01 11:52:00</td>\n",
       "      <td>2010-12-01</td>\n",
       "      <td>194353.00</td>\n",
       "      <td>1</td>\n",
       "      <td>1</td>\n",
       "    </tr>\n",
       "    <tr>\n",
       "      <th>1</th>\n",
       "      <td>2010-12-01</td>\n",
       "      <td>12347.0</td>\n",
       "      <td>2010-12-07 14:57:00</td>\n",
       "      <td>2010-12-01</td>\n",
       "      <td>711.79</td>\n",
       "      <td>1</td>\n",
       "      <td>1</td>\n",
       "    </tr>\n",
       "    <tr>\n",
       "      <th>2</th>\n",
       "      <td>2010-12-01</td>\n",
       "      <td>12348.0</td>\n",
       "      <td>2010-12-16 19:09:00</td>\n",
       "      <td>2010-12-01</td>\n",
       "      <td>892.80</td>\n",
       "      <td>1</td>\n",
       "      <td>1</td>\n",
       "    </tr>\n",
       "    <tr>\n",
       "      <th>3</th>\n",
       "      <td>2010-12-01</td>\n",
       "      <td>12370.0</td>\n",
       "      <td>2010-12-14 12:58:00</td>\n",
       "      <td>2010-12-01</td>\n",
       "      <td>1868.02</td>\n",
       "      <td>1</td>\n",
       "      <td>1</td>\n",
       "    </tr>\n",
       "    <tr>\n",
       "      <th>4</th>\n",
       "      <td>2010-12-01</td>\n",
       "      <td>12377.0</td>\n",
       "      <td>2010-12-20 09:37:00</td>\n",
       "      <td>2010-12-01</td>\n",
       "      <td>1001.52</td>\n",
       "      <td>1</td>\n",
       "      <td>1</td>\n",
       "    </tr>\n",
       "    <tr>\n",
       "      <th>...</th>\n",
       "      <td>...</td>\n",
       "      <td>...</td>\n",
       "      <td>...</td>\n",
       "      <td>...</td>\n",
       "      <td>...</td>\n",
       "      <td>...</td>\n",
       "      <td>...</td>\n",
       "    </tr>\n",
       "    <tr>\n",
       "      <th>37444</th>\n",
       "      <td>2011-12-01</td>\n",
       "      <td>18280.0</td>\n",
       "      <td>2011-03-07 09:52:00</td>\n",
       "      <td>2011-03-01</td>\n",
       "      <td>NaN</td>\n",
       "      <td>1</td>\n",
       "      <td>0</td>\n",
       "    </tr>\n",
       "    <tr>\n",
       "      <th>37445</th>\n",
       "      <td>2011-12-01</td>\n",
       "      <td>18281.0</td>\n",
       "      <td>2011-06-12 10:53:00</td>\n",
       "      <td>2011-06-01</td>\n",
       "      <td>NaN</td>\n",
       "      <td>1</td>\n",
       "      <td>0</td>\n",
       "    </tr>\n",
       "    <tr>\n",
       "      <th>37446</th>\n",
       "      <td>2011-12-01</td>\n",
       "      <td>18282.0</td>\n",
       "      <td>2011-08-05 13:35:00</td>\n",
       "      <td>2011-08-01</td>\n",
       "      <td>77.84</td>\n",
       "      <td>1</td>\n",
       "      <td>1</td>\n",
       "    </tr>\n",
       "    <tr>\n",
       "      <th>37447</th>\n",
       "      <td>2011-12-01</td>\n",
       "      <td>18283.0</td>\n",
       "      <td>2011-01-06 14:14:00</td>\n",
       "      <td>2011-01-01</td>\n",
       "      <td>208.00</td>\n",
       "      <td>1</td>\n",
       "      <td>1</td>\n",
       "    </tr>\n",
       "    <tr>\n",
       "      <th>37448</th>\n",
       "      <td>2011-12-01</td>\n",
       "      <td>18287.0</td>\n",
       "      <td>2011-05-22 10:39:00</td>\n",
       "      <td>2011-05-01</td>\n",
       "      <td>NaN</td>\n",
       "      <td>1</td>\n",
       "      <td>0</td>\n",
       "    </tr>\n",
       "  </tbody>\n",
       "</table>\n",
       "<p>37449 rows × 7 columns</p>\n",
       "</div>"
      ],
      "text/plain": [
       "          months  customer_id            reg_date  reg_month    revenue  user  \\\n",
       "0     2010-12-01         -1.0 2010-12-01 11:52:00 2010-12-01  194353.00     1   \n",
       "1     2010-12-01      12347.0 2010-12-07 14:57:00 2010-12-01     711.79     1   \n",
       "2     2010-12-01      12348.0 2010-12-16 19:09:00 2010-12-01     892.80     1   \n",
       "3     2010-12-01      12370.0 2010-12-14 12:58:00 2010-12-01    1868.02     1   \n",
       "4     2010-12-01      12377.0 2010-12-20 09:37:00 2010-12-01    1001.52     1   \n",
       "...          ...          ...                 ...        ...        ...   ...   \n",
       "37444 2011-12-01      18280.0 2011-03-07 09:52:00 2011-03-01        NaN     1   \n",
       "37445 2011-12-01      18281.0 2011-06-12 10:53:00 2011-06-01        NaN     1   \n",
       "37446 2011-12-01      18282.0 2011-08-05 13:35:00 2011-08-01      77.84     1   \n",
       "37447 2011-12-01      18283.0 2011-01-06 14:14:00 2011-01-01     208.00     1   \n",
       "37448 2011-12-01      18287.0 2011-05-22 10:39:00 2011-05-01        NaN     1   \n",
       "\n",
       "       active  \n",
       "0           1  \n",
       "1           1  \n",
       "2           1  \n",
       "3           1  \n",
       "4           1  \n",
       "...       ...  \n",
       "37444       0  \n",
       "37445       0  \n",
       "37446       1  \n",
       "37447       1  \n",
       "37448       0  \n",
       "\n",
       "[37449 rows x 7 columns]"
      ]
     },
     "execution_count": 749,
     "metadata": {},
     "output_type": "execute_result"
    }
   ],
   "source": [
    "at"
   ]
  },
  {
   "cell_type": "code",
   "execution_count": 750,
   "id": "f25a6418-cd93-4130-a80e-99d6fbb0c819",
   "metadata": {},
   "outputs": [
    {
     "data": {
      "text/html": [
       "<div>\n",
       "<style scoped>\n",
       "    .dataframe tbody tr th:only-of-type {\n",
       "        vertical-align: middle;\n",
       "    }\n",
       "\n",
       "    .dataframe tbody tr th {\n",
       "        vertical-align: top;\n",
       "    }\n",
       "\n",
       "    .dataframe thead th {\n",
       "        text-align: right;\n",
       "    }\n",
       "</style>\n",
       "<table border=\"1\" class=\"dataframe\">\n",
       "  <thead>\n",
       "    <tr style=\"text-align: right;\">\n",
       "      <th></th>\n",
       "      <th>months</th>\n",
       "      <th>user</th>\n",
       "      <th>active</th>\n",
       "      <th>revenue</th>\n",
       "    </tr>\n",
       "  </thead>\n",
       "  <tbody>\n",
       "    <tr>\n",
       "      <th>0</th>\n",
       "      <td>2010-12-01</td>\n",
       "      <td>949</td>\n",
       "      <td>949</td>\n",
       "      <td>748957.020</td>\n",
       "    </tr>\n",
       "    <tr>\n",
       "      <th>1</th>\n",
       "      <td>2011-01-01</td>\n",
       "      <td>1370</td>\n",
       "      <td>784</td>\n",
       "      <td>560000.260</td>\n",
       "    </tr>\n",
       "    <tr>\n",
       "      <th>2</th>\n",
       "      <td>2011-02-01</td>\n",
       "      <td>1750</td>\n",
       "      <td>799</td>\n",
       "      <td>498062.650</td>\n",
       "    </tr>\n",
       "    <tr>\n",
       "      <th>3</th>\n",
       "      <td>2011-03-01</td>\n",
       "      <td>2190</td>\n",
       "      <td>1021</td>\n",
       "      <td>683267.080</td>\n",
       "    </tr>\n",
       "    <tr>\n",
       "      <th>4</th>\n",
       "      <td>2011-04-01</td>\n",
       "      <td>2489</td>\n",
       "      <td>900</td>\n",
       "      <td>493207.121</td>\n",
       "    </tr>\n",
       "    <tr>\n",
       "      <th>5</th>\n",
       "      <td>2011-05-01</td>\n",
       "      <td>2768</td>\n",
       "      <td>1080</td>\n",
       "      <td>723333.510</td>\n",
       "    </tr>\n",
       "    <tr>\n",
       "      <th>6</th>\n",
       "      <td>2011-06-01</td>\n",
       "      <td>3003</td>\n",
       "      <td>1052</td>\n",
       "      <td>691123.120</td>\n",
       "    </tr>\n",
       "    <tr>\n",
       "      <th>7</th>\n",
       "      <td>2011-07-01</td>\n",
       "      <td>3194</td>\n",
       "      <td>994</td>\n",
       "      <td>681300.111</td>\n",
       "    </tr>\n",
       "    <tr>\n",
       "      <th>8</th>\n",
       "      <td>2011-08-01</td>\n",
       "      <td>3361</td>\n",
       "      <td>981</td>\n",
       "      <td>682680.510</td>\n",
       "    </tr>\n",
       "    <tr>\n",
       "      <th>9</th>\n",
       "      <td>2011-09-01</td>\n",
       "      <td>3659</td>\n",
       "      <td>1303</td>\n",
       "      <td>1019687.622</td>\n",
       "    </tr>\n",
       "    <tr>\n",
       "      <th>10</th>\n",
       "      <td>2011-10-01</td>\n",
       "      <td>4011</td>\n",
       "      <td>1426</td>\n",
       "      <td>1070704.670</td>\n",
       "    </tr>\n",
       "    <tr>\n",
       "      <th>11</th>\n",
       "      <td>2011-11-01</td>\n",
       "      <td>4332</td>\n",
       "      <td>1712</td>\n",
       "      <td>1461756.250</td>\n",
       "    </tr>\n",
       "    <tr>\n",
       "      <th>12</th>\n",
       "      <td>2011-12-01</td>\n",
       "      <td>4373</td>\n",
       "      <td>687</td>\n",
       "      <td>433668.010</td>\n",
       "    </tr>\n",
       "  </tbody>\n",
       "</table>\n",
       "</div>"
      ],
      "text/plain": [
       "       months  user  active      revenue\n",
       "0  2010-12-01   949     949   748957.020\n",
       "1  2011-01-01  1370     784   560000.260\n",
       "2  2011-02-01  1750     799   498062.650\n",
       "3  2011-03-01  2190    1021   683267.080\n",
       "4  2011-04-01  2489     900   493207.121\n",
       "5  2011-05-01  2768    1080   723333.510\n",
       "6  2011-06-01  3003    1052   691123.120\n",
       "7  2011-07-01  3194     994   681300.111\n",
       "8  2011-08-01  3361     981   682680.510\n",
       "9  2011-09-01  3659    1303  1019687.622\n",
       "10 2011-10-01  4011    1426  1070704.670\n",
       "11 2011-11-01  4332    1712  1461756.250\n",
       "12 2011-12-01  4373     687   433668.010"
      ]
     },
     "execution_count": 750,
     "metadata": {},
     "output_type": "execute_result"
    }
   ],
   "source": [
    "# Number of registered and active customers\n",
    "at.groupby(['months'])[['user','active','revenue']].sum().reset_index().sort_values('months')"
   ]
  },
  {
   "cell_type": "markdown",
   "id": "1fabf1d9-1277-4725-8c4c-5198cfeed05e",
   "metadata": {},
   "source": [
    "### Ho many new users come per month"
   ]
  },
  {
   "cell_type": "code",
   "execution_count": 757,
   "id": "56a288e9-ec2b-4346-a2df-5482d8518f30",
   "metadata": {},
   "outputs": [],
   "source": [
    "# New users in this month months == reg_month\n",
    "at['new_customer'] = (at['months'] == at['reg_month'])*1"
   ]
  },
  {
   "cell_type": "code",
   "execution_count": 758,
   "id": "bf21dcc3-cd99-4bea-9953-d742c7f4c9e6",
   "metadata": {},
   "outputs": [
    {
     "data": {
      "text/html": [
       "<div>\n",
       "<style scoped>\n",
       "    .dataframe tbody tr th:only-of-type {\n",
       "        vertical-align: middle;\n",
       "    }\n",
       "\n",
       "    .dataframe tbody tr th {\n",
       "        vertical-align: top;\n",
       "    }\n",
       "\n",
       "    .dataframe thead th {\n",
       "        text-align: right;\n",
       "    }\n",
       "</style>\n",
       "<table border=\"1\" class=\"dataframe\">\n",
       "  <thead>\n",
       "    <tr style=\"text-align: right;\">\n",
       "      <th></th>\n",
       "      <th>months</th>\n",
       "      <th>customer_id</th>\n",
       "      <th>reg_date</th>\n",
       "      <th>reg_month</th>\n",
       "      <th>revenue</th>\n",
       "      <th>user</th>\n",
       "      <th>active</th>\n",
       "      <th>new_customer</th>\n",
       "    </tr>\n",
       "  </thead>\n",
       "  <tbody>\n",
       "    <tr>\n",
       "      <th>0</th>\n",
       "      <td>2010-12-01</td>\n",
       "      <td>-1.0</td>\n",
       "      <td>2010-12-01 11:52:00</td>\n",
       "      <td>2010-12-01</td>\n",
       "      <td>194353.00</td>\n",
       "      <td>1</td>\n",
       "      <td>1</td>\n",
       "      <td>1</td>\n",
       "    </tr>\n",
       "    <tr>\n",
       "      <th>1</th>\n",
       "      <td>2010-12-01</td>\n",
       "      <td>12347.0</td>\n",
       "      <td>2010-12-07 14:57:00</td>\n",
       "      <td>2010-12-01</td>\n",
       "      <td>711.79</td>\n",
       "      <td>1</td>\n",
       "      <td>1</td>\n",
       "      <td>1</td>\n",
       "    </tr>\n",
       "    <tr>\n",
       "      <th>2</th>\n",
       "      <td>2010-12-01</td>\n",
       "      <td>12348.0</td>\n",
       "      <td>2010-12-16 19:09:00</td>\n",
       "      <td>2010-12-01</td>\n",
       "      <td>892.80</td>\n",
       "      <td>1</td>\n",
       "      <td>1</td>\n",
       "      <td>1</td>\n",
       "    </tr>\n",
       "    <tr>\n",
       "      <th>3</th>\n",
       "      <td>2010-12-01</td>\n",
       "      <td>12370.0</td>\n",
       "      <td>2010-12-14 12:58:00</td>\n",
       "      <td>2010-12-01</td>\n",
       "      <td>1868.02</td>\n",
       "      <td>1</td>\n",
       "      <td>1</td>\n",
       "      <td>1</td>\n",
       "    </tr>\n",
       "    <tr>\n",
       "      <th>4</th>\n",
       "      <td>2010-12-01</td>\n",
       "      <td>12377.0</td>\n",
       "      <td>2010-12-20 09:37:00</td>\n",
       "      <td>2010-12-01</td>\n",
       "      <td>1001.52</td>\n",
       "      <td>1</td>\n",
       "      <td>1</td>\n",
       "      <td>1</td>\n",
       "    </tr>\n",
       "    <tr>\n",
       "      <th>...</th>\n",
       "      <td>...</td>\n",
       "      <td>...</td>\n",
       "      <td>...</td>\n",
       "      <td>...</td>\n",
       "      <td>...</td>\n",
       "      <td>...</td>\n",
       "      <td>...</td>\n",
       "      <td>...</td>\n",
       "    </tr>\n",
       "    <tr>\n",
       "      <th>37444</th>\n",
       "      <td>2011-12-01</td>\n",
       "      <td>18280.0</td>\n",
       "      <td>2011-03-07 09:52:00</td>\n",
       "      <td>2011-03-01</td>\n",
       "      <td>NaN</td>\n",
       "      <td>1</td>\n",
       "      <td>0</td>\n",
       "      <td>0</td>\n",
       "    </tr>\n",
       "    <tr>\n",
       "      <th>37445</th>\n",
       "      <td>2011-12-01</td>\n",
       "      <td>18281.0</td>\n",
       "      <td>2011-06-12 10:53:00</td>\n",
       "      <td>2011-06-01</td>\n",
       "      <td>NaN</td>\n",
       "      <td>1</td>\n",
       "      <td>0</td>\n",
       "      <td>0</td>\n",
       "    </tr>\n",
       "    <tr>\n",
       "      <th>37446</th>\n",
       "      <td>2011-12-01</td>\n",
       "      <td>18282.0</td>\n",
       "      <td>2011-08-05 13:35:00</td>\n",
       "      <td>2011-08-01</td>\n",
       "      <td>77.84</td>\n",
       "      <td>1</td>\n",
       "      <td>1</td>\n",
       "      <td>0</td>\n",
       "    </tr>\n",
       "    <tr>\n",
       "      <th>37447</th>\n",
       "      <td>2011-12-01</td>\n",
       "      <td>18283.0</td>\n",
       "      <td>2011-01-06 14:14:00</td>\n",
       "      <td>2011-01-01</td>\n",
       "      <td>208.00</td>\n",
       "      <td>1</td>\n",
       "      <td>1</td>\n",
       "      <td>0</td>\n",
       "    </tr>\n",
       "    <tr>\n",
       "      <th>37448</th>\n",
       "      <td>2011-12-01</td>\n",
       "      <td>18287.0</td>\n",
       "      <td>2011-05-22 10:39:00</td>\n",
       "      <td>2011-05-01</td>\n",
       "      <td>NaN</td>\n",
       "      <td>1</td>\n",
       "      <td>0</td>\n",
       "      <td>0</td>\n",
       "    </tr>\n",
       "  </tbody>\n",
       "</table>\n",
       "<p>37449 rows × 8 columns</p>\n",
       "</div>"
      ],
      "text/plain": [
       "          months  customer_id            reg_date  reg_month    revenue  user  \\\n",
       "0     2010-12-01         -1.0 2010-12-01 11:52:00 2010-12-01  194353.00     1   \n",
       "1     2010-12-01      12347.0 2010-12-07 14:57:00 2010-12-01     711.79     1   \n",
       "2     2010-12-01      12348.0 2010-12-16 19:09:00 2010-12-01     892.80     1   \n",
       "3     2010-12-01      12370.0 2010-12-14 12:58:00 2010-12-01    1868.02     1   \n",
       "4     2010-12-01      12377.0 2010-12-20 09:37:00 2010-12-01    1001.52     1   \n",
       "...          ...          ...                 ...        ...        ...   ...   \n",
       "37444 2011-12-01      18280.0 2011-03-07 09:52:00 2011-03-01        NaN     1   \n",
       "37445 2011-12-01      18281.0 2011-06-12 10:53:00 2011-06-01        NaN     1   \n",
       "37446 2011-12-01      18282.0 2011-08-05 13:35:00 2011-08-01      77.84     1   \n",
       "37447 2011-12-01      18283.0 2011-01-06 14:14:00 2011-01-01     208.00     1   \n",
       "37448 2011-12-01      18287.0 2011-05-22 10:39:00 2011-05-01        NaN     1   \n",
       "\n",
       "       active  new_customer  \n",
       "0           1             1  \n",
       "1           1             1  \n",
       "2           1             1  \n",
       "3           1             1  \n",
       "4           1             1  \n",
       "...       ...           ...  \n",
       "37444       0             0  \n",
       "37445       0             0  \n",
       "37446       1             0  \n",
       "37447       1             0  \n",
       "37448       0             0  \n",
       "\n",
       "[37449 rows x 8 columns]"
      ]
     },
     "execution_count": 758,
     "metadata": {},
     "output_type": "execute_result"
    }
   ],
   "source": [
    "at"
   ]
  },
  {
   "cell_type": "markdown",
   "id": "c618a172-66dc-4b9e-9b42-7f53fb710290",
   "metadata": {},
   "source": [
    "# Сreated a cool analytical table"
   ]
  },
  {
   "cell_type": "code",
   "execution_count": 761,
   "id": "911a8116-a627-41a8-bf19-62ab36890923",
   "metadata": {},
   "outputs": [
    {
     "data": {
      "text/html": [
       "<div>\n",
       "<style scoped>\n",
       "    .dataframe tbody tr th:only-of-type {\n",
       "        vertical-align: middle;\n",
       "    }\n",
       "\n",
       "    .dataframe tbody tr th {\n",
       "        vertical-align: top;\n",
       "    }\n",
       "\n",
       "    .dataframe thead th {\n",
       "        text-align: right;\n",
       "    }\n",
       "</style>\n",
       "<table border=\"1\" class=\"dataframe\">\n",
       "  <thead>\n",
       "    <tr style=\"text-align: right;\">\n",
       "      <th></th>\n",
       "      <th>months</th>\n",
       "      <th>user</th>\n",
       "      <th>active</th>\n",
       "      <th>new_customer</th>\n",
       "      <th>revenue</th>\n",
       "    </tr>\n",
       "  </thead>\n",
       "  <tbody>\n",
       "    <tr>\n",
       "      <th>0</th>\n",
       "      <td>2010-12-01</td>\n",
       "      <td>949</td>\n",
       "      <td>949</td>\n",
       "      <td>949</td>\n",
       "      <td>748957.020</td>\n",
       "    </tr>\n",
       "    <tr>\n",
       "      <th>1</th>\n",
       "      <td>2011-01-01</td>\n",
       "      <td>1370</td>\n",
       "      <td>784</td>\n",
       "      <td>421</td>\n",
       "      <td>560000.260</td>\n",
       "    </tr>\n",
       "    <tr>\n",
       "      <th>2</th>\n",
       "      <td>2011-02-01</td>\n",
       "      <td>1750</td>\n",
       "      <td>799</td>\n",
       "      <td>380</td>\n",
       "      <td>498062.650</td>\n",
       "    </tr>\n",
       "    <tr>\n",
       "      <th>3</th>\n",
       "      <td>2011-03-01</td>\n",
       "      <td>2190</td>\n",
       "      <td>1021</td>\n",
       "      <td>440</td>\n",
       "      <td>683267.080</td>\n",
       "    </tr>\n",
       "    <tr>\n",
       "      <th>4</th>\n",
       "      <td>2011-04-01</td>\n",
       "      <td>2489</td>\n",
       "      <td>900</td>\n",
       "      <td>299</td>\n",
       "      <td>493207.121</td>\n",
       "    </tr>\n",
       "    <tr>\n",
       "      <th>5</th>\n",
       "      <td>2011-05-01</td>\n",
       "      <td>2768</td>\n",
       "      <td>1080</td>\n",
       "      <td>279</td>\n",
       "      <td>723333.510</td>\n",
       "    </tr>\n",
       "    <tr>\n",
       "      <th>6</th>\n",
       "      <td>2011-06-01</td>\n",
       "      <td>3003</td>\n",
       "      <td>1052</td>\n",
       "      <td>235</td>\n",
       "      <td>691123.120</td>\n",
       "    </tr>\n",
       "    <tr>\n",
       "      <th>7</th>\n",
       "      <td>2011-07-01</td>\n",
       "      <td>3194</td>\n",
       "      <td>994</td>\n",
       "      <td>191</td>\n",
       "      <td>681300.111</td>\n",
       "    </tr>\n",
       "    <tr>\n",
       "      <th>8</th>\n",
       "      <td>2011-08-01</td>\n",
       "      <td>3361</td>\n",
       "      <td>981</td>\n",
       "      <td>167</td>\n",
       "      <td>682680.510</td>\n",
       "    </tr>\n",
       "    <tr>\n",
       "      <th>9</th>\n",
       "      <td>2011-09-01</td>\n",
       "      <td>3659</td>\n",
       "      <td>1303</td>\n",
       "      <td>298</td>\n",
       "      <td>1019687.622</td>\n",
       "    </tr>\n",
       "    <tr>\n",
       "      <th>10</th>\n",
       "      <td>2011-10-01</td>\n",
       "      <td>4011</td>\n",
       "      <td>1426</td>\n",
       "      <td>352</td>\n",
       "      <td>1070704.670</td>\n",
       "    </tr>\n",
       "    <tr>\n",
       "      <th>11</th>\n",
       "      <td>2011-11-01</td>\n",
       "      <td>4332</td>\n",
       "      <td>1712</td>\n",
       "      <td>321</td>\n",
       "      <td>1461756.250</td>\n",
       "    </tr>\n",
       "    <tr>\n",
       "      <th>12</th>\n",
       "      <td>2011-12-01</td>\n",
       "      <td>4373</td>\n",
       "      <td>687</td>\n",
       "      <td>41</td>\n",
       "      <td>433668.010</td>\n",
       "    </tr>\n",
       "  </tbody>\n",
       "</table>\n",
       "</div>"
      ],
      "text/plain": [
       "       months  user  active  new_customer      revenue\n",
       "0  2010-12-01   949     949           949   748957.020\n",
       "1  2011-01-01  1370     784           421   560000.260\n",
       "2  2011-02-01  1750     799           380   498062.650\n",
       "3  2011-03-01  2190    1021           440   683267.080\n",
       "4  2011-04-01  2489     900           299   493207.121\n",
       "5  2011-05-01  2768    1080           279   723333.510\n",
       "6  2011-06-01  3003    1052           235   691123.120\n",
       "7  2011-07-01  3194     994           191   681300.111\n",
       "8  2011-08-01  3361     981           167   682680.510\n",
       "9  2011-09-01  3659    1303           298  1019687.622\n",
       "10 2011-10-01  4011    1426           352  1070704.670\n",
       "11 2011-11-01  4332    1712           321  1461756.250\n",
       "12 2011-12-01  4373     687            41   433668.010"
      ]
     },
     "execution_count": 761,
     "metadata": {},
     "output_type": "execute_result"
    }
   ],
   "source": [
    "# Number of registered, active customers and new_customers\n",
    "at.groupby(['months']) \\\n",
    "[['user', 'active' , 'new_customer', 'revenue']] \\\n",
    ".sum().reset_index().sort_values('months')"
   ]
  },
  {
   "cell_type": "markdown",
   "id": "ef88cb05-e3b9-422d-8bbe-e7755db75441",
   "metadata": {},
   "source": [
    "## Add new indicators in analic table"
   ]
  },
  {
   "cell_type": "markdown",
   "id": "b575be3d-ab64-4fe9-b7f5-af9a6fde0ab4",
   "metadata": {},
   "source": [
    "### Average number of items purchased by active customers and mean unique products mean "
   ]
  },
  {
   "cell_type": "code",
   "execution_count": 783,
   "id": "b746ba86-72d9-43b3-948b-be1f1edcf91e",
   "metadata": {},
   "outputs": [
    {
     "data": {
      "text/html": [
       "<div>\n",
       "<style scoped>\n",
       "    .dataframe tbody tr th:only-of-type {\n",
       "        vertical-align: middle;\n",
       "    }\n",
       "\n",
       "    .dataframe tbody tr th {\n",
       "        vertical-align: top;\n",
       "    }\n",
       "\n",
       "    .dataframe thead th {\n",
       "        text-align: right;\n",
       "    }\n",
       "</style>\n",
       "<table border=\"1\" class=\"dataframe\">\n",
       "  <thead>\n",
       "    <tr style=\"text-align: right;\">\n",
       "      <th></th>\n",
       "      <th>invoice_no</th>\n",
       "      <th>stock_code</th>\n",
       "      <th>description</th>\n",
       "      <th>quantity</th>\n",
       "      <th>invoice_date</th>\n",
       "      <th>unitprice</th>\n",
       "      <th>customer_id</th>\n",
       "      <th>country</th>\n",
       "      <th>invoice_month</th>\n",
       "      <th>revenue</th>\n",
       "    </tr>\n",
       "  </thead>\n",
       "  <tbody>\n",
       "    <tr>\n",
       "      <th>0</th>\n",
       "      <td>536365</td>\n",
       "      <td>85123A</td>\n",
       "      <td>WHITE HANGING HEART T-LIGHT HOLDER</td>\n",
       "      <td>6</td>\n",
       "      <td>2010-12-01 08:26:00</td>\n",
       "      <td>2.55</td>\n",
       "      <td>17850.0</td>\n",
       "      <td>United Kingdom</td>\n",
       "      <td>2010-12-01</td>\n",
       "      <td>15.30</td>\n",
       "    </tr>\n",
       "    <tr>\n",
       "      <th>1</th>\n",
       "      <td>536365</td>\n",
       "      <td>71053</td>\n",
       "      <td>WHITE METAL LANTERN</td>\n",
       "      <td>6</td>\n",
       "      <td>2010-12-01 08:26:00</td>\n",
       "      <td>3.39</td>\n",
       "      <td>17850.0</td>\n",
       "      <td>United Kingdom</td>\n",
       "      <td>2010-12-01</td>\n",
       "      <td>20.34</td>\n",
       "    </tr>\n",
       "    <tr>\n",
       "      <th>2</th>\n",
       "      <td>536365</td>\n",
       "      <td>84406B</td>\n",
       "      <td>CREAM CUPID HEARTS COAT HANGER</td>\n",
       "      <td>8</td>\n",
       "      <td>2010-12-01 08:26:00</td>\n",
       "      <td>2.75</td>\n",
       "      <td>17850.0</td>\n",
       "      <td>United Kingdom</td>\n",
       "      <td>2010-12-01</td>\n",
       "      <td>22.00</td>\n",
       "    </tr>\n",
       "    <tr>\n",
       "      <th>3</th>\n",
       "      <td>536365</td>\n",
       "      <td>84029G</td>\n",
       "      <td>KNITTED UNION FLAG HOT WATER BOTTLE</td>\n",
       "      <td>6</td>\n",
       "      <td>2010-12-01 08:26:00</td>\n",
       "      <td>3.39</td>\n",
       "      <td>17850.0</td>\n",
       "      <td>United Kingdom</td>\n",
       "      <td>2010-12-01</td>\n",
       "      <td>20.34</td>\n",
       "    </tr>\n",
       "    <tr>\n",
       "      <th>4</th>\n",
       "      <td>536365</td>\n",
       "      <td>84029E</td>\n",
       "      <td>RED WOOLLY HOTTIE WHITE HEART.</td>\n",
       "      <td>6</td>\n",
       "      <td>2010-12-01 08:26:00</td>\n",
       "      <td>3.39</td>\n",
       "      <td>17850.0</td>\n",
       "      <td>United Kingdom</td>\n",
       "      <td>2010-12-01</td>\n",
       "      <td>20.34</td>\n",
       "    </tr>\n",
       "  </tbody>\n",
       "</table>\n",
       "</div>"
      ],
      "text/plain": [
       "  invoice_no stock_code                          description  quantity  \\\n",
       "0     536365     85123A   WHITE HANGING HEART T-LIGHT HOLDER         6   \n",
       "1     536365      71053                  WHITE METAL LANTERN         6   \n",
       "2     536365     84406B       CREAM CUPID HEARTS COAT HANGER         8   \n",
       "3     536365     84029G  KNITTED UNION FLAG HOT WATER BOTTLE         6   \n",
       "4     536365     84029E       RED WOOLLY HOTTIE WHITE HEART.         6   \n",
       "\n",
       "         invoice_date  unitprice  customer_id         country invoice_month  \\\n",
       "0 2010-12-01 08:26:00       2.55      17850.0  United Kingdom    2010-12-01   \n",
       "1 2010-12-01 08:26:00       3.39      17850.0  United Kingdom    2010-12-01   \n",
       "2 2010-12-01 08:26:00       2.75      17850.0  United Kingdom    2010-12-01   \n",
       "3 2010-12-01 08:26:00       3.39      17850.0  United Kingdom    2010-12-01   \n",
       "4 2010-12-01 08:26:00       3.39      17850.0  United Kingdom    2010-12-01   \n",
       "\n",
       "   revenue  \n",
       "0    15.30  \n",
       "1    20.34  \n",
       "2    22.00  \n",
       "3    20.34  \n",
       "4    20.34  "
      ]
     },
     "execution_count": 783,
     "metadata": {},
     "output_type": "execute_result"
    }
   ],
   "source": [
    "df.head()"
   ]
  },
  {
   "cell_type": "code",
   "execution_count": 790,
   "id": "0ea6bf6f-e759-41a4-8359-963eefaadf31",
   "metadata": {},
   "outputs": [],
   "source": [
    "users_months = df.groupby(['customer_id','invoice_month']) \\\n",
    "    [['revenue','quantity', 'description']] \\\n",
    "    .agg({'revenue':'sum', 'quantity':'sum', 'description':'nunique'}) \\\n",
    "    .reset_index()"
   ]
  },
  {
   "cell_type": "code",
   "execution_count": 791,
   "id": "5af9b1c6-86b9-4cac-8214-93f0cdfb7862",
   "metadata": {},
   "outputs": [],
   "source": [
    "users_months.rename(columns = {'invoice_month':'months', 'description':'unique_products'}, inplace = True)"
   ]
  },
  {
   "cell_type": "code",
   "execution_count": 792,
   "id": "5949b28b-93e8-40db-b0c8-e2c0099492d2",
   "metadata": {},
   "outputs": [
    {
     "data": {
      "text/html": [
       "<div>\n",
       "<style scoped>\n",
       "    .dataframe tbody tr th:only-of-type {\n",
       "        vertical-align: middle;\n",
       "    }\n",
       "\n",
       "    .dataframe tbody tr th {\n",
       "        vertical-align: top;\n",
       "    }\n",
       "\n",
       "    .dataframe thead th {\n",
       "        text-align: right;\n",
       "    }\n",
       "</style>\n",
       "<table border=\"1\" class=\"dataframe\">\n",
       "  <thead>\n",
       "    <tr style=\"text-align: right;\">\n",
       "      <th></th>\n",
       "      <th>customer_id</th>\n",
       "      <th>months</th>\n",
       "      <th>revenue</th>\n",
       "      <th>quantity</th>\n",
       "      <th>unique_products</th>\n",
       "    </tr>\n",
       "  </thead>\n",
       "  <tbody>\n",
       "    <tr>\n",
       "      <th>0</th>\n",
       "      <td>-1.0</td>\n",
       "      <td>2010-12-01</td>\n",
       "      <td>194353.00</td>\n",
       "      <td>45866</td>\n",
       "      <td>2181</td>\n",
       "    </tr>\n",
       "    <tr>\n",
       "      <th>1</th>\n",
       "      <td>-1.0</td>\n",
       "      <td>2011-01-01</td>\n",
       "      <td>84925.88</td>\n",
       "      <td>39587</td>\n",
       "      <td>1925</td>\n",
       "    </tr>\n",
       "    <tr>\n",
       "      <th>2</th>\n",
       "      <td>-1.0</td>\n",
       "      <td>2011-02-01</td>\n",
       "      <td>61516.50</td>\n",
       "      <td>15156</td>\n",
       "      <td>1601</td>\n",
       "    </tr>\n",
       "    <tr>\n",
       "      <th>3</th>\n",
       "      <td>-1.0</td>\n",
       "      <td>2011-03-01</td>\n",
       "      <td>103302.47</td>\n",
       "      <td>7860</td>\n",
       "      <td>1789</td>\n",
       "    </tr>\n",
       "    <tr>\n",
       "      <th>4</th>\n",
       "      <td>-1.0</td>\n",
       "      <td>2011-04-01</td>\n",
       "      <td>67159.27</td>\n",
       "      <td>10513</td>\n",
       "      <td>1572</td>\n",
       "    </tr>\n",
       "    <tr>\n",
       "      <th>...</th>\n",
       "      <td>...</td>\n",
       "      <td>...</td>\n",
       "      <td>...</td>\n",
       "      <td>...</td>\n",
       "      <td>...</td>\n",
       "    </tr>\n",
       "    <tr>\n",
       "      <th>13683</th>\n",
       "      <td>18283.0</td>\n",
       "      <td>2011-10-01</td>\n",
       "      <td>114.65</td>\n",
       "      <td>63</td>\n",
       "      <td>38</td>\n",
       "    </tr>\n",
       "    <tr>\n",
       "      <th>13684</th>\n",
       "      <td>18283.0</td>\n",
       "      <td>2011-11-01</td>\n",
       "      <td>651.56</td>\n",
       "      <td>450</td>\n",
       "      <td>116</td>\n",
       "    </tr>\n",
       "    <tr>\n",
       "      <th>13685</th>\n",
       "      <td>18283.0</td>\n",
       "      <td>2011-12-01</td>\n",
       "      <td>208.00</td>\n",
       "      <td>142</td>\n",
       "      <td>50</td>\n",
       "    </tr>\n",
       "    <tr>\n",
       "      <th>13686</th>\n",
       "      <td>18287.0</td>\n",
       "      <td>2011-05-01</td>\n",
       "      <td>765.28</td>\n",
       "      <td>488</td>\n",
       "      <td>27</td>\n",
       "    </tr>\n",
       "    <tr>\n",
       "      <th>13687</th>\n",
       "      <td>18287.0</td>\n",
       "      <td>2011-10-01</td>\n",
       "      <td>1072.00</td>\n",
       "      <td>1098</td>\n",
       "      <td>38</td>\n",
       "    </tr>\n",
       "  </tbody>\n",
       "</table>\n",
       "<p>13688 rows × 5 columns</p>\n",
       "</div>"
      ],
      "text/plain": [
       "       customer_id     months    revenue  quantity  unique_products\n",
       "0             -1.0 2010-12-01  194353.00     45866             2181\n",
       "1             -1.0 2011-01-01   84925.88     39587             1925\n",
       "2             -1.0 2011-02-01   61516.50     15156             1601\n",
       "3             -1.0 2011-03-01  103302.47      7860             1789\n",
       "4             -1.0 2011-04-01   67159.27     10513             1572\n",
       "...            ...        ...        ...       ...              ...\n",
       "13683      18283.0 2011-10-01     114.65        63               38\n",
       "13684      18283.0 2011-11-01     651.56       450              116\n",
       "13685      18283.0 2011-12-01     208.00       142               50\n",
       "13686      18287.0 2011-05-01     765.28       488               27\n",
       "13687      18287.0 2011-10-01    1072.00      1098               38\n",
       "\n",
       "[13688 rows x 5 columns]"
      ]
     },
     "execution_count": 792,
     "metadata": {},
     "output_type": "execute_result"
    }
   ],
   "source": [
    "users_months"
   ]
  },
  {
   "cell_type": "code",
   "execution_count": 793,
   "id": "e89ce732-535b-4efb-b086-495c4f8ca53d",
   "metadata": {},
   "outputs": [
    {
     "data": {
      "text/html": [
       "<div>\n",
       "<style scoped>\n",
       "    .dataframe tbody tr th:only-of-type {\n",
       "        vertical-align: middle;\n",
       "    }\n",
       "\n",
       "    .dataframe tbody tr th {\n",
       "        vertical-align: top;\n",
       "    }\n",
       "\n",
       "    .dataframe thead th {\n",
       "        text-align: right;\n",
       "    }\n",
       "</style>\n",
       "<table border=\"1\" class=\"dataframe\">\n",
       "  <thead>\n",
       "    <tr style=\"text-align: right;\">\n",
       "      <th></th>\n",
       "      <th>months</th>\n",
       "      <th>customer_id</th>\n",
       "      <th>reg_date</th>\n",
       "      <th>reg_month</th>\n",
       "    </tr>\n",
       "  </thead>\n",
       "  <tbody>\n",
       "    <tr>\n",
       "      <th>0</th>\n",
       "      <td>2010-12-01</td>\n",
       "      <td>-1.0</td>\n",
       "      <td>2010-12-01 11:52:00</td>\n",
       "      <td>2010-12-01</td>\n",
       "    </tr>\n",
       "    <tr>\n",
       "      <th>2</th>\n",
       "      <td>2010-12-01</td>\n",
       "      <td>12347.0</td>\n",
       "      <td>2010-12-07 14:57:00</td>\n",
       "      <td>2010-12-01</td>\n",
       "    </tr>\n",
       "    <tr>\n",
       "      <th>3</th>\n",
       "      <td>2010-12-01</td>\n",
       "      <td>12348.0</td>\n",
       "      <td>2010-12-16 19:09:00</td>\n",
       "      <td>2010-12-01</td>\n",
       "    </tr>\n",
       "    <tr>\n",
       "      <th>21</th>\n",
       "      <td>2010-12-01</td>\n",
       "      <td>12370.0</td>\n",
       "      <td>2010-12-14 12:58:00</td>\n",
       "      <td>2010-12-01</td>\n",
       "    </tr>\n",
       "    <tr>\n",
       "      <th>27</th>\n",
       "      <td>2010-12-01</td>\n",
       "      <td>12377.0</td>\n",
       "      <td>2010-12-20 09:37:00</td>\n",
       "      <td>2010-12-01</td>\n",
       "    </tr>\n",
       "    <tr>\n",
       "      <th>...</th>\n",
       "      <td>...</td>\n",
       "      <td>...</td>\n",
       "      <td>...</td>\n",
       "      <td>...</td>\n",
       "    </tr>\n",
       "    <tr>\n",
       "      <th>56844</th>\n",
       "      <td>2011-12-01</td>\n",
       "      <td>18280.0</td>\n",
       "      <td>2011-03-07 09:52:00</td>\n",
       "      <td>2011-03-01</td>\n",
       "    </tr>\n",
       "    <tr>\n",
       "      <th>56845</th>\n",
       "      <td>2011-12-01</td>\n",
       "      <td>18281.0</td>\n",
       "      <td>2011-06-12 10:53:00</td>\n",
       "      <td>2011-06-01</td>\n",
       "    </tr>\n",
       "    <tr>\n",
       "      <th>56846</th>\n",
       "      <td>2011-12-01</td>\n",
       "      <td>18282.0</td>\n",
       "      <td>2011-08-05 13:35:00</td>\n",
       "      <td>2011-08-01</td>\n",
       "    </tr>\n",
       "    <tr>\n",
       "      <th>56847</th>\n",
       "      <td>2011-12-01</td>\n",
       "      <td>18283.0</td>\n",
       "      <td>2011-01-06 14:14:00</td>\n",
       "      <td>2011-01-01</td>\n",
       "    </tr>\n",
       "    <tr>\n",
       "      <th>56848</th>\n",
       "      <td>2011-12-01</td>\n",
       "      <td>18287.0</td>\n",
       "      <td>2011-05-22 10:39:00</td>\n",
       "      <td>2011-05-01</td>\n",
       "    </tr>\n",
       "  </tbody>\n",
       "</table>\n",
       "<p>37449 rows × 4 columns</p>\n",
       "</div>"
      ],
      "text/plain": [
       "          months  customer_id            reg_date  reg_month\n",
       "0     2010-12-01         -1.0 2010-12-01 11:52:00 2010-12-01\n",
       "2     2010-12-01      12347.0 2010-12-07 14:57:00 2010-12-01\n",
       "3     2010-12-01      12348.0 2010-12-16 19:09:00 2010-12-01\n",
       "21    2010-12-01      12370.0 2010-12-14 12:58:00 2010-12-01\n",
       "27    2010-12-01      12377.0 2010-12-20 09:37:00 2010-12-01\n",
       "...          ...          ...                 ...        ...\n",
       "56844 2011-12-01      18280.0 2011-03-07 09:52:00 2011-03-01\n",
       "56845 2011-12-01      18281.0 2011-06-12 10:53:00 2011-06-01\n",
       "56846 2011-12-01      18282.0 2011-08-05 13:35:00 2011-08-01\n",
       "56847 2011-12-01      18283.0 2011-01-06 14:14:00 2011-01-01\n",
       "56848 2011-12-01      18287.0 2011-05-22 10:39:00 2011-05-01\n",
       "\n",
       "[37449 rows x 4 columns]"
      ]
     },
     "execution_count": 793,
     "metadata": {},
     "output_type": "execute_result"
    }
   ],
   "source": [
    "template"
   ]
  },
  {
   "cell_type": "code",
   "execution_count": 794,
   "id": "4fbcf5bf-8efb-4920-a750-9d37be483c47",
   "metadata": {},
   "outputs": [
    {
     "data": {
      "text/html": [
       "<div>\n",
       "<style scoped>\n",
       "    .dataframe tbody tr th:only-of-type {\n",
       "        vertical-align: middle;\n",
       "    }\n",
       "\n",
       "    .dataframe tbody tr th {\n",
       "        vertical-align: top;\n",
       "    }\n",
       "\n",
       "    .dataframe thead th {\n",
       "        text-align: right;\n",
       "    }\n",
       "</style>\n",
       "<table border=\"1\" class=\"dataframe\">\n",
       "  <thead>\n",
       "    <tr style=\"text-align: right;\">\n",
       "      <th></th>\n",
       "      <th>customer_id</th>\n",
       "      <th>months</th>\n",
       "      <th>revenue</th>\n",
       "      <th>quantity</th>\n",
       "      <th>unique_products</th>\n",
       "    </tr>\n",
       "  </thead>\n",
       "  <tbody>\n",
       "    <tr>\n",
       "      <th>0</th>\n",
       "      <td>-1.0</td>\n",
       "      <td>2010-12-01</td>\n",
       "      <td>194353.00</td>\n",
       "      <td>45866</td>\n",
       "      <td>2181</td>\n",
       "    </tr>\n",
       "    <tr>\n",
       "      <th>1</th>\n",
       "      <td>-1.0</td>\n",
       "      <td>2011-01-01</td>\n",
       "      <td>84925.88</td>\n",
       "      <td>39587</td>\n",
       "      <td>1925</td>\n",
       "    </tr>\n",
       "    <tr>\n",
       "      <th>2</th>\n",
       "      <td>-1.0</td>\n",
       "      <td>2011-02-01</td>\n",
       "      <td>61516.50</td>\n",
       "      <td>15156</td>\n",
       "      <td>1601</td>\n",
       "    </tr>\n",
       "    <tr>\n",
       "      <th>3</th>\n",
       "      <td>-1.0</td>\n",
       "      <td>2011-03-01</td>\n",
       "      <td>103302.47</td>\n",
       "      <td>7860</td>\n",
       "      <td>1789</td>\n",
       "    </tr>\n",
       "    <tr>\n",
       "      <th>4</th>\n",
       "      <td>-1.0</td>\n",
       "      <td>2011-04-01</td>\n",
       "      <td>67159.27</td>\n",
       "      <td>10513</td>\n",
       "      <td>1572</td>\n",
       "    </tr>\n",
       "    <tr>\n",
       "      <th>...</th>\n",
       "      <td>...</td>\n",
       "      <td>...</td>\n",
       "      <td>...</td>\n",
       "      <td>...</td>\n",
       "      <td>...</td>\n",
       "    </tr>\n",
       "    <tr>\n",
       "      <th>13683</th>\n",
       "      <td>18283.0</td>\n",
       "      <td>2011-10-01</td>\n",
       "      <td>114.65</td>\n",
       "      <td>63</td>\n",
       "      <td>38</td>\n",
       "    </tr>\n",
       "    <tr>\n",
       "      <th>13684</th>\n",
       "      <td>18283.0</td>\n",
       "      <td>2011-11-01</td>\n",
       "      <td>651.56</td>\n",
       "      <td>450</td>\n",
       "      <td>116</td>\n",
       "    </tr>\n",
       "    <tr>\n",
       "      <th>13685</th>\n",
       "      <td>18283.0</td>\n",
       "      <td>2011-12-01</td>\n",
       "      <td>208.00</td>\n",
       "      <td>142</td>\n",
       "      <td>50</td>\n",
       "    </tr>\n",
       "    <tr>\n",
       "      <th>13686</th>\n",
       "      <td>18287.0</td>\n",
       "      <td>2011-05-01</td>\n",
       "      <td>765.28</td>\n",
       "      <td>488</td>\n",
       "      <td>27</td>\n",
       "    </tr>\n",
       "    <tr>\n",
       "      <th>13687</th>\n",
       "      <td>18287.0</td>\n",
       "      <td>2011-10-01</td>\n",
       "      <td>1072.00</td>\n",
       "      <td>1098</td>\n",
       "      <td>38</td>\n",
       "    </tr>\n",
       "  </tbody>\n",
       "</table>\n",
       "<p>13688 rows × 5 columns</p>\n",
       "</div>"
      ],
      "text/plain": [
       "       customer_id     months    revenue  quantity  unique_products\n",
       "0             -1.0 2010-12-01  194353.00     45866             2181\n",
       "1             -1.0 2011-01-01   84925.88     39587             1925\n",
       "2             -1.0 2011-02-01   61516.50     15156             1601\n",
       "3             -1.0 2011-03-01  103302.47      7860             1789\n",
       "4             -1.0 2011-04-01   67159.27     10513             1572\n",
       "...            ...        ...        ...       ...              ...\n",
       "13683      18283.0 2011-10-01     114.65        63               38\n",
       "13684      18283.0 2011-11-01     651.56       450              116\n",
       "13685      18283.0 2011-12-01     208.00       142               50\n",
       "13686      18287.0 2011-05-01     765.28       488               27\n",
       "13687      18287.0 2011-10-01    1072.00      1098               38\n",
       "\n",
       "[13688 rows x 5 columns]"
      ]
     },
     "execution_count": 794,
     "metadata": {},
     "output_type": "execute_result"
    }
   ],
   "source": [
    "users_months"
   ]
  },
  {
   "cell_type": "code",
   "execution_count": 796,
   "id": "7fb6a4f1-5770-4472-878a-865c37c1e94e",
   "metadata": {},
   "outputs": [],
   "source": [
    "# Create analytics table\n",
    "at = template.merge(users_months, how='left', on=['customer_id','months'])"
   ]
  },
  {
   "cell_type": "code",
   "execution_count": 798,
   "id": "69eceb04-ee2d-43ec-9112-f38b7e3abf9e",
   "metadata": {},
   "outputs": [
    {
     "data": {
      "text/html": [
       "<div>\n",
       "<style scoped>\n",
       "    .dataframe tbody tr th:only-of-type {\n",
       "        vertical-align: middle;\n",
       "    }\n",
       "\n",
       "    .dataframe tbody tr th {\n",
       "        vertical-align: top;\n",
       "    }\n",
       "\n",
       "    .dataframe thead th {\n",
       "        text-align: right;\n",
       "    }\n",
       "</style>\n",
       "<table border=\"1\" class=\"dataframe\">\n",
       "  <thead>\n",
       "    <tr style=\"text-align: right;\">\n",
       "      <th></th>\n",
       "      <th>months</th>\n",
       "      <th>customer_id</th>\n",
       "      <th>reg_date</th>\n",
       "      <th>reg_month</th>\n",
       "      <th>revenue</th>\n",
       "      <th>quantity</th>\n",
       "      <th>unique_products</th>\n",
       "    </tr>\n",
       "  </thead>\n",
       "  <tbody>\n",
       "    <tr>\n",
       "      <th>0</th>\n",
       "      <td>2010-12-01</td>\n",
       "      <td>-1.0</td>\n",
       "      <td>2010-12-01 11:52:00</td>\n",
       "      <td>2010-12-01</td>\n",
       "      <td>194353.00</td>\n",
       "      <td>45866.0</td>\n",
       "      <td>2181.0</td>\n",
       "    </tr>\n",
       "    <tr>\n",
       "      <th>1</th>\n",
       "      <td>2010-12-01</td>\n",
       "      <td>12347.0</td>\n",
       "      <td>2010-12-07 14:57:00</td>\n",
       "      <td>2010-12-01</td>\n",
       "      <td>711.79</td>\n",
       "      <td>319.0</td>\n",
       "      <td>31.0</td>\n",
       "    </tr>\n",
       "    <tr>\n",
       "      <th>2</th>\n",
       "      <td>2010-12-01</td>\n",
       "      <td>12348.0</td>\n",
       "      <td>2010-12-16 19:09:00</td>\n",
       "      <td>2010-12-01</td>\n",
       "      <td>892.80</td>\n",
       "      <td>1254.0</td>\n",
       "      <td>13.0</td>\n",
       "    </tr>\n",
       "    <tr>\n",
       "      <th>3</th>\n",
       "      <td>2010-12-01</td>\n",
       "      <td>12370.0</td>\n",
       "      <td>2010-12-14 12:58:00</td>\n",
       "      <td>2010-12-01</td>\n",
       "      <td>1868.02</td>\n",
       "      <td>968.0</td>\n",
       "      <td>90.0</td>\n",
       "    </tr>\n",
       "    <tr>\n",
       "      <th>4</th>\n",
       "      <td>2010-12-01</td>\n",
       "      <td>12377.0</td>\n",
       "      <td>2010-12-20 09:37:00</td>\n",
       "      <td>2010-12-01</td>\n",
       "      <td>1001.52</td>\n",
       "      <td>604.0</td>\n",
       "      <td>43.0</td>\n",
       "    </tr>\n",
       "    <tr>\n",
       "      <th>...</th>\n",
       "      <td>...</td>\n",
       "      <td>...</td>\n",
       "      <td>...</td>\n",
       "      <td>...</td>\n",
       "      <td>...</td>\n",
       "      <td>...</td>\n",
       "      <td>...</td>\n",
       "    </tr>\n",
       "    <tr>\n",
       "      <th>37444</th>\n",
       "      <td>2011-12-01</td>\n",
       "      <td>18280.0</td>\n",
       "      <td>2011-03-07 09:52:00</td>\n",
       "      <td>2011-03-01</td>\n",
       "      <td>NaN</td>\n",
       "      <td>NaN</td>\n",
       "      <td>NaN</td>\n",
       "    </tr>\n",
       "    <tr>\n",
       "      <th>37445</th>\n",
       "      <td>2011-12-01</td>\n",
       "      <td>18281.0</td>\n",
       "      <td>2011-06-12 10:53:00</td>\n",
       "      <td>2011-06-01</td>\n",
       "      <td>NaN</td>\n",
       "      <td>NaN</td>\n",
       "      <td>NaN</td>\n",
       "    </tr>\n",
       "    <tr>\n",
       "      <th>37446</th>\n",
       "      <td>2011-12-01</td>\n",
       "      <td>18282.0</td>\n",
       "      <td>2011-08-05 13:35:00</td>\n",
       "      <td>2011-08-01</td>\n",
       "      <td>77.84</td>\n",
       "      <td>28.0</td>\n",
       "      <td>5.0</td>\n",
       "    </tr>\n",
       "    <tr>\n",
       "      <th>37447</th>\n",
       "      <td>2011-12-01</td>\n",
       "      <td>18283.0</td>\n",
       "      <td>2011-01-06 14:14:00</td>\n",
       "      <td>2011-01-01</td>\n",
       "      <td>208.00</td>\n",
       "      <td>142.0</td>\n",
       "      <td>50.0</td>\n",
       "    </tr>\n",
       "    <tr>\n",
       "      <th>37448</th>\n",
       "      <td>2011-12-01</td>\n",
       "      <td>18287.0</td>\n",
       "      <td>2011-05-22 10:39:00</td>\n",
       "      <td>2011-05-01</td>\n",
       "      <td>NaN</td>\n",
       "      <td>NaN</td>\n",
       "      <td>NaN</td>\n",
       "    </tr>\n",
       "  </tbody>\n",
       "</table>\n",
       "<p>37449 rows × 7 columns</p>\n",
       "</div>"
      ],
      "text/plain": [
       "          months  customer_id            reg_date  reg_month    revenue  \\\n",
       "0     2010-12-01         -1.0 2010-12-01 11:52:00 2010-12-01  194353.00   \n",
       "1     2010-12-01      12347.0 2010-12-07 14:57:00 2010-12-01     711.79   \n",
       "2     2010-12-01      12348.0 2010-12-16 19:09:00 2010-12-01     892.80   \n",
       "3     2010-12-01      12370.0 2010-12-14 12:58:00 2010-12-01    1868.02   \n",
       "4     2010-12-01      12377.0 2010-12-20 09:37:00 2010-12-01    1001.52   \n",
       "...          ...          ...                 ...        ...        ...   \n",
       "37444 2011-12-01      18280.0 2011-03-07 09:52:00 2011-03-01        NaN   \n",
       "37445 2011-12-01      18281.0 2011-06-12 10:53:00 2011-06-01        NaN   \n",
       "37446 2011-12-01      18282.0 2011-08-05 13:35:00 2011-08-01      77.84   \n",
       "37447 2011-12-01      18283.0 2011-01-06 14:14:00 2011-01-01     208.00   \n",
       "37448 2011-12-01      18287.0 2011-05-22 10:39:00 2011-05-01        NaN   \n",
       "\n",
       "       quantity  unique_products  \n",
       "0       45866.0           2181.0  \n",
       "1         319.0             31.0  \n",
       "2        1254.0             13.0  \n",
       "3         968.0             90.0  \n",
       "4         604.0             43.0  \n",
       "...         ...              ...  \n",
       "37444       NaN              NaN  \n",
       "37445       NaN              NaN  \n",
       "37446      28.0              5.0  \n",
       "37447     142.0             50.0  \n",
       "37448       NaN              NaN  \n",
       "\n",
       "[37449 rows x 7 columns]"
      ]
     },
     "execution_count": 798,
     "metadata": {},
     "output_type": "execute_result"
    }
   ],
   "source": [
    "at"
   ]
  },
  {
   "cell_type": "code",
   "execution_count": 799,
   "id": "f9da67b8-d412-41a9-b844-1554afe42d8c",
   "metadata": {},
   "outputs": [],
   "source": [
    "at['user'] = 1\n",
    "at['active'] = (~at['revenue'].isna())*1\n",
    "at['new_customer'] = (at['months'] == at['reg_month'])*1"
   ]
  },
  {
   "cell_type": "code",
   "execution_count": 800,
   "id": "f9d11f4d-68f5-4a96-9cc8-36bd1ba9686f",
   "metadata": {},
   "outputs": [
    {
     "data": {
      "text/html": [
       "<div>\n",
       "<style scoped>\n",
       "    .dataframe tbody tr th:only-of-type {\n",
       "        vertical-align: middle;\n",
       "    }\n",
       "\n",
       "    .dataframe tbody tr th {\n",
       "        vertical-align: top;\n",
       "    }\n",
       "\n",
       "    .dataframe thead th {\n",
       "        text-align: right;\n",
       "    }\n",
       "</style>\n",
       "<table border=\"1\" class=\"dataframe\">\n",
       "  <thead>\n",
       "    <tr style=\"text-align: right;\">\n",
       "      <th></th>\n",
       "      <th>months</th>\n",
       "      <th>customer_id</th>\n",
       "      <th>reg_date</th>\n",
       "      <th>reg_month</th>\n",
       "      <th>revenue</th>\n",
       "      <th>quantity</th>\n",
       "      <th>unique_products</th>\n",
       "      <th>user</th>\n",
       "      <th>active</th>\n",
       "      <th>new_customer</th>\n",
       "    </tr>\n",
       "  </thead>\n",
       "  <tbody>\n",
       "    <tr>\n",
       "      <th>0</th>\n",
       "      <td>2010-12-01</td>\n",
       "      <td>-1.0</td>\n",
       "      <td>2010-12-01 11:52:00</td>\n",
       "      <td>2010-12-01</td>\n",
       "      <td>194353.00</td>\n",
       "      <td>45866.0</td>\n",
       "      <td>2181.0</td>\n",
       "      <td>1</td>\n",
       "      <td>1</td>\n",
       "      <td>1</td>\n",
       "    </tr>\n",
       "    <tr>\n",
       "      <th>1</th>\n",
       "      <td>2010-12-01</td>\n",
       "      <td>12347.0</td>\n",
       "      <td>2010-12-07 14:57:00</td>\n",
       "      <td>2010-12-01</td>\n",
       "      <td>711.79</td>\n",
       "      <td>319.0</td>\n",
       "      <td>31.0</td>\n",
       "      <td>1</td>\n",
       "      <td>1</td>\n",
       "      <td>1</td>\n",
       "    </tr>\n",
       "    <tr>\n",
       "      <th>2</th>\n",
       "      <td>2010-12-01</td>\n",
       "      <td>12348.0</td>\n",
       "      <td>2010-12-16 19:09:00</td>\n",
       "      <td>2010-12-01</td>\n",
       "      <td>892.80</td>\n",
       "      <td>1254.0</td>\n",
       "      <td>13.0</td>\n",
       "      <td>1</td>\n",
       "      <td>1</td>\n",
       "      <td>1</td>\n",
       "    </tr>\n",
       "    <tr>\n",
       "      <th>3</th>\n",
       "      <td>2010-12-01</td>\n",
       "      <td>12370.0</td>\n",
       "      <td>2010-12-14 12:58:00</td>\n",
       "      <td>2010-12-01</td>\n",
       "      <td>1868.02</td>\n",
       "      <td>968.0</td>\n",
       "      <td>90.0</td>\n",
       "      <td>1</td>\n",
       "      <td>1</td>\n",
       "      <td>1</td>\n",
       "    </tr>\n",
       "    <tr>\n",
       "      <th>4</th>\n",
       "      <td>2010-12-01</td>\n",
       "      <td>12377.0</td>\n",
       "      <td>2010-12-20 09:37:00</td>\n",
       "      <td>2010-12-01</td>\n",
       "      <td>1001.52</td>\n",
       "      <td>604.0</td>\n",
       "      <td>43.0</td>\n",
       "      <td>1</td>\n",
       "      <td>1</td>\n",
       "      <td>1</td>\n",
       "    </tr>\n",
       "    <tr>\n",
       "      <th>...</th>\n",
       "      <td>...</td>\n",
       "      <td>...</td>\n",
       "      <td>...</td>\n",
       "      <td>...</td>\n",
       "      <td>...</td>\n",
       "      <td>...</td>\n",
       "      <td>...</td>\n",
       "      <td>...</td>\n",
       "      <td>...</td>\n",
       "      <td>...</td>\n",
       "    </tr>\n",
       "    <tr>\n",
       "      <th>37444</th>\n",
       "      <td>2011-12-01</td>\n",
       "      <td>18280.0</td>\n",
       "      <td>2011-03-07 09:52:00</td>\n",
       "      <td>2011-03-01</td>\n",
       "      <td>NaN</td>\n",
       "      <td>NaN</td>\n",
       "      <td>NaN</td>\n",
       "      <td>1</td>\n",
       "      <td>0</td>\n",
       "      <td>0</td>\n",
       "    </tr>\n",
       "    <tr>\n",
       "      <th>37445</th>\n",
       "      <td>2011-12-01</td>\n",
       "      <td>18281.0</td>\n",
       "      <td>2011-06-12 10:53:00</td>\n",
       "      <td>2011-06-01</td>\n",
       "      <td>NaN</td>\n",
       "      <td>NaN</td>\n",
       "      <td>NaN</td>\n",
       "      <td>1</td>\n",
       "      <td>0</td>\n",
       "      <td>0</td>\n",
       "    </tr>\n",
       "    <tr>\n",
       "      <th>37446</th>\n",
       "      <td>2011-12-01</td>\n",
       "      <td>18282.0</td>\n",
       "      <td>2011-08-05 13:35:00</td>\n",
       "      <td>2011-08-01</td>\n",
       "      <td>77.84</td>\n",
       "      <td>28.0</td>\n",
       "      <td>5.0</td>\n",
       "      <td>1</td>\n",
       "      <td>1</td>\n",
       "      <td>0</td>\n",
       "    </tr>\n",
       "    <tr>\n",
       "      <th>37447</th>\n",
       "      <td>2011-12-01</td>\n",
       "      <td>18283.0</td>\n",
       "      <td>2011-01-06 14:14:00</td>\n",
       "      <td>2011-01-01</td>\n",
       "      <td>208.00</td>\n",
       "      <td>142.0</td>\n",
       "      <td>50.0</td>\n",
       "      <td>1</td>\n",
       "      <td>1</td>\n",
       "      <td>0</td>\n",
       "    </tr>\n",
       "    <tr>\n",
       "      <th>37448</th>\n",
       "      <td>2011-12-01</td>\n",
       "      <td>18287.0</td>\n",
       "      <td>2011-05-22 10:39:00</td>\n",
       "      <td>2011-05-01</td>\n",
       "      <td>NaN</td>\n",
       "      <td>NaN</td>\n",
       "      <td>NaN</td>\n",
       "      <td>1</td>\n",
       "      <td>0</td>\n",
       "      <td>0</td>\n",
       "    </tr>\n",
       "  </tbody>\n",
       "</table>\n",
       "<p>37449 rows × 10 columns</p>\n",
       "</div>"
      ],
      "text/plain": [
       "          months  customer_id            reg_date  reg_month    revenue  \\\n",
       "0     2010-12-01         -1.0 2010-12-01 11:52:00 2010-12-01  194353.00   \n",
       "1     2010-12-01      12347.0 2010-12-07 14:57:00 2010-12-01     711.79   \n",
       "2     2010-12-01      12348.0 2010-12-16 19:09:00 2010-12-01     892.80   \n",
       "3     2010-12-01      12370.0 2010-12-14 12:58:00 2010-12-01    1868.02   \n",
       "4     2010-12-01      12377.0 2010-12-20 09:37:00 2010-12-01    1001.52   \n",
       "...          ...          ...                 ...        ...        ...   \n",
       "37444 2011-12-01      18280.0 2011-03-07 09:52:00 2011-03-01        NaN   \n",
       "37445 2011-12-01      18281.0 2011-06-12 10:53:00 2011-06-01        NaN   \n",
       "37446 2011-12-01      18282.0 2011-08-05 13:35:00 2011-08-01      77.84   \n",
       "37447 2011-12-01      18283.0 2011-01-06 14:14:00 2011-01-01     208.00   \n",
       "37448 2011-12-01      18287.0 2011-05-22 10:39:00 2011-05-01        NaN   \n",
       "\n",
       "       quantity  unique_products  user  active  new_customer  \n",
       "0       45866.0           2181.0     1       1             1  \n",
       "1         319.0             31.0     1       1             1  \n",
       "2        1254.0             13.0     1       1             1  \n",
       "3         968.0             90.0     1       1             1  \n",
       "4         604.0             43.0     1       1             1  \n",
       "...         ...              ...   ...     ...           ...  \n",
       "37444       NaN              NaN     1       0             0  \n",
       "37445       NaN              NaN     1       0             0  \n",
       "37446      28.0              5.0     1       1             0  \n",
       "37447     142.0             50.0     1       1             0  \n",
       "37448       NaN              NaN     1       0             0  \n",
       "\n",
       "[37449 rows x 10 columns]"
      ]
     },
     "execution_count": 800,
     "metadata": {},
     "output_type": "execute_result"
    }
   ],
   "source": [
    "at"
   ]
  },
  {
   "cell_type": "code",
   "execution_count": 806,
   "id": "944bf3ff-08e2-4b2f-b8e7-c0461d7946fc",
   "metadata": {},
   "outputs": [],
   "source": [
    "t_at = at.groupby(['months']) \\\n",
    "    [['user', 'active' , 'new_customer', 'revenue', 'quantity','unique_products']] \\\n",
    "    .agg({'user':'sum', 'active':'sum', 'new_customer':'sum', 'revenue':'sum', 'quantity':['sum'], 'unique_products': 'sum'}) \\\n",
    "    .reset_index() \\\n",
    "    .sort_values('months')"
   ]
  },
  {
   "cell_type": "code",
   "execution_count": 810,
   "id": "39560635-2dd7-4c7e-822e-df066c5f7e53",
   "metadata": {},
   "outputs": [
    {
     "data": {
      "text/plain": [
       "MultiIndex([(         'months',    ''),\n",
       "            (           'user', 'sum'),\n",
       "            (         'active', 'sum'),\n",
       "            (   'new_customer', 'sum'),\n",
       "            (        'revenue', 'sum'),\n",
       "            (       'quantity', 'sum'),\n",
       "            ('unique_products', 'sum')],\n",
       "           )"
      ]
     },
     "execution_count": 810,
     "metadata": {},
     "output_type": "execute_result"
    }
   ],
   "source": [
    "t_at.columns"
   ]
  },
  {
   "cell_type": "code",
   "execution_count": 818,
   "id": "d6a113ac-72e1-4ca5-a9d5-75e87e0241f1",
   "metadata": {},
   "outputs": [],
   "source": [
    "report = at.groupby(['months']) \\\n",
    "    [['user', 'active' , 'new_customer', 'revenue', 'quantity','unique_products']] \\\n",
    "    .agg({'user':'sum', 'active':'sum', 'new_customer':'sum', 'revenue':'sum', 'quantity':['sum','mean'], 'unique_products': 'mean'}) \\\n",
    "    .reset_index() \\\n",
    "    .sort_values('months')"
   ]
  },
  {
   "cell_type": "code",
   "execution_count": 819,
   "id": "4d271eee-43a3-4744-8f84-0fa96dda9cff",
   "metadata": {},
   "outputs": [
    {
     "data": {
      "text/html": [
       "<div>\n",
       "<style scoped>\n",
       "    .dataframe tbody tr th:only-of-type {\n",
       "        vertical-align: middle;\n",
       "    }\n",
       "\n",
       "    .dataframe tbody tr th {\n",
       "        vertical-align: top;\n",
       "    }\n",
       "\n",
       "    .dataframe thead tr th {\n",
       "        text-align: left;\n",
       "    }\n",
       "</style>\n",
       "<table border=\"1\" class=\"dataframe\">\n",
       "  <thead>\n",
       "    <tr>\n",
       "      <th></th>\n",
       "      <th>months</th>\n",
       "      <th>user</th>\n",
       "      <th>active</th>\n",
       "      <th>new_customer</th>\n",
       "      <th>revenue</th>\n",
       "      <th colspan=\"2\" halign=\"left\">quantity</th>\n",
       "      <th>unique_products</th>\n",
       "    </tr>\n",
       "    <tr>\n",
       "      <th></th>\n",
       "      <th></th>\n",
       "      <th>sum</th>\n",
       "      <th>sum</th>\n",
       "      <th>sum</th>\n",
       "      <th>sum</th>\n",
       "      <th>sum</th>\n",
       "      <th>mean</th>\n",
       "      <th>mean</th>\n",
       "    </tr>\n",
       "  </thead>\n",
       "  <tbody>\n",
       "    <tr>\n",
       "      <th>0</th>\n",
       "      <td>2010-12-01</td>\n",
       "      <td>949</td>\n",
       "      <td>949</td>\n",
       "      <td>949</td>\n",
       "      <td>748957.020</td>\n",
       "      <td>342228.0</td>\n",
       "      <td>360.619600</td>\n",
       "      <td>27.146470</td>\n",
       "    </tr>\n",
       "    <tr>\n",
       "      <th>1</th>\n",
       "      <td>2011-01-01</td>\n",
       "      <td>1370</td>\n",
       "      <td>784</td>\n",
       "      <td>421</td>\n",
       "      <td>560000.260</td>\n",
       "      <td>308966.0</td>\n",
       "      <td>394.089286</td>\n",
       "      <td>28.190051</td>\n",
       "    </tr>\n",
       "    <tr>\n",
       "      <th>2</th>\n",
       "      <td>2011-02-01</td>\n",
       "      <td>1750</td>\n",
       "      <td>799</td>\n",
       "      <td>380</td>\n",
       "      <td>498062.650</td>\n",
       "      <td>277989.0</td>\n",
       "      <td>347.921151</td>\n",
       "      <td>25.713392</td>\n",
       "    </tr>\n",
       "    <tr>\n",
       "      <th>3</th>\n",
       "      <td>2011-03-01</td>\n",
       "      <td>2190</td>\n",
       "      <td>1021</td>\n",
       "      <td>440</td>\n",
       "      <td>683267.080</td>\n",
       "      <td>351872.0</td>\n",
       "      <td>344.634672</td>\n",
       "      <td>26.833497</td>\n",
       "    </tr>\n",
       "    <tr>\n",
       "      <th>4</th>\n",
       "      <td>2011-04-01</td>\n",
       "      <td>2489</td>\n",
       "      <td>900</td>\n",
       "      <td>299</td>\n",
       "      <td>493207.121</td>\n",
       "      <td>289098.0</td>\n",
       "      <td>321.220000</td>\n",
       "      <td>25.684444</td>\n",
       "    </tr>\n",
       "    <tr>\n",
       "      <th>5</th>\n",
       "      <td>2011-05-01</td>\n",
       "      <td>2768</td>\n",
       "      <td>1080</td>\n",
       "      <td>279</td>\n",
       "      <td>723333.510</td>\n",
       "      <td>380391.0</td>\n",
       "      <td>352.213889</td>\n",
       "      <td>26.068519</td>\n",
       "    </tr>\n",
       "    <tr>\n",
       "      <th>6</th>\n",
       "      <td>2011-06-01</td>\n",
       "      <td>3003</td>\n",
       "      <td>1052</td>\n",
       "      <td>235</td>\n",
       "      <td>691123.120</td>\n",
       "      <td>341623.0</td>\n",
       "      <td>324.736692</td>\n",
       "      <td>26.131179</td>\n",
       "    </tr>\n",
       "    <tr>\n",
       "      <th>7</th>\n",
       "      <td>2011-07-01</td>\n",
       "      <td>3194</td>\n",
       "      <td>994</td>\n",
       "      <td>191</td>\n",
       "      <td>681300.111</td>\n",
       "      <td>391116.0</td>\n",
       "      <td>393.476861</td>\n",
       "      <td>27.200201</td>\n",
       "    </tr>\n",
       "    <tr>\n",
       "      <th>8</th>\n",
       "      <td>2011-08-01</td>\n",
       "      <td>3361</td>\n",
       "      <td>981</td>\n",
       "      <td>167</td>\n",
       "      <td>682680.510</td>\n",
       "      <td>406199.0</td>\n",
       "      <td>414.066259</td>\n",
       "      <td>27.772681</td>\n",
       "    </tr>\n",
       "    <tr>\n",
       "      <th>9</th>\n",
       "      <td>2011-09-01</td>\n",
       "      <td>3659</td>\n",
       "      <td>1303</td>\n",
       "      <td>298</td>\n",
       "      <td>1019687.622</td>\n",
       "      <td>549817.0</td>\n",
       "      <td>421.962394</td>\n",
       "      <td>30.259401</td>\n",
       "    </tr>\n",
       "    <tr>\n",
       "      <th>10</th>\n",
       "      <td>2011-10-01</td>\n",
       "      <td>4011</td>\n",
       "      <td>1426</td>\n",
       "      <td>352</td>\n",
       "      <td>1070704.670</td>\n",
       "      <td>570532.0</td>\n",
       "      <td>400.092567</td>\n",
       "      <td>32.903927</td>\n",
       "    </tr>\n",
       "    <tr>\n",
       "      <th>11</th>\n",
       "      <td>2011-11-01</td>\n",
       "      <td>4332</td>\n",
       "      <td>1712</td>\n",
       "      <td>321</td>\n",
       "      <td>1461756.250</td>\n",
       "      <td>740286.0</td>\n",
       "      <td>432.410047</td>\n",
       "      <td>33.830023</td>\n",
       "    </tr>\n",
       "    <tr>\n",
       "      <th>12</th>\n",
       "      <td>2011-12-01</td>\n",
       "      <td>4373</td>\n",
       "      <td>687</td>\n",
       "      <td>41</td>\n",
       "      <td>433668.010</td>\n",
       "      <td>226333.0</td>\n",
       "      <td>329.451237</td>\n",
       "      <td>26.624454</td>\n",
       "    </tr>\n",
       "  </tbody>\n",
       "</table>\n",
       "</div>"
      ],
      "text/plain": [
       "       months  user active new_customer      revenue  quantity              \\\n",
       "                sum    sum          sum          sum       sum        mean   \n",
       "0  2010-12-01   949    949          949   748957.020  342228.0  360.619600   \n",
       "1  2011-01-01  1370    784          421   560000.260  308966.0  394.089286   \n",
       "2  2011-02-01  1750    799          380   498062.650  277989.0  347.921151   \n",
       "3  2011-03-01  2190   1021          440   683267.080  351872.0  344.634672   \n",
       "4  2011-04-01  2489    900          299   493207.121  289098.0  321.220000   \n",
       "5  2011-05-01  2768   1080          279   723333.510  380391.0  352.213889   \n",
       "6  2011-06-01  3003   1052          235   691123.120  341623.0  324.736692   \n",
       "7  2011-07-01  3194    994          191   681300.111  391116.0  393.476861   \n",
       "8  2011-08-01  3361    981          167   682680.510  406199.0  414.066259   \n",
       "9  2011-09-01  3659   1303          298  1019687.622  549817.0  421.962394   \n",
       "10 2011-10-01  4011   1426          352  1070704.670  570532.0  400.092567   \n",
       "11 2011-11-01  4332   1712          321  1461756.250  740286.0  432.410047   \n",
       "12 2011-12-01  4373    687           41   433668.010  226333.0  329.451237   \n",
       "\n",
       "   unique_products  \n",
       "              mean  \n",
       "0        27.146470  \n",
       "1        28.190051  \n",
       "2        25.713392  \n",
       "3        26.833497  \n",
       "4        25.684444  \n",
       "5        26.068519  \n",
       "6        26.131179  \n",
       "7        27.200201  \n",
       "8        27.772681  \n",
       "9        30.259401  \n",
       "10       32.903927  \n",
       "11       33.830023  \n",
       "12       26.624454  "
      ]
     },
     "execution_count": 819,
     "metadata": {},
     "output_type": "execute_result"
    }
   ],
   "source": [
    "report"
   ]
  },
  {
   "cell_type": "code",
   "execution_count": 820,
   "id": "e1c7a22a-134c-4f78-83a7-f006db38aa90",
   "metadata": {},
   "outputs": [
    {
     "data": {
      "text/plain": [
       "MultiIndex([(         'months',     ''),\n",
       "            (           'user',  'sum'),\n",
       "            (         'active',  'sum'),\n",
       "            (   'new_customer',  'sum'),\n",
       "            (        'revenue',  'sum'),\n",
       "            (       'quantity',  'sum'),\n",
       "            (       'quantity', 'mean'),\n",
       "            ('unique_products', 'mean')],\n",
       "           )"
      ]
     },
     "execution_count": 820,
     "metadata": {},
     "output_type": "execute_result"
    }
   ],
   "source": [
    "report.columns"
   ]
  },
  {
   "cell_type": "code",
   "execution_count": 821,
   "id": "6317ba1d-06d0-4b2c-aec4-c6b6371517ca",
   "metadata": {},
   "outputs": [],
   "source": [
    "report.columns = ['_'.join(col).strip() for col in report.columns]"
   ]
  },
  {
   "cell_type": "code",
   "execution_count": 822,
   "id": "fdde1f65-b66b-4fb8-9720-89677a12e79a",
   "metadata": {},
   "outputs": [
    {
     "data": {
      "text/html": [
       "<div>\n",
       "<style scoped>\n",
       "    .dataframe tbody tr th:only-of-type {\n",
       "        vertical-align: middle;\n",
       "    }\n",
       "\n",
       "    .dataframe tbody tr th {\n",
       "        vertical-align: top;\n",
       "    }\n",
       "\n",
       "    .dataframe thead th {\n",
       "        text-align: right;\n",
       "    }\n",
       "</style>\n",
       "<table border=\"1\" class=\"dataframe\">\n",
       "  <thead>\n",
       "    <tr style=\"text-align: right;\">\n",
       "      <th></th>\n",
       "      <th>months_</th>\n",
       "      <th>user_sum</th>\n",
       "      <th>active_sum</th>\n",
       "      <th>new_customer_sum</th>\n",
       "      <th>revenue_sum</th>\n",
       "      <th>quantity_sum</th>\n",
       "      <th>quantity_mean</th>\n",
       "      <th>unique_products_mean</th>\n",
       "    </tr>\n",
       "  </thead>\n",
       "  <tbody>\n",
       "    <tr>\n",
       "      <th>0</th>\n",
       "      <td>2010-12-01</td>\n",
       "      <td>949</td>\n",
       "      <td>949</td>\n",
       "      <td>949</td>\n",
       "      <td>748957.020</td>\n",
       "      <td>342228.0</td>\n",
       "      <td>360.619600</td>\n",
       "      <td>27.146470</td>\n",
       "    </tr>\n",
       "    <tr>\n",
       "      <th>1</th>\n",
       "      <td>2011-01-01</td>\n",
       "      <td>1370</td>\n",
       "      <td>784</td>\n",
       "      <td>421</td>\n",
       "      <td>560000.260</td>\n",
       "      <td>308966.0</td>\n",
       "      <td>394.089286</td>\n",
       "      <td>28.190051</td>\n",
       "    </tr>\n",
       "    <tr>\n",
       "      <th>2</th>\n",
       "      <td>2011-02-01</td>\n",
       "      <td>1750</td>\n",
       "      <td>799</td>\n",
       "      <td>380</td>\n",
       "      <td>498062.650</td>\n",
       "      <td>277989.0</td>\n",
       "      <td>347.921151</td>\n",
       "      <td>25.713392</td>\n",
       "    </tr>\n",
       "    <tr>\n",
       "      <th>3</th>\n",
       "      <td>2011-03-01</td>\n",
       "      <td>2190</td>\n",
       "      <td>1021</td>\n",
       "      <td>440</td>\n",
       "      <td>683267.080</td>\n",
       "      <td>351872.0</td>\n",
       "      <td>344.634672</td>\n",
       "      <td>26.833497</td>\n",
       "    </tr>\n",
       "    <tr>\n",
       "      <th>4</th>\n",
       "      <td>2011-04-01</td>\n",
       "      <td>2489</td>\n",
       "      <td>900</td>\n",
       "      <td>299</td>\n",
       "      <td>493207.121</td>\n",
       "      <td>289098.0</td>\n",
       "      <td>321.220000</td>\n",
       "      <td>25.684444</td>\n",
       "    </tr>\n",
       "    <tr>\n",
       "      <th>5</th>\n",
       "      <td>2011-05-01</td>\n",
       "      <td>2768</td>\n",
       "      <td>1080</td>\n",
       "      <td>279</td>\n",
       "      <td>723333.510</td>\n",
       "      <td>380391.0</td>\n",
       "      <td>352.213889</td>\n",
       "      <td>26.068519</td>\n",
       "    </tr>\n",
       "    <tr>\n",
       "      <th>6</th>\n",
       "      <td>2011-06-01</td>\n",
       "      <td>3003</td>\n",
       "      <td>1052</td>\n",
       "      <td>235</td>\n",
       "      <td>691123.120</td>\n",
       "      <td>341623.0</td>\n",
       "      <td>324.736692</td>\n",
       "      <td>26.131179</td>\n",
       "    </tr>\n",
       "    <tr>\n",
       "      <th>7</th>\n",
       "      <td>2011-07-01</td>\n",
       "      <td>3194</td>\n",
       "      <td>994</td>\n",
       "      <td>191</td>\n",
       "      <td>681300.111</td>\n",
       "      <td>391116.0</td>\n",
       "      <td>393.476861</td>\n",
       "      <td>27.200201</td>\n",
       "    </tr>\n",
       "    <tr>\n",
       "      <th>8</th>\n",
       "      <td>2011-08-01</td>\n",
       "      <td>3361</td>\n",
       "      <td>981</td>\n",
       "      <td>167</td>\n",
       "      <td>682680.510</td>\n",
       "      <td>406199.0</td>\n",
       "      <td>414.066259</td>\n",
       "      <td>27.772681</td>\n",
       "    </tr>\n",
       "    <tr>\n",
       "      <th>9</th>\n",
       "      <td>2011-09-01</td>\n",
       "      <td>3659</td>\n",
       "      <td>1303</td>\n",
       "      <td>298</td>\n",
       "      <td>1019687.622</td>\n",
       "      <td>549817.0</td>\n",
       "      <td>421.962394</td>\n",
       "      <td>30.259401</td>\n",
       "    </tr>\n",
       "    <tr>\n",
       "      <th>10</th>\n",
       "      <td>2011-10-01</td>\n",
       "      <td>4011</td>\n",
       "      <td>1426</td>\n",
       "      <td>352</td>\n",
       "      <td>1070704.670</td>\n",
       "      <td>570532.0</td>\n",
       "      <td>400.092567</td>\n",
       "      <td>32.903927</td>\n",
       "    </tr>\n",
       "    <tr>\n",
       "      <th>11</th>\n",
       "      <td>2011-11-01</td>\n",
       "      <td>4332</td>\n",
       "      <td>1712</td>\n",
       "      <td>321</td>\n",
       "      <td>1461756.250</td>\n",
       "      <td>740286.0</td>\n",
       "      <td>432.410047</td>\n",
       "      <td>33.830023</td>\n",
       "    </tr>\n",
       "    <tr>\n",
       "      <th>12</th>\n",
       "      <td>2011-12-01</td>\n",
       "      <td>4373</td>\n",
       "      <td>687</td>\n",
       "      <td>41</td>\n",
       "      <td>433668.010</td>\n",
       "      <td>226333.0</td>\n",
       "      <td>329.451237</td>\n",
       "      <td>26.624454</td>\n",
       "    </tr>\n",
       "  </tbody>\n",
       "</table>\n",
       "</div>"
      ],
      "text/plain": [
       "      months_  user_sum  active_sum  new_customer_sum  revenue_sum  \\\n",
       "0  2010-12-01       949         949               949   748957.020   \n",
       "1  2011-01-01      1370         784               421   560000.260   \n",
       "2  2011-02-01      1750         799               380   498062.650   \n",
       "3  2011-03-01      2190        1021               440   683267.080   \n",
       "4  2011-04-01      2489         900               299   493207.121   \n",
       "5  2011-05-01      2768        1080               279   723333.510   \n",
       "6  2011-06-01      3003        1052               235   691123.120   \n",
       "7  2011-07-01      3194         994               191   681300.111   \n",
       "8  2011-08-01      3361         981               167   682680.510   \n",
       "9  2011-09-01      3659        1303               298  1019687.622   \n",
       "10 2011-10-01      4011        1426               352  1070704.670   \n",
       "11 2011-11-01      4332        1712               321  1461756.250   \n",
       "12 2011-12-01      4373         687                41   433668.010   \n",
       "\n",
       "    quantity_sum  quantity_mean  unique_products_mean  \n",
       "0       342228.0     360.619600             27.146470  \n",
       "1       308966.0     394.089286             28.190051  \n",
       "2       277989.0     347.921151             25.713392  \n",
       "3       351872.0     344.634672             26.833497  \n",
       "4       289098.0     321.220000             25.684444  \n",
       "5       380391.0     352.213889             26.068519  \n",
       "6       341623.0     324.736692             26.131179  \n",
       "7       391116.0     393.476861             27.200201  \n",
       "8       406199.0     414.066259             27.772681  \n",
       "9       549817.0     421.962394             30.259401  \n",
       "10      570532.0     400.092567             32.903927  \n",
       "11      740286.0     432.410047             33.830023  \n",
       "12      226333.0     329.451237             26.624454  "
      ]
     },
     "execution_count": 822,
     "metadata": {},
     "output_type": "execute_result"
    }
   ],
   "source": [
    "report"
   ]
  },
  {
   "cell_type": "markdown",
   "id": "e09c3b2d-a0ec-4919-a279-2da42c8b2e04",
   "metadata": {},
   "source": [
    "# SQL"
   ]
  },
  {
   "cell_type": "markdown",
   "id": "23792d3a-f67f-4c7f-a253-4d12688eb70f",
   "metadata": {},
   "source": [
    "## Делаем аналитическую таблицу на sql"
   ]
  },
  {
   "cell_type": "code",
   "execution_count": 825,
   "id": "9351d474-dab2-4eb5-a4f3-9752074f1ea6",
   "metadata": {},
   "outputs": [],
   "source": [
    "import sqlalchemy as sq\n",
    "from sqlalchemy.orm import Session\n",
    "from sqlalchemy_utils import database_exists, create_database"
   ]
  },
  {
   "cell_type": "code",
   "execution_count": 826,
   "id": "7550ce25-1199-4fb2-a429-a43bee6a1073",
   "metadata": {},
   "outputs": [],
   "source": [
    "import csv\n",
    "from io import StringIO"
   ]
  },
  {
   "cell_type": "code",
   "execution_count": 827,
   "id": "fb14cdc1-3522-43b1-b8f7-89d220e00b4f",
   "metadata": {},
   "outputs": [
    {
     "name": "stdout",
     "output_type": "stream",
     "text": [
      "True postgresql://jupyterdb_user:jupyterdb_user_123@db:5432/analytics_tables\n"
     ]
    }
   ],
   "source": [
    "engine = sq.create_engine('postgresql://jupyterdb_user:jupyterdb_user_123@db:5432/analytics_tables')\n",
    "if not database_exists(engine.url):\n",
    "    create_database(engine.url)\n",
    "\n",
    "print(database_exists(engine.url), engine.url)"
   ]
  },
  {
   "cell_type": "code",
   "execution_count": 828,
   "id": "f64bf349-d85c-48ed-a431-0dd1711a6bc4",
   "metadata": {},
   "outputs": [
    {
     "name": "stdout",
     "output_type": "stream",
     "text": [
      "schema:  information_schema\n",
      "table_name:  sql_parts\n",
      "Column:  {'name': 'feature_id', 'type': VARCHAR(), 'nullable': True, 'default': None, 'autoincrement': False, 'comment': None}\n",
      "Column:  {'name': 'feature_name', 'type': VARCHAR(), 'nullable': True, 'default': None, 'autoincrement': False, 'comment': None}\n",
      "Column:  {'name': 'is_supported', 'type': VARCHAR(), 'nullable': True, 'default': None, 'autoincrement': False, 'comment': None}\n",
      "Column:  {'name': 'is_verified_by', 'type': VARCHAR(), 'nullable': True, 'default': None, 'autoincrement': False, 'comment': None}\n",
      "Column:  {'name': 'comments', 'type': VARCHAR(), 'nullable': True, 'default': None, 'autoincrement': False, 'comment': None}\n",
      "table_name:  sql_implementation_info\n",
      "Column:  {'name': 'implementation_info_id', 'type': VARCHAR(), 'nullable': True, 'default': None, 'autoincrement': False, 'comment': None}\n",
      "Column:  {'name': 'implementation_info_name', 'type': VARCHAR(), 'nullable': True, 'default': None, 'autoincrement': False, 'comment': None}\n",
      "Column:  {'name': 'integer_value', 'type': INTEGER(), 'nullable': True, 'default': None, 'autoincrement': False, 'comment': None}\n",
      "Column:  {'name': 'character_value', 'type': VARCHAR(), 'nullable': True, 'default': None, 'autoincrement': False, 'comment': None}\n",
      "Column:  {'name': 'comments', 'type': VARCHAR(), 'nullable': True, 'default': None, 'autoincrement': False, 'comment': None}\n",
      "table_name:  sql_features\n",
      "Column:  {'name': 'feature_id', 'type': VARCHAR(), 'nullable': True, 'default': None, 'autoincrement': False, 'comment': None}\n",
      "Column:  {'name': 'feature_name', 'type': VARCHAR(), 'nullable': True, 'default': None, 'autoincrement': False, 'comment': None}\n",
      "Column:  {'name': 'sub_feature_id', 'type': VARCHAR(), 'nullable': True, 'default': None, 'autoincrement': False, 'comment': None}\n",
      "Column:  {'name': 'sub_feature_name', 'type': VARCHAR(), 'nullable': True, 'default': None, 'autoincrement': False, 'comment': None}\n",
      "Column:  {'name': 'is_supported', 'type': VARCHAR(), 'nullable': True, 'default': None, 'autoincrement': False, 'comment': None}\n",
      "Column:  {'name': 'is_verified_by', 'type': VARCHAR(), 'nullable': True, 'default': None, 'autoincrement': False, 'comment': None}\n",
      "Column:  {'name': 'comments', 'type': VARCHAR(), 'nullable': True, 'default': None, 'autoincrement': False, 'comment': None}\n",
      "table_name:  sql_sizing\n",
      "Column:  {'name': 'sizing_id', 'type': INTEGER(), 'nullable': True, 'default': None, 'autoincrement': False, 'comment': None}\n",
      "Column:  {'name': 'sizing_name', 'type': VARCHAR(), 'nullable': True, 'default': None, 'autoincrement': False, 'comment': None}\n",
      "Column:  {'name': 'supported_value', 'type': INTEGER(), 'nullable': True, 'default': None, 'autoincrement': False, 'comment': None}\n",
      "Column:  {'name': 'comments', 'type': VARCHAR(), 'nullable': True, 'default': None, 'autoincrement': False, 'comment': None}\n",
      "schema:  public\n",
      "table_name:  ecommerce\n",
      "Column:  {'name': 'invoice_no', 'type': TEXT(), 'nullable': True, 'default': None, 'autoincrement': False, 'comment': None}\n",
      "Column:  {'name': 'stock_code', 'type': TEXT(), 'nullable': True, 'default': None, 'autoincrement': False, 'comment': None}\n",
      "Column:  {'name': 'description', 'type': TEXT(), 'nullable': True, 'default': None, 'autoincrement': False, 'comment': None}\n",
      "Column:  {'name': 'quantity', 'type': BIGINT(), 'nullable': True, 'default': None, 'autoincrement': False, 'comment': None}\n",
      "Column:  {'name': 'invoice_date', 'type': TIMESTAMP(), 'nullable': True, 'default': None, 'autoincrement': False, 'comment': None}\n",
      "Column:  {'name': 'unitprice', 'type': DOUBLE_PRECISION(precision=53), 'nullable': True, 'default': None, 'autoincrement': False, 'comment': None}\n",
      "Column:  {'name': 'customer_id', 'type': DOUBLE_PRECISION(precision=53), 'nullable': True, 'default': None, 'autoincrement': False, 'comment': None}\n",
      "Column:  {'name': 'country', 'type': TEXT(), 'nullable': True, 'default': None, 'autoincrement': False, 'comment': None}\n"
     ]
    }
   ],
   "source": [
    "insp = sq.inspect(engine)\n",
    "schemas = insp.get_schema_names()\n",
    "for schema in schemas:\n",
    "    print(\"schema: \", schema)\n",
    "    for table_name in insp.get_table_names(schema=schema):\n",
    "        print(\"table_name: \",table_name)\n",
    "        for column in insp.get_columns(table_name, schema=schema):\n",
    "            print(\"Column: \", column)"
   ]
  },
  {
   "cell_type": "code",
   "execution_count": 847,
   "id": "9de311dd-229b-4a51-802a-109a7c3de824",
   "metadata": {},
   "outputs": [],
   "source": [
    "def select(sql: str, engine = engine) -> pd.DataFrame:\n",
    "    with engine.connect() as connection:\n",
    "        df_sql = pd.DataFrame(connection.execute(sq.text(sql)))\n",
    "    return df_sql"
   ]
  },
  {
   "cell_type": "code",
   "execution_count": 848,
   "id": "0581517c-8158-4995-a481-dccfad98f315",
   "metadata": {},
   "outputs": [],
   "source": [
    "# from https://stackoverflow.com/questions/23103962/how-to-write-dataframe-to-postgres-table\n",
    "#method for fast upload to postgresql\n",
    "\n",
    "def psql_insert_copy(table, conn, keys, data_iter):\n",
    "    # gets a DBAPI connection that can provide a cursor\n",
    "    dbapi_conn = conn.connection\n",
    "    with dbapi_conn.cursor() as cur:\n",
    "        s_buf = StringIO()\n",
    "        writer = csv.writer(s_buf)\n",
    "        writer.writerows(data_iter)\n",
    "        s_buf.seek(0)\n",
    "\n",
    "        columns = ', '.join('\"{}\"'.format(k) for k in keys)\n",
    "        if table.schema:\n",
    "            table_name = '{}.{}'.format(table.schema, table.name)\n",
    "        else:\n",
    "            table_name = table.name\n",
    "\n",
    "        sql = 'COPY {} ({}) FROM STDIN WITH CSV'.format(\n",
    "            table_name, columns)\n",
    "        cur.copy_expert(sql=sql, file=s_buf)"
   ]
  },
  {
   "cell_type": "markdown",
   "id": "b0c81dcf-39cc-4924-9bfc-b67ebeec406f",
   "metadata": {},
   "source": [
    "## Prepare Data from csv"
   ]
  },
  {
   "cell_type": "code",
   "execution_count": 849,
   "id": "98337a39-9226-4783-bd96-010f2722881e",
   "metadata": {},
   "outputs": [],
   "source": [
    "df = pd.read_csv('data/data.csv', encoding= 'cp1252' , header=0)"
   ]
  },
  {
   "cell_type": "code",
   "execution_count": 850,
   "id": "852ed7d8-80f8-4c42-a049-cb86652dbebc",
   "metadata": {},
   "outputs": [],
   "source": [
    "df.columns = ['invoice_no', 'stock_code', 'description', 'quantity', 'invoice_date',\n",
    "       'unitprice', 'customer_id', 'country']"
   ]
  },
  {
   "cell_type": "code",
   "execution_count": 851,
   "id": "78da8fc5-6019-443b-8fb4-7a842206f55a",
   "metadata": {},
   "outputs": [],
   "source": [
    "df['invoice_date'] = pd.to_datetime(df['invoice_date'], format = '%m/%d/%Y %H:%M')"
   ]
  },
  {
   "cell_type": "code",
   "execution_count": 852,
   "id": "89a743ae-b0b0-4de0-8be9-7b2a4ca287cb",
   "metadata": {},
   "outputs": [
    {
     "data": {
      "text/plain": [
       "invoice_no              object\n",
       "stock_code              object\n",
       "description             object\n",
       "quantity                 int64\n",
       "invoice_date    datetime64[ns]\n",
       "unitprice              float64\n",
       "customer_id            float64\n",
       "country                 object\n",
       "dtype: object"
      ]
     },
     "execution_count": 852,
     "metadata": {},
     "output_type": "execute_result"
    }
   ],
   "source": [
    "df.dtypes"
   ]
  },
  {
   "cell_type": "markdown",
   "id": "494a3425-f564-4a3b-ad00-edfd0debac6c",
   "metadata": {},
   "source": [
    "## Create table in postgres and upload data"
   ]
  },
  {
   "cell_type": "code",
   "execution_count": 855,
   "id": "6ce29f92-f0ee-49fe-92ed-32b179146906",
   "metadata": {},
   "outputs": [],
   "source": [
    "df.to_sql('ecommerce', \n",
    "          engine, index=False,\n",
    "          if_exists='replace',\n",
    "          method=psql_insert_copy)"
   ]
  },
  {
   "cell_type": "code",
   "execution_count": 856,
   "id": "23de322d-f64a-40cb-b826-649c5abd5c0b",
   "metadata": {},
   "outputs": [],
   "source": [
    "sql = ''' select * from ecommerce t limit 10 '''"
   ]
  },
  {
   "cell_type": "code",
   "execution_count": 857,
   "id": "46c91008-71a9-4e76-9568-60d0cacb0411",
   "metadata": {},
   "outputs": [
    {
     "data": {
      "text/html": [
       "<div>\n",
       "<style scoped>\n",
       "    .dataframe tbody tr th:only-of-type {\n",
       "        vertical-align: middle;\n",
       "    }\n",
       "\n",
       "    .dataframe tbody tr th {\n",
       "        vertical-align: top;\n",
       "    }\n",
       "\n",
       "    .dataframe thead th {\n",
       "        text-align: right;\n",
       "    }\n",
       "</style>\n",
       "<table border=\"1\" class=\"dataframe\">\n",
       "  <thead>\n",
       "    <tr style=\"text-align: right;\">\n",
       "      <th></th>\n",
       "      <th>invoice_no</th>\n",
       "      <th>stock_code</th>\n",
       "      <th>description</th>\n",
       "      <th>quantity</th>\n",
       "      <th>invoice_date</th>\n",
       "      <th>unitprice</th>\n",
       "      <th>customer_id</th>\n",
       "      <th>country</th>\n",
       "    </tr>\n",
       "  </thead>\n",
       "  <tbody>\n",
       "    <tr>\n",
       "      <th>0</th>\n",
       "      <td>536365</td>\n",
       "      <td>85123A</td>\n",
       "      <td>WHITE HANGING HEART T-LIGHT HOLDER</td>\n",
       "      <td>6</td>\n",
       "      <td>2010-12-01 08:26:00</td>\n",
       "      <td>2.55</td>\n",
       "      <td>17850.0</td>\n",
       "      <td>United Kingdom</td>\n",
       "    </tr>\n",
       "    <tr>\n",
       "      <th>1</th>\n",
       "      <td>536365</td>\n",
       "      <td>71053</td>\n",
       "      <td>WHITE METAL LANTERN</td>\n",
       "      <td>6</td>\n",
       "      <td>2010-12-01 08:26:00</td>\n",
       "      <td>3.39</td>\n",
       "      <td>17850.0</td>\n",
       "      <td>United Kingdom</td>\n",
       "    </tr>\n",
       "    <tr>\n",
       "      <th>2</th>\n",
       "      <td>536365</td>\n",
       "      <td>84406B</td>\n",
       "      <td>CREAM CUPID HEARTS COAT HANGER</td>\n",
       "      <td>8</td>\n",
       "      <td>2010-12-01 08:26:00</td>\n",
       "      <td>2.75</td>\n",
       "      <td>17850.0</td>\n",
       "      <td>United Kingdom</td>\n",
       "    </tr>\n",
       "    <tr>\n",
       "      <th>3</th>\n",
       "      <td>536365</td>\n",
       "      <td>84029G</td>\n",
       "      <td>KNITTED UNION FLAG HOT WATER BOTTLE</td>\n",
       "      <td>6</td>\n",
       "      <td>2010-12-01 08:26:00</td>\n",
       "      <td>3.39</td>\n",
       "      <td>17850.0</td>\n",
       "      <td>United Kingdom</td>\n",
       "    </tr>\n",
       "    <tr>\n",
       "      <th>4</th>\n",
       "      <td>536365</td>\n",
       "      <td>84029E</td>\n",
       "      <td>RED WOOLLY HOTTIE WHITE HEART.</td>\n",
       "      <td>6</td>\n",
       "      <td>2010-12-01 08:26:00</td>\n",
       "      <td>3.39</td>\n",
       "      <td>17850.0</td>\n",
       "      <td>United Kingdom</td>\n",
       "    </tr>\n",
       "    <tr>\n",
       "      <th>5</th>\n",
       "      <td>536365</td>\n",
       "      <td>22752</td>\n",
       "      <td>SET 7 BABUSHKA NESTING BOXES</td>\n",
       "      <td>2</td>\n",
       "      <td>2010-12-01 08:26:00</td>\n",
       "      <td>7.65</td>\n",
       "      <td>17850.0</td>\n",
       "      <td>United Kingdom</td>\n",
       "    </tr>\n",
       "    <tr>\n",
       "      <th>6</th>\n",
       "      <td>536365</td>\n",
       "      <td>21730</td>\n",
       "      <td>GLASS STAR FROSTED T-LIGHT HOLDER</td>\n",
       "      <td>6</td>\n",
       "      <td>2010-12-01 08:26:00</td>\n",
       "      <td>4.25</td>\n",
       "      <td>17850.0</td>\n",
       "      <td>United Kingdom</td>\n",
       "    </tr>\n",
       "    <tr>\n",
       "      <th>7</th>\n",
       "      <td>536366</td>\n",
       "      <td>22633</td>\n",
       "      <td>HAND WARMER UNION JACK</td>\n",
       "      <td>6</td>\n",
       "      <td>2010-12-01 08:28:00</td>\n",
       "      <td>1.85</td>\n",
       "      <td>17850.0</td>\n",
       "      <td>United Kingdom</td>\n",
       "    </tr>\n",
       "    <tr>\n",
       "      <th>8</th>\n",
       "      <td>536366</td>\n",
       "      <td>22632</td>\n",
       "      <td>HAND WARMER RED POLKA DOT</td>\n",
       "      <td>6</td>\n",
       "      <td>2010-12-01 08:28:00</td>\n",
       "      <td>1.85</td>\n",
       "      <td>17850.0</td>\n",
       "      <td>United Kingdom</td>\n",
       "    </tr>\n",
       "    <tr>\n",
       "      <th>9</th>\n",
       "      <td>536367</td>\n",
       "      <td>84879</td>\n",
       "      <td>ASSORTED COLOUR BIRD ORNAMENT</td>\n",
       "      <td>32</td>\n",
       "      <td>2010-12-01 08:34:00</td>\n",
       "      <td>1.69</td>\n",
       "      <td>13047.0</td>\n",
       "      <td>United Kingdom</td>\n",
       "    </tr>\n",
       "  </tbody>\n",
       "</table>\n",
       "</div>"
      ],
      "text/plain": [
       "  invoice_no stock_code                          description  quantity  \\\n",
       "0     536365     85123A   WHITE HANGING HEART T-LIGHT HOLDER         6   \n",
       "1     536365      71053                  WHITE METAL LANTERN         6   \n",
       "2     536365     84406B       CREAM CUPID HEARTS COAT HANGER         8   \n",
       "3     536365     84029G  KNITTED UNION FLAG HOT WATER BOTTLE         6   \n",
       "4     536365     84029E       RED WOOLLY HOTTIE WHITE HEART.         6   \n",
       "5     536365      22752         SET 7 BABUSHKA NESTING BOXES         2   \n",
       "6     536365      21730    GLASS STAR FROSTED T-LIGHT HOLDER         6   \n",
       "7     536366      22633               HAND WARMER UNION JACK         6   \n",
       "8     536366      22632            HAND WARMER RED POLKA DOT         6   \n",
       "9     536367      84879        ASSORTED COLOUR BIRD ORNAMENT        32   \n",
       "\n",
       "         invoice_date  unitprice  customer_id         country  \n",
       "0 2010-12-01 08:26:00       2.55      17850.0  United Kingdom  \n",
       "1 2010-12-01 08:26:00       3.39      17850.0  United Kingdom  \n",
       "2 2010-12-01 08:26:00       2.75      17850.0  United Kingdom  \n",
       "3 2010-12-01 08:26:00       3.39      17850.0  United Kingdom  \n",
       "4 2010-12-01 08:26:00       3.39      17850.0  United Kingdom  \n",
       "5 2010-12-01 08:26:00       7.65      17850.0  United Kingdom  \n",
       "6 2010-12-01 08:26:00       4.25      17850.0  United Kingdom  \n",
       "7 2010-12-01 08:28:00       1.85      17850.0  United Kingdom  \n",
       "8 2010-12-01 08:28:00       1.85      17850.0  United Kingdom  \n",
       "9 2010-12-01 08:34:00       1.69      13047.0  United Kingdom  "
      ]
     },
     "execution_count": 857,
     "metadata": {},
     "output_type": "execute_result"
    }
   ],
   "source": [
    "select(sql, engine)"
   ]
  },
  {
   "cell_type": "markdown",
   "id": "8afac525-ae51-4653-a04e-de7cd9c5c631",
   "metadata": {},
   "source": [
    "## Generate generate date range\n"
   ]
  },
  {
   "cell_type": "code",
   "execution_count": 870,
   "id": "5d62e7e2-5c24-41e4-b3bb-d1f08b780328",
   "metadata": {},
   "outputs": [],
   "source": [
    "#cгенерируем диапазон дат\n",
    "sql = ''' select * from ecommerce t\n",
    "where t.invoice_date > '2010-12-01'\n",
    "'''"
   ]
  },
  {
   "cell_type": "code",
   "execution_count": 871,
   "id": "de7344ab-2d3d-4c7e-9d74-da4abb139b5b",
   "metadata": {},
   "outputs": [
    {
     "data": {
      "text/html": [
       "<div>\n",
       "<style scoped>\n",
       "    .dataframe tbody tr th:only-of-type {\n",
       "        vertical-align: middle;\n",
       "    }\n",
       "\n",
       "    .dataframe tbody tr th {\n",
       "        vertical-align: top;\n",
       "    }\n",
       "\n",
       "    .dataframe thead th {\n",
       "        text-align: right;\n",
       "    }\n",
       "</style>\n",
       "<table border=\"1\" class=\"dataframe\">\n",
       "  <thead>\n",
       "    <tr style=\"text-align: right;\">\n",
       "      <th></th>\n",
       "      <th>invoice_no</th>\n",
       "      <th>stock_code</th>\n",
       "      <th>description</th>\n",
       "      <th>quantity</th>\n",
       "      <th>invoice_date</th>\n",
       "      <th>unitprice</th>\n",
       "      <th>customer_id</th>\n",
       "      <th>country</th>\n",
       "    </tr>\n",
       "  </thead>\n",
       "  <tbody>\n",
       "    <tr>\n",
       "      <th>0</th>\n",
       "      <td>536365</td>\n",
       "      <td>85123A</td>\n",
       "      <td>WHITE HANGING HEART T-LIGHT HOLDER</td>\n",
       "      <td>6</td>\n",
       "      <td>2010-12-01 08:26:00</td>\n",
       "      <td>2.55</td>\n",
       "      <td>17850.0</td>\n",
       "      <td>United Kingdom</td>\n",
       "    </tr>\n",
       "    <tr>\n",
       "      <th>1</th>\n",
       "      <td>536365</td>\n",
       "      <td>71053</td>\n",
       "      <td>WHITE METAL LANTERN</td>\n",
       "      <td>6</td>\n",
       "      <td>2010-12-01 08:26:00</td>\n",
       "      <td>3.39</td>\n",
       "      <td>17850.0</td>\n",
       "      <td>United Kingdom</td>\n",
       "    </tr>\n",
       "    <tr>\n",
       "      <th>2</th>\n",
       "      <td>536365</td>\n",
       "      <td>84406B</td>\n",
       "      <td>CREAM CUPID HEARTS COAT HANGER</td>\n",
       "      <td>8</td>\n",
       "      <td>2010-12-01 08:26:00</td>\n",
       "      <td>2.75</td>\n",
       "      <td>17850.0</td>\n",
       "      <td>United Kingdom</td>\n",
       "    </tr>\n",
       "    <tr>\n",
       "      <th>3</th>\n",
       "      <td>536365</td>\n",
       "      <td>84029G</td>\n",
       "      <td>KNITTED UNION FLAG HOT WATER BOTTLE</td>\n",
       "      <td>6</td>\n",
       "      <td>2010-12-01 08:26:00</td>\n",
       "      <td>3.39</td>\n",
       "      <td>17850.0</td>\n",
       "      <td>United Kingdom</td>\n",
       "    </tr>\n",
       "    <tr>\n",
       "      <th>4</th>\n",
       "      <td>536365</td>\n",
       "      <td>84029E</td>\n",
       "      <td>RED WOOLLY HOTTIE WHITE HEART.</td>\n",
       "      <td>6</td>\n",
       "      <td>2010-12-01 08:26:00</td>\n",
       "      <td>3.39</td>\n",
       "      <td>17850.0</td>\n",
       "      <td>United Kingdom</td>\n",
       "    </tr>\n",
       "    <tr>\n",
       "      <th>...</th>\n",
       "      <td>...</td>\n",
       "      <td>...</td>\n",
       "      <td>...</td>\n",
       "      <td>...</td>\n",
       "      <td>...</td>\n",
       "      <td>...</td>\n",
       "      <td>...</td>\n",
       "      <td>...</td>\n",
       "    </tr>\n",
       "    <tr>\n",
       "      <th>541904</th>\n",
       "      <td>581587</td>\n",
       "      <td>22613</td>\n",
       "      <td>PACK OF 20 SPACEBOY NAPKINS</td>\n",
       "      <td>12</td>\n",
       "      <td>2011-12-09 12:50:00</td>\n",
       "      <td>0.85</td>\n",
       "      <td>12680.0</td>\n",
       "      <td>France</td>\n",
       "    </tr>\n",
       "    <tr>\n",
       "      <th>541905</th>\n",
       "      <td>581587</td>\n",
       "      <td>22899</td>\n",
       "      <td>CHILDREN'S APRON DOLLY GIRL</td>\n",
       "      <td>6</td>\n",
       "      <td>2011-12-09 12:50:00</td>\n",
       "      <td>2.10</td>\n",
       "      <td>12680.0</td>\n",
       "      <td>France</td>\n",
       "    </tr>\n",
       "    <tr>\n",
       "      <th>541906</th>\n",
       "      <td>581587</td>\n",
       "      <td>23254</td>\n",
       "      <td>CHILDRENS CUTLERY DOLLY GIRL</td>\n",
       "      <td>4</td>\n",
       "      <td>2011-12-09 12:50:00</td>\n",
       "      <td>4.15</td>\n",
       "      <td>12680.0</td>\n",
       "      <td>France</td>\n",
       "    </tr>\n",
       "    <tr>\n",
       "      <th>541907</th>\n",
       "      <td>581587</td>\n",
       "      <td>23255</td>\n",
       "      <td>CHILDRENS CUTLERY CIRCUS PARADE</td>\n",
       "      <td>4</td>\n",
       "      <td>2011-12-09 12:50:00</td>\n",
       "      <td>4.15</td>\n",
       "      <td>12680.0</td>\n",
       "      <td>France</td>\n",
       "    </tr>\n",
       "    <tr>\n",
       "      <th>541908</th>\n",
       "      <td>581587</td>\n",
       "      <td>22138</td>\n",
       "      <td>BAKING SET 9 PIECE RETROSPOT</td>\n",
       "      <td>3</td>\n",
       "      <td>2011-12-09 12:50:00</td>\n",
       "      <td>4.95</td>\n",
       "      <td>12680.0</td>\n",
       "      <td>France</td>\n",
       "    </tr>\n",
       "  </tbody>\n",
       "</table>\n",
       "<p>541909 rows × 8 columns</p>\n",
       "</div>"
      ],
      "text/plain": [
       "       invoice_no stock_code                          description  quantity  \\\n",
       "0          536365     85123A   WHITE HANGING HEART T-LIGHT HOLDER         6   \n",
       "1          536365      71053                  WHITE METAL LANTERN         6   \n",
       "2          536365     84406B       CREAM CUPID HEARTS COAT HANGER         8   \n",
       "3          536365     84029G  KNITTED UNION FLAG HOT WATER BOTTLE         6   \n",
       "4          536365     84029E       RED WOOLLY HOTTIE WHITE HEART.         6   \n",
       "...           ...        ...                                  ...       ...   \n",
       "541904     581587      22613          PACK OF 20 SPACEBOY NAPKINS        12   \n",
       "541905     581587      22899         CHILDREN'S APRON DOLLY GIRL          6   \n",
       "541906     581587      23254        CHILDRENS CUTLERY DOLLY GIRL          4   \n",
       "541907     581587      23255      CHILDRENS CUTLERY CIRCUS PARADE         4   \n",
       "541908     581587      22138        BAKING SET 9 PIECE RETROSPOT          3   \n",
       "\n",
       "              invoice_date  unitprice  customer_id         country  \n",
       "0      2010-12-01 08:26:00       2.55      17850.0  United Kingdom  \n",
       "1      2010-12-01 08:26:00       3.39      17850.0  United Kingdom  \n",
       "2      2010-12-01 08:26:00       2.75      17850.0  United Kingdom  \n",
       "3      2010-12-01 08:26:00       3.39      17850.0  United Kingdom  \n",
       "4      2010-12-01 08:26:00       3.39      17850.0  United Kingdom  \n",
       "...                    ...        ...          ...             ...  \n",
       "541904 2011-12-09 12:50:00       0.85      12680.0          France  \n",
       "541905 2011-12-09 12:50:00       2.10      12680.0          France  \n",
       "541906 2011-12-09 12:50:00       4.15      12680.0          France  \n",
       "541907 2011-12-09 12:50:00       4.15      12680.0          France  \n",
       "541908 2011-12-09 12:50:00       4.95      12680.0          France  \n",
       "\n",
       "[541909 rows x 8 columns]"
      ]
     },
     "execution_count": 871,
     "metadata": {},
     "output_type": "execute_result"
    }
   ],
   "source": [
    "select(sql, engine)"
   ]
  },
  {
   "cell_type": "code",
   "execution_count": 872,
   "id": "74c8099c-c9ac-46c0-b37f-63d5feec7503",
   "metadata": {},
   "outputs": [],
   "source": [
    "#Транкаем дату\n",
    "#SELECT date_trunc('month', now());\n",
    "sql = '''\n",
    "select\n",
    "date_trunc('month', now())\n",
    "'''"
   ]
  },
  {
   "cell_type": "code",
   "execution_count": 873,
   "id": "c8a64529-f2a6-4d78-8f5d-7c88af42db9d",
   "metadata": {},
   "outputs": [
    {
     "data": {
      "text/html": [
       "<div>\n",
       "<style scoped>\n",
       "    .dataframe tbody tr th:only-of-type {\n",
       "        vertical-align: middle;\n",
       "    }\n",
       "\n",
       "    .dataframe tbody tr th {\n",
       "        vertical-align: top;\n",
       "    }\n",
       "\n",
       "    .dataframe thead th {\n",
       "        text-align: right;\n",
       "    }\n",
       "</style>\n",
       "<table border=\"1\" class=\"dataframe\">\n",
       "  <thead>\n",
       "    <tr style=\"text-align: right;\">\n",
       "      <th></th>\n",
       "      <th>date_trunc</th>\n",
       "    </tr>\n",
       "  </thead>\n",
       "  <tbody>\n",
       "    <tr>\n",
       "      <th>0</th>\n",
       "      <td>2022-12-01 00:00:00+00:00</td>\n",
       "    </tr>\n",
       "  </tbody>\n",
       "</table>\n",
       "</div>"
      ],
      "text/plain": [
       "                 date_trunc\n",
       "0 2022-12-01 00:00:00+00:00"
      ]
     },
     "execution_count": 873,
     "metadata": {},
     "output_type": "execute_result"
    }
   ],
   "source": [
    "select(sql, engine)"
   ]
  },
  {
   "cell_type": "code",
   "execution_count": 874,
   "id": "dae2c3cd-7880-4d72-a66b-7c6d839810d7",
   "metadata": {},
   "outputs": [],
   "source": [
    "sql = '''\n",
    "SELECT \n",
    "    now()::date AS \"Current Date\",\n",
    "    date_trunc('month', now())::date AS \"Start of Month\";\n",
    "'''"
   ]
  },
  {
   "cell_type": "code",
   "execution_count": 875,
   "id": "a3039be3-39e1-4ad0-9eb5-b74b137d28c8",
   "metadata": {},
   "outputs": [
    {
     "data": {
      "text/html": [
       "<div>\n",
       "<style scoped>\n",
       "    .dataframe tbody tr th:only-of-type {\n",
       "        vertical-align: middle;\n",
       "    }\n",
       "\n",
       "    .dataframe tbody tr th {\n",
       "        vertical-align: top;\n",
       "    }\n",
       "\n",
       "    .dataframe thead th {\n",
       "        text-align: right;\n",
       "    }\n",
       "</style>\n",
       "<table border=\"1\" class=\"dataframe\">\n",
       "  <thead>\n",
       "    <tr style=\"text-align: right;\">\n",
       "      <th></th>\n",
       "      <th>Current Date</th>\n",
       "      <th>Start of Month</th>\n",
       "    </tr>\n",
       "  </thead>\n",
       "  <tbody>\n",
       "    <tr>\n",
       "      <th>0</th>\n",
       "      <td>2022-12-26</td>\n",
       "      <td>2022-12-01</td>\n",
       "    </tr>\n",
       "  </tbody>\n",
       "</table>\n",
       "</div>"
      ],
      "text/plain": [
       "  Current Date Start of Month\n",
       "0   2022-12-26     2022-12-01"
      ]
     },
     "execution_count": 875,
     "metadata": {},
     "output_type": "execute_result"
    }
   ],
   "source": [
    "select(sql, engine)"
   ]
  },
  {
   "cell_type": "code",
   "execution_count": 878,
   "id": "f4fd5bf0-e3f9-445c-8120-15bab6160bab",
   "metadata": {},
   "outputs": [],
   "source": [
    "#cгенерируем диапазон дат\n",
    "sql = ''' select\n",
    "t.invoice_date,\n",
    "date_trunc('month', t.invoice_date) as month\n",
    " from ecommerce t\n",
    " limit 100\n",
    "'''"
   ]
  },
  {
   "cell_type": "code",
   "execution_count": 879,
   "id": "ca8a008c-5111-434d-a2fa-b5150a9204ce",
   "metadata": {},
   "outputs": [
    {
     "data": {
      "text/html": [
       "<div>\n",
       "<style scoped>\n",
       "    .dataframe tbody tr th:only-of-type {\n",
       "        vertical-align: middle;\n",
       "    }\n",
       "\n",
       "    .dataframe tbody tr th {\n",
       "        vertical-align: top;\n",
       "    }\n",
       "\n",
       "    .dataframe thead th {\n",
       "        text-align: right;\n",
       "    }\n",
       "</style>\n",
       "<table border=\"1\" class=\"dataframe\">\n",
       "  <thead>\n",
       "    <tr style=\"text-align: right;\">\n",
       "      <th></th>\n",
       "      <th>invoice_date</th>\n",
       "      <th>month</th>\n",
       "    </tr>\n",
       "  </thead>\n",
       "  <tbody>\n",
       "    <tr>\n",
       "      <th>0</th>\n",
       "      <td>2010-12-01 08:26:00</td>\n",
       "      <td>2010-12-01</td>\n",
       "    </tr>\n",
       "    <tr>\n",
       "      <th>1</th>\n",
       "      <td>2010-12-01 08:26:00</td>\n",
       "      <td>2010-12-01</td>\n",
       "    </tr>\n",
       "    <tr>\n",
       "      <th>2</th>\n",
       "      <td>2010-12-01 08:26:00</td>\n",
       "      <td>2010-12-01</td>\n",
       "    </tr>\n",
       "    <tr>\n",
       "      <th>3</th>\n",
       "      <td>2010-12-01 08:26:00</td>\n",
       "      <td>2010-12-01</td>\n",
       "    </tr>\n",
       "    <tr>\n",
       "      <th>4</th>\n",
       "      <td>2010-12-01 08:26:00</td>\n",
       "      <td>2010-12-01</td>\n",
       "    </tr>\n",
       "    <tr>\n",
       "      <th>...</th>\n",
       "      <td>...</td>\n",
       "      <td>...</td>\n",
       "    </tr>\n",
       "    <tr>\n",
       "      <th>95</th>\n",
       "      <td>2010-12-01 09:37:00</td>\n",
       "      <td>2010-12-01</td>\n",
       "    </tr>\n",
       "    <tr>\n",
       "      <th>96</th>\n",
       "      <td>2010-12-01 09:37:00</td>\n",
       "      <td>2010-12-01</td>\n",
       "    </tr>\n",
       "    <tr>\n",
       "      <th>97</th>\n",
       "      <td>2010-12-01 09:37:00</td>\n",
       "      <td>2010-12-01</td>\n",
       "    </tr>\n",
       "    <tr>\n",
       "      <th>98</th>\n",
       "      <td>2010-12-01 09:37:00</td>\n",
       "      <td>2010-12-01</td>\n",
       "    </tr>\n",
       "    <tr>\n",
       "      <th>99</th>\n",
       "      <td>2010-12-01 09:37:00</td>\n",
       "      <td>2010-12-01</td>\n",
       "    </tr>\n",
       "  </tbody>\n",
       "</table>\n",
       "<p>100 rows × 2 columns</p>\n",
       "</div>"
      ],
      "text/plain": [
       "          invoice_date      month\n",
       "0  2010-12-01 08:26:00 2010-12-01\n",
       "1  2010-12-01 08:26:00 2010-12-01\n",
       "2  2010-12-01 08:26:00 2010-12-01\n",
       "3  2010-12-01 08:26:00 2010-12-01\n",
       "4  2010-12-01 08:26:00 2010-12-01\n",
       "..                 ...        ...\n",
       "95 2010-12-01 09:37:00 2010-12-01\n",
       "96 2010-12-01 09:37:00 2010-12-01\n",
       "97 2010-12-01 09:37:00 2010-12-01\n",
       "98 2010-12-01 09:37:00 2010-12-01\n",
       "99 2010-12-01 09:37:00 2010-12-01\n",
       "\n",
       "[100 rows x 2 columns]"
      ]
     },
     "execution_count": 879,
     "metadata": {},
     "output_type": "execute_result"
    }
   ],
   "source": [
    "select(sql, engine)"
   ]
  },
  {
   "cell_type": "code",
   "execution_count": 886,
   "id": "b42114e6-5676-45cf-bab2-c6dfd8d88b5f",
   "metadata": {},
   "outputs": [],
   "source": [
    "#ищем минимальную и максимальную даты\n",
    "sql = ''' select\n",
    "min(date_trunc('month', t.invoice_date)),\n",
    "max(date_trunc('month', t.invoice_date))\n",
    " from ecommerce t\n",
    " limit 100\n",
    "'''"
   ]
  },
  {
   "cell_type": "code",
   "execution_count": 887,
   "id": "576d919d-72bf-414e-b783-f4fba5a7f30c",
   "metadata": {},
   "outputs": [
    {
     "data": {
      "text/html": [
       "<div>\n",
       "<style scoped>\n",
       "    .dataframe tbody tr th:only-of-type {\n",
       "        vertical-align: middle;\n",
       "    }\n",
       "\n",
       "    .dataframe tbody tr th {\n",
       "        vertical-align: top;\n",
       "    }\n",
       "\n",
       "    .dataframe thead th {\n",
       "        text-align: right;\n",
       "    }\n",
       "</style>\n",
       "<table border=\"1\" class=\"dataframe\">\n",
       "  <thead>\n",
       "    <tr style=\"text-align: right;\">\n",
       "      <th></th>\n",
       "      <th>min</th>\n",
       "      <th>max</th>\n",
       "    </tr>\n",
       "  </thead>\n",
       "  <tbody>\n",
       "    <tr>\n",
       "      <th>0</th>\n",
       "      <td>2010-12-01</td>\n",
       "      <td>2011-12-01</td>\n",
       "    </tr>\n",
       "  </tbody>\n",
       "</table>\n",
       "</div>"
      ],
      "text/plain": [
       "         min        max\n",
       "0 2010-12-01 2011-12-01"
      ]
     },
     "execution_count": 887,
     "metadata": {},
     "output_type": "execute_result"
    }
   ],
   "source": [
    "select(sql, engine)"
   ]
  },
  {
   "cell_type": "code",
   "execution_count": 888,
   "id": "2d968b70-b9f7-4139-95f2-5f80b7e2ece9",
   "metadata": {},
   "outputs": [],
   "source": [
    "#Генерируем диапазон дат"
   ]
  },
  {
   "cell_type": "code",
   "execution_count": 894,
   "id": "7ecc0bf3-c006-4fd3-9a22-63c11743ac1d",
   "metadata": {},
   "outputs": [],
   "source": [
    "#ищем минимальную и максимальную даты\n",
    "sql = ''' SELECT date_trunc('day', dd):: date\n",
    "FROM generate_series\n",
    "        ( '2007-02-01'::timestamp \n",
    "        , '2008-04-01'::timestamp\n",
    "        , '1 day'::interval) dd\n",
    "'''"
   ]
  },
  {
   "cell_type": "code",
   "execution_count": 893,
   "id": "83c24e50-802e-4cd7-a15a-c2d67ebcf19c",
   "metadata": {},
   "outputs": [
    {
     "data": {
      "text/html": [
       "<div>\n",
       "<style scoped>\n",
       "    .dataframe tbody tr th:only-of-type {\n",
       "        vertical-align: middle;\n",
       "    }\n",
       "\n",
       "    .dataframe tbody tr th {\n",
       "        vertical-align: top;\n",
       "    }\n",
       "\n",
       "    .dataframe thead th {\n",
       "        text-align: right;\n",
       "    }\n",
       "</style>\n",
       "<table border=\"1\" class=\"dataframe\">\n",
       "  <thead>\n",
       "    <tr style=\"text-align: right;\">\n",
       "      <th></th>\n",
       "      <th>date_trunc</th>\n",
       "    </tr>\n",
       "  </thead>\n",
       "  <tbody>\n",
       "    <tr>\n",
       "      <th>0</th>\n",
       "      <td>2007-02-01</td>\n",
       "    </tr>\n",
       "    <tr>\n",
       "      <th>1</th>\n",
       "      <td>2007-03-01</td>\n",
       "    </tr>\n",
       "    <tr>\n",
       "      <th>2</th>\n",
       "      <td>2007-04-01</td>\n",
       "    </tr>\n",
       "    <tr>\n",
       "      <th>3</th>\n",
       "      <td>2007-05-01</td>\n",
       "    </tr>\n",
       "    <tr>\n",
       "      <th>4</th>\n",
       "      <td>2007-06-01</td>\n",
       "    </tr>\n",
       "    <tr>\n",
       "      <th>5</th>\n",
       "      <td>2007-07-01</td>\n",
       "    </tr>\n",
       "    <tr>\n",
       "      <th>6</th>\n",
       "      <td>2007-08-01</td>\n",
       "    </tr>\n",
       "    <tr>\n",
       "      <th>7</th>\n",
       "      <td>2007-09-01</td>\n",
       "    </tr>\n",
       "    <tr>\n",
       "      <th>8</th>\n",
       "      <td>2007-10-01</td>\n",
       "    </tr>\n",
       "    <tr>\n",
       "      <th>9</th>\n",
       "      <td>2007-11-01</td>\n",
       "    </tr>\n",
       "    <tr>\n",
       "      <th>10</th>\n",
       "      <td>2007-12-01</td>\n",
       "    </tr>\n",
       "    <tr>\n",
       "      <th>11</th>\n",
       "      <td>2008-01-01</td>\n",
       "    </tr>\n",
       "    <tr>\n",
       "      <th>12</th>\n",
       "      <td>2008-02-01</td>\n",
       "    </tr>\n",
       "    <tr>\n",
       "      <th>13</th>\n",
       "      <td>2008-03-01</td>\n",
       "    </tr>\n",
       "    <tr>\n",
       "      <th>14</th>\n",
       "      <td>2008-04-01</td>\n",
       "    </tr>\n",
       "  </tbody>\n",
       "</table>\n",
       "</div>"
      ],
      "text/plain": [
       "    date_trunc\n",
       "0   2007-02-01\n",
       "1   2007-03-01\n",
       "2   2007-04-01\n",
       "3   2007-05-01\n",
       "4   2007-06-01\n",
       "5   2007-07-01\n",
       "6   2007-08-01\n",
       "7   2007-09-01\n",
       "8   2007-10-01\n",
       "9   2007-11-01\n",
       "10  2007-12-01\n",
       "11  2008-01-01\n",
       "12  2008-02-01\n",
       "13  2008-03-01\n",
       "14  2008-04-01"
      ]
     },
     "execution_count": 893,
     "metadata": {},
     "output_type": "execute_result"
    }
   ],
   "source": [
    "select(sql, engine)"
   ]
  },
  {
   "cell_type": "code",
   "execution_count": 897,
   "id": "c2d2c1cc-ae47-44a0-937c-c7aa57f21595",
   "metadata": {},
   "outputs": [],
   "source": [
    "#ищем минимальную и максимальную даты\n",
    "sql = ''' select\n",
    "min(date_trunc('month', t.invoice_date))\n",
    " from ecommerce t\n",
    " limit 100\n",
    "'''\n",
    "select(sql, engine)"
   ]
  },
  {
   "cell_type": "code",
   "execution_count": 898,
   "id": "fbe0f797-07b3-4572-9cf8-c0ba848ebffd",
   "metadata": {},
   "outputs": [
    {
     "data": {
      "text/html": [
       "<div>\n",
       "<style scoped>\n",
       "    .dataframe tbody tr th:only-of-type {\n",
       "        vertical-align: middle;\n",
       "    }\n",
       "\n",
       "    .dataframe tbody tr th {\n",
       "        vertical-align: top;\n",
       "    }\n",
       "\n",
       "    .dataframe thead th {\n",
       "        text-align: right;\n",
       "    }\n",
       "</style>\n",
       "<table border=\"1\" class=\"dataframe\">\n",
       "  <thead>\n",
       "    <tr style=\"text-align: right;\">\n",
       "      <th></th>\n",
       "      <th>min</th>\n",
       "    </tr>\n",
       "  </thead>\n",
       "  <tbody>\n",
       "    <tr>\n",
       "      <th>0</th>\n",
       "      <td>2010-12-01</td>\n",
       "    </tr>\n",
       "  </tbody>\n",
       "</table>\n",
       "</div>"
      ],
      "text/plain": [
       "         min\n",
       "0 2010-12-01"
      ]
     },
     "execution_count": 898,
     "metadata": {},
     "output_type": "execute_result"
    }
   ],
   "source": [
    "select(sql, engine)"
   ]
  },
  {
   "cell_type": "code",
   "execution_count": 906,
   "id": "e49a6951-4188-4d22-92cc-5b0cbc17fe55",
   "metadata": {},
   "outputs": [],
   "source": [
    "#генерируем от минимальной и до максимальной даты\n",
    "sql = ''' SELECT date_trunc('day', dd):: date as month\n",
    "FROM generate_series\n",
    "        ((select min(date_trunc('month', t.invoice_date)) from ecommerce t)\n",
    "        ,(select max(date_trunc('month', t.invoice_date)) from ecommerce t)\n",
    "        , '1 month'::interval) dd\n",
    "'''"
   ]
  },
  {
   "cell_type": "code",
   "execution_count": 907,
   "id": "f62a3555-c1dd-4471-b959-b606ae54414b",
   "metadata": {},
   "outputs": [
    {
     "data": {
      "text/html": [
       "<div>\n",
       "<style scoped>\n",
       "    .dataframe tbody tr th:only-of-type {\n",
       "        vertical-align: middle;\n",
       "    }\n",
       "\n",
       "    .dataframe tbody tr th {\n",
       "        vertical-align: top;\n",
       "    }\n",
       "\n",
       "    .dataframe thead th {\n",
       "        text-align: right;\n",
       "    }\n",
       "</style>\n",
       "<table border=\"1\" class=\"dataframe\">\n",
       "  <thead>\n",
       "    <tr style=\"text-align: right;\">\n",
       "      <th></th>\n",
       "      <th>month</th>\n",
       "    </tr>\n",
       "  </thead>\n",
       "  <tbody>\n",
       "    <tr>\n",
       "      <th>0</th>\n",
       "      <td>2010-12-01</td>\n",
       "    </tr>\n",
       "    <tr>\n",
       "      <th>1</th>\n",
       "      <td>2011-01-01</td>\n",
       "    </tr>\n",
       "    <tr>\n",
       "      <th>2</th>\n",
       "      <td>2011-02-01</td>\n",
       "    </tr>\n",
       "    <tr>\n",
       "      <th>3</th>\n",
       "      <td>2011-03-01</td>\n",
       "    </tr>\n",
       "    <tr>\n",
       "      <th>4</th>\n",
       "      <td>2011-04-01</td>\n",
       "    </tr>\n",
       "    <tr>\n",
       "      <th>5</th>\n",
       "      <td>2011-05-01</td>\n",
       "    </tr>\n",
       "    <tr>\n",
       "      <th>6</th>\n",
       "      <td>2011-06-01</td>\n",
       "    </tr>\n",
       "    <tr>\n",
       "      <th>7</th>\n",
       "      <td>2011-07-01</td>\n",
       "    </tr>\n",
       "    <tr>\n",
       "      <th>8</th>\n",
       "      <td>2011-08-01</td>\n",
       "    </tr>\n",
       "    <tr>\n",
       "      <th>9</th>\n",
       "      <td>2011-09-01</td>\n",
       "    </tr>\n",
       "    <tr>\n",
       "      <th>10</th>\n",
       "      <td>2011-10-01</td>\n",
       "    </tr>\n",
       "    <tr>\n",
       "      <th>11</th>\n",
       "      <td>2011-11-01</td>\n",
       "    </tr>\n",
       "    <tr>\n",
       "      <th>12</th>\n",
       "      <td>2011-12-01</td>\n",
       "    </tr>\n",
       "  </tbody>\n",
       "</table>\n",
       "</div>"
      ],
      "text/plain": [
       "         month\n",
       "0   2010-12-01\n",
       "1   2011-01-01\n",
       "2   2011-02-01\n",
       "3   2011-03-01\n",
       "4   2011-04-01\n",
       "5   2011-05-01\n",
       "6   2011-06-01\n",
       "7   2011-07-01\n",
       "8   2011-08-01\n",
       "9   2011-09-01\n",
       "10  2011-10-01\n",
       "11  2011-11-01\n",
       "12  2011-12-01"
      ]
     },
     "execution_count": 907,
     "metadata": {},
     "output_type": "execute_result"
    }
   ],
   "source": [
    "select(sql, engine)"
   ]
  },
  {
   "cell_type": "markdown",
   "id": "02bf76c1-6fe3-4e5a-aec8-63ee7368d2be",
   "metadata": {},
   "source": [
    "## Make user table"
   ]
  },
  {
   "cell_type": "code",
   "execution_count": 910,
   "id": "8ffc68fe-3dd7-4ad9-a190-90bc93592d77",
   "metadata": {},
   "outputs": [
    {
     "data": {
      "text/html": [
       "<div>\n",
       "<style scoped>\n",
       "    .dataframe tbody tr th:only-of-type {\n",
       "        vertical-align: middle;\n",
       "    }\n",
       "\n",
       "    .dataframe tbody tr th {\n",
       "        vertical-align: top;\n",
       "    }\n",
       "\n",
       "    .dataframe thead th {\n",
       "        text-align: right;\n",
       "    }\n",
       "</style>\n",
       "<table border=\"1\" class=\"dataframe\">\n",
       "  <thead>\n",
       "    <tr style=\"text-align: right;\">\n",
       "      <th></th>\n",
       "      <th>invoice_no</th>\n",
       "      <th>stock_code</th>\n",
       "      <th>description</th>\n",
       "      <th>quantity</th>\n",
       "      <th>invoice_date</th>\n",
       "      <th>unitprice</th>\n",
       "      <th>customer_id</th>\n",
       "      <th>country</th>\n",
       "    </tr>\n",
       "  </thead>\n",
       "  <tbody>\n",
       "    <tr>\n",
       "      <th>0</th>\n",
       "      <td>536365</td>\n",
       "      <td>85123A</td>\n",
       "      <td>WHITE HANGING HEART T-LIGHT HOLDER</td>\n",
       "      <td>6</td>\n",
       "      <td>2010-12-01 08:26:00</td>\n",
       "      <td>2.55</td>\n",
       "      <td>17850.0</td>\n",
       "      <td>United Kingdom</td>\n",
       "    </tr>\n",
       "    <tr>\n",
       "      <th>1</th>\n",
       "      <td>536365</td>\n",
       "      <td>71053</td>\n",
       "      <td>WHITE METAL LANTERN</td>\n",
       "      <td>6</td>\n",
       "      <td>2010-12-01 08:26:00</td>\n",
       "      <td>3.39</td>\n",
       "      <td>17850.0</td>\n",
       "      <td>United Kingdom</td>\n",
       "    </tr>\n",
       "    <tr>\n",
       "      <th>2</th>\n",
       "      <td>536365</td>\n",
       "      <td>84406B</td>\n",
       "      <td>CREAM CUPID HEARTS COAT HANGER</td>\n",
       "      <td>8</td>\n",
       "      <td>2010-12-01 08:26:00</td>\n",
       "      <td>2.75</td>\n",
       "      <td>17850.0</td>\n",
       "      <td>United Kingdom</td>\n",
       "    </tr>\n",
       "    <tr>\n",
       "      <th>3</th>\n",
       "      <td>536365</td>\n",
       "      <td>84029G</td>\n",
       "      <td>KNITTED UNION FLAG HOT WATER BOTTLE</td>\n",
       "      <td>6</td>\n",
       "      <td>2010-12-01 08:26:00</td>\n",
       "      <td>3.39</td>\n",
       "      <td>17850.0</td>\n",
       "      <td>United Kingdom</td>\n",
       "    </tr>\n",
       "    <tr>\n",
       "      <th>4</th>\n",
       "      <td>536365</td>\n",
       "      <td>84029E</td>\n",
       "      <td>RED WOOLLY HOTTIE WHITE HEART.</td>\n",
       "      <td>6</td>\n",
       "      <td>2010-12-01 08:26:00</td>\n",
       "      <td>3.39</td>\n",
       "      <td>17850.0</td>\n",
       "      <td>United Kingdom</td>\n",
       "    </tr>\n",
       "    <tr>\n",
       "      <th>...</th>\n",
       "      <td>...</td>\n",
       "      <td>...</td>\n",
       "      <td>...</td>\n",
       "      <td>...</td>\n",
       "      <td>...</td>\n",
       "      <td>...</td>\n",
       "      <td>...</td>\n",
       "      <td>...</td>\n",
       "    </tr>\n",
       "    <tr>\n",
       "      <th>95</th>\n",
       "      <td>536378</td>\n",
       "      <td>21559</td>\n",
       "      <td>STRAWBERRY LUNCH BOX WITH CUTLERY</td>\n",
       "      <td>6</td>\n",
       "      <td>2010-12-01 09:37:00</td>\n",
       "      <td>2.55</td>\n",
       "      <td>14688.0</td>\n",
       "      <td>United Kingdom</td>\n",
       "    </tr>\n",
       "    <tr>\n",
       "      <th>96</th>\n",
       "      <td>536378</td>\n",
       "      <td>22352</td>\n",
       "      <td>LUNCH BOX WITH CUTLERY RETROSPOT</td>\n",
       "      <td>6</td>\n",
       "      <td>2010-12-01 09:37:00</td>\n",
       "      <td>2.55</td>\n",
       "      <td>14688.0</td>\n",
       "      <td>United Kingdom</td>\n",
       "    </tr>\n",
       "    <tr>\n",
       "      <th>97</th>\n",
       "      <td>536378</td>\n",
       "      <td>21212</td>\n",
       "      <td>PACK OF 72 RETROSPOT CAKE CASES</td>\n",
       "      <td>120</td>\n",
       "      <td>2010-12-01 09:37:00</td>\n",
       "      <td>0.42</td>\n",
       "      <td>14688.0</td>\n",
       "      <td>United Kingdom</td>\n",
       "    </tr>\n",
       "    <tr>\n",
       "      <th>98</th>\n",
       "      <td>536378</td>\n",
       "      <td>21975</td>\n",
       "      <td>PACK OF 60 DINOSAUR CAKE CASES</td>\n",
       "      <td>24</td>\n",
       "      <td>2010-12-01 09:37:00</td>\n",
       "      <td>0.55</td>\n",
       "      <td>14688.0</td>\n",
       "      <td>United Kingdom</td>\n",
       "    </tr>\n",
       "    <tr>\n",
       "      <th>99</th>\n",
       "      <td>536378</td>\n",
       "      <td>21977</td>\n",
       "      <td>PACK OF 60 PINK PAISLEY CAKE CASES</td>\n",
       "      <td>24</td>\n",
       "      <td>2010-12-01 09:37:00</td>\n",
       "      <td>0.55</td>\n",
       "      <td>14688.0</td>\n",
       "      <td>United Kingdom</td>\n",
       "    </tr>\n",
       "  </tbody>\n",
       "</table>\n",
       "<p>100 rows × 8 columns</p>\n",
       "</div>"
      ],
      "text/plain": [
       "   invoice_no stock_code                          description  quantity  \\\n",
       "0      536365     85123A   WHITE HANGING HEART T-LIGHT HOLDER         6   \n",
       "1      536365      71053                  WHITE METAL LANTERN         6   \n",
       "2      536365     84406B       CREAM CUPID HEARTS COAT HANGER         8   \n",
       "3      536365     84029G  KNITTED UNION FLAG HOT WATER BOTTLE         6   \n",
       "4      536365     84029E       RED WOOLLY HOTTIE WHITE HEART.         6   \n",
       "..        ...        ...                                  ...       ...   \n",
       "95     536378      21559    STRAWBERRY LUNCH BOX WITH CUTLERY         6   \n",
       "96     536378      22352    LUNCH BOX WITH CUTLERY RETROSPOT          6   \n",
       "97     536378      21212      PACK OF 72 RETROSPOT CAKE CASES       120   \n",
       "98     536378      21975       PACK OF 60 DINOSAUR CAKE CASES        24   \n",
       "99     536378      21977   PACK OF 60 PINK PAISLEY CAKE CASES        24   \n",
       "\n",
       "          invoice_date  unitprice  customer_id         country  \n",
       "0  2010-12-01 08:26:00       2.55      17850.0  United Kingdom  \n",
       "1  2010-12-01 08:26:00       3.39      17850.0  United Kingdom  \n",
       "2  2010-12-01 08:26:00       2.75      17850.0  United Kingdom  \n",
       "3  2010-12-01 08:26:00       3.39      17850.0  United Kingdom  \n",
       "4  2010-12-01 08:26:00       3.39      17850.0  United Kingdom  \n",
       "..                 ...        ...          ...             ...  \n",
       "95 2010-12-01 09:37:00       2.55      14688.0  United Kingdom  \n",
       "96 2010-12-01 09:37:00       2.55      14688.0  United Kingdom  \n",
       "97 2010-12-01 09:37:00       0.42      14688.0  United Kingdom  \n",
       "98 2010-12-01 09:37:00       0.55      14688.0  United Kingdom  \n",
       "99 2010-12-01 09:37:00       0.55      14688.0  United Kingdom  \n",
       "\n",
       "[100 rows x 8 columns]"
      ]
     },
     "execution_count": 910,
     "metadata": {},
     "output_type": "execute_result"
    }
   ],
   "source": [
    "sql = '''select\n",
    "*\n",
    "from ecommerce t\n",
    " limit 100\n",
    "'''\n",
    "select(sql, engine)"
   ]
  },
  {
   "cell_type": "markdown",
   "id": "8930d69a-f841-4bdd-99ee-f535ec27308d",
   "metadata": {},
   "source": [
    "### fill in the missing values ​​with the number 1\n"
   ]
  },
  {
   "cell_type": "code",
   "execution_count": 912,
   "id": "2e6270cc-5e05-4a3a-8ead-1b3875783cfa",
   "metadata": {},
   "outputs": [
    {
     "data": {
      "text/html": [
       "<div>\n",
       "<style scoped>\n",
       "    .dataframe tbody tr th:only-of-type {\n",
       "        vertical-align: middle;\n",
       "    }\n",
       "\n",
       "    .dataframe tbody tr th {\n",
       "        vertical-align: top;\n",
       "    }\n",
       "\n",
       "    .dataframe thead th {\n",
       "        text-align: right;\n",
       "    }\n",
       "</style>\n",
       "<table border=\"1\" class=\"dataframe\">\n",
       "  <thead>\n",
       "    <tr style=\"text-align: right;\">\n",
       "      <th></th>\n",
       "      <th>invoice_no</th>\n",
       "      <th>stock_code</th>\n",
       "      <th>description</th>\n",
       "      <th>quantity</th>\n",
       "      <th>invoice_date</th>\n",
       "      <th>unitprice</th>\n",
       "      <th>customer_id</th>\n",
       "      <th>country</th>\n",
       "    </tr>\n",
       "  </thead>\n",
       "  <tbody>\n",
       "    <tr>\n",
       "      <th>0</th>\n",
       "      <td>536414</td>\n",
       "      <td>22139</td>\n",
       "      <td>None</td>\n",
       "      <td>56</td>\n",
       "      <td>2010-12-01 11:52:00</td>\n",
       "      <td>0.00</td>\n",
       "      <td>None</td>\n",
       "      <td>United Kingdom</td>\n",
       "    </tr>\n",
       "    <tr>\n",
       "      <th>1</th>\n",
       "      <td>536982</td>\n",
       "      <td>20963</td>\n",
       "      <td>APPLE BATH SPONGE</td>\n",
       "      <td>4</td>\n",
       "      <td>2010-12-03 14:27:00</td>\n",
       "      <td>2.51</td>\n",
       "      <td>None</td>\n",
       "      <td>United Kingdom</td>\n",
       "    </tr>\n",
       "    <tr>\n",
       "      <th>2</th>\n",
       "      <td>537240</td>\n",
       "      <td>22740</td>\n",
       "      <td>POLKADOT PEN</td>\n",
       "      <td>1</td>\n",
       "      <td>2010-12-06 10:08:00</td>\n",
       "      <td>1.66</td>\n",
       "      <td>None</td>\n",
       "      <td>United Kingdom</td>\n",
       "    </tr>\n",
       "    <tr>\n",
       "      <th>3</th>\n",
       "      <td>536544</td>\n",
       "      <td>21773</td>\n",
       "      <td>DECORATIVE ROSE BATHROOM BOTTLE</td>\n",
       "      <td>1</td>\n",
       "      <td>2010-12-01 14:32:00</td>\n",
       "      <td>2.51</td>\n",
       "      <td>None</td>\n",
       "      <td>United Kingdom</td>\n",
       "    </tr>\n",
       "    <tr>\n",
       "      <th>4</th>\n",
       "      <td>536544</td>\n",
       "      <td>21774</td>\n",
       "      <td>DECORATIVE CATS BATHROOM BOTTLE</td>\n",
       "      <td>2</td>\n",
       "      <td>2010-12-01 14:32:00</td>\n",
       "      <td>2.51</td>\n",
       "      <td>None</td>\n",
       "      <td>United Kingdom</td>\n",
       "    </tr>\n",
       "    <tr>\n",
       "      <th>...</th>\n",
       "      <td>...</td>\n",
       "      <td>...</td>\n",
       "      <td>...</td>\n",
       "      <td>...</td>\n",
       "      <td>...</td>\n",
       "      <td>...</td>\n",
       "      <td>...</td>\n",
       "      <td>...</td>\n",
       "    </tr>\n",
       "    <tr>\n",
       "      <th>95</th>\n",
       "      <td>536544</td>\n",
       "      <td>22198</td>\n",
       "      <td>LARGE POPCORN HOLDER</td>\n",
       "      <td>4</td>\n",
       "      <td>2010-12-01 14:32:00</td>\n",
       "      <td>3.36</td>\n",
       "      <td>None</td>\n",
       "      <td>United Kingdom</td>\n",
       "    </tr>\n",
       "    <tr>\n",
       "      <th>96</th>\n",
       "      <td>536544</td>\n",
       "      <td>22203</td>\n",
       "      <td>MILK PAN RED RETROSPOT</td>\n",
       "      <td>1</td>\n",
       "      <td>2010-12-01 14:32:00</td>\n",
       "      <td>7.62</td>\n",
       "      <td>None</td>\n",
       "      <td>United Kingdom</td>\n",
       "    </tr>\n",
       "    <tr>\n",
       "      <th>97</th>\n",
       "      <td>536544</td>\n",
       "      <td>22207</td>\n",
       "      <td>FRYING PAN UNION FLAG</td>\n",
       "      <td>1</td>\n",
       "      <td>2010-12-01 14:32:00</td>\n",
       "      <td>8.47</td>\n",
       "      <td>None</td>\n",
       "      <td>United Kingdom</td>\n",
       "    </tr>\n",
       "    <tr>\n",
       "      <th>98</th>\n",
       "      <td>536544</td>\n",
       "      <td>22219</td>\n",
       "      <td>LOVEBIRD HANGING DECORATION WHITE</td>\n",
       "      <td>3</td>\n",
       "      <td>2010-12-01 14:32:00</td>\n",
       "      <td>1.66</td>\n",
       "      <td>None</td>\n",
       "      <td>United Kingdom</td>\n",
       "    </tr>\n",
       "    <tr>\n",
       "      <th>99</th>\n",
       "      <td>536544</td>\n",
       "      <td>22224</td>\n",
       "      <td>WHITE LOVEBIRD LANTERN</td>\n",
       "      <td>1</td>\n",
       "      <td>2010-12-01 14:32:00</td>\n",
       "      <td>5.91</td>\n",
       "      <td>None</td>\n",
       "      <td>United Kingdom</td>\n",
       "    </tr>\n",
       "  </tbody>\n",
       "</table>\n",
       "<p>100 rows × 8 columns</p>\n",
       "</div>"
      ],
      "text/plain": [
       "   invoice_no stock_code                         description  quantity  \\\n",
       "0      536414      22139                                None        56   \n",
       "1      536982      20963                   APPLE BATH SPONGE         4   \n",
       "2      537240      22740                        POLKADOT PEN         1   \n",
       "3      536544      21773     DECORATIVE ROSE BATHROOM BOTTLE         1   \n",
       "4      536544      21774     DECORATIVE CATS BATHROOM BOTTLE         2   \n",
       "..        ...        ...                                 ...       ...   \n",
       "95     536544      22198               LARGE POPCORN HOLDER          4   \n",
       "96     536544      22203              MILK PAN RED RETROSPOT         1   \n",
       "97     536544      22207               FRYING PAN UNION FLAG         1   \n",
       "98     536544      22219  LOVEBIRD HANGING DECORATION WHITE          3   \n",
       "99     536544      22224              WHITE LOVEBIRD LANTERN         1   \n",
       "\n",
       "          invoice_date  unitprice customer_id         country  \n",
       "0  2010-12-01 11:52:00       0.00        None  United Kingdom  \n",
       "1  2010-12-03 14:27:00       2.51        None  United Kingdom  \n",
       "2  2010-12-06 10:08:00       1.66        None  United Kingdom  \n",
       "3  2010-12-01 14:32:00       2.51        None  United Kingdom  \n",
       "4  2010-12-01 14:32:00       2.51        None  United Kingdom  \n",
       "..                 ...        ...         ...             ...  \n",
       "95 2010-12-01 14:32:00       3.36        None  United Kingdom  \n",
       "96 2010-12-01 14:32:00       7.62        None  United Kingdom  \n",
       "97 2010-12-01 14:32:00       8.47        None  United Kingdom  \n",
       "98 2010-12-01 14:32:00       1.66        None  United Kingdom  \n",
       "99 2010-12-01 14:32:00       5.91        None  United Kingdom  \n",
       "\n",
       "[100 rows x 8 columns]"
      ]
     },
     "execution_count": 912,
     "metadata": {},
     "output_type": "execute_result"
    }
   ],
   "source": [
    "sql = '''select\n",
    "*\n",
    "from ecommerce t\n",
    "where customer_id is null\n",
    " limit 100\n",
    "'''\n",
    "select(sql, engine)"
   ]
  },
  {
   "cell_type": "code",
   "execution_count": 924,
   "id": "1d4e45fc-662c-42d4-b455-60804e13173e",
   "metadata": {},
   "outputs": [
    {
     "data": {
      "text/html": [
       "<div>\n",
       "<style scoped>\n",
       "    .dataframe tbody tr th:only-of-type {\n",
       "        vertical-align: middle;\n",
       "    }\n",
       "\n",
       "    .dataframe tbody tr th {\n",
       "        vertical-align: top;\n",
       "    }\n",
       "\n",
       "    .dataframe thead th {\n",
       "        text-align: right;\n",
       "    }\n",
       "</style>\n",
       "<table border=\"1\" class=\"dataframe\">\n",
       "  <thead>\n",
       "    <tr style=\"text-align: right;\">\n",
       "      <th></th>\n",
       "      <th>invoice_no</th>\n",
       "      <th>stock_code</th>\n",
       "      <th>description</th>\n",
       "      <th>quantity</th>\n",
       "      <th>invoice_date</th>\n",
       "      <th>unitprice</th>\n",
       "      <th>customer_id</th>\n",
       "      <th>country</th>\n",
       "    </tr>\n",
       "  </thead>\n",
       "  <tbody>\n",
       "    <tr>\n",
       "      <th>0</th>\n",
       "      <td>536982</td>\n",
       "      <td>20963</td>\n",
       "      <td>APPLE BATH SPONGE</td>\n",
       "      <td>4</td>\n",
       "      <td>2010-12-03 14:27:00</td>\n",
       "      <td>2.51</td>\n",
       "      <td>None</td>\n",
       "      <td>United Kingdom</td>\n",
       "    </tr>\n",
       "    <tr>\n",
       "      <th>1</th>\n",
       "      <td>536982</td>\n",
       "      <td>20676</td>\n",
       "      <td>RED RETROSPOT BOWL</td>\n",
       "      <td>1</td>\n",
       "      <td>2010-12-03 14:27:00</td>\n",
       "      <td>3.36</td>\n",
       "      <td>None</td>\n",
       "      <td>United Kingdom</td>\n",
       "    </tr>\n",
       "    <tr>\n",
       "      <th>2</th>\n",
       "      <td>536982</td>\n",
       "      <td>20711</td>\n",
       "      <td>JUMBO BAG TOYS</td>\n",
       "      <td>19</td>\n",
       "      <td>2010-12-03 14:27:00</td>\n",
       "      <td>4.21</td>\n",
       "      <td>None</td>\n",
       "      <td>United Kingdom</td>\n",
       "    </tr>\n",
       "    <tr>\n",
       "      <th>3</th>\n",
       "      <td>536982</td>\n",
       "      <td>20712</td>\n",
       "      <td>JUMBO BAG WOODLAND ANIMALS</td>\n",
       "      <td>10</td>\n",
       "      <td>2010-12-03 14:27:00</td>\n",
       "      <td>5.06</td>\n",
       "      <td>None</td>\n",
       "      <td>United Kingdom</td>\n",
       "    </tr>\n",
       "    <tr>\n",
       "      <th>4</th>\n",
       "      <td>536982</td>\n",
       "      <td>20717</td>\n",
       "      <td>STRAWBERRY SHOPPER BAG</td>\n",
       "      <td>3</td>\n",
       "      <td>2010-12-03 14:27:00</td>\n",
       "      <td>3.36</td>\n",
       "      <td>None</td>\n",
       "      <td>United Kingdom</td>\n",
       "    </tr>\n",
       "    <tr>\n",
       "      <th>...</th>\n",
       "      <td>...</td>\n",
       "      <td>...</td>\n",
       "      <td>...</td>\n",
       "      <td>...</td>\n",
       "      <td>...</td>\n",
       "      <td>...</td>\n",
       "      <td>...</td>\n",
       "      <td>...</td>\n",
       "    </tr>\n",
       "    <tr>\n",
       "      <th>95</th>\n",
       "      <td>536982</td>\n",
       "      <td>22652</td>\n",
       "      <td>TRAVEL SEWING KIT</td>\n",
       "      <td>8</td>\n",
       "      <td>2010-12-03 14:27:00</td>\n",
       "      <td>4.21</td>\n",
       "      <td>None</td>\n",
       "      <td>United Kingdom</td>\n",
       "    </tr>\n",
       "    <tr>\n",
       "      <th>96</th>\n",
       "      <td>536982</td>\n",
       "      <td>22654</td>\n",
       "      <td>DELUXE SEWING KIT</td>\n",
       "      <td>13</td>\n",
       "      <td>2010-12-03 14:27:00</td>\n",
       "      <td>12.72</td>\n",
       "      <td>None</td>\n",
       "      <td>United Kingdom</td>\n",
       "    </tr>\n",
       "    <tr>\n",
       "      <th>97</th>\n",
       "      <td>536982</td>\n",
       "      <td>22692</td>\n",
       "      <td>DOORMAT WELCOME TO OUR HOME</td>\n",
       "      <td>1</td>\n",
       "      <td>2010-12-03 14:27:00</td>\n",
       "      <td>16.98</td>\n",
       "      <td>None</td>\n",
       "      <td>United Kingdom</td>\n",
       "    </tr>\n",
       "    <tr>\n",
       "      <th>98</th>\n",
       "      <td>536982</td>\n",
       "      <td>22725</td>\n",
       "      <td>ALARM CLOCK BAKELIKE CHOCOLATE</td>\n",
       "      <td>1</td>\n",
       "      <td>2010-12-03 14:27:00</td>\n",
       "      <td>8.47</td>\n",
       "      <td>None</td>\n",
       "      <td>United Kingdom</td>\n",
       "    </tr>\n",
       "    <tr>\n",
       "      <th>99</th>\n",
       "      <td>536982</td>\n",
       "      <td>22726</td>\n",
       "      <td>ALARM CLOCK BAKELIKE GREEN</td>\n",
       "      <td>3</td>\n",
       "      <td>2010-12-03 14:27:00</td>\n",
       "      <td>8.47</td>\n",
       "      <td>None</td>\n",
       "      <td>United Kingdom</td>\n",
       "    </tr>\n",
       "  </tbody>\n",
       "</table>\n",
       "<p>100 rows × 8 columns</p>\n",
       "</div>"
      ],
      "text/plain": [
       "   invoice_no stock_code                     description  quantity  \\\n",
       "0      536982      20963               APPLE BATH SPONGE         4   \n",
       "1      536982      20676              RED RETROSPOT BOWL         1   \n",
       "2      536982      20711                 JUMBO BAG TOYS         19   \n",
       "3      536982      20712      JUMBO BAG WOODLAND ANIMALS        10   \n",
       "4      536982      20717          STRAWBERRY SHOPPER BAG         3   \n",
       "..        ...        ...                             ...       ...   \n",
       "95     536982      22652               TRAVEL SEWING KIT         8   \n",
       "96     536982      22654              DELUXE SEWING KIT         13   \n",
       "97     536982      22692     DOORMAT WELCOME TO OUR HOME         1   \n",
       "98     536982      22725  ALARM CLOCK BAKELIKE CHOCOLATE         1   \n",
       "99     536982      22726      ALARM CLOCK BAKELIKE GREEN         3   \n",
       "\n",
       "          invoice_date  unitprice customer_id         country  \n",
       "0  2010-12-03 14:27:00       2.51        None  United Kingdom  \n",
       "1  2010-12-03 14:27:00       3.36        None  United Kingdom  \n",
       "2  2010-12-03 14:27:00       4.21        None  United Kingdom  \n",
       "3  2010-12-03 14:27:00       5.06        None  United Kingdom  \n",
       "4  2010-12-03 14:27:00       3.36        None  United Kingdom  \n",
       "..                 ...        ...         ...             ...  \n",
       "95 2010-12-03 14:27:00       4.21        None  United Kingdom  \n",
       "96 2010-12-03 14:27:00      12.72        None  United Kingdom  \n",
       "97 2010-12-03 14:27:00      16.98        None  United Kingdom  \n",
       "98 2010-12-03 14:27:00       8.47        None  United Kingdom  \n",
       "99 2010-12-03 14:27:00       8.47        None  United Kingdom  \n",
       "\n",
       "[100 rows x 8 columns]"
      ]
     },
     "execution_count": 924,
     "metadata": {},
     "output_type": "execute_result"
    }
   ],
   "source": [
    "#536982\n",
    "sql = '''select\n",
    "t.*\n",
    "from ecommerce t\n",
    "where invoice_no = '536982'\n",
    " limit 100\n",
    "'''\n",
    "select(sql, engine)"
   ]
  },
  {
   "cell_type": "code",
   "execution_count": 920,
   "id": "0a4202bf-5517-4b57-b4cf-39b6f872c87e",
   "metadata": {},
   "outputs": [
    {
     "data": {
      "text/html": [
       "<div>\n",
       "<style scoped>\n",
       "    .dataframe tbody tr th:only-of-type {\n",
       "        vertical-align: middle;\n",
       "    }\n",
       "\n",
       "    .dataframe tbody tr th {\n",
       "        vertical-align: top;\n",
       "    }\n",
       "\n",
       "    .dataframe thead th {\n",
       "        text-align: right;\n",
       "    }\n",
       "</style>\n",
       "<table border=\"1\" class=\"dataframe\">\n",
       "  <thead>\n",
       "    <tr style=\"text-align: right;\">\n",
       "      <th></th>\n",
       "      <th>invoice_no</th>\n",
       "      <th>stock_code</th>\n",
       "      <th>description</th>\n",
       "      <th>quantity</th>\n",
       "      <th>invoice_date</th>\n",
       "      <th>unitprice</th>\n",
       "      <th>customer_id</th>\n",
       "      <th>country</th>\n",
       "      <th>customer_id</th>\n",
       "      <th>month</th>\n",
       "    </tr>\n",
       "  </thead>\n",
       "  <tbody>\n",
       "    <tr>\n",
       "      <th>0</th>\n",
       "      <td>536982</td>\n",
       "      <td>20963</td>\n",
       "      <td>APPLE BATH SPONGE</td>\n",
       "      <td>4</td>\n",
       "      <td>2010-12-03 14:27:00</td>\n",
       "      <td>2.51</td>\n",
       "      <td>None</td>\n",
       "      <td>United Kingdom</td>\n",
       "      <td>-1.0</td>\n",
       "      <td>2010-12-01</td>\n",
       "    </tr>\n",
       "    <tr>\n",
       "      <th>1</th>\n",
       "      <td>537240</td>\n",
       "      <td>22740</td>\n",
       "      <td>POLKADOT PEN</td>\n",
       "      <td>1</td>\n",
       "      <td>2010-12-06 10:08:00</td>\n",
       "      <td>1.66</td>\n",
       "      <td>None</td>\n",
       "      <td>United Kingdom</td>\n",
       "      <td>-1.0</td>\n",
       "      <td>2010-12-01</td>\n",
       "    </tr>\n",
       "    <tr>\n",
       "      <th>2</th>\n",
       "      <td>536544</td>\n",
       "      <td>21773</td>\n",
       "      <td>DECORATIVE ROSE BATHROOM BOTTLE</td>\n",
       "      <td>1</td>\n",
       "      <td>2010-12-01 14:32:00</td>\n",
       "      <td>2.51</td>\n",
       "      <td>None</td>\n",
       "      <td>United Kingdom</td>\n",
       "      <td>-1.0</td>\n",
       "      <td>2010-12-01</td>\n",
       "    </tr>\n",
       "    <tr>\n",
       "      <th>3</th>\n",
       "      <td>536544</td>\n",
       "      <td>21774</td>\n",
       "      <td>DECORATIVE CATS BATHROOM BOTTLE</td>\n",
       "      <td>2</td>\n",
       "      <td>2010-12-01 14:32:00</td>\n",
       "      <td>2.51</td>\n",
       "      <td>None</td>\n",
       "      <td>United Kingdom</td>\n",
       "      <td>-1.0</td>\n",
       "      <td>2010-12-01</td>\n",
       "    </tr>\n",
       "    <tr>\n",
       "      <th>4</th>\n",
       "      <td>536544</td>\n",
       "      <td>21786</td>\n",
       "      <td>POLKADOT RAIN HAT</td>\n",
       "      <td>4</td>\n",
       "      <td>2010-12-01 14:32:00</td>\n",
       "      <td>0.85</td>\n",
       "      <td>None</td>\n",
       "      <td>United Kingdom</td>\n",
       "      <td>-1.0</td>\n",
       "      <td>2010-12-01</td>\n",
       "    </tr>\n",
       "    <tr>\n",
       "      <th>...</th>\n",
       "      <td>...</td>\n",
       "      <td>...</td>\n",
       "      <td>...</td>\n",
       "      <td>...</td>\n",
       "      <td>...</td>\n",
       "      <td>...</td>\n",
       "      <td>...</td>\n",
       "      <td>...</td>\n",
       "      <td>...</td>\n",
       "      <td>...</td>\n",
       "    </tr>\n",
       "    <tr>\n",
       "      <th>95</th>\n",
       "      <td>536544</td>\n",
       "      <td>22203</td>\n",
       "      <td>MILK PAN RED RETROSPOT</td>\n",
       "      <td>1</td>\n",
       "      <td>2010-12-01 14:32:00</td>\n",
       "      <td>7.62</td>\n",
       "      <td>None</td>\n",
       "      <td>United Kingdom</td>\n",
       "      <td>-1.0</td>\n",
       "      <td>2010-12-01</td>\n",
       "    </tr>\n",
       "    <tr>\n",
       "      <th>96</th>\n",
       "      <td>536544</td>\n",
       "      <td>22207</td>\n",
       "      <td>FRYING PAN UNION FLAG</td>\n",
       "      <td>1</td>\n",
       "      <td>2010-12-01 14:32:00</td>\n",
       "      <td>8.47</td>\n",
       "      <td>None</td>\n",
       "      <td>United Kingdom</td>\n",
       "      <td>-1.0</td>\n",
       "      <td>2010-12-01</td>\n",
       "    </tr>\n",
       "    <tr>\n",
       "      <th>97</th>\n",
       "      <td>536544</td>\n",
       "      <td>22219</td>\n",
       "      <td>LOVEBIRD HANGING DECORATION WHITE</td>\n",
       "      <td>3</td>\n",
       "      <td>2010-12-01 14:32:00</td>\n",
       "      <td>1.66</td>\n",
       "      <td>None</td>\n",
       "      <td>United Kingdom</td>\n",
       "      <td>-1.0</td>\n",
       "      <td>2010-12-01</td>\n",
       "    </tr>\n",
       "    <tr>\n",
       "      <th>98</th>\n",
       "      <td>536544</td>\n",
       "      <td>22224</td>\n",
       "      <td>WHITE LOVEBIRD LANTERN</td>\n",
       "      <td>1</td>\n",
       "      <td>2010-12-01 14:32:00</td>\n",
       "      <td>5.91</td>\n",
       "      <td>None</td>\n",
       "      <td>United Kingdom</td>\n",
       "      <td>-1.0</td>\n",
       "      <td>2010-12-01</td>\n",
       "    </tr>\n",
       "    <tr>\n",
       "      <th>99</th>\n",
       "      <td>536544</td>\n",
       "      <td>22265</td>\n",
       "      <td>EASTER DECORATION NATURAL CHICK</td>\n",
       "      <td>2</td>\n",
       "      <td>2010-12-01 14:32:00</td>\n",
       "      <td>1.28</td>\n",
       "      <td>None</td>\n",
       "      <td>United Kingdom</td>\n",
       "      <td>-1.0</td>\n",
       "      <td>2010-12-01</td>\n",
       "    </tr>\n",
       "  </tbody>\n",
       "</table>\n",
       "<p>100 rows × 10 columns</p>\n",
       "</div>"
      ],
      "text/plain": [
       "   invoice_no stock_code                         description  quantity  \\\n",
       "0      536982      20963                   APPLE BATH SPONGE         4   \n",
       "1      537240      22740                        POLKADOT PEN         1   \n",
       "2      536544      21773     DECORATIVE ROSE BATHROOM BOTTLE         1   \n",
       "3      536544      21774     DECORATIVE CATS BATHROOM BOTTLE         2   \n",
       "4      536544      21786                  POLKADOT RAIN HAT          4   \n",
       "..        ...        ...                                 ...       ...   \n",
       "95     536544      22203              MILK PAN RED RETROSPOT         1   \n",
       "96     536544      22207               FRYING PAN UNION FLAG         1   \n",
       "97     536544      22219  LOVEBIRD HANGING DECORATION WHITE          3   \n",
       "98     536544      22224              WHITE LOVEBIRD LANTERN         1   \n",
       "99     536544      22265     EASTER DECORATION NATURAL CHICK         2   \n",
       "\n",
       "          invoice_date  unitprice  customer_id         country  customer_id  \\\n",
       "0  2010-12-03 14:27:00       2.51         None  United Kingdom         -1.0   \n",
       "1  2010-12-06 10:08:00       1.66         None  United Kingdom         -1.0   \n",
       "2  2010-12-01 14:32:00       2.51         None  United Kingdom         -1.0   \n",
       "3  2010-12-01 14:32:00       2.51         None  United Kingdom         -1.0   \n",
       "4  2010-12-01 14:32:00       0.85         None  United Kingdom         -1.0   \n",
       "..                 ...        ...          ...             ...          ...   \n",
       "95 2010-12-01 14:32:00       7.62         None  United Kingdom         -1.0   \n",
       "96 2010-12-01 14:32:00       8.47         None  United Kingdom         -1.0   \n",
       "97 2010-12-01 14:32:00       1.66         None  United Kingdom         -1.0   \n",
       "98 2010-12-01 14:32:00       5.91         None  United Kingdom         -1.0   \n",
       "99 2010-12-01 14:32:00       1.28         None  United Kingdom         -1.0   \n",
       "\n",
       "        month  \n",
       "0  2010-12-01  \n",
       "1  2010-12-01  \n",
       "2  2010-12-01  \n",
       "3  2010-12-01  \n",
       "4  2010-12-01  \n",
       "..        ...  \n",
       "95 2010-12-01  \n",
       "96 2010-12-01  \n",
       "97 2010-12-01  \n",
       "98 2010-12-01  \n",
       "99 2010-12-01  \n",
       "\n",
       "[100 rows x 10 columns]"
      ]
     },
     "execution_count": 920,
     "metadata": {},
     "output_type": "execute_result"
    }
   ],
   "source": [
    "#заполняем пропуски в customer_id\n",
    "sql = '''select\n",
    "t.*,\n",
    "case when t.customer_id is null then -1 else t.customer_id end as customer_id,\n",
    "date_trunc('month', t.invoice_date) as month\n",
    "from ecommerce t\n",
    "where customer_id is null\n",
    " limit 100\n",
    "'''\n",
    "select(sql, engine)"
   ]
  },
  {
   "cell_type": "code",
   "execution_count": null,
   "id": "0fc2011b-7888-4e8d-b26e-c7852516acbd",
   "metadata": {},
   "outputs": [],
   "source": []
  },
  {
   "cell_type": "code",
   "execution_count": 928,
   "id": "b9932cdb-949a-40f2-bbd8-640045baf85a",
   "metadata": {},
   "outputs": [
    {
     "data": {
      "text/html": [
       "<div>\n",
       "<style scoped>\n",
       "    .dataframe tbody tr th:only-of-type {\n",
       "        vertical-align: middle;\n",
       "    }\n",
       "\n",
       "    .dataframe tbody tr th {\n",
       "        vertical-align: top;\n",
       "    }\n",
       "\n",
       "    .dataframe thead th {\n",
       "        text-align: right;\n",
       "    }\n",
       "</style>\n",
       "<table border=\"1\" class=\"dataframe\">\n",
       "  <thead>\n",
       "    <tr style=\"text-align: right;\">\n",
       "      <th></th>\n",
       "      <th>customer_id</th>\n",
       "      <th>reg_month</th>\n",
       "      <th>reg_date</th>\n",
       "    </tr>\n",
       "  </thead>\n",
       "  <tbody>\n",
       "    <tr>\n",
       "      <th>0</th>\n",
       "      <td>-1.0</td>\n",
       "      <td>2010-12-01</td>\n",
       "      <td>2010-12-01 11:52:00</td>\n",
       "    </tr>\n",
       "    <tr>\n",
       "      <th>1</th>\n",
       "      <td>12346.0</td>\n",
       "      <td>2011-01-01</td>\n",
       "      <td>2011-01-18 10:01:00</td>\n",
       "    </tr>\n",
       "    <tr>\n",
       "      <th>2</th>\n",
       "      <td>12347.0</td>\n",
       "      <td>2010-12-01</td>\n",
       "      <td>2010-12-07 14:57:00</td>\n",
       "    </tr>\n",
       "    <tr>\n",
       "      <th>3</th>\n",
       "      <td>12348.0</td>\n",
       "      <td>2010-12-01</td>\n",
       "      <td>2010-12-16 19:09:00</td>\n",
       "    </tr>\n",
       "    <tr>\n",
       "      <th>4</th>\n",
       "      <td>12349.0</td>\n",
       "      <td>2011-11-01</td>\n",
       "      <td>2011-11-21 09:51:00</td>\n",
       "    </tr>\n",
       "    <tr>\n",
       "      <th>...</th>\n",
       "      <td>...</td>\n",
       "      <td>...</td>\n",
       "      <td>...</td>\n",
       "    </tr>\n",
       "    <tr>\n",
       "      <th>95</th>\n",
       "      <td>12461.0</td>\n",
       "      <td>2011-07-01</td>\n",
       "      <td>2011-07-08 10:23:00</td>\n",
       "    </tr>\n",
       "    <tr>\n",
       "      <th>96</th>\n",
       "      <td>12462.0</td>\n",
       "      <td>2011-02-01</td>\n",
       "      <td>2011-02-09 14:44:00</td>\n",
       "    </tr>\n",
       "    <tr>\n",
       "      <th>97</th>\n",
       "      <td>12463.0</td>\n",
       "      <td>2011-04-01</td>\n",
       "      <td>2011-04-12 12:47:00</td>\n",
       "    </tr>\n",
       "    <tr>\n",
       "      <th>98</th>\n",
       "      <td>12464.0</td>\n",
       "      <td>2011-02-01</td>\n",
       "      <td>2011-02-03 13:30:00</td>\n",
       "    </tr>\n",
       "    <tr>\n",
       "      <th>99</th>\n",
       "      <td>12465.0</td>\n",
       "      <td>2011-06-01</td>\n",
       "      <td>2011-06-23 13:37:00</td>\n",
       "    </tr>\n",
       "  </tbody>\n",
       "</table>\n",
       "<p>100 rows × 3 columns</p>\n",
       "</div>"
      ],
      "text/plain": [
       "    customer_id  reg_month            reg_date\n",
       "0          -1.0 2010-12-01 2010-12-01 11:52:00\n",
       "1       12346.0 2011-01-01 2011-01-18 10:01:00\n",
       "2       12347.0 2010-12-01 2010-12-07 14:57:00\n",
       "3       12348.0 2010-12-01 2010-12-16 19:09:00\n",
       "4       12349.0 2011-11-01 2011-11-21 09:51:00\n",
       "..          ...        ...                 ...\n",
       "95      12461.0 2011-07-01 2011-07-08 10:23:00\n",
       "96      12462.0 2011-02-01 2011-02-09 14:44:00\n",
       "97      12463.0 2011-04-01 2011-04-12 12:47:00\n",
       "98      12464.0 2011-02-01 2011-02-03 13:30:00\n",
       "99      12465.0 2011-06-01 2011-06-23 13:37:00\n",
       "\n",
       "[100 rows x 3 columns]"
      ]
     },
     "execution_count": 928,
     "metadata": {},
     "output_type": "execute_result"
    }
   ],
   "source": [
    "#находим минимальный месяц на каждого пользователя\n",
    "sql = '''select\n",
    "case when t.customer_id is null then -1 else t.customer_id end as customer_id,\n",
    "min(date_trunc('month', t.invoice_date)) as reg_month,\n",
    "min(t.invoice_date) as reg_date\n",
    "\n",
    "from ecommerce t\n",
    "group by\n",
    "case when t.customer_id is null then -1 else t.customer_id end\n",
    "\n",
    "\n",
    "limit 100\n",
    "'''\n",
    "select(sql, engine)"
   ]
  },
  {
   "cell_type": "markdown",
   "id": "365f1e83-09b9-41a3-aed6-eeceb53bd261",
   "metadata": {},
   "source": [
    "### Делаем проверку"
   ]
  },
  {
   "cell_type": "code",
   "execution_count": 937,
   "id": "aac49e41-9216-49b6-973e-67af69b52d99",
   "metadata": {},
   "outputs": [
    {
     "data": {
      "text/html": [
       "<div>\n",
       "<style scoped>\n",
       "    .dataframe tbody tr th:only-of-type {\n",
       "        vertical-align: middle;\n",
       "    }\n",
       "\n",
       "    .dataframe tbody tr th {\n",
       "        vertical-align: top;\n",
       "    }\n",
       "\n",
       "    .dataframe thead th {\n",
       "        text-align: right;\n",
       "    }\n",
       "</style>\n",
       "<table border=\"1\" class=\"dataframe\">\n",
       "  <thead>\n",
       "    <tr style=\"text-align: right;\">\n",
       "      <th></th>\n",
       "      <th>count</th>\n",
       "    </tr>\n",
       "  </thead>\n",
       "  <tbody>\n",
       "    <tr>\n",
       "      <th>0</th>\n",
       "      <td>4373</td>\n",
       "    </tr>\n",
       "  </tbody>\n",
       "</table>\n",
       "</div>"
      ],
      "text/plain": [
       "   count\n",
       "0   4373"
      ]
     },
     "execution_count": 937,
     "metadata": {},
     "output_type": "execute_result"
    }
   ],
   "source": [
    "#Делаем проверку\n",
    "#находим минимальный месяц на каждого пользователя\n",
    "sql = '''select\n",
    "count(distinct case when t.customer_id is null then -1 else t.customer_id end)\n",
    "from ecommerce t\n",
    "\n",
    "limit 100\n",
    "'''\n",
    "select(sql, engine)"
   ]
  },
  {
   "cell_type": "code",
   "execution_count": 938,
   "id": "82763a0f-ab38-41e6-9ec0-28ef8b89183f",
   "metadata": {},
   "outputs": [
    {
     "data": {
      "text/html": [
       "<div>\n",
       "<style scoped>\n",
       "    .dataframe tbody tr th:only-of-type {\n",
       "        vertical-align: middle;\n",
       "    }\n",
       "\n",
       "    .dataframe tbody tr th {\n",
       "        vertical-align: top;\n",
       "    }\n",
       "\n",
       "    .dataframe thead th {\n",
       "        text-align: right;\n",
       "    }\n",
       "</style>\n",
       "<table border=\"1\" class=\"dataframe\">\n",
       "  <thead>\n",
       "    <tr style=\"text-align: right;\">\n",
       "      <th></th>\n",
       "      <th>count</th>\n",
       "    </tr>\n",
       "  </thead>\n",
       "  <tbody>\n",
       "    <tr>\n",
       "      <th>0</th>\n",
       "      <td>4373</td>\n",
       "    </tr>\n",
       "  </tbody>\n",
       "</table>\n",
       "</div>"
      ],
      "text/plain": [
       "   count\n",
       "0   4373"
      ]
     },
     "execution_count": 938,
     "metadata": {},
     "output_type": "execute_result"
    }
   ],
   "source": [
    "#проверка проведена\n",
    "sql = '''\n",
    "with users as \n",
    "(\n",
    "select\n",
    "case when t.customer_id is null then -1 else t.customer_id end as customer_id,\n",
    "min(date_trunc('month', t.invoice_date)) as reg_month,\n",
    "min(t.invoice_date) as reg_date\n",
    "\n",
    "from ecommerce t\n",
    "group by\n",
    "case when t.customer_id is null then -1 else t.customer_id end\n",
    ")\n",
    "\n",
    "select count(distinct t.customer_id) from users t\n",
    "limit 5\n",
    "\n",
    "'''\n",
    "select(sql, engine)"
   ]
  },
  {
   "cell_type": "markdown",
   "id": "e6dedaf3-7d01-4ebe-84c2-38d19aa03362",
   "metadata": {},
   "source": [
    "## Cross join"
   ]
  },
  {
   "cell_type": "code",
   "execution_count": 953,
   "id": "1137751e-39c9-4b7f-9424-18d479c2dba4",
   "metadata": {},
   "outputs": [
    {
     "data": {
      "text/html": [
       "<div>\n",
       "<style scoped>\n",
       "    .dataframe tbody tr th:only-of-type {\n",
       "        vertical-align: middle;\n",
       "    }\n",
       "\n",
       "    .dataframe tbody tr th {\n",
       "        vertical-align: top;\n",
       "    }\n",
       "\n",
       "    .dataframe thead th {\n",
       "        text-align: right;\n",
       "    }\n",
       "</style>\n",
       "<table border=\"1\" class=\"dataframe\">\n",
       "  <thead>\n",
       "    <tr style=\"text-align: right;\">\n",
       "      <th></th>\n",
       "      <th>month</th>\n",
       "    </tr>\n",
       "  </thead>\n",
       "  <tbody>\n",
       "    <tr>\n",
       "      <th>0</th>\n",
       "      <td>2010-12-01</td>\n",
       "    </tr>\n",
       "    <tr>\n",
       "      <th>1</th>\n",
       "      <td>2011-01-01</td>\n",
       "    </tr>\n",
       "    <tr>\n",
       "      <th>2</th>\n",
       "      <td>2011-02-01</td>\n",
       "    </tr>\n",
       "    <tr>\n",
       "      <th>3</th>\n",
       "      <td>2011-03-01</td>\n",
       "    </tr>\n",
       "    <tr>\n",
       "      <th>4</th>\n",
       "      <td>2011-04-01</td>\n",
       "    </tr>\n",
       "    <tr>\n",
       "      <th>5</th>\n",
       "      <td>2011-05-01</td>\n",
       "    </tr>\n",
       "    <tr>\n",
       "      <th>6</th>\n",
       "      <td>2011-06-01</td>\n",
       "    </tr>\n",
       "    <tr>\n",
       "      <th>7</th>\n",
       "      <td>2011-07-01</td>\n",
       "    </tr>\n",
       "    <tr>\n",
       "      <th>8</th>\n",
       "      <td>2011-08-01</td>\n",
       "    </tr>\n",
       "    <tr>\n",
       "      <th>9</th>\n",
       "      <td>2011-09-01</td>\n",
       "    </tr>\n",
       "  </tbody>\n",
       "</table>\n",
       "</div>"
      ],
      "text/plain": [
       "        month\n",
       "0  2010-12-01\n",
       "1  2011-01-01\n",
       "2  2011-02-01\n",
       "3  2011-03-01\n",
       "4  2011-04-01\n",
       "5  2011-05-01\n",
       "6  2011-06-01\n",
       "7  2011-07-01\n",
       "8  2011-08-01\n",
       "9  2011-09-01"
      ]
     },
     "execution_count": 953,
     "metadata": {},
     "output_type": "execute_result"
    }
   ],
   "source": [
    "#проверка проведена\n",
    "sql = '''\n",
    "with users as \n",
    "(\n",
    "select\n",
    "case when t.customer_id is null then -1 else t.customer_id end as customer_id,\n",
    "min(date_trunc('month', t.invoice_date)) as reg_month,\n",
    "min(t.invoice_date) as reg_date\n",
    "\n",
    "from ecommerce t\n",
    "group by\n",
    "case when t.customer_id is null then -1 else t.customer_id end\n",
    "),\n",
    "dates as\n",
    "(\n",
    "SELECT date_trunc('day', dd):: date as month\n",
    "FROM generate_series\n",
    "        ((select min(date_trunc('month', t.invoice_date)) from ecommerce t)\n",
    "        ,(select max(date_trunc('month', t.invoice_date)) from ecommerce t)\n",
    "        , '1 month'::interval) dd\n",
    ")\n",
    "\n",
    "select * from dates t\n",
    "limit 10\n",
    "\n",
    "'''\n",
    "select(sql, engine)"
   ]
  },
  {
   "cell_type": "code",
   "execution_count": 957,
   "id": "4d5f2bf0-681b-4ed6-943b-a3f1c0691917",
   "metadata": {},
   "outputs": [
    {
     "data": {
      "text/html": [
       "<div>\n",
       "<style scoped>\n",
       "    .dataframe tbody tr th:only-of-type {\n",
       "        vertical-align: middle;\n",
       "    }\n",
       "\n",
       "    .dataframe tbody tr th {\n",
       "        vertical-align: top;\n",
       "    }\n",
       "\n",
       "    .dataframe thead th {\n",
       "        text-align: right;\n",
       "    }\n",
       "</style>\n",
       "<table border=\"1\" class=\"dataframe\">\n",
       "  <thead>\n",
       "    <tr style=\"text-align: right;\">\n",
       "      <th></th>\n",
       "      <th>month</th>\n",
       "      <th>customer_id</th>\n",
       "      <th>reg_month</th>\n",
       "      <th>reg_date</th>\n",
       "    </tr>\n",
       "  </thead>\n",
       "  <tbody>\n",
       "    <tr>\n",
       "      <th>0</th>\n",
       "      <td>2010-12-01</td>\n",
       "      <td>-1.0</td>\n",
       "      <td>2010-12-01</td>\n",
       "      <td>2010-12-01 11:52:00</td>\n",
       "    </tr>\n",
       "    <tr>\n",
       "      <th>1</th>\n",
       "      <td>2011-01-01</td>\n",
       "      <td>-1.0</td>\n",
       "      <td>2010-12-01</td>\n",
       "      <td>2010-12-01 11:52:00</td>\n",
       "    </tr>\n",
       "    <tr>\n",
       "      <th>2</th>\n",
       "      <td>2011-02-01</td>\n",
       "      <td>-1.0</td>\n",
       "      <td>2010-12-01</td>\n",
       "      <td>2010-12-01 11:52:00</td>\n",
       "    </tr>\n",
       "    <tr>\n",
       "      <th>3</th>\n",
       "      <td>2011-03-01</td>\n",
       "      <td>-1.0</td>\n",
       "      <td>2010-12-01</td>\n",
       "      <td>2010-12-01 11:52:00</td>\n",
       "    </tr>\n",
       "    <tr>\n",
       "      <th>4</th>\n",
       "      <td>2011-04-01</td>\n",
       "      <td>-1.0</td>\n",
       "      <td>2010-12-01</td>\n",
       "      <td>2010-12-01 11:52:00</td>\n",
       "    </tr>\n",
       "    <tr>\n",
       "      <th>5</th>\n",
       "      <td>2011-05-01</td>\n",
       "      <td>-1.0</td>\n",
       "      <td>2010-12-01</td>\n",
       "      <td>2010-12-01 11:52:00</td>\n",
       "    </tr>\n",
       "    <tr>\n",
       "      <th>6</th>\n",
       "      <td>2011-06-01</td>\n",
       "      <td>-1.0</td>\n",
       "      <td>2010-12-01</td>\n",
       "      <td>2010-12-01 11:52:00</td>\n",
       "    </tr>\n",
       "    <tr>\n",
       "      <th>7</th>\n",
       "      <td>2011-07-01</td>\n",
       "      <td>-1.0</td>\n",
       "      <td>2010-12-01</td>\n",
       "      <td>2010-12-01 11:52:00</td>\n",
       "    </tr>\n",
       "    <tr>\n",
       "      <th>8</th>\n",
       "      <td>2011-08-01</td>\n",
       "      <td>-1.0</td>\n",
       "      <td>2010-12-01</td>\n",
       "      <td>2010-12-01 11:52:00</td>\n",
       "    </tr>\n",
       "    <tr>\n",
       "      <th>9</th>\n",
       "      <td>2011-09-01</td>\n",
       "      <td>-1.0</td>\n",
       "      <td>2010-12-01</td>\n",
       "      <td>2010-12-01 11:52:00</td>\n",
       "    </tr>\n",
       "  </tbody>\n",
       "</table>\n",
       "</div>"
      ],
      "text/plain": [
       "        month  customer_id  reg_month            reg_date\n",
       "0  2010-12-01         -1.0 2010-12-01 2010-12-01 11:52:00\n",
       "1  2011-01-01         -1.0 2010-12-01 2010-12-01 11:52:00\n",
       "2  2011-02-01         -1.0 2010-12-01 2010-12-01 11:52:00\n",
       "3  2011-03-01         -1.0 2010-12-01 2010-12-01 11:52:00\n",
       "4  2011-04-01         -1.0 2010-12-01 2010-12-01 11:52:00\n",
       "5  2011-05-01         -1.0 2010-12-01 2010-12-01 11:52:00\n",
       "6  2011-06-01         -1.0 2010-12-01 2010-12-01 11:52:00\n",
       "7  2011-07-01         -1.0 2010-12-01 2010-12-01 11:52:00\n",
       "8  2011-08-01         -1.0 2010-12-01 2010-12-01 11:52:00\n",
       "9  2011-09-01         -1.0 2010-12-01 2010-12-01 11:52:00"
      ]
     },
     "execution_count": 957,
     "metadata": {},
     "output_type": "execute_result"
    }
   ],
   "source": [
    "#делаем таблицу аналитическую\n",
    "sql = '''\n",
    "with users as \n",
    "(\n",
    "select\n",
    "case when t.customer_id is null then -1 else t.customer_id end as customer_id,\n",
    "min(date_trunc('month', t.invoice_date)) as reg_month,\n",
    "min(t.invoice_date) as reg_date\n",
    "\n",
    "from ecommerce t\n",
    "group by\n",
    "case when t.customer_id is null then -1 else t.customer_id end\n",
    "),\n",
    "dates as\n",
    "(\n",
    "SELECT date_trunc('day', dd):: date as month\n",
    "FROM generate_series\n",
    "        ((select min(date_trunc('month', t.invoice_date)) from ecommerce t)\n",
    "        ,(select max(date_trunc('month', t.invoice_date)) from ecommerce t)\n",
    "        , '1 month'::interval) dd\n",
    ")\n",
    "\n",
    "select t.month, u.* from dates t\n",
    "join users u on 1=1\n",
    "limit 10\n",
    "'''\n",
    "select(sql, engine)"
   ]
  },
  {
   "cell_type": "code",
   "execution_count": 960,
   "id": "204a2315-16b1-427b-82d5-883a1e9aace5",
   "metadata": {},
   "outputs": [
    {
     "data": {
      "text/html": [
       "<div>\n",
       "<style scoped>\n",
       "    .dataframe tbody tr th:only-of-type {\n",
       "        vertical-align: middle;\n",
       "    }\n",
       "\n",
       "    .dataframe tbody tr th {\n",
       "        vertical-align: top;\n",
       "    }\n",
       "\n",
       "    .dataframe thead th {\n",
       "        text-align: right;\n",
       "    }\n",
       "</style>\n",
       "<table border=\"1\" class=\"dataframe\">\n",
       "  <thead>\n",
       "    <tr style=\"text-align: right;\">\n",
       "      <th></th>\n",
       "      <th>month</th>\n",
       "      <th>customer_id</th>\n",
       "      <th>reg_month</th>\n",
       "      <th>reg_date</th>\n",
       "    </tr>\n",
       "  </thead>\n",
       "  <tbody>\n",
       "    <tr>\n",
       "      <th>0</th>\n",
       "      <td>2010-12-01</td>\n",
       "      <td>12648.0</td>\n",
       "      <td>2011-07-01</td>\n",
       "      <td>2011-07-08 11:55:00</td>\n",
       "    </tr>\n",
       "    <tr>\n",
       "      <th>1</th>\n",
       "      <td>2011-01-01</td>\n",
       "      <td>12648.0</td>\n",
       "      <td>2011-07-01</td>\n",
       "      <td>2011-07-08 11:55:00</td>\n",
       "    </tr>\n",
       "    <tr>\n",
       "      <th>2</th>\n",
       "      <td>2011-02-01</td>\n",
       "      <td>12648.0</td>\n",
       "      <td>2011-07-01</td>\n",
       "      <td>2011-07-08 11:55:00</td>\n",
       "    </tr>\n",
       "    <tr>\n",
       "      <th>3</th>\n",
       "      <td>2011-03-01</td>\n",
       "      <td>12648.0</td>\n",
       "      <td>2011-07-01</td>\n",
       "      <td>2011-07-08 11:55:00</td>\n",
       "    </tr>\n",
       "    <tr>\n",
       "      <th>4</th>\n",
       "      <td>2011-04-01</td>\n",
       "      <td>12648.0</td>\n",
       "      <td>2011-07-01</td>\n",
       "      <td>2011-07-08 11:55:00</td>\n",
       "    </tr>\n",
       "    <tr>\n",
       "      <th>5</th>\n",
       "      <td>2011-05-01</td>\n",
       "      <td>12648.0</td>\n",
       "      <td>2011-07-01</td>\n",
       "      <td>2011-07-08 11:55:00</td>\n",
       "    </tr>\n",
       "    <tr>\n",
       "      <th>6</th>\n",
       "      <td>2011-06-01</td>\n",
       "      <td>12648.0</td>\n",
       "      <td>2011-07-01</td>\n",
       "      <td>2011-07-08 11:55:00</td>\n",
       "    </tr>\n",
       "    <tr>\n",
       "      <th>7</th>\n",
       "      <td>2011-07-01</td>\n",
       "      <td>12648.0</td>\n",
       "      <td>2011-07-01</td>\n",
       "      <td>2011-07-08 11:55:00</td>\n",
       "    </tr>\n",
       "    <tr>\n",
       "      <th>8</th>\n",
       "      <td>2011-08-01</td>\n",
       "      <td>12648.0</td>\n",
       "      <td>2011-07-01</td>\n",
       "      <td>2011-07-08 11:55:00</td>\n",
       "    </tr>\n",
       "    <tr>\n",
       "      <th>9</th>\n",
       "      <td>2011-09-01</td>\n",
       "      <td>12648.0</td>\n",
       "      <td>2011-07-01</td>\n",
       "      <td>2011-07-08 11:55:00</td>\n",
       "    </tr>\n",
       "  </tbody>\n",
       "</table>\n",
       "</div>"
      ],
      "text/plain": [
       "        month  customer_id  reg_month            reg_date\n",
       "0  2010-12-01      12648.0 2011-07-01 2011-07-08 11:55:00\n",
       "1  2011-01-01      12648.0 2011-07-01 2011-07-08 11:55:00\n",
       "2  2011-02-01      12648.0 2011-07-01 2011-07-08 11:55:00\n",
       "3  2011-03-01      12648.0 2011-07-01 2011-07-08 11:55:00\n",
       "4  2011-04-01      12648.0 2011-07-01 2011-07-08 11:55:00\n",
       "5  2011-05-01      12648.0 2011-07-01 2011-07-08 11:55:00\n",
       "6  2011-06-01      12648.0 2011-07-01 2011-07-08 11:55:00\n",
       "7  2011-07-01      12648.0 2011-07-01 2011-07-08 11:55:00\n",
       "8  2011-08-01      12648.0 2011-07-01 2011-07-08 11:55:00\n",
       "9  2011-09-01      12648.0 2011-07-01 2011-07-08 11:55:00"
      ]
     },
     "execution_count": 960,
     "metadata": {},
     "output_type": "execute_result"
    }
   ],
   "source": [
    "#проверяем таблицу по пользователю 12648\n",
    "sql = '''\n",
    "with users as \n",
    "(\n",
    "select\n",
    "case when t.customer_id is null then -1 else t.customer_id end as customer_id,\n",
    "min(date_trunc('month', t.invoice_date)) as reg_month,\n",
    "min(t.invoice_date) as reg_date\n",
    "\n",
    "from ecommerce t\n",
    "group by\n",
    "case when t.customer_id is null then -1 else t.customer_id end\n",
    "),\n",
    "dates as\n",
    "(\n",
    "SELECT date_trunc('day', dd):: date as month\n",
    "FROM generate_series\n",
    "        ((select min(date_trunc('month', t.invoice_date)) from ecommerce t)\n",
    "        ,(select max(date_trunc('month', t.invoice_date)) from ecommerce t)\n",
    "        , '1 month'::interval) dd\n",
    ")\n",
    "\n",
    "select t.month, u.* from dates t\n",
    "join users u on 1=1\n",
    "where u.customer_id = '12648'\n",
    "limit 10\n",
    "'''\n",
    "select(sql, engine)"
   ]
  },
  {
   "cell_type": "markdown",
   "id": "8b340171-a019-4b3b-b93a-a3cc4a2077c9",
   "metadata": {},
   "source": [
    "## Делаем templete (заготовку)"
   ]
  },
  {
   "cell_type": "code",
   "execution_count": 968,
   "id": "b7c2f2b4-79f3-4c2f-9eec-70d1c0faf048",
   "metadata": {},
   "outputs": [
    {
     "data": {
      "text/html": [
       "<div>\n",
       "<style scoped>\n",
       "    .dataframe tbody tr th:only-of-type {\n",
       "        vertical-align: middle;\n",
       "    }\n",
       "\n",
       "    .dataframe tbody tr th {\n",
       "        vertical-align: top;\n",
       "    }\n",
       "\n",
       "    .dataframe thead th {\n",
       "        text-align: right;\n",
       "    }\n",
       "</style>\n",
       "<table border=\"1\" class=\"dataframe\">\n",
       "  <thead>\n",
       "    <tr style=\"text-align: right;\">\n",
       "      <th></th>\n",
       "      <th>month</th>\n",
       "      <th>customer_id</th>\n",
       "      <th>reg_month</th>\n",
       "      <th>reg_date</th>\n",
       "    </tr>\n",
       "  </thead>\n",
       "  <tbody>\n",
       "    <tr>\n",
       "      <th>0</th>\n",
       "      <td>2011-07-01</td>\n",
       "      <td>12648.0</td>\n",
       "      <td>2011-07-01</td>\n",
       "      <td>2011-07-08 11:55:00</td>\n",
       "    </tr>\n",
       "    <tr>\n",
       "      <th>1</th>\n",
       "      <td>2011-08-01</td>\n",
       "      <td>12648.0</td>\n",
       "      <td>2011-07-01</td>\n",
       "      <td>2011-07-08 11:55:00</td>\n",
       "    </tr>\n",
       "    <tr>\n",
       "      <th>2</th>\n",
       "      <td>2011-09-01</td>\n",
       "      <td>12648.0</td>\n",
       "      <td>2011-07-01</td>\n",
       "      <td>2011-07-08 11:55:00</td>\n",
       "    </tr>\n",
       "    <tr>\n",
       "      <th>3</th>\n",
       "      <td>2011-10-01</td>\n",
       "      <td>12648.0</td>\n",
       "      <td>2011-07-01</td>\n",
       "      <td>2011-07-08 11:55:00</td>\n",
       "    </tr>\n",
       "    <tr>\n",
       "      <th>4</th>\n",
       "      <td>2011-11-01</td>\n",
       "      <td>12648.0</td>\n",
       "      <td>2011-07-01</td>\n",
       "      <td>2011-07-08 11:55:00</td>\n",
       "    </tr>\n",
       "    <tr>\n",
       "      <th>5</th>\n",
       "      <td>2011-12-01</td>\n",
       "      <td>12648.0</td>\n",
       "      <td>2011-07-01</td>\n",
       "      <td>2011-07-08 11:55:00</td>\n",
       "    </tr>\n",
       "  </tbody>\n",
       "</table>\n",
       "</div>"
      ],
      "text/plain": [
       "        month  customer_id  reg_month            reg_date\n",
       "0  2011-07-01      12648.0 2011-07-01 2011-07-08 11:55:00\n",
       "1  2011-08-01      12648.0 2011-07-01 2011-07-08 11:55:00\n",
       "2  2011-09-01      12648.0 2011-07-01 2011-07-08 11:55:00\n",
       "3  2011-10-01      12648.0 2011-07-01 2011-07-08 11:55:00\n",
       "4  2011-11-01      12648.0 2011-07-01 2011-07-08 11:55:00\n",
       "5  2011-12-01      12648.0 2011-07-01 2011-07-08 11:55:00"
      ]
     },
     "execution_count": 968,
     "metadata": {},
     "output_type": "execute_result"
    }
   ],
   "source": [
    "# Делаем templete\n",
    "sql = '''\n",
    "with users as \n",
    "(\n",
    "select\n",
    "case when t.customer_id is null then -1 else t.customer_id end as customer_id,\n",
    "min(date_trunc('month', t.invoice_date)) as reg_month,\n",
    "min(t.invoice_date) as reg_date\n",
    "\n",
    "from ecommerce t\n",
    "group by\n",
    "case when t.customer_id is null then -1 else t.customer_id end\n",
    "),\n",
    "dates as\n",
    "(\n",
    "SELECT date_trunc('day', dd):: date as month\n",
    "FROM generate_series\n",
    "        ((select min(date_trunc('month', t.invoice_date)) from ecommerce t)\n",
    "        ,(select max(date_trunc('month', t.invoice_date)) from ecommerce t)\n",
    "        , '1 month'::interval) dd\n",
    "),\n",
    "templete as\n",
    "(\n",
    "select t.month, u.* from dates t\n",
    "join users u on 1=1 and t.month >= u.reg_month\n",
    ")\n",
    "\n",
    "select * from templete t\n",
    "where t.customer_id = '12648'\n",
    "limit 100\n",
    "'''\n",
    "select(sql, engine)"
   ]
  },
  {
   "cell_type": "markdown",
   "id": "f195e277-460e-4e76-a779-661592a468a8",
   "metadata": {},
   "source": [
    "## Аггрегируем данные по выручке"
   ]
  },
  {
   "cell_type": "code",
   "execution_count": 972,
   "id": "4da9bbe1-4336-461b-983c-ca8e0efa3ca6",
   "metadata": {},
   "outputs": [
    {
     "data": {
      "text/html": [
       "<div>\n",
       "<style scoped>\n",
       "    .dataframe tbody tr th:only-of-type {\n",
       "        vertical-align: middle;\n",
       "    }\n",
       "\n",
       "    .dataframe tbody tr th {\n",
       "        vertical-align: top;\n",
       "    }\n",
       "\n",
       "    .dataframe thead th {\n",
       "        text-align: right;\n",
       "    }\n",
       "</style>\n",
       "<table border=\"1\" class=\"dataframe\">\n",
       "  <thead>\n",
       "    <tr style=\"text-align: right;\">\n",
       "      <th></th>\n",
       "      <th>invoice_no</th>\n",
       "      <th>stock_code</th>\n",
       "      <th>description</th>\n",
       "      <th>quantity</th>\n",
       "      <th>invoice_date</th>\n",
       "      <th>unitprice</th>\n",
       "      <th>customer_id</th>\n",
       "      <th>country</th>\n",
       "    </tr>\n",
       "  </thead>\n",
       "  <tbody>\n",
       "    <tr>\n",
       "      <th>0</th>\n",
       "      <td>559421</td>\n",
       "      <td>22962</td>\n",
       "      <td>JAM JAR WITH PINK LID</td>\n",
       "      <td>12</td>\n",
       "      <td>2011-07-08 11:55:00</td>\n",
       "      <td>0.85</td>\n",
       "      <td>12648.0</td>\n",
       "      <td>Germany</td>\n",
       "    </tr>\n",
       "    <tr>\n",
       "      <th>1</th>\n",
       "      <td>559421</td>\n",
       "      <td>47590B</td>\n",
       "      <td>PINK HAPPY BIRTHDAY BUNTING</td>\n",
       "      <td>3</td>\n",
       "      <td>2011-07-08 11:55:00</td>\n",
       "      <td>5.45</td>\n",
       "      <td>12648.0</td>\n",
       "      <td>Germany</td>\n",
       "    </tr>\n",
       "    <tr>\n",
       "      <th>2</th>\n",
       "      <td>559421</td>\n",
       "      <td>47590A</td>\n",
       "      <td>BLUE HAPPY BIRTHDAY BUNTING</td>\n",
       "      <td>3</td>\n",
       "      <td>2011-07-08 11:55:00</td>\n",
       "      <td>5.45</td>\n",
       "      <td>12648.0</td>\n",
       "      <td>Germany</td>\n",
       "    </tr>\n",
       "    <tr>\n",
       "      <th>3</th>\n",
       "      <td>559421</td>\n",
       "      <td>20674</td>\n",
       "      <td>GREEN POLKADOT BOWL</td>\n",
       "      <td>8</td>\n",
       "      <td>2011-07-08 11:55:00</td>\n",
       "      <td>1.25</td>\n",
       "      <td>12648.0</td>\n",
       "      <td>Germany</td>\n",
       "    </tr>\n",
       "    <tr>\n",
       "      <th>4</th>\n",
       "      <td>559421</td>\n",
       "      <td>20675</td>\n",
       "      <td>BLUE POLKADOT BOWL</td>\n",
       "      <td>8</td>\n",
       "      <td>2011-07-08 11:55:00</td>\n",
       "      <td>1.25</td>\n",
       "      <td>12648.0</td>\n",
       "      <td>Germany</td>\n",
       "    </tr>\n",
       "    <tr>\n",
       "      <th>5</th>\n",
       "      <td>559421</td>\n",
       "      <td>20677</td>\n",
       "      <td>PINK POLKADOT BOWL</td>\n",
       "      <td>8</td>\n",
       "      <td>2011-07-08 11:55:00</td>\n",
       "      <td>1.25</td>\n",
       "      <td>12648.0</td>\n",
       "      <td>Germany</td>\n",
       "    </tr>\n",
       "    <tr>\n",
       "      <th>6</th>\n",
       "      <td>559421</td>\n",
       "      <td>21239</td>\n",
       "      <td>PINK  POLKADOT CUP</td>\n",
       "      <td>8</td>\n",
       "      <td>2011-07-08 11:55:00</td>\n",
       "      <td>0.85</td>\n",
       "      <td>12648.0</td>\n",
       "      <td>Germany</td>\n",
       "    </tr>\n",
       "    <tr>\n",
       "      <th>7</th>\n",
       "      <td>559421</td>\n",
       "      <td>21240</td>\n",
       "      <td>BLUE POLKADOT CUP</td>\n",
       "      <td>8</td>\n",
       "      <td>2011-07-08 11:55:00</td>\n",
       "      <td>0.85</td>\n",
       "      <td>12648.0</td>\n",
       "      <td>Germany</td>\n",
       "    </tr>\n",
       "    <tr>\n",
       "      <th>8</th>\n",
       "      <td>559421</td>\n",
       "      <td>21245</td>\n",
       "      <td>GREEN POLKADOT PLATE</td>\n",
       "      <td>8</td>\n",
       "      <td>2011-07-08 11:55:00</td>\n",
       "      <td>1.69</td>\n",
       "      <td>12648.0</td>\n",
       "      <td>Germany</td>\n",
       "    </tr>\n",
       "    <tr>\n",
       "      <th>9</th>\n",
       "      <td>559421</td>\n",
       "      <td>21244</td>\n",
       "      <td>BLUE POLKADOT PLATE</td>\n",
       "      <td>16</td>\n",
       "      <td>2011-07-08 11:55:00</td>\n",
       "      <td>1.69</td>\n",
       "      <td>12648.0</td>\n",
       "      <td>Germany</td>\n",
       "    </tr>\n",
       "    <tr>\n",
       "      <th>10</th>\n",
       "      <td>559421</td>\n",
       "      <td>84997C</td>\n",
       "      <td>CHILDRENS CUTLERY POLKADOT BLUE</td>\n",
       "      <td>4</td>\n",
       "      <td>2011-07-08 11:55:00</td>\n",
       "      <td>4.15</td>\n",
       "      <td>12648.0</td>\n",
       "      <td>Germany</td>\n",
       "    </tr>\n",
       "    <tr>\n",
       "      <th>11</th>\n",
       "      <td>559421</td>\n",
       "      <td>84997D</td>\n",
       "      <td>CHILDRENS CUTLERY POLKADOT PINK</td>\n",
       "      <td>4</td>\n",
       "      <td>2011-07-08 11:55:00</td>\n",
       "      <td>4.15</td>\n",
       "      <td>12648.0</td>\n",
       "      <td>Germany</td>\n",
       "    </tr>\n",
       "    <tr>\n",
       "      <th>12</th>\n",
       "      <td>559421</td>\n",
       "      <td>20676</td>\n",
       "      <td>RED RETROSPOT BOWL</td>\n",
       "      <td>8</td>\n",
       "      <td>2011-07-08 11:55:00</td>\n",
       "      <td>1.25</td>\n",
       "      <td>12648.0</td>\n",
       "      <td>Germany</td>\n",
       "    </tr>\n",
       "    <tr>\n",
       "      <th>13</th>\n",
       "      <td>559421</td>\n",
       "      <td>21242</td>\n",
       "      <td>RED RETROSPOT PLATE</td>\n",
       "      <td>16</td>\n",
       "      <td>2011-07-08 11:55:00</td>\n",
       "      <td>1.69</td>\n",
       "      <td>12648.0</td>\n",
       "      <td>Germany</td>\n",
       "    </tr>\n",
       "    <tr>\n",
       "      <th>14</th>\n",
       "      <td>559421</td>\n",
       "      <td>21238</td>\n",
       "      <td>RED RETROSPOT CUP</td>\n",
       "      <td>8</td>\n",
       "      <td>2011-07-08 11:55:00</td>\n",
       "      <td>0.85</td>\n",
       "      <td>12648.0</td>\n",
       "      <td>Germany</td>\n",
       "    </tr>\n",
       "    <tr>\n",
       "      <th>15</th>\n",
       "      <td>559421</td>\n",
       "      <td>23286</td>\n",
       "      <td>BLUE VINTAGE SPOT BEAKER</td>\n",
       "      <td>8</td>\n",
       "      <td>2011-07-08 11:55:00</td>\n",
       "      <td>0.85</td>\n",
       "      <td>12648.0</td>\n",
       "      <td>Germany</td>\n",
       "    </tr>\n",
       "    <tr>\n",
       "      <th>16</th>\n",
       "      <td>559421</td>\n",
       "      <td>22131</td>\n",
       "      <td>FOOD CONTAINER SET 3 LOVE HEART</td>\n",
       "      <td>6</td>\n",
       "      <td>2011-07-08 11:55:00</td>\n",
       "      <td>1.95</td>\n",
       "      <td>12648.0</td>\n",
       "      <td>Germany</td>\n",
       "    </tr>\n",
       "    <tr>\n",
       "      <th>17</th>\n",
       "      <td>559421</td>\n",
       "      <td>21056</td>\n",
       "      <td>DOCTOR'S BAG SOFT TOY</td>\n",
       "      <td>5</td>\n",
       "      <td>2011-07-08 11:55:00</td>\n",
       "      <td>8.95</td>\n",
       "      <td>12648.0</td>\n",
       "      <td>Germany</td>\n",
       "    </tr>\n",
       "    <tr>\n",
       "      <th>18</th>\n",
       "      <td>559421</td>\n",
       "      <td>22993</td>\n",
       "      <td>SET OF 4 PANTRY JELLY MOULDS</td>\n",
       "      <td>12</td>\n",
       "      <td>2011-07-08 11:55:00</td>\n",
       "      <td>1.25</td>\n",
       "      <td>12648.0</td>\n",
       "      <td>Germany</td>\n",
       "    </tr>\n",
       "    <tr>\n",
       "      <th>19</th>\n",
       "      <td>559421</td>\n",
       "      <td>21380</td>\n",
       "      <td>WOODEN HAPPY BIRTHDAY GARLAND</td>\n",
       "      <td>6</td>\n",
       "      <td>2011-07-08 11:55:00</td>\n",
       "      <td>2.95</td>\n",
       "      <td>12648.0</td>\n",
       "      <td>Germany</td>\n",
       "    </tr>\n",
       "    <tr>\n",
       "      <th>20</th>\n",
       "      <td>559421</td>\n",
       "      <td>POST</td>\n",
       "      <td>POSTAGE</td>\n",
       "      <td>1</td>\n",
       "      <td>2011-07-08 11:55:00</td>\n",
       "      <td>18.00</td>\n",
       "      <td>12648.0</td>\n",
       "      <td>Germany</td>\n",
       "    </tr>\n",
       "  </tbody>\n",
       "</table>\n",
       "</div>"
      ],
      "text/plain": [
       "   invoice_no stock_code                       description  quantity  \\\n",
       "0      559421      22962             JAM JAR WITH PINK LID        12   \n",
       "1      559421     47590B       PINK HAPPY BIRTHDAY BUNTING         3   \n",
       "2      559421     47590A       BLUE HAPPY BIRTHDAY BUNTING         3   \n",
       "3      559421      20674               GREEN POLKADOT BOWL         8   \n",
       "4      559421      20675                BLUE POLKADOT BOWL         8   \n",
       "5      559421      20677                PINK POLKADOT BOWL         8   \n",
       "6      559421      21239                PINK  POLKADOT CUP         8   \n",
       "7      559421      21240                 BLUE POLKADOT CUP         8   \n",
       "8      559421      21245             GREEN POLKADOT PLATE          8   \n",
       "9      559421      21244              BLUE POLKADOT PLATE         16   \n",
       "10     559421     84997C   CHILDRENS CUTLERY POLKADOT BLUE         4   \n",
       "11     559421     84997D   CHILDRENS CUTLERY POLKADOT PINK         4   \n",
       "12     559421      20676                RED RETROSPOT BOWL         8   \n",
       "13     559421      21242              RED RETROSPOT PLATE         16   \n",
       "14     559421      21238                 RED RETROSPOT CUP         8   \n",
       "15     559421      23286          BLUE VINTAGE SPOT BEAKER         8   \n",
       "16     559421      22131  FOOD CONTAINER SET 3 LOVE HEART          6   \n",
       "17     559421      21056             DOCTOR'S BAG SOFT TOY         5   \n",
       "18     559421      22993      SET OF 4 PANTRY JELLY MOULDS        12   \n",
       "19     559421      21380     WOODEN HAPPY BIRTHDAY GARLAND         6   \n",
       "20     559421       POST                           POSTAGE         1   \n",
       "\n",
       "          invoice_date  unitprice  customer_id  country  \n",
       "0  2011-07-08 11:55:00       0.85      12648.0  Germany  \n",
       "1  2011-07-08 11:55:00       5.45      12648.0  Germany  \n",
       "2  2011-07-08 11:55:00       5.45      12648.0  Germany  \n",
       "3  2011-07-08 11:55:00       1.25      12648.0  Germany  \n",
       "4  2011-07-08 11:55:00       1.25      12648.0  Germany  \n",
       "5  2011-07-08 11:55:00       1.25      12648.0  Germany  \n",
       "6  2011-07-08 11:55:00       0.85      12648.0  Germany  \n",
       "7  2011-07-08 11:55:00       0.85      12648.0  Germany  \n",
       "8  2011-07-08 11:55:00       1.69      12648.0  Germany  \n",
       "9  2011-07-08 11:55:00       1.69      12648.0  Germany  \n",
       "10 2011-07-08 11:55:00       4.15      12648.0  Germany  \n",
       "11 2011-07-08 11:55:00       4.15      12648.0  Germany  \n",
       "12 2011-07-08 11:55:00       1.25      12648.0  Germany  \n",
       "13 2011-07-08 11:55:00       1.69      12648.0  Germany  \n",
       "14 2011-07-08 11:55:00       0.85      12648.0  Germany  \n",
       "15 2011-07-08 11:55:00       0.85      12648.0  Germany  \n",
       "16 2011-07-08 11:55:00       1.95      12648.0  Germany  \n",
       "17 2011-07-08 11:55:00       8.95      12648.0  Germany  \n",
       "18 2011-07-08 11:55:00       1.25      12648.0  Germany  \n",
       "19 2011-07-08 11:55:00       2.95      12648.0  Germany  \n",
       "20 2011-07-08 11:55:00      18.00      12648.0  Germany  "
      ]
     },
     "execution_count": 972,
     "metadata": {},
     "output_type": "execute_result"
    }
   ],
   "source": [
    "# Делаем templete\n",
    "sql = '''\n",
    "select * from ecommerce t\n",
    "where t.customer_id = '12648'\n",
    "limit 100\n",
    "'''\n",
    "select(sql, engine)"
   ]
  },
  {
   "cell_type": "code",
   "execution_count": 981,
   "id": "2305d263-75f0-4d7d-b297-e8a95efdcf5a",
   "metadata": {},
   "outputs": [
    {
     "data": {
      "text/html": [
       "<div>\n",
       "<style scoped>\n",
       "    .dataframe tbody tr th:only-of-type {\n",
       "        vertical-align: middle;\n",
       "    }\n",
       "\n",
       "    .dataframe tbody tr th {\n",
       "        vertical-align: top;\n",
       "    }\n",
       "\n",
       "    .dataframe thead th {\n",
       "        text-align: right;\n",
       "    }\n",
       "</style>\n",
       "<table border=\"1\" class=\"dataframe\">\n",
       "  <thead>\n",
       "    <tr style=\"text-align: right;\">\n",
       "      <th></th>\n",
       "      <th>customer_id</th>\n",
       "      <th>month</th>\n",
       "      <th>revenue</th>\n",
       "    </tr>\n",
       "  </thead>\n",
       "  <tbody>\n",
       "    <tr>\n",
       "      <th>0</th>\n",
       "      <td>12648.0</td>\n",
       "      <td>2011-07-01</td>\n",
       "      <td>318.05</td>\n",
       "    </tr>\n",
       "  </tbody>\n",
       "</table>\n",
       "</div>"
      ],
      "text/plain": [
       "   customer_id      month  revenue\n",
       "0      12648.0 2011-07-01   318.05"
      ]
     },
     "execution_count": 981,
     "metadata": {},
     "output_type": "execute_result"
    }
   ],
   "source": [
    "sql = '''\n",
    "select\n",
    "case when t.customer_id is null then -1 else t.customer_id end as customer_id,\n",
    "date_trunc('month', t.invoice_date) as month,\n",
    "sum(t.quantity * t.unitprice) as revenue\n",
    "\n",
    "\n",
    "from ecommerce t\n",
    "where t.customer_id = '12648'\n",
    "\n",
    "group by\n",
    "case when t.customer_id is null then -1 else t.customer_id end,\n",
    "date_trunc('month', t.invoice_date)\n",
    "\n",
    "'''\n",
    "select(sql, engine)"
   ]
  },
  {
   "cell_type": "code",
   "execution_count": 994,
   "id": "ecdcf911-e311-4b9c-814b-3c887d39b925",
   "metadata": {},
   "outputs": [
    {
     "data": {
      "text/html": [
       "<div>\n",
       "<style scoped>\n",
       "    .dataframe tbody tr th:only-of-type {\n",
       "        vertical-align: middle;\n",
       "    }\n",
       "\n",
       "    .dataframe tbody tr th {\n",
       "        vertical-align: top;\n",
       "    }\n",
       "\n",
       "    .dataframe thead th {\n",
       "        text-align: right;\n",
       "    }\n",
       "</style>\n",
       "<table border=\"1\" class=\"dataframe\">\n",
       "  <thead>\n",
       "    <tr style=\"text-align: right;\">\n",
       "      <th></th>\n",
       "      <th>customer_id</th>\n",
       "      <th>month</th>\n",
       "      <th>revenue</th>\n",
       "    </tr>\n",
       "  </thead>\n",
       "  <tbody>\n",
       "    <tr>\n",
       "      <th>0</th>\n",
       "      <td>-1.000</td>\n",
       "      <td>2010-12-01</td>\n",
       "      <td>194353.000</td>\n",
       "    </tr>\n",
       "    <tr>\n",
       "      <th>1</th>\n",
       "      <td>-1.000</td>\n",
       "      <td>2011-01-01</td>\n",
       "      <td>84925.880</td>\n",
       "    </tr>\n",
       "    <tr>\n",
       "      <th>2</th>\n",
       "      <td>-1.000</td>\n",
       "      <td>2011-02-01</td>\n",
       "      <td>61516.500</td>\n",
       "    </tr>\n",
       "    <tr>\n",
       "      <th>3</th>\n",
       "      <td>-1.000</td>\n",
       "      <td>2011-03-01</td>\n",
       "      <td>103302.470</td>\n",
       "    </tr>\n",
       "    <tr>\n",
       "      <th>4</th>\n",
       "      <td>-1.000</td>\n",
       "      <td>2011-04-01</td>\n",
       "      <td>67159.270</td>\n",
       "    </tr>\n",
       "    <tr>\n",
       "      <th>...</th>\n",
       "      <td>...</td>\n",
       "      <td>...</td>\n",
       "      <td>...</td>\n",
       "    </tr>\n",
       "    <tr>\n",
       "      <th>13683</th>\n",
       "      <td>18283.000</td>\n",
       "      <td>2011-10-01</td>\n",
       "      <td>114.650</td>\n",
       "    </tr>\n",
       "    <tr>\n",
       "      <th>13684</th>\n",
       "      <td>18283.000</td>\n",
       "      <td>2011-11-01</td>\n",
       "      <td>651.560</td>\n",
       "    </tr>\n",
       "    <tr>\n",
       "      <th>13685</th>\n",
       "      <td>18283.000</td>\n",
       "      <td>2011-12-01</td>\n",
       "      <td>208.000</td>\n",
       "    </tr>\n",
       "    <tr>\n",
       "      <th>13686</th>\n",
       "      <td>18287.000</td>\n",
       "      <td>2011-05-01</td>\n",
       "      <td>765.280</td>\n",
       "    </tr>\n",
       "    <tr>\n",
       "      <th>13687</th>\n",
       "      <td>18287.000</td>\n",
       "      <td>2011-10-01</td>\n",
       "      <td>1072.000</td>\n",
       "    </tr>\n",
       "  </tbody>\n",
       "</table>\n",
       "<p>13688 rows × 3 columns</p>\n",
       "</div>"
      ],
      "text/plain": [
       "       customer_id      month    revenue\n",
       "0           -1.000 2010-12-01 194353.000\n",
       "1           -1.000 2011-01-01  84925.880\n",
       "2           -1.000 2011-02-01  61516.500\n",
       "3           -1.000 2011-03-01 103302.470\n",
       "4           -1.000 2011-04-01  67159.270\n",
       "...            ...        ...        ...\n",
       "13683    18283.000 2011-10-01    114.650\n",
       "13684    18283.000 2011-11-01    651.560\n",
       "13685    18283.000 2011-12-01    208.000\n",
       "13686    18287.000 2011-05-01    765.280\n",
       "13687    18287.000 2011-10-01   1072.000\n",
       "\n",
       "[13688 rows x 3 columns]"
      ]
     },
     "execution_count": 994,
     "metadata": {},
     "output_type": "execute_result"
    }
   ],
   "source": [
    "sql = '''\n",
    "select\n",
    "case when t.customer_id is null then -1 else t.customer_id end as customer_id,\n",
    "date_trunc('month', t.invoice_date) as month,\n",
    "sum(t.quantity * t.unitprice) as revenue\n",
    "\n",
    "from ecommerce t\n",
    "\n",
    "group by\n",
    "case when t.customer_id is null then -1 else t.customer_id end,\n",
    "date_trunc('month', t.invoice_date)\n",
    "\n",
    "'''\n",
    "select(sql, engine)"
   ]
  },
  {
   "cell_type": "code",
   "execution_count": 1001,
   "id": "bdef4f85-66fe-45a9-95ee-e67d45f61768",
   "metadata": {},
   "outputs": [
    {
     "data": {
      "text/html": [
       "<div>\n",
       "<style scoped>\n",
       "    .dataframe tbody tr th:only-of-type {\n",
       "        vertical-align: middle;\n",
       "    }\n",
       "\n",
       "    .dataframe tbody tr th {\n",
       "        vertical-align: top;\n",
       "    }\n",
       "\n",
       "    .dataframe thead th {\n",
       "        text-align: right;\n",
       "    }\n",
       "</style>\n",
       "<table border=\"1\" class=\"dataframe\">\n",
       "  <thead>\n",
       "    <tr style=\"text-align: right;\">\n",
       "      <th></th>\n",
       "      <th>revenue</th>\n",
       "    </tr>\n",
       "  </thead>\n",
       "  <tbody>\n",
       "    <tr>\n",
       "      <th>0</th>\n",
       "      <td>9747747.934</td>\n",
       "    </tr>\n",
       "  </tbody>\n",
       "</table>\n",
       "</div>"
      ],
      "text/plain": [
       "      revenue\n",
       "0 9747747.934"
      ]
     },
     "execution_count": 1001,
     "metadata": {},
     "output_type": "execute_result"
    }
   ],
   "source": [
    "#проверяем по контрольным суммам\n",
    "sql = '''\n",
    "select\n",
    "sum(t.quantity * t.unitprice) as revenue\n",
    "from ecommerce t\n",
    "'''\n",
    "select(sql, engine)"
   ]
  },
  {
   "cell_type": "code",
   "execution_count": 1002,
   "id": "a45aed1f-dc65-40d0-9bd9-a2e56be69eaf",
   "metadata": {},
   "outputs": [
    {
     "data": {
      "text/html": [
       "<div>\n",
       "<style scoped>\n",
       "    .dataframe tbody tr th:only-of-type {\n",
       "        vertical-align: middle;\n",
       "    }\n",
       "\n",
       "    .dataframe tbody tr th {\n",
       "        vertical-align: top;\n",
       "    }\n",
       "\n",
       "    .dataframe thead th {\n",
       "        text-align: right;\n",
       "    }\n",
       "</style>\n",
       "<table border=\"1\" class=\"dataframe\">\n",
       "  <thead>\n",
       "    <tr style=\"text-align: right;\">\n",
       "      <th></th>\n",
       "      <th>sum</th>\n",
       "    </tr>\n",
       "  </thead>\n",
       "  <tbody>\n",
       "    <tr>\n",
       "      <th>0</th>\n",
       "      <td>9747747.934</td>\n",
       "    </tr>\n",
       "  </tbody>\n",
       "</table>\n",
       "</div>"
      ],
      "text/plain": [
       "          sum\n",
       "0 9747747.934"
      ]
     },
     "execution_count": 1002,
     "metadata": {},
     "output_type": "execute_result"
    }
   ],
   "source": [
    "sql = '''\n",
    "with user_month as (\n",
    "select\n",
    "case when t.customer_id is null then -1 else t.customer_id end as customer_id,\n",
    "date_trunc('month', t.invoice_date) as month,\n",
    "sum(t.quantity * t.unitprice) as revenue\n",
    "\n",
    "from ecommerce t\n",
    "\n",
    "group by\n",
    "case when t.customer_id is null then -1 else t.customer_id end,\n",
    "date_trunc('month', t.invoice_date)\n",
    ")\n",
    "select sum(t.revenue) from user_month t\n",
    "'''\n",
    "select(sql, engine)"
   ]
  },
  {
   "cell_type": "code",
   "execution_count": 1003,
   "id": "5299d215-ecbc-4669-ab68-58adccde17fc",
   "metadata": {},
   "outputs": [],
   "source": [
    "#Суммы сходятся"
   ]
  },
  {
   "cell_type": "code",
   "execution_count": 1004,
   "id": "9e6499a6-1a75-441b-a8e8-ab547252dc4d",
   "metadata": {},
   "outputs": [],
   "source": [
    "pd.set_option('display.float_format', lambda x: '%.3f' % x)"
   ]
  },
  {
   "cell_type": "code",
   "execution_count": 1014,
   "id": "3761008e-2228-4d25-8a17-ddb4d7b804a6",
   "metadata": {},
   "outputs": [
    {
     "data": {
      "text/html": [
       "<div>\n",
       "<style scoped>\n",
       "    .dataframe tbody tr th:only-of-type {\n",
       "        vertical-align: middle;\n",
       "    }\n",
       "\n",
       "    .dataframe tbody tr th {\n",
       "        vertical-align: top;\n",
       "    }\n",
       "\n",
       "    .dataframe thead th {\n",
       "        text-align: right;\n",
       "    }\n",
       "</style>\n",
       "<table border=\"1\" class=\"dataframe\">\n",
       "  <thead>\n",
       "    <tr style=\"text-align: right;\">\n",
       "      <th></th>\n",
       "      <th>month</th>\n",
       "      <th>customer_id</th>\n",
       "      <th>reg_month</th>\n",
       "      <th>reg_date</th>\n",
       "      <th>customer_id</th>\n",
       "      <th>month</th>\n",
       "      <th>revenue</th>\n",
       "    </tr>\n",
       "  </thead>\n",
       "  <tbody>\n",
       "    <tr>\n",
       "      <th>0</th>\n",
       "      <td>2011-07-01</td>\n",
       "      <td>12648.000</td>\n",
       "      <td>2011-07-01</td>\n",
       "      <td>2011-07-08 11:55:00</td>\n",
       "      <td>12648.000</td>\n",
       "      <td>2011-07-01</td>\n",
       "      <td>318.050</td>\n",
       "    </tr>\n",
       "    <tr>\n",
       "      <th>1</th>\n",
       "      <td>2011-08-01</td>\n",
       "      <td>12648.000</td>\n",
       "      <td>2011-07-01</td>\n",
       "      <td>2011-07-08 11:55:00</td>\n",
       "      <td>NaN</td>\n",
       "      <td>NaT</td>\n",
       "      <td>NaN</td>\n",
       "    </tr>\n",
       "    <tr>\n",
       "      <th>2</th>\n",
       "      <td>2011-09-01</td>\n",
       "      <td>12648.000</td>\n",
       "      <td>2011-07-01</td>\n",
       "      <td>2011-07-08 11:55:00</td>\n",
       "      <td>NaN</td>\n",
       "      <td>NaT</td>\n",
       "      <td>NaN</td>\n",
       "    </tr>\n",
       "    <tr>\n",
       "      <th>3</th>\n",
       "      <td>2011-10-01</td>\n",
       "      <td>12648.000</td>\n",
       "      <td>2011-07-01</td>\n",
       "      <td>2011-07-08 11:55:00</td>\n",
       "      <td>NaN</td>\n",
       "      <td>NaT</td>\n",
       "      <td>NaN</td>\n",
       "    </tr>\n",
       "    <tr>\n",
       "      <th>4</th>\n",
       "      <td>2011-11-01</td>\n",
       "      <td>12648.000</td>\n",
       "      <td>2011-07-01</td>\n",
       "      <td>2011-07-08 11:55:00</td>\n",
       "      <td>NaN</td>\n",
       "      <td>NaT</td>\n",
       "      <td>NaN</td>\n",
       "    </tr>\n",
       "    <tr>\n",
       "      <th>5</th>\n",
       "      <td>2011-12-01</td>\n",
       "      <td>12648.000</td>\n",
       "      <td>2011-07-01</td>\n",
       "      <td>2011-07-08 11:55:00</td>\n",
       "      <td>NaN</td>\n",
       "      <td>NaT</td>\n",
       "      <td>NaN</td>\n",
       "    </tr>\n",
       "  </tbody>\n",
       "</table>\n",
       "</div>"
      ],
      "text/plain": [
       "        month  customer_id  reg_month            reg_date  customer_id  \\\n",
       "0  2011-07-01    12648.000 2011-07-01 2011-07-08 11:55:00    12648.000   \n",
       "1  2011-08-01    12648.000 2011-07-01 2011-07-08 11:55:00          NaN   \n",
       "2  2011-09-01    12648.000 2011-07-01 2011-07-08 11:55:00          NaN   \n",
       "3  2011-10-01    12648.000 2011-07-01 2011-07-08 11:55:00          NaN   \n",
       "4  2011-11-01    12648.000 2011-07-01 2011-07-08 11:55:00          NaN   \n",
       "5  2011-12-01    12648.000 2011-07-01 2011-07-08 11:55:00          NaN   \n",
       "\n",
       "       month  revenue  \n",
       "0 2011-07-01  318.050  \n",
       "1        NaT      NaN  \n",
       "2        NaT      NaN  \n",
       "3        NaT      NaN  \n",
       "4        NaT      NaN  \n",
       "5        NaT      NaN  "
      ]
     },
     "execution_count": 1014,
     "metadata": {},
     "output_type": "execute_result"
    }
   ],
   "source": [
    "#Джоиним user_month и получаем аналитическую таблицу\n",
    "# Делаем templete\n",
    "sql = '''\n",
    "with users as \n",
    "(\n",
    "select\n",
    "case when t.customer_id is null then -1 else t.customer_id end as customer_id,\n",
    "min(date_trunc('month', t.invoice_date)) as reg_month,\n",
    "min(t.invoice_date) as reg_date\n",
    "\n",
    "from ecommerce t\n",
    "group by\n",
    "case when t.customer_id is null then -1 else t.customer_id end\n",
    "),\n",
    "\n",
    "dates as\n",
    "(\n",
    "SELECT date_trunc('day', dd):: date as month\n",
    "FROM generate_series\n",
    "        ((select min(date_trunc('month', t.invoice_date)) from ecommerce t)\n",
    "        ,(select max(date_trunc('month', t.invoice_date)) from ecommerce t)\n",
    "        , '1 month'::interval) dd\n",
    "),\n",
    "\n",
    "templete as\n",
    "(\n",
    "select t.month, u.* from dates t\n",
    "join users u on 1=1 and t.month >= u.reg_month\n",
    "),\n",
    "\n",
    "user_month as \n",
    "(\n",
    "select\n",
    "case when t.customer_id is null then -1 else t.customer_id end as customer_id,\n",
    "date_trunc('month', t.invoice_date) as month,\n",
    "sum(t.quantity * t.unitprice) as revenue\n",
    "\n",
    "from ecommerce t\n",
    "\n",
    "group by\n",
    "case when t.customer_id is null then -1 else t.customer_id end,\n",
    "date_trunc('month', t.invoice_date)\n",
    ")\n",
    "\n",
    "select * from templete t\n",
    "left join user_month u on t.customer_id = u.customer_id and t.month = u.month\n",
    "where t.customer_id = '12648'\n",
    "order by t.month\n",
    "'''\n",
    "select(sql, engine)"
   ]
  },
  {
   "cell_type": "markdown",
   "id": "32d9ed69-50aa-4ccc-aab2-e04533e895cc",
   "metadata": {},
   "source": [
    "## В SQL легче добавить т.к. все собрано в одном месте"
   ]
  },
  {
   "cell_type": "markdown",
   "id": "2e57b529-0e91-47e7-be4c-4ed029810fca",
   "metadata": {},
   "source": [
    "### Добавим общее количество"
   ]
  },
  {
   "cell_type": "code",
   "execution_count": 1019,
   "id": "9808aebe-63ab-454b-8a27-496d8633b27c",
   "metadata": {},
   "outputs": [
    {
     "data": {
      "text/html": [
       "<div>\n",
       "<style scoped>\n",
       "    .dataframe tbody tr th:only-of-type {\n",
       "        vertical-align: middle;\n",
       "    }\n",
       "\n",
       "    .dataframe tbody tr th {\n",
       "        vertical-align: top;\n",
       "    }\n",
       "\n",
       "    .dataframe thead th {\n",
       "        text-align: right;\n",
       "    }\n",
       "</style>\n",
       "<table border=\"1\" class=\"dataframe\">\n",
       "  <thead>\n",
       "    <tr style=\"text-align: right;\">\n",
       "      <th></th>\n",
       "      <th>month</th>\n",
       "      <th>customer_id</th>\n",
       "      <th>reg_month</th>\n",
       "      <th>reg_date</th>\n",
       "      <th>customer_id</th>\n",
       "      <th>month</th>\n",
       "      <th>revenue_sum</th>\n",
       "      <th>quantity_sum</th>\n",
       "    </tr>\n",
       "  </thead>\n",
       "  <tbody>\n",
       "    <tr>\n",
       "      <th>0</th>\n",
       "      <td>2011-07-01</td>\n",
       "      <td>12648.000</td>\n",
       "      <td>2011-07-01</td>\n",
       "      <td>2011-07-08 11:55:00</td>\n",
       "      <td>12648.000</td>\n",
       "      <td>2011-07-01</td>\n",
       "      <td>318.050</td>\n",
       "      <td>160</td>\n",
       "    </tr>\n",
       "    <tr>\n",
       "      <th>1</th>\n",
       "      <td>2011-08-01</td>\n",
       "      <td>12648.000</td>\n",
       "      <td>2011-07-01</td>\n",
       "      <td>2011-07-08 11:55:00</td>\n",
       "      <td>NaN</td>\n",
       "      <td>NaT</td>\n",
       "      <td>NaN</td>\n",
       "      <td>None</td>\n",
       "    </tr>\n",
       "    <tr>\n",
       "      <th>2</th>\n",
       "      <td>2011-09-01</td>\n",
       "      <td>12648.000</td>\n",
       "      <td>2011-07-01</td>\n",
       "      <td>2011-07-08 11:55:00</td>\n",
       "      <td>NaN</td>\n",
       "      <td>NaT</td>\n",
       "      <td>NaN</td>\n",
       "      <td>None</td>\n",
       "    </tr>\n",
       "    <tr>\n",
       "      <th>3</th>\n",
       "      <td>2011-10-01</td>\n",
       "      <td>12648.000</td>\n",
       "      <td>2011-07-01</td>\n",
       "      <td>2011-07-08 11:55:00</td>\n",
       "      <td>NaN</td>\n",
       "      <td>NaT</td>\n",
       "      <td>NaN</td>\n",
       "      <td>None</td>\n",
       "    </tr>\n",
       "    <tr>\n",
       "      <th>4</th>\n",
       "      <td>2011-11-01</td>\n",
       "      <td>12648.000</td>\n",
       "      <td>2011-07-01</td>\n",
       "      <td>2011-07-08 11:55:00</td>\n",
       "      <td>NaN</td>\n",
       "      <td>NaT</td>\n",
       "      <td>NaN</td>\n",
       "      <td>None</td>\n",
       "    </tr>\n",
       "    <tr>\n",
       "      <th>5</th>\n",
       "      <td>2011-12-01</td>\n",
       "      <td>12648.000</td>\n",
       "      <td>2011-07-01</td>\n",
       "      <td>2011-07-08 11:55:00</td>\n",
       "      <td>NaN</td>\n",
       "      <td>NaT</td>\n",
       "      <td>NaN</td>\n",
       "      <td>None</td>\n",
       "    </tr>\n",
       "  </tbody>\n",
       "</table>\n",
       "</div>"
      ],
      "text/plain": [
       "        month  customer_id  reg_month            reg_date  customer_id  \\\n",
       "0  2011-07-01    12648.000 2011-07-01 2011-07-08 11:55:00    12648.000   \n",
       "1  2011-08-01    12648.000 2011-07-01 2011-07-08 11:55:00          NaN   \n",
       "2  2011-09-01    12648.000 2011-07-01 2011-07-08 11:55:00          NaN   \n",
       "3  2011-10-01    12648.000 2011-07-01 2011-07-08 11:55:00          NaN   \n",
       "4  2011-11-01    12648.000 2011-07-01 2011-07-08 11:55:00          NaN   \n",
       "5  2011-12-01    12648.000 2011-07-01 2011-07-08 11:55:00          NaN   \n",
       "\n",
       "       month  revenue_sum quantity_sum  \n",
       "0 2011-07-01      318.050          160  \n",
       "1        NaT          NaN         None  \n",
       "2        NaT          NaN         None  \n",
       "3        NaT          NaN         None  \n",
       "4        NaT          NaN         None  \n",
       "5        NaT          NaN         None  "
      ]
     },
     "execution_count": 1019,
     "metadata": {},
     "output_type": "execute_result"
    }
   ],
   "source": [
    "#Джоиним user_month и получаем аналитическую таблицу\n",
    "# Делаем templete\n",
    "sql = '''\n",
    "with users as \n",
    "(\n",
    "select\n",
    "case when t.customer_id is null then -1 else t.customer_id end as customer_id,\n",
    "min(date_trunc('month', t.invoice_date)) as reg_month,\n",
    "min(t.invoice_date) as reg_date\n",
    "\n",
    "from ecommerce t\n",
    "group by\n",
    "case when t.customer_id is null then -1 else t.customer_id end\n",
    "),\n",
    "\n",
    "dates as\n",
    "(\n",
    "SELECT date_trunc('day', dd):: date as month\n",
    "FROM generate_series\n",
    "        ((select min(date_trunc('month', t.invoice_date)) from ecommerce t)\n",
    "        ,(select max(date_trunc('month', t.invoice_date)) from ecommerce t)\n",
    "        , '1 month'::interval) dd\n",
    "),\n",
    "\n",
    "templete as\n",
    "(\n",
    "select t.month, u.* from dates t\n",
    "join users u on 1=1 and t.month >= u.reg_month\n",
    "),\n",
    "\n",
    "user_month as \n",
    "(\n",
    "select\n",
    "case when t.customer_id is null then -1 else t.customer_id end as customer_id,\n",
    "date_trunc('month', t.invoice_date) as month,\n",
    "sum(t.quantity * t.unitprice) as revenue_sum,\n",
    "sum(t.quantity) as quantity_sum\n",
    "\n",
    "\n",
    "from ecommerce t\n",
    "\n",
    "group by\n",
    "case when t.customer_id is null then -1 else t.customer_id end,\n",
    "date_trunc('month', t.invoice_date)\n",
    ")\n",
    "\n",
    "select * from templete t\n",
    "left join user_month u on t.customer_id = u.customer_id and t.month = u.month\n",
    "where t.customer_id = '12648'\n",
    "order by t.month\n",
    "'''\n",
    "select(sql, engine)"
   ]
  },
  {
   "cell_type": "markdown",
   "id": "60d86253-1e9e-4af2-8184-61ee9eb8f16d",
   "metadata": {},
   "source": [
    "### !!! В названия удобнее добавлять префиксы sum и указываем нужные столбцы"
   ]
  },
  {
   "cell_type": "code",
   "execution_count": 1022,
   "id": "93268d26-7eb9-4932-b327-f37a1d564518",
   "metadata": {},
   "outputs": [
    {
     "data": {
      "text/html": [
       "<div>\n",
       "<style scoped>\n",
       "    .dataframe tbody tr th:only-of-type {\n",
       "        vertical-align: middle;\n",
       "    }\n",
       "\n",
       "    .dataframe tbody tr th {\n",
       "        vertical-align: top;\n",
       "    }\n",
       "\n",
       "    .dataframe thead th {\n",
       "        text-align: right;\n",
       "    }\n",
       "</style>\n",
       "<table border=\"1\" class=\"dataframe\">\n",
       "  <thead>\n",
       "    <tr style=\"text-align: right;\">\n",
       "      <th></th>\n",
       "      <th>month</th>\n",
       "      <th>customer_id</th>\n",
       "      <th>reg_month</th>\n",
       "      <th>reg_date</th>\n",
       "      <th>revenue_sum</th>\n",
       "      <th>quantity_sum</th>\n",
       "    </tr>\n",
       "  </thead>\n",
       "  <tbody>\n",
       "    <tr>\n",
       "      <th>0</th>\n",
       "      <td>2011-07-01</td>\n",
       "      <td>12648.000</td>\n",
       "      <td>2011-07-01</td>\n",
       "      <td>2011-07-08 11:55:00</td>\n",
       "      <td>318.050</td>\n",
       "      <td>160</td>\n",
       "    </tr>\n",
       "    <tr>\n",
       "      <th>1</th>\n",
       "      <td>2011-08-01</td>\n",
       "      <td>12648.000</td>\n",
       "      <td>2011-07-01</td>\n",
       "      <td>2011-07-08 11:55:00</td>\n",
       "      <td>NaN</td>\n",
       "      <td>None</td>\n",
       "    </tr>\n",
       "    <tr>\n",
       "      <th>2</th>\n",
       "      <td>2011-09-01</td>\n",
       "      <td>12648.000</td>\n",
       "      <td>2011-07-01</td>\n",
       "      <td>2011-07-08 11:55:00</td>\n",
       "      <td>NaN</td>\n",
       "      <td>None</td>\n",
       "    </tr>\n",
       "    <tr>\n",
       "      <th>3</th>\n",
       "      <td>2011-10-01</td>\n",
       "      <td>12648.000</td>\n",
       "      <td>2011-07-01</td>\n",
       "      <td>2011-07-08 11:55:00</td>\n",
       "      <td>NaN</td>\n",
       "      <td>None</td>\n",
       "    </tr>\n",
       "    <tr>\n",
       "      <th>4</th>\n",
       "      <td>2011-11-01</td>\n",
       "      <td>12648.000</td>\n",
       "      <td>2011-07-01</td>\n",
       "      <td>2011-07-08 11:55:00</td>\n",
       "      <td>NaN</td>\n",
       "      <td>None</td>\n",
       "    </tr>\n",
       "    <tr>\n",
       "      <th>5</th>\n",
       "      <td>2011-12-01</td>\n",
       "      <td>12648.000</td>\n",
       "      <td>2011-07-01</td>\n",
       "      <td>2011-07-08 11:55:00</td>\n",
       "      <td>NaN</td>\n",
       "      <td>None</td>\n",
       "    </tr>\n",
       "  </tbody>\n",
       "</table>\n",
       "</div>"
      ],
      "text/plain": [
       "        month  customer_id  reg_month            reg_date  revenue_sum  \\\n",
       "0  2011-07-01    12648.000 2011-07-01 2011-07-08 11:55:00      318.050   \n",
       "1  2011-08-01    12648.000 2011-07-01 2011-07-08 11:55:00          NaN   \n",
       "2  2011-09-01    12648.000 2011-07-01 2011-07-08 11:55:00          NaN   \n",
       "3  2011-10-01    12648.000 2011-07-01 2011-07-08 11:55:00          NaN   \n",
       "4  2011-11-01    12648.000 2011-07-01 2011-07-08 11:55:00          NaN   \n",
       "5  2011-12-01    12648.000 2011-07-01 2011-07-08 11:55:00          NaN   \n",
       "\n",
       "  quantity_sum  \n",
       "0          160  \n",
       "1         None  \n",
       "2         None  \n",
       "3         None  \n",
       "4         None  \n",
       "5         None  "
      ]
     },
     "execution_count": 1022,
     "metadata": {},
     "output_type": "execute_result"
    }
   ],
   "source": [
    "#Джоиним user_month и получаем аналитическую таблицу\n",
    "# Делаем templete\n",
    "sql = '''\n",
    "with users as \n",
    "(\n",
    "select\n",
    "case when t.customer_id is null then -1 else t.customer_id end as customer_id,\n",
    "min(date_trunc('month', t.invoice_date)) as reg_month,\n",
    "min(t.invoice_date) as reg_date\n",
    "\n",
    "from ecommerce t\n",
    "group by\n",
    "case when t.customer_id is null then -1 else t.customer_id end\n",
    "),\n",
    "\n",
    "dates as\n",
    "(\n",
    "SELECT date_trunc('day', dd):: date as month\n",
    "FROM generate_series\n",
    "        ((select min(date_trunc('month', t.invoice_date)) from ecommerce t)\n",
    "        ,(select max(date_trunc('month', t.invoice_date)) from ecommerce t)\n",
    "        , '1 month'::interval) dd\n",
    "),\n",
    "\n",
    "templete as\n",
    "(\n",
    "select t.month, u.* from dates t\n",
    "join users u on 1=1 and t.month >= u.reg_month\n",
    "),\n",
    "\n",
    "user_month as \n",
    "(\n",
    "select\n",
    "case when t.customer_id is null then -1 else t.customer_id end as customer_id,\n",
    "date_trunc('month', t.invoice_date) as month,\n",
    "sum(t.quantity * t.unitprice) as revenue_sum,\n",
    "sum(t.quantity) as quantity_sum\n",
    "\n",
    "\n",
    "from ecommerce t\n",
    "\n",
    "group by\n",
    "case when t.customer_id is null then -1 else t.customer_id end,\n",
    "date_trunc('month', t.invoice_date)\n",
    ")\n",
    "\n",
    "select t.*, u.revenue_sum, u.quantity_sum from templete t\n",
    "left join user_month u on t.customer_id = u.customer_id and t.month = u.month\n",
    "where t.customer_id = '12648'\n",
    "order by t.month\n",
    "'''\n",
    "select(sql, engine)"
   ]
  },
  {
   "cell_type": "code",
   "execution_count": 1029,
   "id": "5f71f3ab-5435-4859-a81d-23197b60c5d5",
   "metadata": {},
   "outputs": [
    {
     "data": {
      "text/html": [
       "<div>\n",
       "<style scoped>\n",
       "    .dataframe tbody tr th:only-of-type {\n",
       "        vertical-align: middle;\n",
       "    }\n",
       "\n",
       "    .dataframe tbody tr th {\n",
       "        vertical-align: top;\n",
       "    }\n",
       "\n",
       "    .dataframe thead th {\n",
       "        text-align: right;\n",
       "    }\n",
       "</style>\n",
       "<table border=\"1\" class=\"dataframe\">\n",
       "  <thead>\n",
       "    <tr style=\"text-align: right;\">\n",
       "      <th></th>\n",
       "      <th>month</th>\n",
       "      <th>customer_id</th>\n",
       "      <th>reg_month</th>\n",
       "      <th>reg_date</th>\n",
       "      <th>revenue_sum</th>\n",
       "      <th>quantity_sum</th>\n",
       "      <th>description_cnt_distinct</th>\n",
       "      <th>user</th>\n",
       "      <th>active</th>\n",
       "      <th>new</th>\n",
       "    </tr>\n",
       "  </thead>\n",
       "  <tbody>\n",
       "    <tr>\n",
       "      <th>0</th>\n",
       "      <td>2011-07-01</td>\n",
       "      <td>12648.000</td>\n",
       "      <td>2011-07-01</td>\n",
       "      <td>2011-07-08 11:55:00</td>\n",
       "      <td>318.050</td>\n",
       "      <td>160</td>\n",
       "      <td>21.000</td>\n",
       "      <td>1</td>\n",
       "      <td>1</td>\n",
       "      <td>1</td>\n",
       "    </tr>\n",
       "    <tr>\n",
       "      <th>1</th>\n",
       "      <td>2011-08-01</td>\n",
       "      <td>12648.000</td>\n",
       "      <td>2011-07-01</td>\n",
       "      <td>2011-07-08 11:55:00</td>\n",
       "      <td>NaN</td>\n",
       "      <td>None</td>\n",
       "      <td>NaN</td>\n",
       "      <td>1</td>\n",
       "      <td>0</td>\n",
       "      <td>0</td>\n",
       "    </tr>\n",
       "    <tr>\n",
       "      <th>2</th>\n",
       "      <td>2011-09-01</td>\n",
       "      <td>12648.000</td>\n",
       "      <td>2011-07-01</td>\n",
       "      <td>2011-07-08 11:55:00</td>\n",
       "      <td>NaN</td>\n",
       "      <td>None</td>\n",
       "      <td>NaN</td>\n",
       "      <td>1</td>\n",
       "      <td>0</td>\n",
       "      <td>0</td>\n",
       "    </tr>\n",
       "    <tr>\n",
       "      <th>3</th>\n",
       "      <td>2011-10-01</td>\n",
       "      <td>12648.000</td>\n",
       "      <td>2011-07-01</td>\n",
       "      <td>2011-07-08 11:55:00</td>\n",
       "      <td>NaN</td>\n",
       "      <td>None</td>\n",
       "      <td>NaN</td>\n",
       "      <td>1</td>\n",
       "      <td>0</td>\n",
       "      <td>0</td>\n",
       "    </tr>\n",
       "    <tr>\n",
       "      <th>4</th>\n",
       "      <td>2011-11-01</td>\n",
       "      <td>12648.000</td>\n",
       "      <td>2011-07-01</td>\n",
       "      <td>2011-07-08 11:55:00</td>\n",
       "      <td>NaN</td>\n",
       "      <td>None</td>\n",
       "      <td>NaN</td>\n",
       "      <td>1</td>\n",
       "      <td>0</td>\n",
       "      <td>0</td>\n",
       "    </tr>\n",
       "    <tr>\n",
       "      <th>5</th>\n",
       "      <td>2011-12-01</td>\n",
       "      <td>12648.000</td>\n",
       "      <td>2011-07-01</td>\n",
       "      <td>2011-07-08 11:55:00</td>\n",
       "      <td>NaN</td>\n",
       "      <td>None</td>\n",
       "      <td>NaN</td>\n",
       "      <td>1</td>\n",
       "      <td>0</td>\n",
       "      <td>0</td>\n",
       "    </tr>\n",
       "  </tbody>\n",
       "</table>\n",
       "</div>"
      ],
      "text/plain": [
       "        month  customer_id  reg_month            reg_date  revenue_sum  \\\n",
       "0  2011-07-01    12648.000 2011-07-01 2011-07-08 11:55:00      318.050   \n",
       "1  2011-08-01    12648.000 2011-07-01 2011-07-08 11:55:00          NaN   \n",
       "2  2011-09-01    12648.000 2011-07-01 2011-07-08 11:55:00          NaN   \n",
       "3  2011-10-01    12648.000 2011-07-01 2011-07-08 11:55:00          NaN   \n",
       "4  2011-11-01    12648.000 2011-07-01 2011-07-08 11:55:00          NaN   \n",
       "5  2011-12-01    12648.000 2011-07-01 2011-07-08 11:55:00          NaN   \n",
       "\n",
       "  quantity_sum  description_cnt_distinct  user  active  new  \n",
       "0          160                    21.000     1       1    1  \n",
       "1         None                       NaN     1       0    0  \n",
       "2         None                       NaN     1       0    0  \n",
       "3         None                       NaN     1       0    0  \n",
       "4         None                       NaN     1       0    0  \n",
       "5         None                       NaN     1       0    0  "
      ]
     },
     "execution_count": 1029,
     "metadata": {},
     "output_type": "execute_result"
    }
   ],
   "source": [
    "#добавляю уникальные продукты\n",
    "sql = '''\n",
    "with users as \n",
    "(\n",
    "select\n",
    "case when t.customer_id is null then -1 else t.customer_id end as customer_id,\n",
    "min(date_trunc('month', t.invoice_date)) as reg_month,\n",
    "min(t.invoice_date) as reg_date\n",
    "\n",
    "from ecommerce t\n",
    "group by\n",
    "case when t.customer_id is null then -1 else t.customer_id end\n",
    "),\n",
    "\n",
    "dates as\n",
    "(\n",
    "SELECT date_trunc('day', dd):: date as month\n",
    "FROM generate_series\n",
    "        ((select min(date_trunc('month', t.invoice_date)) from ecommerce t)\n",
    "        ,(select max(date_trunc('month', t.invoice_date)) from ecommerce t)\n",
    "        , '1 month'::interval) dd\n",
    "),\n",
    "\n",
    "templete as\n",
    "(\n",
    "select t.month, u.* from dates t\n",
    "join users u on 1=1 and t.month >= u.reg_month\n",
    "),\n",
    "\n",
    "user_month as \n",
    "(\n",
    "select\n",
    "case when t.customer_id is null then -1 else t.customer_id end as customer_id,\n",
    "date_trunc('month', t.invoice_date) as month,\n",
    "sum(t.quantity * t.unitprice) as revenue_sum,\n",
    "sum(t.quantity) as quantity_sum,\n",
    "count(distinct t.description) as description_cnt_distinct\n",
    "\n",
    "from ecommerce t\n",
    "\n",
    "group by\n",
    "case when t.customer_id is null then -1 else t.customer_id end,\n",
    "date_trunc('month', t.invoice_date)\n",
    ")\n",
    "\n",
    "select t.*,\n",
    "u.revenue_sum,\n",
    "u.quantity_sum,\n",
    "u.description_cnt_distinct,\n",
    "1 as user,\n",
    "case when u.revenue_sum is not null then 1 else 0 end as active,\n",
    "case when t.month = t.reg_month then 1 else 0 end as new\n",
    "\n",
    "\n",
    "from templete t\n",
    "left join user_month u on t.customer_id = u.customer_id and t.month = u.month\n",
    "where t.customer_id = '12648'\n",
    "order by t.month\n",
    "'''\n",
    "select(sql, engine)"
   ]
  },
  {
   "cell_type": "markdown",
   "id": "434285e1-f06d-4192-ac9a-c17c30cccc5e",
   "metadata": {},
   "source": [
    "## Создаем ежемесячный отчет"
   ]
  },
  {
   "cell_type": "code",
   "execution_count": 1053,
   "id": "bfc80909-bd81-491f-b9c3-114f760f1d87",
   "metadata": {},
   "outputs": [
    {
     "data": {
      "text/html": [
       "<div>\n",
       "<style scoped>\n",
       "    .dataframe tbody tr th:only-of-type {\n",
       "        vertical-align: middle;\n",
       "    }\n",
       "\n",
       "    .dataframe tbody tr th {\n",
       "        vertical-align: top;\n",
       "    }\n",
       "\n",
       "    .dataframe thead th {\n",
       "        text-align: right;\n",
       "    }\n",
       "</style>\n",
       "<table border=\"1\" class=\"dataframe\">\n",
       "  <thead>\n",
       "    <tr style=\"text-align: right;\">\n",
       "      <th></th>\n",
       "      <th>month</th>\n",
       "      <th>user</th>\n",
       "      <th>active</th>\n",
       "      <th>active_pct</th>\n",
       "      <th>new</th>\n",
       "      <th>revenue</th>\n",
       "    </tr>\n",
       "  </thead>\n",
       "  <tbody>\n",
       "    <tr>\n",
       "      <th>0</th>\n",
       "      <td>2010-12-01</td>\n",
       "      <td>949</td>\n",
       "      <td>949</td>\n",
       "      <td>1.00000000000000000000</td>\n",
       "      <td>949</td>\n",
       "      <td>748957.020</td>\n",
       "    </tr>\n",
       "    <tr>\n",
       "      <th>1</th>\n",
       "      <td>2011-01-01</td>\n",
       "      <td>1370</td>\n",
       "      <td>784</td>\n",
       "      <td>0.57226277372262773723</td>\n",
       "      <td>421</td>\n",
       "      <td>560000.260</td>\n",
       "    </tr>\n",
       "    <tr>\n",
       "      <th>2</th>\n",
       "      <td>2011-02-01</td>\n",
       "      <td>1750</td>\n",
       "      <td>799</td>\n",
       "      <td>0.45657142857142857143</td>\n",
       "      <td>380</td>\n",
       "      <td>498062.650</td>\n",
       "    </tr>\n",
       "    <tr>\n",
       "      <th>3</th>\n",
       "      <td>2011-03-01</td>\n",
       "      <td>2190</td>\n",
       "      <td>1021</td>\n",
       "      <td>0.46621004566210045662</td>\n",
       "      <td>440</td>\n",
       "      <td>683267.080</td>\n",
       "    </tr>\n",
       "    <tr>\n",
       "      <th>4</th>\n",
       "      <td>2011-04-01</td>\n",
       "      <td>2489</td>\n",
       "      <td>900</td>\n",
       "      <td>0.36159100040176777822</td>\n",
       "      <td>299</td>\n",
       "      <td>493207.121</td>\n",
       "    </tr>\n",
       "    <tr>\n",
       "      <th>5</th>\n",
       "      <td>2011-05-01</td>\n",
       "      <td>2768</td>\n",
       "      <td>1080</td>\n",
       "      <td>0.39017341040462427746</td>\n",
       "      <td>279</td>\n",
       "      <td>723333.510</td>\n",
       "    </tr>\n",
       "    <tr>\n",
       "      <th>6</th>\n",
       "      <td>2011-06-01</td>\n",
       "      <td>3003</td>\n",
       "      <td>1052</td>\n",
       "      <td>0.35031635031635031635</td>\n",
       "      <td>235</td>\n",
       "      <td>691123.120</td>\n",
       "    </tr>\n",
       "    <tr>\n",
       "      <th>7</th>\n",
       "      <td>2011-07-01</td>\n",
       "      <td>3194</td>\n",
       "      <td>994</td>\n",
       "      <td>0.31120851596743894803</td>\n",
       "      <td>191</td>\n",
       "      <td>681300.111</td>\n",
       "    </tr>\n",
       "    <tr>\n",
       "      <th>8</th>\n",
       "      <td>2011-08-01</td>\n",
       "      <td>3361</td>\n",
       "      <td>981</td>\n",
       "      <td>0.29187741743528711693</td>\n",
       "      <td>167</td>\n",
       "      <td>682680.510</td>\n",
       "    </tr>\n",
       "    <tr>\n",
       "      <th>9</th>\n",
       "      <td>2011-09-01</td>\n",
       "      <td>3659</td>\n",
       "      <td>1303</td>\n",
       "      <td>0.35610822629133643072</td>\n",
       "      <td>298</td>\n",
       "      <td>1019687.622</td>\n",
       "    </tr>\n",
       "    <tr>\n",
       "      <th>10</th>\n",
       "      <td>2011-10-01</td>\n",
       "      <td>4011</td>\n",
       "      <td>1426</td>\n",
       "      <td>0.35552231363749688357</td>\n",
       "      <td>352</td>\n",
       "      <td>1070704.670</td>\n",
       "    </tr>\n",
       "    <tr>\n",
       "      <th>11</th>\n",
       "      <td>2011-11-01</td>\n",
       "      <td>4332</td>\n",
       "      <td>1712</td>\n",
       "      <td>0.39519852262234533703</td>\n",
       "      <td>321</td>\n",
       "      <td>1461756.250</td>\n",
       "    </tr>\n",
       "    <tr>\n",
       "      <th>12</th>\n",
       "      <td>2011-12-01</td>\n",
       "      <td>4373</td>\n",
       "      <td>687</td>\n",
       "      <td>0.15710038874914246513</td>\n",
       "      <td>41</td>\n",
       "      <td>433668.010</td>\n",
       "    </tr>\n",
       "  </tbody>\n",
       "</table>\n",
       "</div>"
      ],
      "text/plain": [
       "         month  user  active              active_pct  new     revenue\n",
       "0   2010-12-01   949     949  1.00000000000000000000  949  748957.020\n",
       "1   2011-01-01  1370     784  0.57226277372262773723  421  560000.260\n",
       "2   2011-02-01  1750     799  0.45657142857142857143  380  498062.650\n",
       "3   2011-03-01  2190    1021  0.46621004566210045662  440  683267.080\n",
       "4   2011-04-01  2489     900  0.36159100040176777822  299  493207.121\n",
       "5   2011-05-01  2768    1080  0.39017341040462427746  279  723333.510\n",
       "6   2011-06-01  3003    1052  0.35031635031635031635  235  691123.120\n",
       "7   2011-07-01  3194     994  0.31120851596743894803  191  681300.111\n",
       "8   2011-08-01  3361     981  0.29187741743528711693  167  682680.510\n",
       "9   2011-09-01  3659    1303  0.35610822629133643072  298 1019687.622\n",
       "10  2011-10-01  4011    1426  0.35552231363749688357  352 1070704.670\n",
       "11  2011-11-01  4332    1712  0.39519852262234533703  321 1461756.250\n",
       "12  2011-12-01  4373     687  0.15710038874914246513   41  433668.010"
      ]
     },
     "execution_count": 1053,
     "metadata": {},
     "output_type": "execute_result"
    }
   ],
   "source": [
    "#добавляю уникальные продукты\n",
    "sql = '''\n",
    "with users as \n",
    "(\n",
    "select\n",
    "case when t.customer_id is null then -1 else t.customer_id end as customer_id,\n",
    "min(date_trunc('month', t.invoice_date)) as reg_month,\n",
    "min(t.invoice_date) as reg_date\n",
    "\n",
    "from ecommerce t\n",
    "group by\n",
    "case when t.customer_id is null then -1 else t.customer_id end\n",
    "),\n",
    "\n",
    "dates as\n",
    "(\n",
    "SELECT date_trunc('day', dd):: date as month\n",
    "FROM generate_series\n",
    "        ((select min(date_trunc('month', t.invoice_date)) from ecommerce t)\n",
    "        ,(select max(date_trunc('month', t.invoice_date)) from ecommerce t)\n",
    "        , '1 month'::interval) dd\n",
    "),\n",
    "\n",
    "templete as\n",
    "(\n",
    "select t.month, u.* from dates t\n",
    "join users u on 1=1 and t.month >= u.reg_month\n",
    "),\n",
    "\n",
    "user_month as \n",
    "(\n",
    "select\n",
    "case when t.customer_id is null then -1 else t.customer_id end as customer_id,\n",
    "date_trunc('month', t.invoice_date) as month,\n",
    "sum(t.quantity * t.unitprice) as revenue_sum,\n",
    "sum(t.quantity) as quantity_sum,\n",
    "count(distinct t.description) as description_cnt_distinct\n",
    "\n",
    "from ecommerce t\n",
    "\n",
    "group by\n",
    "case when t.customer_id is null then -1 else t.customer_id end,\n",
    "date_trunc('month', t.invoice_date)\n",
    "),\n",
    "\n",
    "analytical_table as \n",
    "(\n",
    "select t.*,\n",
    "u.revenue_sum,\n",
    "u.quantity_sum,\n",
    "u.description_cnt_distinct,\n",
    "1 as user,\n",
    "case when u.revenue_sum is not null then 1 else 0 end as active,\n",
    "case when t.month = t.reg_month then 1 else 0 end as new\n",
    "\n",
    "\n",
    "from templete t\n",
    "left join user_month u on t.customer_id = u.customer_id and t.month = u.month\n",
    ")\n",
    "\n",
    "select\n",
    "t.month,\n",
    "sum(t.user) as user,\n",
    "sum(t.active) as active,\n",
    "avg(t.active) as active_pct,\n",
    "sum(t.new) as new,\n",
    "sum(t.revenue_sum) as revenue\n",
    "\n",
    "\n",
    "\n",
    "from analytical_table t\n",
    "group by t.month\n",
    "order by t.month\n",
    "\n",
    "'''\n",
    "select(sql, engine)"
   ]
  },
  {
   "cell_type": "markdown",
   "id": "1cae587d-2d68-46df-bfee-871d3279185e",
   "metadata": {},
   "source": [
    "### Делаем проверку сумм\n"
   ]
  },
  {
   "cell_type": "code",
   "execution_count": 1070,
   "id": "bb262a18-b0c5-41b2-b404-3be08c26bb46",
   "metadata": {},
   "outputs": [
    {
     "data": {
      "text/html": [
       "<div>\n",
       "<style scoped>\n",
       "    .dataframe tbody tr th:only-of-type {\n",
       "        vertical-align: middle;\n",
       "    }\n",
       "\n",
       "    .dataframe tbody tr th {\n",
       "        vertical-align: top;\n",
       "    }\n",
       "\n",
       "    .dataframe thead th {\n",
       "        text-align: right;\n",
       "    }\n",
       "</style>\n",
       "<table border=\"1\" class=\"dataframe\">\n",
       "  <thead>\n",
       "    <tr style=\"text-align: right;\">\n",
       "      <th></th>\n",
       "      <th>month</th>\n",
       "      <th>user</th>\n",
       "      <th>active_sum</th>\n",
       "      <th>active_pct_sum</th>\n",
       "      <th>new_sum</th>\n",
       "      <th>revenue_sun</th>\n",
       "      <th>quantity_avg</th>\n",
       "      <th>description_cnt_distinct_avg</th>\n",
       "    </tr>\n",
       "  </thead>\n",
       "  <tbody>\n",
       "    <tr>\n",
       "      <th>0</th>\n",
       "      <td>2010-12-01</td>\n",
       "      <td>949</td>\n",
       "      <td>949</td>\n",
       "      <td>1.00000000000000000000</td>\n",
       "      <td>949</td>\n",
       "      <td>748957.020</td>\n",
       "      <td>789.207</td>\n",
       "      <td>27.1464699683877766</td>\n",
       "    </tr>\n",
       "    <tr>\n",
       "      <th>1</th>\n",
       "      <td>2011-01-01</td>\n",
       "      <td>1370</td>\n",
       "      <td>784</td>\n",
       "      <td>0.57226277372262773723</td>\n",
       "      <td>421</td>\n",
       "      <td>560000.260</td>\n",
       "      <td>714.286</td>\n",
       "      <td>28.1900510204081633</td>\n",
       "    </tr>\n",
       "    <tr>\n",
       "      <th>2</th>\n",
       "      <td>2011-02-01</td>\n",
       "      <td>1750</td>\n",
       "      <td>799</td>\n",
       "      <td>0.45657142857142857143</td>\n",
       "      <td>380</td>\n",
       "      <td>498062.650</td>\n",
       "      <td>623.358</td>\n",
       "      <td>25.7133917396745932</td>\n",
       "    </tr>\n",
       "    <tr>\n",
       "      <th>3</th>\n",
       "      <td>2011-03-01</td>\n",
       "      <td>2190</td>\n",
       "      <td>1021</td>\n",
       "      <td>0.46621004566210045662</td>\n",
       "      <td>440</td>\n",
       "      <td>683267.080</td>\n",
       "      <td>669.214</td>\n",
       "      <td>26.8334965719882468</td>\n",
       "    </tr>\n",
       "    <tr>\n",
       "      <th>4</th>\n",
       "      <td>2011-04-01</td>\n",
       "      <td>2489</td>\n",
       "      <td>900</td>\n",
       "      <td>0.36159100040176777822</td>\n",
       "      <td>299</td>\n",
       "      <td>493207.121</td>\n",
       "      <td>548.008</td>\n",
       "      <td>25.6844444444444444</td>\n",
       "    </tr>\n",
       "    <tr>\n",
       "      <th>5</th>\n",
       "      <td>2011-05-01</td>\n",
       "      <td>2768</td>\n",
       "      <td>1080</td>\n",
       "      <td>0.39017341040462427746</td>\n",
       "      <td>279</td>\n",
       "      <td>723333.510</td>\n",
       "      <td>669.753</td>\n",
       "      <td>26.0685185185185185</td>\n",
       "    </tr>\n",
       "    <tr>\n",
       "      <th>6</th>\n",
       "      <td>2011-06-01</td>\n",
       "      <td>3003</td>\n",
       "      <td>1052</td>\n",
       "      <td>0.35031635031635031635</td>\n",
       "      <td>235</td>\n",
       "      <td>691123.120</td>\n",
       "      <td>656.961</td>\n",
       "      <td>26.1311787072243346</td>\n",
       "    </tr>\n",
       "    <tr>\n",
       "      <th>7</th>\n",
       "      <td>2011-07-01</td>\n",
       "      <td>3194</td>\n",
       "      <td>994</td>\n",
       "      <td>0.31120851596743894803</td>\n",
       "      <td>191</td>\n",
       "      <td>681300.111</td>\n",
       "      <td>685.413</td>\n",
       "      <td>27.2002012072434608</td>\n",
       "    </tr>\n",
       "    <tr>\n",
       "      <th>8</th>\n",
       "      <td>2011-08-01</td>\n",
       "      <td>3361</td>\n",
       "      <td>981</td>\n",
       "      <td>0.29187741743528711693</td>\n",
       "      <td>167</td>\n",
       "      <td>682680.510</td>\n",
       "      <td>695.903</td>\n",
       "      <td>27.7726809378185525</td>\n",
       "    </tr>\n",
       "    <tr>\n",
       "      <th>9</th>\n",
       "      <td>2011-09-01</td>\n",
       "      <td>3659</td>\n",
       "      <td>1303</td>\n",
       "      <td>0.35610822629133643072</td>\n",
       "      <td>298</td>\n",
       "      <td>1019687.622</td>\n",
       "      <td>782.569</td>\n",
       "      <td>30.2594013814274751</td>\n",
       "    </tr>\n",
       "    <tr>\n",
       "      <th>10</th>\n",
       "      <td>2011-10-01</td>\n",
       "      <td>4011</td>\n",
       "      <td>1426</td>\n",
       "      <td>0.35552231363749688357</td>\n",
       "      <td>352</td>\n",
       "      <td>1070704.670</td>\n",
       "      <td>750.845</td>\n",
       "      <td>32.9039270687237027</td>\n",
       "    </tr>\n",
       "    <tr>\n",
       "      <th>11</th>\n",
       "      <td>2011-11-01</td>\n",
       "      <td>4332</td>\n",
       "      <td>1712</td>\n",
       "      <td>0.39519852262234533703</td>\n",
       "      <td>321</td>\n",
       "      <td>1461756.250</td>\n",
       "      <td>853.830</td>\n",
       "      <td>33.8300233644859813</td>\n",
       "    </tr>\n",
       "    <tr>\n",
       "      <th>12</th>\n",
       "      <td>2011-12-01</td>\n",
       "      <td>4373</td>\n",
       "      <td>687</td>\n",
       "      <td>0.15710038874914246513</td>\n",
       "      <td>41</td>\n",
       "      <td>433668.010</td>\n",
       "      <td>631.249</td>\n",
       "      <td>26.6244541484716157</td>\n",
       "    </tr>\n",
       "  </tbody>\n",
       "</table>\n",
       "</div>"
      ],
      "text/plain": [
       "         month  user  active_sum          active_pct_sum  new_sum  \\\n",
       "0   2010-12-01   949         949  1.00000000000000000000      949   \n",
       "1   2011-01-01  1370         784  0.57226277372262773723      421   \n",
       "2   2011-02-01  1750         799  0.45657142857142857143      380   \n",
       "3   2011-03-01  2190        1021  0.46621004566210045662      440   \n",
       "4   2011-04-01  2489         900  0.36159100040176777822      299   \n",
       "5   2011-05-01  2768        1080  0.39017341040462427746      279   \n",
       "6   2011-06-01  3003        1052  0.35031635031635031635      235   \n",
       "7   2011-07-01  3194         994  0.31120851596743894803      191   \n",
       "8   2011-08-01  3361         981  0.29187741743528711693      167   \n",
       "9   2011-09-01  3659        1303  0.35610822629133643072      298   \n",
       "10  2011-10-01  4011        1426  0.35552231363749688357      352   \n",
       "11  2011-11-01  4332        1712  0.39519852262234533703      321   \n",
       "12  2011-12-01  4373         687  0.15710038874914246513       41   \n",
       "\n",
       "    revenue_sun  quantity_avg description_cnt_distinct_avg  \n",
       "0    748957.020       789.207          27.1464699683877766  \n",
       "1    560000.260       714.286          28.1900510204081633  \n",
       "2    498062.650       623.358          25.7133917396745932  \n",
       "3    683267.080       669.214          26.8334965719882468  \n",
       "4    493207.121       548.008          25.6844444444444444  \n",
       "5    723333.510       669.753          26.0685185185185185  \n",
       "6    691123.120       656.961          26.1311787072243346  \n",
       "7    681300.111       685.413          27.2002012072434608  \n",
       "8    682680.510       695.903          27.7726809378185525  \n",
       "9   1019687.622       782.569          30.2594013814274751  \n",
       "10  1070704.670       750.845          32.9039270687237027  \n",
       "11  1461756.250       853.830          33.8300233644859813  \n",
       "12   433668.010       631.249          26.6244541484716157  "
      ]
     },
     "execution_count": 1070,
     "metadata": {},
     "output_type": "execute_result"
    }
   ],
   "source": [
    "#делаем проверку суммы\n",
    "sql = '''\n",
    "with users as \n",
    "(\n",
    "select\n",
    "case when t.customer_id is null then -1 else t.customer_id end as customer_id,\n",
    "min(date_trunc('month', t.invoice_date)) as reg_month,\n",
    "min(t.invoice_date) as reg_date\n",
    "\n",
    "from ecommerce t\n",
    "group by\n",
    "case when t.customer_id is null then -1 else t.customer_id end\n",
    "),\n",
    "\n",
    "dates as\n",
    "(\n",
    "SELECT date_trunc('day', dd):: date as month\n",
    "FROM generate_series\n",
    "        ((select min(date_trunc('month', t.invoice_date)) from ecommerce t)\n",
    "        ,(select max(date_trunc('month', t.invoice_date)) from ecommerce t)\n",
    "        , '1 month'::interval) dd\n",
    "),\n",
    "\n",
    "templete as\n",
    "(\n",
    "select t.month, u.* from dates t\n",
    "join users u on 1=1 and t.month >= u.reg_month\n",
    "),\n",
    "\n",
    "user_month as \n",
    "(\n",
    "select\n",
    "case when t.customer_id is null then -1 else t.customer_id end as customer_id,\n",
    "date_trunc('month', t.invoice_date) as month,\n",
    "sum(t.quantity * t.unitprice) as revenue_sum,\n",
    "sum(t.quantity) as quantity_sum,\n",
    "count(distinct t.description) as description_cnt_distinct\n",
    "\n",
    "from ecommerce t\n",
    "\n",
    "group by\n",
    "case when t.customer_id is null then -1 else t.customer_id end,\n",
    "date_trunc('month', t.invoice_date)\n",
    "),\n",
    "\n",
    "analytical_table as \n",
    "(\n",
    "select t.*,\n",
    "u.revenue_sum,\n",
    "u.quantity_sum,\n",
    "u.description_cnt_distinct,\n",
    "1 as user,\n",
    "case when u.revenue_sum is not null then 1 else 0 end as active,\n",
    "case when t.month = t.reg_month then 1 else 0 end as new\n",
    "\n",
    "\n",
    "from templete t\n",
    "left join user_month u on t.customer_id = u.customer_id and t.month = u.month\n",
    ")\n",
    "\n",
    "select\n",
    "t.month,\n",
    "sum(t.user) as user,\n",
    "sum(t.active) as active_sum,\n",
    "avg(t.active) as active_pct_sum,\n",
    "sum(t.new) as new_sum,\n",
    "sum(t.revenue_sum) as revenue_sun,\n",
    "avg(t.revenue_sum) as quantity_avg,\n",
    "avg(t.description_cnt_distinct) as description_cnt_distinct_avg\n",
    "\n",
    "\n",
    "\n",
    "from analytical_table t\n",
    "group by t.month\n",
    "order by t.month\n",
    "\n",
    "'''\n",
    "select(sql, engine)"
   ]
  },
  {
   "cell_type": "code",
   "execution_count": 1065,
   "id": "96c6119f-f16c-4887-a49b-70747da3536b",
   "metadata": {},
   "outputs": [],
   "source": [
    "t_1 = select(sql, engine)"
   ]
  },
  {
   "cell_type": "code",
   "execution_count": 1066,
   "id": "bc79dfb2-5cd7-4c33-b4ad-da1f764a7395",
   "metadata": {},
   "outputs": [
    {
     "data": {
      "text/plain": [
       "9747747.934000008"
      ]
     },
     "execution_count": 1066,
     "metadata": {},
     "output_type": "execute_result"
    }
   ],
   "source": [
    "t_1['revenue'].sum()"
   ]
  },
  {
   "cell_type": "code",
   "execution_count": 1067,
   "id": "dc0bb731-9878-4e3b-8313-31aed29cba25",
   "metadata": {},
   "outputs": [
    {
     "data": {
      "text/html": [
       "<div>\n",
       "<style scoped>\n",
       "    .dataframe tbody tr th:only-of-type {\n",
       "        vertical-align: middle;\n",
       "    }\n",
       "\n",
       "    .dataframe tbody tr th {\n",
       "        vertical-align: top;\n",
       "    }\n",
       "\n",
       "    .dataframe thead th {\n",
       "        text-align: right;\n",
       "    }\n",
       "</style>\n",
       "<table border=\"1\" class=\"dataframe\">\n",
       "  <thead>\n",
       "    <tr style=\"text-align: right;\">\n",
       "      <th></th>\n",
       "      <th>revenue_sum</th>\n",
       "    </tr>\n",
       "  </thead>\n",
       "  <tbody>\n",
       "    <tr>\n",
       "      <th>0</th>\n",
       "      <td>9747747.934</td>\n",
       "    </tr>\n",
       "  </tbody>\n",
       "</table>\n",
       "</div>"
      ],
      "text/plain": [
       "   revenue_sum\n",
       "0  9747747.934"
      ]
     },
     "execution_count": 1067,
     "metadata": {},
     "output_type": "execute_result"
    }
   ],
   "source": [
    "sql = '''\n",
    "select\n",
    "sum(t.quantity * t.unitprice) as revenue_sum\n",
    "\n",
    "from ecommerce t\n",
    "'''\n",
    "select(sql, engine)"
   ]
  },
  {
   "cell_type": "markdown",
   "id": "8743432e-303e-4cf6-b112-f4563020b5e3",
   "metadata": {},
   "source": [
    "# Финальный отчет"
   ]
  },
  {
   "cell_type": "code",
   "execution_count": null,
   "id": "986cf83a-bc24-4b89-b496-bd0f2cc22679",
   "metadata": {},
   "outputs": [],
   "source": []
  },
  {
   "cell_type": "code",
   "execution_count": 1072,
   "id": "04b618a0-20b7-4fc0-adf2-325949927a21",
   "metadata": {},
   "outputs": [
    {
     "data": {
      "text/html": [
       "<div>\n",
       "<style scoped>\n",
       "    .dataframe tbody tr th:only-of-type {\n",
       "        vertical-align: middle;\n",
       "    }\n",
       "\n",
       "    .dataframe tbody tr th {\n",
       "        vertical-align: top;\n",
       "    }\n",
       "\n",
       "    .dataframe thead th {\n",
       "        text-align: right;\n",
       "    }\n",
       "</style>\n",
       "<table border=\"1\" class=\"dataframe\">\n",
       "  <thead>\n",
       "    <tr style=\"text-align: right;\">\n",
       "      <th></th>\n",
       "      <th>month</th>\n",
       "      <th>user</th>\n",
       "      <th>active_sum</th>\n",
       "      <th>active_pct_sum</th>\n",
       "      <th>new_sum</th>\n",
       "      <th>revenue_sun</th>\n",
       "      <th>quantity_avg</th>\n",
       "      <th>description_cnt_distinct_avg</th>\n",
       "    </tr>\n",
       "  </thead>\n",
       "  <tbody>\n",
       "    <tr>\n",
       "      <th>0</th>\n",
       "      <td>2010-12-01</td>\n",
       "      <td>949</td>\n",
       "      <td>949</td>\n",
       "      <td>1.00000000000000000000</td>\n",
       "      <td>949</td>\n",
       "      <td>748957.020</td>\n",
       "      <td>789.207</td>\n",
       "      <td>27.1464699683877766</td>\n",
       "    </tr>\n",
       "    <tr>\n",
       "      <th>1</th>\n",
       "      <td>2011-01-01</td>\n",
       "      <td>1370</td>\n",
       "      <td>784</td>\n",
       "      <td>0.57226277372262773723</td>\n",
       "      <td>421</td>\n",
       "      <td>560000.260</td>\n",
       "      <td>714.286</td>\n",
       "      <td>28.1900510204081633</td>\n",
       "    </tr>\n",
       "    <tr>\n",
       "      <th>2</th>\n",
       "      <td>2011-02-01</td>\n",
       "      <td>1750</td>\n",
       "      <td>799</td>\n",
       "      <td>0.45657142857142857143</td>\n",
       "      <td>380</td>\n",
       "      <td>498062.650</td>\n",
       "      <td>623.358</td>\n",
       "      <td>25.7133917396745932</td>\n",
       "    </tr>\n",
       "    <tr>\n",
       "      <th>3</th>\n",
       "      <td>2011-03-01</td>\n",
       "      <td>2190</td>\n",
       "      <td>1021</td>\n",
       "      <td>0.46621004566210045662</td>\n",
       "      <td>440</td>\n",
       "      <td>683267.080</td>\n",
       "      <td>669.214</td>\n",
       "      <td>26.8334965719882468</td>\n",
       "    </tr>\n",
       "    <tr>\n",
       "      <th>4</th>\n",
       "      <td>2011-04-01</td>\n",
       "      <td>2489</td>\n",
       "      <td>900</td>\n",
       "      <td>0.36159100040176777822</td>\n",
       "      <td>299</td>\n",
       "      <td>493207.121</td>\n",
       "      <td>548.008</td>\n",
       "      <td>25.6844444444444444</td>\n",
       "    </tr>\n",
       "    <tr>\n",
       "      <th>5</th>\n",
       "      <td>2011-05-01</td>\n",
       "      <td>2768</td>\n",
       "      <td>1080</td>\n",
       "      <td>0.39017341040462427746</td>\n",
       "      <td>279</td>\n",
       "      <td>723333.510</td>\n",
       "      <td>669.753</td>\n",
       "      <td>26.0685185185185185</td>\n",
       "    </tr>\n",
       "    <tr>\n",
       "      <th>6</th>\n",
       "      <td>2011-06-01</td>\n",
       "      <td>3003</td>\n",
       "      <td>1052</td>\n",
       "      <td>0.35031635031635031635</td>\n",
       "      <td>235</td>\n",
       "      <td>691123.120</td>\n",
       "      <td>656.961</td>\n",
       "      <td>26.1311787072243346</td>\n",
       "    </tr>\n",
       "    <tr>\n",
       "      <th>7</th>\n",
       "      <td>2011-07-01</td>\n",
       "      <td>3194</td>\n",
       "      <td>994</td>\n",
       "      <td>0.31120851596743894803</td>\n",
       "      <td>191</td>\n",
       "      <td>681300.111</td>\n",
       "      <td>685.413</td>\n",
       "      <td>27.2002012072434608</td>\n",
       "    </tr>\n",
       "    <tr>\n",
       "      <th>8</th>\n",
       "      <td>2011-08-01</td>\n",
       "      <td>3361</td>\n",
       "      <td>981</td>\n",
       "      <td>0.29187741743528711693</td>\n",
       "      <td>167</td>\n",
       "      <td>682680.510</td>\n",
       "      <td>695.903</td>\n",
       "      <td>27.7726809378185525</td>\n",
       "    </tr>\n",
       "    <tr>\n",
       "      <th>9</th>\n",
       "      <td>2011-09-01</td>\n",
       "      <td>3659</td>\n",
       "      <td>1303</td>\n",
       "      <td>0.35610822629133643072</td>\n",
       "      <td>298</td>\n",
       "      <td>1019687.622</td>\n",
       "      <td>782.569</td>\n",
       "      <td>30.2594013814274751</td>\n",
       "    </tr>\n",
       "    <tr>\n",
       "      <th>10</th>\n",
       "      <td>2011-10-01</td>\n",
       "      <td>4011</td>\n",
       "      <td>1426</td>\n",
       "      <td>0.35552231363749688357</td>\n",
       "      <td>352</td>\n",
       "      <td>1070704.670</td>\n",
       "      <td>750.845</td>\n",
       "      <td>32.9039270687237027</td>\n",
       "    </tr>\n",
       "    <tr>\n",
       "      <th>11</th>\n",
       "      <td>2011-11-01</td>\n",
       "      <td>4332</td>\n",
       "      <td>1712</td>\n",
       "      <td>0.39519852262234533703</td>\n",
       "      <td>321</td>\n",
       "      <td>1461756.250</td>\n",
       "      <td>853.830</td>\n",
       "      <td>33.8300233644859813</td>\n",
       "    </tr>\n",
       "    <tr>\n",
       "      <th>12</th>\n",
       "      <td>2011-12-01</td>\n",
       "      <td>4373</td>\n",
       "      <td>687</td>\n",
       "      <td>0.15710038874914246513</td>\n",
       "      <td>41</td>\n",
       "      <td>433668.010</td>\n",
       "      <td>631.249</td>\n",
       "      <td>26.6244541484716157</td>\n",
       "    </tr>\n",
       "  </tbody>\n",
       "</table>\n",
       "</div>"
      ],
      "text/plain": [
       "         month  user  active_sum          active_pct_sum  new_sum  \\\n",
       "0   2010-12-01   949         949  1.00000000000000000000      949   \n",
       "1   2011-01-01  1370         784  0.57226277372262773723      421   \n",
       "2   2011-02-01  1750         799  0.45657142857142857143      380   \n",
       "3   2011-03-01  2190        1021  0.46621004566210045662      440   \n",
       "4   2011-04-01  2489         900  0.36159100040176777822      299   \n",
       "5   2011-05-01  2768        1080  0.39017341040462427746      279   \n",
       "6   2011-06-01  3003        1052  0.35031635031635031635      235   \n",
       "7   2011-07-01  3194         994  0.31120851596743894803      191   \n",
       "8   2011-08-01  3361         981  0.29187741743528711693      167   \n",
       "9   2011-09-01  3659        1303  0.35610822629133643072      298   \n",
       "10  2011-10-01  4011        1426  0.35552231363749688357      352   \n",
       "11  2011-11-01  4332        1712  0.39519852262234533703      321   \n",
       "12  2011-12-01  4373         687  0.15710038874914246513       41   \n",
       "\n",
       "    revenue_sun  quantity_avg description_cnt_distinct_avg  \n",
       "0    748957.020       789.207          27.1464699683877766  \n",
       "1    560000.260       714.286          28.1900510204081633  \n",
       "2    498062.650       623.358          25.7133917396745932  \n",
       "3    683267.080       669.214          26.8334965719882468  \n",
       "4    493207.121       548.008          25.6844444444444444  \n",
       "5    723333.510       669.753          26.0685185185185185  \n",
       "6    691123.120       656.961          26.1311787072243346  \n",
       "7    681300.111       685.413          27.2002012072434608  \n",
       "8    682680.510       695.903          27.7726809378185525  \n",
       "9   1019687.622       782.569          30.2594013814274751  \n",
       "10  1070704.670       750.845          32.9039270687237027  \n",
       "11  1461756.250       853.830          33.8300233644859813  \n",
       "12   433668.010       631.249          26.6244541484716157  "
      ]
     },
     "execution_count": 1072,
     "metadata": {},
     "output_type": "execute_result"
    }
   ],
   "source": [
    "#делаем проверку суммы\n",
    "sql = '''\n",
    "with users as \n",
    "(\n",
    "select\n",
    "case when t.customer_id is null then -1 else t.customer_id end as customer_id,\n",
    "min(date_trunc('month', t.invoice_date)) as reg_month,\n",
    "min(t.invoice_date) as reg_date\n",
    "\n",
    "from ecommerce t\n",
    "group by\n",
    "case when t.customer_id is null then -1 else t.customer_id end\n",
    "),\n",
    "\n",
    "dates as\n",
    "(\n",
    "SELECT date_trunc('day', dd):: date as month\n",
    "FROM generate_series\n",
    "        ((select min(date_trunc('month', t.invoice_date)) from ecommerce t)\n",
    "        ,(select max(date_trunc('month', t.invoice_date)) from ecommerce t)\n",
    "        , '1 month'::interval) dd\n",
    "),\n",
    "\n",
    "templete as\n",
    "(\n",
    "select t.month, u.* from dates t\n",
    "join users u on 1=1 and t.month >= u.reg_month\n",
    "),\n",
    "\n",
    "user_month as \n",
    "(\n",
    "select\n",
    "case when t.customer_id is null then -1 else t.customer_id end as customer_id,\n",
    "date_trunc('month', t.invoice_date) as month,\n",
    "sum(t.quantity * t.unitprice) as revenue_sum,\n",
    "sum(t.quantity) as quantity_sum,\n",
    "count(distinct t.description) as description_cnt_distinct\n",
    "\n",
    "from ecommerce t\n",
    "\n",
    "group by\n",
    "case when t.customer_id is null then -1 else t.customer_id end,\n",
    "date_trunc('month', t.invoice_date)\n",
    "),\n",
    "\n",
    "analytical_table as \n",
    "(\n",
    "select t.*,\n",
    "u.revenue_sum,\n",
    "u.quantity_sum,\n",
    "u.description_cnt_distinct,\n",
    "1 as user,\n",
    "case when u.revenue_sum is not null then 1 else 0 end as active,\n",
    "case when t.month = t.reg_month then 1 else 0 end as new\n",
    "\n",
    "\n",
    "from templete t\n",
    "left join user_month u on t.customer_id = u.customer_id and t.month = u.month\n",
    ")\n",
    "\n",
    "select\n",
    "t.month,\n",
    "sum(t.user) as user,\n",
    "sum(t.active) as active_sum,\n",
    "avg(t.active) as active_pct_sum,\n",
    "sum(t.new) as new_sum,\n",
    "sum(t.revenue_sum) as revenue_sun,\n",
    "avg(t.revenue_sum) as quantity_avg,\n",
    "avg(t.description_cnt_distinct) as description_cnt_distinct_avg\n",
    "\n",
    "\n",
    "\n",
    "from analytical_table t\n",
    "group by t.month\n",
    "order by t.month\n",
    "\n",
    "'''\n",
    "select(sql, engine)"
   ]
  },
  {
   "cell_type": "code",
   "execution_count": null,
   "id": "03768b14-372a-4935-9cf6-4ecff2482310",
   "metadata": {},
   "outputs": [],
   "source": []
  },
  {
   "cell_type": "code",
   "execution_count": null,
   "id": "f4e923e5-bbfe-4285-8f7b-400ed8d33bee",
   "metadata": {},
   "outputs": [],
   "source": []
  },
  {
   "cell_type": "code",
   "execution_count": null,
   "id": "ca14e212-8aed-4359-8c14-b1bc73e5a1b1",
   "metadata": {},
   "outputs": [],
   "source": []
  },
  {
   "cell_type": "code",
   "execution_count": null,
   "id": "34869f96-94d5-4d48-a4d6-6b29a2d6fb52",
   "metadata": {},
   "outputs": [],
   "source": []
  },
  {
   "cell_type": "code",
   "execution_count": null,
   "id": "7c468866-cf87-4768-9368-9246ab2ccf4d",
   "metadata": {},
   "outputs": [],
   "source": []
  }
 ],
 "metadata": {
  "kernelspec": {
   "display_name": "Python 3 (ipykernel)",
   "language": "python",
   "name": "python3"
  },
  "language_info": {
   "codemirror_mode": {
    "name": "ipython",
    "version": 3
   },
   "file_extension": ".py",
   "mimetype": "text/x-python",
   "name": "python",
   "nbconvert_exporter": "python",
   "pygments_lexer": "ipython3",
   "version": "3.10.6"
  },
  "toc-autonumbering": true
 },
 "nbformat": 4,
 "nbformat_minor": 5
}
